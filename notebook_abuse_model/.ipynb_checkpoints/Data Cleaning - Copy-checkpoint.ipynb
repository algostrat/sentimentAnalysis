{
 "cells": [
  {
   "cell_type": "code",
   "execution_count": null,
   "metadata": {},
   "outputs": [],
   "source": [
    "#Here I have removed all greek characters, @,numbers.\n",
    "#Also I have removed 'hmm' word and it's variants\n",
    "#Creating a dictionary to map words such as luv to love, wud to would.Need more suggestions on this.nyc:nice\n",
    "#Removed stop words\n",
    "#Performed lemmatization"
   ]
  },
  {
   "cell_type": "code",
   "execution_count": null,
   "metadata": {},
   "outputs": [],
   "source": [
    "import pandas_profiling\n",
    "import nltk\n",
    "import numpy as np\n",
    "import pandas as pd\n",
    "import re\n",
    "import matplotlib.pyplot as plt \n",
    "import seaborn as sb\n",
    "from nltk.corpus import stopwords\n",
    "import warnings \n",
    "warnings.filterwarnings(\"ignore\")\n",
    "import unidecode\n",
    "from wordcloud import WordCloud\n",
    "from nltk.stem import WordNetLemmatizer \n",
    "#nltk.download('wordnet')\n",
    "from nltk.stem import PorterStemmer\n",
    "#nltk.download('punkt')\n",
    "from nltk.tokenize import word_tokenize \n",
    "import matplotlib.animation as animation\n",
    "import operator\n",
    "import plotly.express as px\n",
    "from collections import Counter\n",
    "%matplotlib inline"
   ]
  },
  {
   "cell_type": "code",
   "execution_count": 43,
   "metadata": {},
   "outputs": [],
   "source": [
    "df = pd.read_csv('data/train_E6oV3lV.csv')\n",
    "df.drop_duplicates(inplace = True)\n",
    "\n",
    "#Code to remove @\n",
    "df['clean_tweet'] = df['tweet'].apply(lambda x : ' '.join([tweet for tweet in x.split()if not tweet.startswith(\"@\")]))\n",
    "\n",
    "#Removing numbers\n",
    "df['clean_tweet'] = df['clean_tweet'].apply(lambda x : ' '.join([tweet for tweet in x.split() if not tweet == '\\d*']))\n",
    "\n",
    "#Removing all the greek characters using unidecode library\n",
    "df['clean_tweet'] = df['clean_tweet'].apply(lambda x : ' '.join([unidecode.unidecode(word) for word in x.split()])) \n",
    "\n",
    "#Removing the word 'hmm' and it's variants\n",
    "df['clean_tweet'] = df['clean_tweet'].apply(lambda x : ' '.join([word for word in x.split() if not word == 'h(m)+' ]))\n",
    "\n",
    "#Code for removing slang words\n",
    "d = {'luv':'love','wud':'would','lyk':'like','wateva':'whatever','ttyl':'talk to you later',\n",
    "               'kul':'cool','fyn':'fine','omg':'oh my god!','fam':'family','bruh':'brother',\n",
    "               'cud':'could','fud':'food','lol':'laugh out loud', 'wtf':'what the fuck','wyd':'what are you doing',\n",
    "                'wdym':'what do you mean','lmao':'laugh my ass off','fml':'fuck my life','np':'no problem',\n",
    "                'ffs':'for fucks sake','nvm':'nevermind','bro':'brother','bra':'brother','tldr':'too long, didn\\'t read',\n",
    "                'stfu':'shut the fuck up', 'tbh':'to be honest','idek':'i don\\'t even know',\n",
    "                'diy': 'Do it yourself','rn': 'right now', 'btw':'by the way', 'imo': 'in my opinion', 'ily':'i love you',\n",
    "    'bf':'boyfriend','gf':'girlfriend','5g':'5th generation','tldr':'too long didn\\'t read', 'rofl':'rolling on the floor laughing',\n",
    "    'lmk':'let me know', 'hmu':'hit me up','tba':'to be announced','asap':'as soon as possible','roi':'return on investment','tgif':'thank goodness it\\'s friday'} ## Need a huge dictionary\n",
    "words = \"I luv myself\"\n",
    "words = words.split()\n",
    "reformed = [d[word] if word in d else word for word in words]\n",
    "reformed = \" \".join(reformed)\n",
    "\n",
    "df['clean_tweet'] = df['clean_tweet'].apply(lambda x : ' '.join(d[word] if word in d else word for word in x.split()))\n",
    "\n",
    "#Finding words with # attached to it\n",
    "df['#'] = df['clean_tweet'].apply(lambda x : ' '.join([word for word in x.split() if word.startswith('#')]))\n",
    "\n",
    "frame = df['#']\n",
    "\n",
    "frame = pd.DataFrame(frame)\n",
    "\n",
    "frame = frame.rename({'#':'Count(#)'},axis = 'columns')\n",
    "\n",
    "frame[frame['Count(#)'] == ''] = 'No hashtags'\n",
    "\n",
    "data_frame = pd.concat([df,frame],axis = 1)\n",
    "\n",
    "data_frame.drop('#',axis = 1,inplace = True)\n",
    "\n",
    "#Column showing whether the corresponding tweet has a hash tagged word or not\n",
    "data_frame = data_frame.rename({'Count(#)':'Hash words'},axis = 'columns')\n"
   ]
  },
  {
   "cell_type": "code",
   "execution_count": null,
   "metadata": {},
   "outputs": [],
   "source": [
    "#Data doesn't contain duplicate values neither does it contain missing values"
   ]
  },
  {
   "cell_type": "code",
   "execution_count": null,
   "metadata": {},
   "outputs": [],
   "source": [
    "#remove links\n",
    "#re.sub(\"(@[A-Za-z0-9]+)|([^0-9A-Za-z \\t])|(\\w+:\\/\\/\\S+)\",\" \",text)\n",
    "test = data_frame[0:7]\n",
    "test[\"clean_tweet\"][0] = \"New 12\\\" https://t.co/Xj1e5qHVxP\"\n",
    "#test\n",
    "test['clean_tweet'] = test['clean_tweet'].apply(lambda x : ' '.join([re.sub(\"(@[A-Za-z0-9]+)|([^0-9A-Za-z \\t])|(\\w+:\\/\\/\\S+)\",\" \",word) for word in x.split()]))\n",
    "#test"
   ]
  },
  {
   "cell_type": "code",
   "execution_count": null,
   "metadata": {},
   "outputs": [],
   "source": [
    "#removing links\n",
    "data_frame['clean_tweet'] = data_frame['clean_tweet'].apply(lambda x : ' '.join([re.sub(\"(@[A-Za-z0-9]+)|([^0-9A-Za-z \\t])|(\\w+:\\/\\/\\S+)\",\" \",word) for word in x.split()]))"
   ]
  },
  {
   "cell_type": "code",
   "execution_count": null,
   "metadata": {},
   "outputs": [],
   "source": [
    "#reduce excess letters\n",
    "def reduce_lengthening(text):\n",
    "    pattern = re.compile(r\"(.)\\1{2,}\")\n",
    "    return pattern.sub(r\"\\1\\1\", text)\n",
    "\n",
    "#print reduce_lengthening( \"finallllllly\" )\n",
    "data_frame['clean_tweet'] = data_frame['clean_tweet'].apply(lambda x : ' '.join([reduce_lengthening(word) for word in x.split()]))"
   ]
  },
  {
   "cell_type": "code",
   "execution_count": null,
   "metadata": {},
   "outputs": [],
   "source": [
    "#removing single letters except single digits\n",
    "#re.sub(r'(?:^| )\\w(?:$| )', ' ', text).strip() #removes digits too\n",
    "data_frame['clean_tweet'] = data_frame['clean_tweet'].apply(lambda x : ' '.join( [w for w in x.split() if (len(w)>1 or w.isdigit())] ))"
   ]
  },
  {
   "cell_type": "code",
   "execution_count": null,
   "metadata": {},
   "outputs": [],
   "source": [
    "#DONT RUN - TOO SLOW!!! -- autocorrect -- TEST THE ACCURACY OF THIS\n",
    "from tqdm import tqdm, tqdm_notebook\n",
    "tqdm_notebook().pandas()\n",
    "from spellchecker import SpellChecker\n",
    "spell = SpellChecker()\n",
    "word = \"plumming\"\n",
    "print(spell.correction(word))\n",
    "print(spell.word_probability(word))\n",
    "data_frame['clean_tweet'] = data_frame['clean_tweet'].progress_apply(lambda x : ' '.join([spell.correction(word) for word in x.split()]))"
   ]
  },
  {
   "cell_type": "code",
   "execution_count": null,
   "metadata": {},
   "outputs": [],
   "source": [
    "# (don't do this)\n",
    "#removing anything that's not an englsih word while ignoring digits \n",
    "# imay not incorporate this further dependent on whether it performs well or not\n",
    "# check for cursewords\n",
    "import nltk \n",
    "from better_profanity import profanity #\n",
    "#nltk.download('words')\n",
    "words = set(nltk.corpus.words.words())"
   ]
  },
  {
   "cell_type": "code",
   "execution_count": null,
   "metadata": {},
   "outputs": [],
   "source": [
    "#\" \".join(w for w in nltk.wordpunct_tokenize(sent) if w.lower() in words or not w.isalpha())\n",
    "data_frame['clean_tweet'][0] = \"man fuck you sdf sdg  you racist peice of shit i hope you die of aids you fucker\"\n",
    "data_frame['clean_tweet'] = data_frame['clean_tweet'].apply(lambda x : ' '.join(w for w in nltk.wordpunct_tokenize(x) if w.lower() in words or not w.isalpha() or profanity.contains_profanity(w)))"
   ]
  },
  {
   "cell_type": "code",
   "execution_count": null,
   "metadata": {},
   "outputs": [],
   "source": [
    "# START of native stuff"
   ]
  },
  {
   "cell_type": "code",
   "execution_count": 44,
   "metadata": {},
   "outputs": [
    {
     "data": {
      "text/plain": [
       "['trump', 'politics', 'allahsoil', 'libtard']"
      ]
     },
     "execution_count": 44,
     "metadata": {},
     "output_type": "execute_result"
    }
   ],
   "source": [
    "#Collecting positive hashtags\n",
    "\n",
    "hash_positive = []\n",
    "hash_negative = []\n",
    "\n",
    "def hashtag_extract(x):\n",
    "    hashtags = []\n",
    "    # Loop over the words in the tweet\n",
    "    for i in x:\n",
    "        ht = re.findall(r\"#(\\w+)\", i)\n",
    "        hashtags.append(ht)\n",
    "\n",
    "    return hashtags\n",
    "\n",
    "hash_positive = hashtag_extract(data_frame['clean_tweet'][data_frame['label'] == 0])\n",
    "\n",
    "# extracting hashtags from racist/sexist tweets\n",
    "hash_negative = hashtag_extract(data_frame['clean_tweet'][data_frame['label'] == 1])\n",
    "\n",
    "# Converting a multidimensional list to a 1-D list\n",
    "hash_positive = sum(hash_positive,[])\n",
    "hash_negative = sum(hash_negative,[])\n",
    "\n",
    "q = Counter(hash_positive)\n",
    "q = dict(q.most_common())\n",
    "\n",
    "l_positive_count = list(q.values())\n",
    "\n",
    "l_positive_count[0:4]\n",
    "\n",
    "r = Counter(hash_negative)\n",
    "r = dict(r.most_common())\n",
    "\n",
    "l_negative_count = list(r.values())\n",
    "\n",
    "l_negative_count[0:4]\n",
    "\n",
    "l_positive_values = list(q.keys())\n",
    "\n",
    "l_positive_values[0:4]\n",
    "\n",
    "l_negative_values = list(r.keys())\n",
    "\n",
    "l_negative_values[0:4]"
   ]
  },
  {
   "cell_type": "code",
   "execution_count": 45,
   "metadata": {},
   "outputs": [
    {
     "data": {
      "text/html": [
       "<div>\n",
       "<style scoped>\n",
       "    .dataframe tbody tr th:only-of-type {\n",
       "        vertical-align: middle;\n",
       "    }\n",
       "\n",
       "    .dataframe tbody tr th {\n",
       "        vertical-align: top;\n",
       "    }\n",
       "\n",
       "    .dataframe thead th {\n",
       "        text-align: right;\n",
       "    }\n",
       "</style>\n",
       "<table border=\"1\" class=\"dataframe\">\n",
       "  <thead>\n",
       "    <tr style=\"text-align: right;\">\n",
       "      <th></th>\n",
       "      <th>Positive_Words</th>\n",
       "      <th>Positive_Count</th>\n",
       "      <th>Negative_Words</th>\n",
       "      <th>Negative_Count</th>\n",
       "    </tr>\n",
       "  </thead>\n",
       "  <tbody>\n",
       "    <tr>\n",
       "      <th>0</th>\n",
       "      <td>love</td>\n",
       "      <td>1531</td>\n",
       "      <td>trump</td>\n",
       "      <td>133</td>\n",
       "    </tr>\n",
       "    <tr>\n",
       "      <th>1</th>\n",
       "      <td>positive</td>\n",
       "      <td>874</td>\n",
       "      <td>politics</td>\n",
       "      <td>94</td>\n",
       "    </tr>\n",
       "    <tr>\n",
       "      <th>2</th>\n",
       "      <td>healthy</td>\n",
       "      <td>570</td>\n",
       "      <td>allahsoil</td>\n",
       "      <td>92</td>\n",
       "    </tr>\n",
       "    <tr>\n",
       "      <th>3</th>\n",
       "      <td>smile</td>\n",
       "      <td>548</td>\n",
       "      <td>libtard</td>\n",
       "      <td>76</td>\n",
       "    </tr>\n",
       "    <tr>\n",
       "      <th>4</th>\n",
       "      <td>thankful</td>\n",
       "      <td>491</td>\n",
       "      <td>liberal</td>\n",
       "      <td>75</td>\n",
       "    </tr>\n",
       "    <tr>\n",
       "      <th>5</th>\n",
       "      <td>fun</td>\n",
       "      <td>434</td>\n",
       "      <td>sjw</td>\n",
       "      <td>74</td>\n",
       "    </tr>\n",
       "    <tr>\n",
       "      <th>6</th>\n",
       "      <td>life</td>\n",
       "      <td>405</td>\n",
       "      <td>retweet</td>\n",
       "      <td>57</td>\n",
       "    </tr>\n",
       "    <tr>\n",
       "      <th>7</th>\n",
       "      <td>summer</td>\n",
       "      <td>367</td>\n",
       "      <td>black</td>\n",
       "      <td>44</td>\n",
       "    </tr>\n",
       "    <tr>\n",
       "      <th>8</th>\n",
       "      <td>model</td>\n",
       "      <td>364</td>\n",
       "      <td>miamia</td>\n",
       "      <td>38</td>\n",
       "    </tr>\n",
       "    <tr>\n",
       "      <th>9</th>\n",
       "      <td>affirmation</td>\n",
       "      <td>363</td>\n",
       "      <td>hate</td>\n",
       "      <td>32</td>\n",
       "    </tr>\n",
       "    <tr>\n",
       "      <th>10</th>\n",
       "      <td>cute</td>\n",
       "      <td>354</td>\n",
       "      <td>tampa</td>\n",
       "      <td>32</td>\n",
       "    </tr>\n",
       "    <tr>\n",
       "      <th>11</th>\n",
       "      <td>i_am</td>\n",
       "      <td>352</td>\n",
       "      <td>blm</td>\n",
       "      <td>28</td>\n",
       "    </tr>\n",
       "    <tr>\n",
       "      <th>12</th>\n",
       "      <td>blog</td>\n",
       "      <td>345</td>\n",
       "      <td>hispanic</td>\n",
       "      <td>28</td>\n",
       "    </tr>\n",
       "    <tr>\n",
       "      <th>13</th>\n",
       "      <td>me</td>\n",
       "      <td>333</td>\n",
       "      <td>brexit</td>\n",
       "      <td>27</td>\n",
       "    </tr>\n",
       "    <tr>\n",
       "      <th>14</th>\n",
       "      <td>fathersday</td>\n",
       "      <td>332</td>\n",
       "      <td>bigot</td>\n",
       "      <td>27</td>\n",
       "    </tr>\n",
       "    <tr>\n",
       "      <th>15</th>\n",
       "      <td>silver</td>\n",
       "      <td>299</td>\n",
       "      <td>sikh</td>\n",
       "      <td>27</td>\n",
       "    </tr>\n",
       "    <tr>\n",
       "      <th>16</th>\n",
       "      <td>gold</td>\n",
       "      <td>298</td>\n",
       "      <td>calgary</td>\n",
       "      <td>27</td>\n",
       "    </tr>\n",
       "    <tr>\n",
       "      <th>17</th>\n",
       "      <td>altwaystoheal</td>\n",
       "      <td>295</td>\n",
       "      <td>temple</td>\n",
       "      <td>26</td>\n",
       "    </tr>\n",
       "    <tr>\n",
       "      <th>18</th>\n",
       "      <td>beautiful</td>\n",
       "      <td>283</td>\n",
       "      <td>wso</td>\n",
       "      <td>26</td>\n",
       "    </tr>\n",
       "    <tr>\n",
       "      <th>19</th>\n",
       "      <td>bihday</td>\n",
       "      <td>278</td>\n",
       "      <td>obama</td>\n",
       "      <td>26</td>\n",
       "    </tr>\n",
       "  </tbody>\n",
       "</table>\n",
       "</div>"
      ],
      "text/plain": [
       "   Positive_Words  Positive_Count Negative_Words  Negative_Count\n",
       "0            love            1531          trump             133\n",
       "1        positive             874       politics              94\n",
       "2         healthy             570      allahsoil              92\n",
       "3           smile             548        libtard              76\n",
       "4        thankful             491        liberal              75\n",
       "5             fun             434            sjw              74\n",
       "6            life             405        retweet              57\n",
       "7          summer             367          black              44\n",
       "8           model             364         miamia              38\n",
       "9     affirmation             363           hate              32\n",
       "10           cute             354          tampa              32\n",
       "11           i_am             352            blm              28\n",
       "12           blog             345       hispanic              28\n",
       "13             me             333         brexit              27\n",
       "14     fathersday             332          bigot              27\n",
       "15         silver             299           sikh              27\n",
       "16           gold             298        calgary              27\n",
       "17  altwaystoheal             295         temple              26\n",
       "18      beautiful             283            wso              26\n",
       "19         bihday             278          obama              26"
      ]
     },
     "execution_count": 45,
     "metadata": {},
     "output_type": "execute_result"
    }
   ],
   "source": [
    "#Creating a dataframe to represent top 20 positive and negative hashtag words\n",
    "l1 = pd.DataFrame(l_positive_values[0:20],columns = ['Positive_Words'])\n",
    "l2 = pd.DataFrame(l_positive_count[0:20],columns = ['Positive_Count'])\n",
    "l3 = pd.DataFrame(l_negative_values[0:20],columns = ['Negative_Words'])\n",
    "l4 = pd.DataFrame(l_negative_count[0:20],columns = ['Negative_Count'])\n",
    "z = pd.concat([l1,l2,l3,l4],axis = 1)\n",
    "z"
   ]
  },
  {
   "cell_type": "code",
   "execution_count": 46,
   "metadata": {},
   "outputs": [
    {
     "data": {
      "application/vnd.plotly.v1+json": {
       "config": {
        "plotlyServerURL": "https://plot.ly"
       },
       "data": [
        {
         "alignmentgroup": "True",
         "hovertemplate": "<b>%{hovertext}</b><br><br>Positive_Count=%{y}<br>Positive_Words=%{x}<extra></extra>",
         "hovertext": [
          "love"
         ],
         "legendgroup": "",
         "marker": {
          "color": "#636efa"
         },
         "name": "",
         "offsetgroup": "",
         "orientation": "v",
         "showlegend": false,
         "textposition": "auto",
         "type": "bar",
         "x": [
          "love"
         ],
         "xaxis": "x",
         "y": [
          1531
         ],
         "yaxis": "y"
        }
       ],
       "frames": [
        {
         "data": [
          {
           "alignmentgroup": "True",
           "hovertemplate": "<b>%{hovertext}</b><br><br>Positive_Count=%{y}<br>Positive_Words=%{x}<extra></extra>",
           "hovertext": [
            "love"
           ],
           "legendgroup": "",
           "marker": {
            "color": "#636efa"
           },
           "name": "",
           "offsetgroup": "",
           "orientation": "v",
           "showlegend": false,
           "textposition": "auto",
           "type": "bar",
           "x": [
            "love"
           ],
           "xaxis": "x",
           "y": [
            1531
           ],
           "yaxis": "y"
          }
         ],
         "name": "1531"
        },
        {
         "data": [
          {
           "alignmentgroup": "True",
           "hovertemplate": "<b>%{hovertext}</b><br><br>Positive_Count=%{y}<br>Positive_Words=%{x}<extra></extra>",
           "hovertext": [
            "positive"
           ],
           "legendgroup": "",
           "marker": {
            "color": "#636efa"
           },
           "name": "",
           "offsetgroup": "",
           "orientation": "v",
           "showlegend": false,
           "textposition": "auto",
           "type": "bar",
           "x": [
            "positive"
           ],
           "xaxis": "x",
           "y": [
            874
           ],
           "yaxis": "y"
          }
         ],
         "name": "874"
        },
        {
         "data": [
          {
           "alignmentgroup": "True",
           "hovertemplate": "<b>%{hovertext}</b><br><br>Positive_Count=%{y}<br>Positive_Words=%{x}<extra></extra>",
           "hovertext": [
            "healthy"
           ],
           "legendgroup": "",
           "marker": {
            "color": "#636efa"
           },
           "name": "",
           "offsetgroup": "",
           "orientation": "v",
           "showlegend": false,
           "textposition": "auto",
           "type": "bar",
           "x": [
            "healthy"
           ],
           "xaxis": "x",
           "y": [
            570
           ],
           "yaxis": "y"
          }
         ],
         "name": "570"
        },
        {
         "data": [
          {
           "alignmentgroup": "True",
           "hovertemplate": "<b>%{hovertext}</b><br><br>Positive_Count=%{y}<br>Positive_Words=%{x}<extra></extra>",
           "hovertext": [
            "smile"
           ],
           "legendgroup": "",
           "marker": {
            "color": "#636efa"
           },
           "name": "",
           "offsetgroup": "",
           "orientation": "v",
           "showlegend": false,
           "textposition": "auto",
           "type": "bar",
           "x": [
            "smile"
           ],
           "xaxis": "x",
           "y": [
            548
           ],
           "yaxis": "y"
          }
         ],
         "name": "548"
        },
        {
         "data": [
          {
           "alignmentgroup": "True",
           "hovertemplate": "<b>%{hovertext}</b><br><br>Positive_Count=%{y}<br>Positive_Words=%{x}<extra></extra>",
           "hovertext": [
            "thankful"
           ],
           "legendgroup": "",
           "marker": {
            "color": "#636efa"
           },
           "name": "",
           "offsetgroup": "",
           "orientation": "v",
           "showlegend": false,
           "textposition": "auto",
           "type": "bar",
           "x": [
            "thankful"
           ],
           "xaxis": "x",
           "y": [
            491
           ],
           "yaxis": "y"
          }
         ],
         "name": "491"
        },
        {
         "data": [
          {
           "alignmentgroup": "True",
           "hovertemplate": "<b>%{hovertext}</b><br><br>Positive_Count=%{y}<br>Positive_Words=%{x}<extra></extra>",
           "hovertext": [
            "fun"
           ],
           "legendgroup": "",
           "marker": {
            "color": "#636efa"
           },
           "name": "",
           "offsetgroup": "",
           "orientation": "v",
           "showlegend": false,
           "textposition": "auto",
           "type": "bar",
           "x": [
            "fun"
           ],
           "xaxis": "x",
           "y": [
            434
           ],
           "yaxis": "y"
          }
         ],
         "name": "434"
        },
        {
         "data": [
          {
           "alignmentgroup": "True",
           "hovertemplate": "<b>%{hovertext}</b><br><br>Positive_Count=%{y}<br>Positive_Words=%{x}<extra></extra>",
           "hovertext": [
            "life"
           ],
           "legendgroup": "",
           "marker": {
            "color": "#636efa"
           },
           "name": "",
           "offsetgroup": "",
           "orientation": "v",
           "showlegend": false,
           "textposition": "auto",
           "type": "bar",
           "x": [
            "life"
           ],
           "xaxis": "x",
           "y": [
            405
           ],
           "yaxis": "y"
          }
         ],
         "name": "405"
        },
        {
         "data": [
          {
           "alignmentgroup": "True",
           "hovertemplate": "<b>%{hovertext}</b><br><br>Positive_Count=%{y}<br>Positive_Words=%{x}<extra></extra>",
           "hovertext": [
            "summer"
           ],
           "legendgroup": "",
           "marker": {
            "color": "#636efa"
           },
           "name": "",
           "offsetgroup": "",
           "orientation": "v",
           "showlegend": false,
           "textposition": "auto",
           "type": "bar",
           "x": [
            "summer"
           ],
           "xaxis": "x",
           "y": [
            367
           ],
           "yaxis": "y"
          }
         ],
         "name": "367"
        },
        {
         "data": [
          {
           "alignmentgroup": "True",
           "hovertemplate": "<b>%{hovertext}</b><br><br>Positive_Count=%{y}<br>Positive_Words=%{x}<extra></extra>",
           "hovertext": [
            "model"
           ],
           "legendgroup": "",
           "marker": {
            "color": "#636efa"
           },
           "name": "",
           "offsetgroup": "",
           "orientation": "v",
           "showlegend": false,
           "textposition": "auto",
           "type": "bar",
           "x": [
            "model"
           ],
           "xaxis": "x",
           "y": [
            364
           ],
           "yaxis": "y"
          }
         ],
         "name": "364"
        },
        {
         "data": [
          {
           "alignmentgroup": "True",
           "hovertemplate": "<b>%{hovertext}</b><br><br>Positive_Count=%{y}<br>Positive_Words=%{x}<extra></extra>",
           "hovertext": [
            "affirmation"
           ],
           "legendgroup": "",
           "marker": {
            "color": "#636efa"
           },
           "name": "",
           "offsetgroup": "",
           "orientation": "v",
           "showlegend": false,
           "textposition": "auto",
           "type": "bar",
           "x": [
            "affirmation"
           ],
           "xaxis": "x",
           "y": [
            363
           ],
           "yaxis": "y"
          }
         ],
         "name": "363"
        },
        {
         "data": [
          {
           "alignmentgroup": "True",
           "hovertemplate": "<b>%{hovertext}</b><br><br>Positive_Count=%{y}<br>Positive_Words=%{x}<extra></extra>",
           "hovertext": [
            "cute"
           ],
           "legendgroup": "",
           "marker": {
            "color": "#636efa"
           },
           "name": "",
           "offsetgroup": "",
           "orientation": "v",
           "showlegend": false,
           "textposition": "auto",
           "type": "bar",
           "x": [
            "cute"
           ],
           "xaxis": "x",
           "y": [
            354
           ],
           "yaxis": "y"
          }
         ],
         "name": "354"
        },
        {
         "data": [
          {
           "alignmentgroup": "True",
           "hovertemplate": "<b>%{hovertext}</b><br><br>Positive_Count=%{y}<br>Positive_Words=%{x}<extra></extra>",
           "hovertext": [
            "i_am"
           ],
           "legendgroup": "",
           "marker": {
            "color": "#636efa"
           },
           "name": "",
           "offsetgroup": "",
           "orientation": "v",
           "showlegend": false,
           "textposition": "auto",
           "type": "bar",
           "x": [
            "i_am"
           ],
           "xaxis": "x",
           "y": [
            352
           ],
           "yaxis": "y"
          }
         ],
         "name": "352"
        },
        {
         "data": [
          {
           "alignmentgroup": "True",
           "hovertemplate": "<b>%{hovertext}</b><br><br>Positive_Count=%{y}<br>Positive_Words=%{x}<extra></extra>",
           "hovertext": [
            "blog"
           ],
           "legendgroup": "",
           "marker": {
            "color": "#636efa"
           },
           "name": "",
           "offsetgroup": "",
           "orientation": "v",
           "showlegend": false,
           "textposition": "auto",
           "type": "bar",
           "x": [
            "blog"
           ],
           "xaxis": "x",
           "y": [
            345
           ],
           "yaxis": "y"
          }
         ],
         "name": "345"
        },
        {
         "data": [
          {
           "alignmentgroup": "True",
           "hovertemplate": "<b>%{hovertext}</b><br><br>Positive_Count=%{y}<br>Positive_Words=%{x}<extra></extra>",
           "hovertext": [
            "me"
           ],
           "legendgroup": "",
           "marker": {
            "color": "#636efa"
           },
           "name": "",
           "offsetgroup": "",
           "orientation": "v",
           "showlegend": false,
           "textposition": "auto",
           "type": "bar",
           "x": [
            "me"
           ],
           "xaxis": "x",
           "y": [
            333
           ],
           "yaxis": "y"
          }
         ],
         "name": "333"
        },
        {
         "data": [
          {
           "alignmentgroup": "True",
           "hovertemplate": "<b>%{hovertext}</b><br><br>Positive_Count=%{y}<br>Positive_Words=%{x}<extra></extra>",
           "hovertext": [
            "fathersday"
           ],
           "legendgroup": "",
           "marker": {
            "color": "#636efa"
           },
           "name": "",
           "offsetgroup": "",
           "orientation": "v",
           "showlegend": false,
           "textposition": "auto",
           "type": "bar",
           "x": [
            "fathersday"
           ],
           "xaxis": "x",
           "y": [
            332
           ],
           "yaxis": "y"
          }
         ],
         "name": "332"
        },
        {
         "data": [
          {
           "alignmentgroup": "True",
           "hovertemplate": "<b>%{hovertext}</b><br><br>Positive_Count=%{y}<br>Positive_Words=%{x}<extra></extra>",
           "hovertext": [
            "silver"
           ],
           "legendgroup": "",
           "marker": {
            "color": "#636efa"
           },
           "name": "",
           "offsetgroup": "",
           "orientation": "v",
           "showlegend": false,
           "textposition": "auto",
           "type": "bar",
           "x": [
            "silver"
           ],
           "xaxis": "x",
           "y": [
            299
           ],
           "yaxis": "y"
          }
         ],
         "name": "299"
        },
        {
         "data": [
          {
           "alignmentgroup": "True",
           "hovertemplate": "<b>%{hovertext}</b><br><br>Positive_Count=%{y}<br>Positive_Words=%{x}<extra></extra>",
           "hovertext": [
            "gold"
           ],
           "legendgroup": "",
           "marker": {
            "color": "#636efa"
           },
           "name": "",
           "offsetgroup": "",
           "orientation": "v",
           "showlegend": false,
           "textposition": "auto",
           "type": "bar",
           "x": [
            "gold"
           ],
           "xaxis": "x",
           "y": [
            298
           ],
           "yaxis": "y"
          }
         ],
         "name": "298"
        },
        {
         "data": [
          {
           "alignmentgroup": "True",
           "hovertemplate": "<b>%{hovertext}</b><br><br>Positive_Count=%{y}<br>Positive_Words=%{x}<extra></extra>",
           "hovertext": [
            "altwaystoheal"
           ],
           "legendgroup": "",
           "marker": {
            "color": "#636efa"
           },
           "name": "",
           "offsetgroup": "",
           "orientation": "v",
           "showlegend": false,
           "textposition": "auto",
           "type": "bar",
           "x": [
            "altwaystoheal"
           ],
           "xaxis": "x",
           "y": [
            295
           ],
           "yaxis": "y"
          }
         ],
         "name": "295"
        },
        {
         "data": [
          {
           "alignmentgroup": "True",
           "hovertemplate": "<b>%{hovertext}</b><br><br>Positive_Count=%{y}<br>Positive_Words=%{x}<extra></extra>",
           "hovertext": [
            "beautiful"
           ],
           "legendgroup": "",
           "marker": {
            "color": "#636efa"
           },
           "name": "",
           "offsetgroup": "",
           "orientation": "v",
           "showlegend": false,
           "textposition": "auto",
           "type": "bar",
           "x": [
            "beautiful"
           ],
           "xaxis": "x",
           "y": [
            283
           ],
           "yaxis": "y"
          }
         ],
         "name": "283"
        },
        {
         "data": [
          {
           "alignmentgroup": "True",
           "hovertemplate": "<b>%{hovertext}</b><br><br>Positive_Count=%{y}<br>Positive_Words=%{x}<extra></extra>",
           "hovertext": [
            "bihday"
           ],
           "legendgroup": "",
           "marker": {
            "color": "#636efa"
           },
           "name": "",
           "offsetgroup": "",
           "orientation": "v",
           "showlegend": false,
           "textposition": "auto",
           "type": "bar",
           "x": [
            "bihday"
           ],
           "xaxis": "x",
           "y": [
            278
           ],
           "yaxis": "y"
          }
         ],
         "name": "278"
        }
       ],
       "layout": {
        "barmode": "relative",
        "legend": {
         "tracegroupgap": 0
        },
        "margin": {
         "t": 60
        },
        "sliders": [
         {
          "active": 0,
          "currentvalue": {
           "prefix": "Positive_Count="
          },
          "len": 0.9,
          "pad": {
           "b": 10,
           "t": 60
          },
          "steps": [
           {
            "args": [
             [
              "1531"
             ],
             {
              "frame": {
               "duration": 0,
               "redraw": true
              },
              "fromcurrent": true,
              "mode": "immediate",
              "transition": {
               "duration": 0,
               "easing": "linear"
              }
             }
            ],
            "label": "1531",
            "method": "animate"
           },
           {
            "args": [
             [
              "874"
             ],
             {
              "frame": {
               "duration": 0,
               "redraw": true
              },
              "fromcurrent": true,
              "mode": "immediate",
              "transition": {
               "duration": 0,
               "easing": "linear"
              }
             }
            ],
            "label": "874",
            "method": "animate"
           },
           {
            "args": [
             [
              "570"
             ],
             {
              "frame": {
               "duration": 0,
               "redraw": true
              },
              "fromcurrent": true,
              "mode": "immediate",
              "transition": {
               "duration": 0,
               "easing": "linear"
              }
             }
            ],
            "label": "570",
            "method": "animate"
           },
           {
            "args": [
             [
              "548"
             ],
             {
              "frame": {
               "duration": 0,
               "redraw": true
              },
              "fromcurrent": true,
              "mode": "immediate",
              "transition": {
               "duration": 0,
               "easing": "linear"
              }
             }
            ],
            "label": "548",
            "method": "animate"
           },
           {
            "args": [
             [
              "491"
             ],
             {
              "frame": {
               "duration": 0,
               "redraw": true
              },
              "fromcurrent": true,
              "mode": "immediate",
              "transition": {
               "duration": 0,
               "easing": "linear"
              }
             }
            ],
            "label": "491",
            "method": "animate"
           },
           {
            "args": [
             [
              "434"
             ],
             {
              "frame": {
               "duration": 0,
               "redraw": true
              },
              "fromcurrent": true,
              "mode": "immediate",
              "transition": {
               "duration": 0,
               "easing": "linear"
              }
             }
            ],
            "label": "434",
            "method": "animate"
           },
           {
            "args": [
             [
              "405"
             ],
             {
              "frame": {
               "duration": 0,
               "redraw": true
              },
              "fromcurrent": true,
              "mode": "immediate",
              "transition": {
               "duration": 0,
               "easing": "linear"
              }
             }
            ],
            "label": "405",
            "method": "animate"
           },
           {
            "args": [
             [
              "367"
             ],
             {
              "frame": {
               "duration": 0,
               "redraw": true
              },
              "fromcurrent": true,
              "mode": "immediate",
              "transition": {
               "duration": 0,
               "easing": "linear"
              }
             }
            ],
            "label": "367",
            "method": "animate"
           },
           {
            "args": [
             [
              "364"
             ],
             {
              "frame": {
               "duration": 0,
               "redraw": true
              },
              "fromcurrent": true,
              "mode": "immediate",
              "transition": {
               "duration": 0,
               "easing": "linear"
              }
             }
            ],
            "label": "364",
            "method": "animate"
           },
           {
            "args": [
             [
              "363"
             ],
             {
              "frame": {
               "duration": 0,
               "redraw": true
              },
              "fromcurrent": true,
              "mode": "immediate",
              "transition": {
               "duration": 0,
               "easing": "linear"
              }
             }
            ],
            "label": "363",
            "method": "animate"
           },
           {
            "args": [
             [
              "354"
             ],
             {
              "frame": {
               "duration": 0,
               "redraw": true
              },
              "fromcurrent": true,
              "mode": "immediate",
              "transition": {
               "duration": 0,
               "easing": "linear"
              }
             }
            ],
            "label": "354",
            "method": "animate"
           },
           {
            "args": [
             [
              "352"
             ],
             {
              "frame": {
               "duration": 0,
               "redraw": true
              },
              "fromcurrent": true,
              "mode": "immediate",
              "transition": {
               "duration": 0,
               "easing": "linear"
              }
             }
            ],
            "label": "352",
            "method": "animate"
           },
           {
            "args": [
             [
              "345"
             ],
             {
              "frame": {
               "duration": 0,
               "redraw": true
              },
              "fromcurrent": true,
              "mode": "immediate",
              "transition": {
               "duration": 0,
               "easing": "linear"
              }
             }
            ],
            "label": "345",
            "method": "animate"
           },
           {
            "args": [
             [
              "333"
             ],
             {
              "frame": {
               "duration": 0,
               "redraw": true
              },
              "fromcurrent": true,
              "mode": "immediate",
              "transition": {
               "duration": 0,
               "easing": "linear"
              }
             }
            ],
            "label": "333",
            "method": "animate"
           },
           {
            "args": [
             [
              "332"
             ],
             {
              "frame": {
               "duration": 0,
               "redraw": true
              },
              "fromcurrent": true,
              "mode": "immediate",
              "transition": {
               "duration": 0,
               "easing": "linear"
              }
             }
            ],
            "label": "332",
            "method": "animate"
           },
           {
            "args": [
             [
              "299"
             ],
             {
              "frame": {
               "duration": 0,
               "redraw": true
              },
              "fromcurrent": true,
              "mode": "immediate",
              "transition": {
               "duration": 0,
               "easing": "linear"
              }
             }
            ],
            "label": "299",
            "method": "animate"
           },
           {
            "args": [
             [
              "298"
             ],
             {
              "frame": {
               "duration": 0,
               "redraw": true
              },
              "fromcurrent": true,
              "mode": "immediate",
              "transition": {
               "duration": 0,
               "easing": "linear"
              }
             }
            ],
            "label": "298",
            "method": "animate"
           },
           {
            "args": [
             [
              "295"
             ],
             {
              "frame": {
               "duration": 0,
               "redraw": true
              },
              "fromcurrent": true,
              "mode": "immediate",
              "transition": {
               "duration": 0,
               "easing": "linear"
              }
             }
            ],
            "label": "295",
            "method": "animate"
           },
           {
            "args": [
             [
              "283"
             ],
             {
              "frame": {
               "duration": 0,
               "redraw": true
              },
              "fromcurrent": true,
              "mode": "immediate",
              "transition": {
               "duration": 0,
               "easing": "linear"
              }
             }
            ],
            "label": "283",
            "method": "animate"
           },
           {
            "args": [
             [
              "278"
             ],
             {
              "frame": {
               "duration": 0,
               "redraw": true
              },
              "fromcurrent": true,
              "mode": "immediate",
              "transition": {
               "duration": 0,
               "easing": "linear"
              }
             }
            ],
            "label": "278",
            "method": "animate"
           }
          ],
          "x": 0.1,
          "xanchor": "left",
          "y": 0,
          "yanchor": "top"
         }
        ],
        "template": {
         "data": {
          "bar": [
           {
            "error_x": {
             "color": "#2a3f5f"
            },
            "error_y": {
             "color": "#2a3f5f"
            },
            "marker": {
             "line": {
              "color": "#E5ECF6",
              "width": 0.5
             }
            },
            "type": "bar"
           }
          ],
          "barpolar": [
           {
            "marker": {
             "line": {
              "color": "#E5ECF6",
              "width": 0.5
             }
            },
            "type": "barpolar"
           }
          ],
          "carpet": [
           {
            "aaxis": {
             "endlinecolor": "#2a3f5f",
             "gridcolor": "white",
             "linecolor": "white",
             "minorgridcolor": "white",
             "startlinecolor": "#2a3f5f"
            },
            "baxis": {
             "endlinecolor": "#2a3f5f",
             "gridcolor": "white",
             "linecolor": "white",
             "minorgridcolor": "white",
             "startlinecolor": "#2a3f5f"
            },
            "type": "carpet"
           }
          ],
          "choropleth": [
           {
            "colorbar": {
             "outlinewidth": 0,
             "ticks": ""
            },
            "type": "choropleth"
           }
          ],
          "contour": [
           {
            "colorbar": {
             "outlinewidth": 0,
             "ticks": ""
            },
            "colorscale": [
             [
              0,
              "#0d0887"
             ],
             [
              0.1111111111111111,
              "#46039f"
             ],
             [
              0.2222222222222222,
              "#7201a8"
             ],
             [
              0.3333333333333333,
              "#9c179e"
             ],
             [
              0.4444444444444444,
              "#bd3786"
             ],
             [
              0.5555555555555556,
              "#d8576b"
             ],
             [
              0.6666666666666666,
              "#ed7953"
             ],
             [
              0.7777777777777778,
              "#fb9f3a"
             ],
             [
              0.8888888888888888,
              "#fdca26"
             ],
             [
              1,
              "#f0f921"
             ]
            ],
            "type": "contour"
           }
          ],
          "contourcarpet": [
           {
            "colorbar": {
             "outlinewidth": 0,
             "ticks": ""
            },
            "type": "contourcarpet"
           }
          ],
          "heatmap": [
           {
            "colorbar": {
             "outlinewidth": 0,
             "ticks": ""
            },
            "colorscale": [
             [
              0,
              "#0d0887"
             ],
             [
              0.1111111111111111,
              "#46039f"
             ],
             [
              0.2222222222222222,
              "#7201a8"
             ],
             [
              0.3333333333333333,
              "#9c179e"
             ],
             [
              0.4444444444444444,
              "#bd3786"
             ],
             [
              0.5555555555555556,
              "#d8576b"
             ],
             [
              0.6666666666666666,
              "#ed7953"
             ],
             [
              0.7777777777777778,
              "#fb9f3a"
             ],
             [
              0.8888888888888888,
              "#fdca26"
             ],
             [
              1,
              "#f0f921"
             ]
            ],
            "type": "heatmap"
           }
          ],
          "heatmapgl": [
           {
            "colorbar": {
             "outlinewidth": 0,
             "ticks": ""
            },
            "colorscale": [
             [
              0,
              "#0d0887"
             ],
             [
              0.1111111111111111,
              "#46039f"
             ],
             [
              0.2222222222222222,
              "#7201a8"
             ],
             [
              0.3333333333333333,
              "#9c179e"
             ],
             [
              0.4444444444444444,
              "#bd3786"
             ],
             [
              0.5555555555555556,
              "#d8576b"
             ],
             [
              0.6666666666666666,
              "#ed7953"
             ],
             [
              0.7777777777777778,
              "#fb9f3a"
             ],
             [
              0.8888888888888888,
              "#fdca26"
             ],
             [
              1,
              "#f0f921"
             ]
            ],
            "type": "heatmapgl"
           }
          ],
          "histogram": [
           {
            "marker": {
             "colorbar": {
              "outlinewidth": 0,
              "ticks": ""
             }
            },
            "type": "histogram"
           }
          ],
          "histogram2d": [
           {
            "colorbar": {
             "outlinewidth": 0,
             "ticks": ""
            },
            "colorscale": [
             [
              0,
              "#0d0887"
             ],
             [
              0.1111111111111111,
              "#46039f"
             ],
             [
              0.2222222222222222,
              "#7201a8"
             ],
             [
              0.3333333333333333,
              "#9c179e"
             ],
             [
              0.4444444444444444,
              "#bd3786"
             ],
             [
              0.5555555555555556,
              "#d8576b"
             ],
             [
              0.6666666666666666,
              "#ed7953"
             ],
             [
              0.7777777777777778,
              "#fb9f3a"
             ],
             [
              0.8888888888888888,
              "#fdca26"
             ],
             [
              1,
              "#f0f921"
             ]
            ],
            "type": "histogram2d"
           }
          ],
          "histogram2dcontour": [
           {
            "colorbar": {
             "outlinewidth": 0,
             "ticks": ""
            },
            "colorscale": [
             [
              0,
              "#0d0887"
             ],
             [
              0.1111111111111111,
              "#46039f"
             ],
             [
              0.2222222222222222,
              "#7201a8"
             ],
             [
              0.3333333333333333,
              "#9c179e"
             ],
             [
              0.4444444444444444,
              "#bd3786"
             ],
             [
              0.5555555555555556,
              "#d8576b"
             ],
             [
              0.6666666666666666,
              "#ed7953"
             ],
             [
              0.7777777777777778,
              "#fb9f3a"
             ],
             [
              0.8888888888888888,
              "#fdca26"
             ],
             [
              1,
              "#f0f921"
             ]
            ],
            "type": "histogram2dcontour"
           }
          ],
          "mesh3d": [
           {
            "colorbar": {
             "outlinewidth": 0,
             "ticks": ""
            },
            "type": "mesh3d"
           }
          ],
          "parcoords": [
           {
            "line": {
             "colorbar": {
              "outlinewidth": 0,
              "ticks": ""
             }
            },
            "type": "parcoords"
           }
          ],
          "pie": [
           {
            "automargin": true,
            "type": "pie"
           }
          ],
          "scatter": [
           {
            "marker": {
             "colorbar": {
              "outlinewidth": 0,
              "ticks": ""
             }
            },
            "type": "scatter"
           }
          ],
          "scatter3d": [
           {
            "line": {
             "colorbar": {
              "outlinewidth": 0,
              "ticks": ""
             }
            },
            "marker": {
             "colorbar": {
              "outlinewidth": 0,
              "ticks": ""
             }
            },
            "type": "scatter3d"
           }
          ],
          "scattercarpet": [
           {
            "marker": {
             "colorbar": {
              "outlinewidth": 0,
              "ticks": ""
             }
            },
            "type": "scattercarpet"
           }
          ],
          "scattergeo": [
           {
            "marker": {
             "colorbar": {
              "outlinewidth": 0,
              "ticks": ""
             }
            },
            "type": "scattergeo"
           }
          ],
          "scattergl": [
           {
            "marker": {
             "colorbar": {
              "outlinewidth": 0,
              "ticks": ""
             }
            },
            "type": "scattergl"
           }
          ],
          "scattermapbox": [
           {
            "marker": {
             "colorbar": {
              "outlinewidth": 0,
              "ticks": ""
             }
            },
            "type": "scattermapbox"
           }
          ],
          "scatterpolar": [
           {
            "marker": {
             "colorbar": {
              "outlinewidth": 0,
              "ticks": ""
             }
            },
            "type": "scatterpolar"
           }
          ],
          "scatterpolargl": [
           {
            "marker": {
             "colorbar": {
              "outlinewidth": 0,
              "ticks": ""
             }
            },
            "type": "scatterpolargl"
           }
          ],
          "scatterternary": [
           {
            "marker": {
             "colorbar": {
              "outlinewidth": 0,
              "ticks": ""
             }
            },
            "type": "scatterternary"
           }
          ],
          "surface": [
           {
            "colorbar": {
             "outlinewidth": 0,
             "ticks": ""
            },
            "colorscale": [
             [
              0,
              "#0d0887"
             ],
             [
              0.1111111111111111,
              "#46039f"
             ],
             [
              0.2222222222222222,
              "#7201a8"
             ],
             [
              0.3333333333333333,
              "#9c179e"
             ],
             [
              0.4444444444444444,
              "#bd3786"
             ],
             [
              0.5555555555555556,
              "#d8576b"
             ],
             [
              0.6666666666666666,
              "#ed7953"
             ],
             [
              0.7777777777777778,
              "#fb9f3a"
             ],
             [
              0.8888888888888888,
              "#fdca26"
             ],
             [
              1,
              "#f0f921"
             ]
            ],
            "type": "surface"
           }
          ],
          "table": [
           {
            "cells": {
             "fill": {
              "color": "#EBF0F8"
             },
             "line": {
              "color": "white"
             }
            },
            "header": {
             "fill": {
              "color": "#C8D4E3"
             },
             "line": {
              "color": "white"
             }
            },
            "type": "table"
           }
          ]
         },
         "layout": {
          "annotationdefaults": {
           "arrowcolor": "#2a3f5f",
           "arrowhead": 0,
           "arrowwidth": 1
          },
          "coloraxis": {
           "colorbar": {
            "outlinewidth": 0,
            "ticks": ""
           }
          },
          "colorscale": {
           "diverging": [
            [
             0,
             "#8e0152"
            ],
            [
             0.1,
             "#c51b7d"
            ],
            [
             0.2,
             "#de77ae"
            ],
            [
             0.3,
             "#f1b6da"
            ],
            [
             0.4,
             "#fde0ef"
            ],
            [
             0.5,
             "#f7f7f7"
            ],
            [
             0.6,
             "#e6f5d0"
            ],
            [
             0.7,
             "#b8e186"
            ],
            [
             0.8,
             "#7fbc41"
            ],
            [
             0.9,
             "#4d9221"
            ],
            [
             1,
             "#276419"
            ]
           ],
           "sequential": [
            [
             0,
             "#0d0887"
            ],
            [
             0.1111111111111111,
             "#46039f"
            ],
            [
             0.2222222222222222,
             "#7201a8"
            ],
            [
             0.3333333333333333,
             "#9c179e"
            ],
            [
             0.4444444444444444,
             "#bd3786"
            ],
            [
             0.5555555555555556,
             "#d8576b"
            ],
            [
             0.6666666666666666,
             "#ed7953"
            ],
            [
             0.7777777777777778,
             "#fb9f3a"
            ],
            [
             0.8888888888888888,
             "#fdca26"
            ],
            [
             1,
             "#f0f921"
            ]
           ],
           "sequentialminus": [
            [
             0,
             "#0d0887"
            ],
            [
             0.1111111111111111,
             "#46039f"
            ],
            [
             0.2222222222222222,
             "#7201a8"
            ],
            [
             0.3333333333333333,
             "#9c179e"
            ],
            [
             0.4444444444444444,
             "#bd3786"
            ],
            [
             0.5555555555555556,
             "#d8576b"
            ],
            [
             0.6666666666666666,
             "#ed7953"
            ],
            [
             0.7777777777777778,
             "#fb9f3a"
            ],
            [
             0.8888888888888888,
             "#fdca26"
            ],
            [
             1,
             "#f0f921"
            ]
           ]
          },
          "colorway": [
           "#636efa",
           "#EF553B",
           "#00cc96",
           "#ab63fa",
           "#FFA15A",
           "#19d3f3",
           "#FF6692",
           "#B6E880",
           "#FF97FF",
           "#FECB52"
          ],
          "font": {
           "color": "#2a3f5f"
          },
          "geo": {
           "bgcolor": "white",
           "lakecolor": "white",
           "landcolor": "#E5ECF6",
           "showlakes": true,
           "showland": true,
           "subunitcolor": "white"
          },
          "hoverlabel": {
           "align": "left"
          },
          "hovermode": "closest",
          "mapbox": {
           "style": "light"
          },
          "paper_bgcolor": "white",
          "plot_bgcolor": "#E5ECF6",
          "polar": {
           "angularaxis": {
            "gridcolor": "white",
            "linecolor": "white",
            "ticks": ""
           },
           "bgcolor": "#E5ECF6",
           "radialaxis": {
            "gridcolor": "white",
            "linecolor": "white",
            "ticks": ""
           }
          },
          "scene": {
           "xaxis": {
            "backgroundcolor": "#E5ECF6",
            "gridcolor": "white",
            "gridwidth": 2,
            "linecolor": "white",
            "showbackground": true,
            "ticks": "",
            "zerolinecolor": "white"
           },
           "yaxis": {
            "backgroundcolor": "#E5ECF6",
            "gridcolor": "white",
            "gridwidth": 2,
            "linecolor": "white",
            "showbackground": true,
            "ticks": "",
            "zerolinecolor": "white"
           },
           "zaxis": {
            "backgroundcolor": "#E5ECF6",
            "gridcolor": "white",
            "gridwidth": 2,
            "linecolor": "white",
            "showbackground": true,
            "ticks": "",
            "zerolinecolor": "white"
           }
          },
          "shapedefaults": {
           "line": {
            "color": "#2a3f5f"
           }
          },
          "ternary": {
           "aaxis": {
            "gridcolor": "white",
            "linecolor": "white",
            "ticks": ""
           },
           "baxis": {
            "gridcolor": "white",
            "linecolor": "white",
            "ticks": ""
           },
           "bgcolor": "#E5ECF6",
           "caxis": {
            "gridcolor": "white",
            "linecolor": "white",
            "ticks": ""
           }
          },
          "title": {
           "x": 0.05
          },
          "xaxis": {
           "automargin": true,
           "gridcolor": "white",
           "linecolor": "white",
           "ticks": "",
           "title": {
            "standoff": 15
           },
           "zerolinecolor": "white",
           "zerolinewidth": 2
          },
          "yaxis": {
           "automargin": true,
           "gridcolor": "white",
           "linecolor": "white",
           "ticks": "",
           "title": {
            "standoff": 15
           },
           "zerolinecolor": "white",
           "zerolinewidth": 2
          }
         }
        },
        "updatemenus": [
         {
          "buttons": [
           {
            "args": [
             null,
             {
              "frame": {
               "duration": 1200,
               "redraw": true
              },
              "fromcurrent": true,
              "mode": "immediate",
              "transition": {
               "duration": 500,
               "easing": "linear"
              }
             }
            ],
            "label": "&#9654;",
            "method": "animate"
           },
           {
            "args": [
             [
              null
             ],
             {
              "frame": {
               "duration": 0,
               "redraw": true
              },
              "fromcurrent": true,
              "mode": "immediate",
              "transition": {
               "duration": 0,
               "easing": "linear"
              }
             }
            ],
            "label": "&#9724;",
            "method": "animate"
           }
          ],
          "direction": "left",
          "pad": {
           "r": 10,
           "t": 70
          },
          "showactive": false,
          "type": "buttons",
          "x": 0.1,
          "xanchor": "right",
          "y": 0,
          "yanchor": "top"
         }
        ],
        "xaxis": {
         "anchor": "y",
         "domain": [
          0,
          1
         ],
         "title": {
          "text": "Positive_Words"
         }
        },
        "yaxis": {
         "anchor": "x",
         "categoryarray": [
          278,
          283,
          295,
          298,
          299,
          332,
          333,
          345,
          352,
          354,
          363,
          364,
          367,
          405,
          434,
          491,
          548,
          570,
          874,
          1531
         ],
         "categoryorder": "array",
         "domain": [
          0,
          1
         ],
         "title": {
          "text": "Positive_Count"
         }
        }
       }
      },
      "text/html": [
       "<div>\n",
       "        \n",
       "        \n",
       "            <div id=\"1752e147-c978-4bc8-9f87-3ec4c02a023f\" class=\"plotly-graph-div\" style=\"height:525px; width:100%;\"></div>\n",
       "            <script type=\"text/javascript\">\n",
       "                require([\"plotly\"], function(Plotly) {\n",
       "                    window.PLOTLYENV=window.PLOTLYENV || {};\n",
       "                    \n",
       "                if (document.getElementById(\"1752e147-c978-4bc8-9f87-3ec4c02a023f\")) {\n",
       "                    Plotly.newPlot(\n",
       "                        '1752e147-c978-4bc8-9f87-3ec4c02a023f',\n",
       "                        [{\"alignmentgroup\": \"True\", \"hovertemplate\": \"<b>%{hovertext}</b><br><br>Positive_Count=%{y}<br>Positive_Words=%{x}<extra></extra>\", \"hovertext\": [\"love\"], \"legendgroup\": \"\", \"marker\": {\"color\": \"#636efa\"}, \"name\": \"\", \"offsetgroup\": \"\", \"orientation\": \"v\", \"showlegend\": false, \"textposition\": \"auto\", \"type\": \"bar\", \"x\": [\"love\"], \"xaxis\": \"x\", \"y\": [1531], \"yaxis\": \"y\"}],\n",
       "                        {\"barmode\": \"relative\", \"legend\": {\"tracegroupgap\": 0}, \"margin\": {\"t\": 60}, \"sliders\": [{\"active\": 0, \"currentvalue\": {\"prefix\": \"Positive_Count=\"}, \"len\": 0.9, \"pad\": {\"b\": 10, \"t\": 60}, \"steps\": [{\"args\": [[\"1531\"], {\"frame\": {\"duration\": 0, \"redraw\": true}, \"fromcurrent\": true, \"mode\": \"immediate\", \"transition\": {\"duration\": 0, \"easing\": \"linear\"}}], \"label\": \"1531\", \"method\": \"animate\"}, {\"args\": [[\"874\"], {\"frame\": {\"duration\": 0, \"redraw\": true}, \"fromcurrent\": true, \"mode\": \"immediate\", \"transition\": {\"duration\": 0, \"easing\": \"linear\"}}], \"label\": \"874\", \"method\": \"animate\"}, {\"args\": [[\"570\"], {\"frame\": {\"duration\": 0, \"redraw\": true}, \"fromcurrent\": true, \"mode\": \"immediate\", \"transition\": {\"duration\": 0, \"easing\": \"linear\"}}], \"label\": \"570\", \"method\": \"animate\"}, {\"args\": [[\"548\"], {\"frame\": {\"duration\": 0, \"redraw\": true}, \"fromcurrent\": true, \"mode\": \"immediate\", \"transition\": {\"duration\": 0, \"easing\": \"linear\"}}], \"label\": \"548\", \"method\": \"animate\"}, {\"args\": [[\"491\"], {\"frame\": {\"duration\": 0, \"redraw\": true}, \"fromcurrent\": true, \"mode\": \"immediate\", \"transition\": {\"duration\": 0, \"easing\": \"linear\"}}], \"label\": \"491\", \"method\": \"animate\"}, {\"args\": [[\"434\"], {\"frame\": {\"duration\": 0, \"redraw\": true}, \"fromcurrent\": true, \"mode\": \"immediate\", \"transition\": {\"duration\": 0, \"easing\": \"linear\"}}], \"label\": \"434\", \"method\": \"animate\"}, {\"args\": [[\"405\"], {\"frame\": {\"duration\": 0, \"redraw\": true}, \"fromcurrent\": true, \"mode\": \"immediate\", \"transition\": {\"duration\": 0, \"easing\": \"linear\"}}], \"label\": \"405\", \"method\": \"animate\"}, {\"args\": [[\"367\"], {\"frame\": {\"duration\": 0, \"redraw\": true}, \"fromcurrent\": true, \"mode\": \"immediate\", \"transition\": {\"duration\": 0, \"easing\": \"linear\"}}], \"label\": \"367\", \"method\": \"animate\"}, {\"args\": [[\"364\"], {\"frame\": {\"duration\": 0, \"redraw\": true}, \"fromcurrent\": true, \"mode\": \"immediate\", \"transition\": {\"duration\": 0, \"easing\": \"linear\"}}], \"label\": \"364\", \"method\": \"animate\"}, {\"args\": [[\"363\"], {\"frame\": {\"duration\": 0, \"redraw\": true}, \"fromcurrent\": true, \"mode\": \"immediate\", \"transition\": {\"duration\": 0, \"easing\": \"linear\"}}], \"label\": \"363\", \"method\": \"animate\"}, {\"args\": [[\"354\"], {\"frame\": {\"duration\": 0, \"redraw\": true}, \"fromcurrent\": true, \"mode\": \"immediate\", \"transition\": {\"duration\": 0, \"easing\": \"linear\"}}], \"label\": \"354\", \"method\": \"animate\"}, {\"args\": [[\"352\"], {\"frame\": {\"duration\": 0, \"redraw\": true}, \"fromcurrent\": true, \"mode\": \"immediate\", \"transition\": {\"duration\": 0, \"easing\": \"linear\"}}], \"label\": \"352\", \"method\": \"animate\"}, {\"args\": [[\"345\"], {\"frame\": {\"duration\": 0, \"redraw\": true}, \"fromcurrent\": true, \"mode\": \"immediate\", \"transition\": {\"duration\": 0, \"easing\": \"linear\"}}], \"label\": \"345\", \"method\": \"animate\"}, {\"args\": [[\"333\"], {\"frame\": {\"duration\": 0, \"redraw\": true}, \"fromcurrent\": true, \"mode\": \"immediate\", \"transition\": {\"duration\": 0, \"easing\": \"linear\"}}], \"label\": \"333\", \"method\": \"animate\"}, {\"args\": [[\"332\"], {\"frame\": {\"duration\": 0, \"redraw\": true}, \"fromcurrent\": true, \"mode\": \"immediate\", \"transition\": {\"duration\": 0, \"easing\": \"linear\"}}], \"label\": \"332\", \"method\": \"animate\"}, {\"args\": [[\"299\"], {\"frame\": {\"duration\": 0, \"redraw\": true}, \"fromcurrent\": true, \"mode\": \"immediate\", \"transition\": {\"duration\": 0, \"easing\": \"linear\"}}], \"label\": \"299\", \"method\": \"animate\"}, {\"args\": [[\"298\"], {\"frame\": {\"duration\": 0, \"redraw\": true}, \"fromcurrent\": true, \"mode\": \"immediate\", \"transition\": {\"duration\": 0, \"easing\": \"linear\"}}], \"label\": \"298\", \"method\": \"animate\"}, {\"args\": [[\"295\"], {\"frame\": {\"duration\": 0, \"redraw\": true}, \"fromcurrent\": true, \"mode\": \"immediate\", \"transition\": {\"duration\": 0, \"easing\": \"linear\"}}], \"label\": \"295\", \"method\": \"animate\"}, {\"args\": [[\"283\"], {\"frame\": {\"duration\": 0, \"redraw\": true}, \"fromcurrent\": true, \"mode\": \"immediate\", \"transition\": {\"duration\": 0, \"easing\": \"linear\"}}], \"label\": \"283\", \"method\": \"animate\"}, {\"args\": [[\"278\"], {\"frame\": {\"duration\": 0, \"redraw\": true}, \"fromcurrent\": true, \"mode\": \"immediate\", \"transition\": {\"duration\": 0, \"easing\": \"linear\"}}], \"label\": \"278\", \"method\": \"animate\"}], \"x\": 0.1, \"xanchor\": \"left\", \"y\": 0, \"yanchor\": \"top\"}], \"template\": {\"data\": {\"bar\": [{\"error_x\": {\"color\": \"#2a3f5f\"}, \"error_y\": {\"color\": \"#2a3f5f\"}, \"marker\": {\"line\": {\"color\": \"#E5ECF6\", \"width\": 0.5}}, \"type\": \"bar\"}], \"barpolar\": [{\"marker\": {\"line\": {\"color\": \"#E5ECF6\", \"width\": 0.5}}, \"type\": \"barpolar\"}], \"carpet\": [{\"aaxis\": {\"endlinecolor\": \"#2a3f5f\", \"gridcolor\": \"white\", \"linecolor\": \"white\", \"minorgridcolor\": \"white\", \"startlinecolor\": \"#2a3f5f\"}, \"baxis\": {\"endlinecolor\": \"#2a3f5f\", \"gridcolor\": \"white\", \"linecolor\": \"white\", \"minorgridcolor\": \"white\", \"startlinecolor\": \"#2a3f5f\"}, \"type\": \"carpet\"}], \"choropleth\": [{\"colorbar\": {\"outlinewidth\": 0, \"ticks\": \"\"}, \"type\": \"choropleth\"}], \"contour\": [{\"colorbar\": {\"outlinewidth\": 0, \"ticks\": \"\"}, \"colorscale\": [[0.0, \"#0d0887\"], [0.1111111111111111, \"#46039f\"], [0.2222222222222222, \"#7201a8\"], [0.3333333333333333, \"#9c179e\"], [0.4444444444444444, \"#bd3786\"], [0.5555555555555556, \"#d8576b\"], [0.6666666666666666, \"#ed7953\"], [0.7777777777777778, \"#fb9f3a\"], [0.8888888888888888, \"#fdca26\"], [1.0, \"#f0f921\"]], \"type\": \"contour\"}], \"contourcarpet\": [{\"colorbar\": {\"outlinewidth\": 0, \"ticks\": \"\"}, \"type\": \"contourcarpet\"}], \"heatmap\": [{\"colorbar\": {\"outlinewidth\": 0, \"ticks\": \"\"}, \"colorscale\": [[0.0, \"#0d0887\"], [0.1111111111111111, \"#46039f\"], [0.2222222222222222, \"#7201a8\"], [0.3333333333333333, \"#9c179e\"], [0.4444444444444444, \"#bd3786\"], [0.5555555555555556, \"#d8576b\"], [0.6666666666666666, \"#ed7953\"], [0.7777777777777778, \"#fb9f3a\"], [0.8888888888888888, \"#fdca26\"], [1.0, \"#f0f921\"]], \"type\": \"heatmap\"}], \"heatmapgl\": [{\"colorbar\": {\"outlinewidth\": 0, \"ticks\": \"\"}, \"colorscale\": [[0.0, \"#0d0887\"], [0.1111111111111111, \"#46039f\"], [0.2222222222222222, \"#7201a8\"], [0.3333333333333333, \"#9c179e\"], [0.4444444444444444, \"#bd3786\"], [0.5555555555555556, \"#d8576b\"], [0.6666666666666666, \"#ed7953\"], [0.7777777777777778, \"#fb9f3a\"], [0.8888888888888888, \"#fdca26\"], [1.0, \"#f0f921\"]], \"type\": \"heatmapgl\"}], \"histogram\": [{\"marker\": {\"colorbar\": {\"outlinewidth\": 0, \"ticks\": \"\"}}, \"type\": \"histogram\"}], \"histogram2d\": [{\"colorbar\": {\"outlinewidth\": 0, \"ticks\": \"\"}, \"colorscale\": [[0.0, \"#0d0887\"], [0.1111111111111111, \"#46039f\"], [0.2222222222222222, \"#7201a8\"], [0.3333333333333333, \"#9c179e\"], [0.4444444444444444, \"#bd3786\"], [0.5555555555555556, \"#d8576b\"], [0.6666666666666666, \"#ed7953\"], [0.7777777777777778, \"#fb9f3a\"], [0.8888888888888888, \"#fdca26\"], [1.0, \"#f0f921\"]], \"type\": \"histogram2d\"}], \"histogram2dcontour\": [{\"colorbar\": {\"outlinewidth\": 0, \"ticks\": \"\"}, \"colorscale\": [[0.0, \"#0d0887\"], [0.1111111111111111, \"#46039f\"], [0.2222222222222222, \"#7201a8\"], [0.3333333333333333, \"#9c179e\"], [0.4444444444444444, \"#bd3786\"], [0.5555555555555556, \"#d8576b\"], [0.6666666666666666, \"#ed7953\"], [0.7777777777777778, \"#fb9f3a\"], [0.8888888888888888, \"#fdca26\"], [1.0, \"#f0f921\"]], \"type\": \"histogram2dcontour\"}], \"mesh3d\": [{\"colorbar\": {\"outlinewidth\": 0, \"ticks\": \"\"}, \"type\": \"mesh3d\"}], \"parcoords\": [{\"line\": {\"colorbar\": {\"outlinewidth\": 0, \"ticks\": \"\"}}, \"type\": \"parcoords\"}], \"pie\": [{\"automargin\": true, \"type\": \"pie\"}], \"scatter\": [{\"marker\": {\"colorbar\": {\"outlinewidth\": 0, \"ticks\": \"\"}}, \"type\": \"scatter\"}], \"scatter3d\": [{\"line\": {\"colorbar\": {\"outlinewidth\": 0, \"ticks\": \"\"}}, \"marker\": {\"colorbar\": {\"outlinewidth\": 0, \"ticks\": \"\"}}, \"type\": \"scatter3d\"}], \"scattercarpet\": [{\"marker\": {\"colorbar\": {\"outlinewidth\": 0, \"ticks\": \"\"}}, \"type\": \"scattercarpet\"}], \"scattergeo\": [{\"marker\": {\"colorbar\": {\"outlinewidth\": 0, \"ticks\": \"\"}}, \"type\": \"scattergeo\"}], \"scattergl\": [{\"marker\": {\"colorbar\": {\"outlinewidth\": 0, \"ticks\": \"\"}}, \"type\": \"scattergl\"}], \"scattermapbox\": [{\"marker\": {\"colorbar\": {\"outlinewidth\": 0, \"ticks\": \"\"}}, \"type\": \"scattermapbox\"}], \"scatterpolar\": [{\"marker\": {\"colorbar\": {\"outlinewidth\": 0, \"ticks\": \"\"}}, \"type\": \"scatterpolar\"}], \"scatterpolargl\": [{\"marker\": {\"colorbar\": {\"outlinewidth\": 0, \"ticks\": \"\"}}, \"type\": \"scatterpolargl\"}], \"scatterternary\": [{\"marker\": {\"colorbar\": {\"outlinewidth\": 0, \"ticks\": \"\"}}, \"type\": \"scatterternary\"}], \"surface\": [{\"colorbar\": {\"outlinewidth\": 0, \"ticks\": \"\"}, \"colorscale\": [[0.0, \"#0d0887\"], [0.1111111111111111, \"#46039f\"], [0.2222222222222222, \"#7201a8\"], [0.3333333333333333, \"#9c179e\"], [0.4444444444444444, \"#bd3786\"], [0.5555555555555556, \"#d8576b\"], [0.6666666666666666, \"#ed7953\"], [0.7777777777777778, \"#fb9f3a\"], [0.8888888888888888, \"#fdca26\"], [1.0, \"#f0f921\"]], \"type\": \"surface\"}], \"table\": [{\"cells\": {\"fill\": {\"color\": \"#EBF0F8\"}, \"line\": {\"color\": \"white\"}}, \"header\": {\"fill\": {\"color\": \"#C8D4E3\"}, \"line\": {\"color\": \"white\"}}, \"type\": \"table\"}]}, \"layout\": {\"annotationdefaults\": {\"arrowcolor\": \"#2a3f5f\", \"arrowhead\": 0, \"arrowwidth\": 1}, \"coloraxis\": {\"colorbar\": {\"outlinewidth\": 0, \"ticks\": \"\"}}, \"colorscale\": {\"diverging\": [[0, \"#8e0152\"], [0.1, \"#c51b7d\"], [0.2, \"#de77ae\"], [0.3, \"#f1b6da\"], [0.4, \"#fde0ef\"], [0.5, \"#f7f7f7\"], [0.6, \"#e6f5d0\"], [0.7, \"#b8e186\"], [0.8, \"#7fbc41\"], [0.9, \"#4d9221\"], [1, \"#276419\"]], \"sequential\": [[0.0, \"#0d0887\"], [0.1111111111111111, \"#46039f\"], [0.2222222222222222, \"#7201a8\"], [0.3333333333333333, \"#9c179e\"], [0.4444444444444444, \"#bd3786\"], [0.5555555555555556, \"#d8576b\"], [0.6666666666666666, \"#ed7953\"], [0.7777777777777778, \"#fb9f3a\"], [0.8888888888888888, \"#fdca26\"], [1.0, \"#f0f921\"]], \"sequentialminus\": [[0.0, \"#0d0887\"], [0.1111111111111111, \"#46039f\"], [0.2222222222222222, \"#7201a8\"], [0.3333333333333333, \"#9c179e\"], [0.4444444444444444, \"#bd3786\"], [0.5555555555555556, \"#d8576b\"], [0.6666666666666666, \"#ed7953\"], [0.7777777777777778, \"#fb9f3a\"], [0.8888888888888888, \"#fdca26\"], [1.0, \"#f0f921\"]]}, \"colorway\": [\"#636efa\", \"#EF553B\", \"#00cc96\", \"#ab63fa\", \"#FFA15A\", \"#19d3f3\", \"#FF6692\", \"#B6E880\", \"#FF97FF\", \"#FECB52\"], \"font\": {\"color\": \"#2a3f5f\"}, \"geo\": {\"bgcolor\": \"white\", \"lakecolor\": \"white\", \"landcolor\": \"#E5ECF6\", \"showlakes\": true, \"showland\": true, \"subunitcolor\": \"white\"}, \"hoverlabel\": {\"align\": \"left\"}, \"hovermode\": \"closest\", \"mapbox\": {\"style\": \"light\"}, \"paper_bgcolor\": \"white\", \"plot_bgcolor\": \"#E5ECF6\", \"polar\": {\"angularaxis\": {\"gridcolor\": \"white\", \"linecolor\": \"white\", \"ticks\": \"\"}, \"bgcolor\": \"#E5ECF6\", \"radialaxis\": {\"gridcolor\": \"white\", \"linecolor\": \"white\", \"ticks\": \"\"}}, \"scene\": {\"xaxis\": {\"backgroundcolor\": \"#E5ECF6\", \"gridcolor\": \"white\", \"gridwidth\": 2, \"linecolor\": \"white\", \"showbackground\": true, \"ticks\": \"\", \"zerolinecolor\": \"white\"}, \"yaxis\": {\"backgroundcolor\": \"#E5ECF6\", \"gridcolor\": \"white\", \"gridwidth\": 2, \"linecolor\": \"white\", \"showbackground\": true, \"ticks\": \"\", \"zerolinecolor\": \"white\"}, \"zaxis\": {\"backgroundcolor\": \"#E5ECF6\", \"gridcolor\": \"white\", \"gridwidth\": 2, \"linecolor\": \"white\", \"showbackground\": true, \"ticks\": \"\", \"zerolinecolor\": \"white\"}}, \"shapedefaults\": {\"line\": {\"color\": \"#2a3f5f\"}}, \"ternary\": {\"aaxis\": {\"gridcolor\": \"white\", \"linecolor\": \"white\", \"ticks\": \"\"}, \"baxis\": {\"gridcolor\": \"white\", \"linecolor\": \"white\", \"ticks\": \"\"}, \"bgcolor\": \"#E5ECF6\", \"caxis\": {\"gridcolor\": \"white\", \"linecolor\": \"white\", \"ticks\": \"\"}}, \"title\": {\"x\": 0.05}, \"xaxis\": {\"automargin\": true, \"gridcolor\": \"white\", \"linecolor\": \"white\", \"ticks\": \"\", \"title\": {\"standoff\": 15}, \"zerolinecolor\": \"white\", \"zerolinewidth\": 2}, \"yaxis\": {\"automargin\": true, \"gridcolor\": \"white\", \"linecolor\": \"white\", \"ticks\": \"\", \"title\": {\"standoff\": 15}, \"zerolinecolor\": \"white\", \"zerolinewidth\": 2}}}, \"updatemenus\": [{\"buttons\": [{\"args\": [null, {\"frame\": {\"duration\": 1200, \"redraw\": true}, \"fromcurrent\": true, \"mode\": \"immediate\", \"transition\": {\"duration\": 500, \"easing\": \"linear\"}}], \"label\": \"&#9654;\", \"method\": \"animate\"}, {\"args\": [[null], {\"frame\": {\"duration\": 0, \"redraw\": true}, \"fromcurrent\": true, \"mode\": \"immediate\", \"transition\": {\"duration\": 0, \"easing\": \"linear\"}}], \"label\": \"&#9724;\", \"method\": \"animate\"}], \"direction\": \"left\", \"pad\": {\"r\": 10, \"t\": 70}, \"showactive\": false, \"type\": \"buttons\", \"x\": 0.1, \"xanchor\": \"right\", \"y\": 0, \"yanchor\": \"top\"}], \"xaxis\": {\"anchor\": \"y\", \"domain\": [0.0, 1.0], \"title\": {\"text\": \"Positive_Words\"}}, \"yaxis\": {\"anchor\": \"x\", \"categoryarray\": [278, 283, 295, 298, 299, 332, 333, 345, 352, 354, 363, 364, 367, 405, 434, 491, 548, 570, 874, 1531], \"categoryorder\": \"array\", \"domain\": [0.0, 1.0], \"title\": {\"text\": \"Positive_Count\"}}},\n",
       "                        {\"responsive\": true}\n",
       "                    ).then(function(){\n",
       "                            Plotly.addFrames('1752e147-c978-4bc8-9f87-3ec4c02a023f', [{\"data\": [{\"alignmentgroup\": \"True\", \"hovertemplate\": \"<b>%{hovertext}</b><br><br>Positive_Count=%{y}<br>Positive_Words=%{x}<extra></extra>\", \"hovertext\": [\"love\"], \"legendgroup\": \"\", \"marker\": {\"color\": \"#636efa\"}, \"name\": \"\", \"offsetgroup\": \"\", \"orientation\": \"v\", \"showlegend\": false, \"textposition\": \"auto\", \"x\": [\"love\"], \"xaxis\": \"x\", \"y\": [1531], \"yaxis\": \"y\", \"type\": \"bar\"}], \"name\": \"1531\"}, {\"data\": [{\"alignmentgroup\": \"True\", \"hovertemplate\": \"<b>%{hovertext}</b><br><br>Positive_Count=%{y}<br>Positive_Words=%{x}<extra></extra>\", \"hovertext\": [\"positive\"], \"legendgroup\": \"\", \"marker\": {\"color\": \"#636efa\"}, \"name\": \"\", \"offsetgroup\": \"\", \"orientation\": \"v\", \"showlegend\": false, \"textposition\": \"auto\", \"x\": [\"positive\"], \"xaxis\": \"x\", \"y\": [874], \"yaxis\": \"y\", \"type\": \"bar\"}], \"name\": \"874\"}, {\"data\": [{\"alignmentgroup\": \"True\", \"hovertemplate\": \"<b>%{hovertext}</b><br><br>Positive_Count=%{y}<br>Positive_Words=%{x}<extra></extra>\", \"hovertext\": [\"healthy\"], \"legendgroup\": \"\", \"marker\": {\"color\": \"#636efa\"}, \"name\": \"\", \"offsetgroup\": \"\", \"orientation\": \"v\", \"showlegend\": false, \"textposition\": \"auto\", \"x\": [\"healthy\"], \"xaxis\": \"x\", \"y\": [570], \"yaxis\": \"y\", \"type\": \"bar\"}], \"name\": \"570\"}, {\"data\": [{\"alignmentgroup\": \"True\", \"hovertemplate\": \"<b>%{hovertext}</b><br><br>Positive_Count=%{y}<br>Positive_Words=%{x}<extra></extra>\", \"hovertext\": [\"smile\"], \"legendgroup\": \"\", \"marker\": {\"color\": \"#636efa\"}, \"name\": \"\", \"offsetgroup\": \"\", \"orientation\": \"v\", \"showlegend\": false, \"textposition\": \"auto\", \"x\": [\"smile\"], \"xaxis\": \"x\", \"y\": [548], \"yaxis\": \"y\", \"type\": \"bar\"}], \"name\": \"548\"}, {\"data\": [{\"alignmentgroup\": \"True\", \"hovertemplate\": \"<b>%{hovertext}</b><br><br>Positive_Count=%{y}<br>Positive_Words=%{x}<extra></extra>\", \"hovertext\": [\"thankful\"], \"legendgroup\": \"\", \"marker\": {\"color\": \"#636efa\"}, \"name\": \"\", \"offsetgroup\": \"\", \"orientation\": \"v\", \"showlegend\": false, \"textposition\": \"auto\", \"x\": [\"thankful\"], \"xaxis\": \"x\", \"y\": [491], \"yaxis\": \"y\", \"type\": \"bar\"}], \"name\": \"491\"}, {\"data\": [{\"alignmentgroup\": \"True\", \"hovertemplate\": \"<b>%{hovertext}</b><br><br>Positive_Count=%{y}<br>Positive_Words=%{x}<extra></extra>\", \"hovertext\": [\"fun\"], \"legendgroup\": \"\", \"marker\": {\"color\": \"#636efa\"}, \"name\": \"\", \"offsetgroup\": \"\", \"orientation\": \"v\", \"showlegend\": false, \"textposition\": \"auto\", \"x\": [\"fun\"], \"xaxis\": \"x\", \"y\": [434], \"yaxis\": \"y\", \"type\": \"bar\"}], \"name\": \"434\"}, {\"data\": [{\"alignmentgroup\": \"True\", \"hovertemplate\": \"<b>%{hovertext}</b><br><br>Positive_Count=%{y}<br>Positive_Words=%{x}<extra></extra>\", \"hovertext\": [\"life\"], \"legendgroup\": \"\", \"marker\": {\"color\": \"#636efa\"}, \"name\": \"\", \"offsetgroup\": \"\", \"orientation\": \"v\", \"showlegend\": false, \"textposition\": \"auto\", \"x\": [\"life\"], \"xaxis\": \"x\", \"y\": [405], \"yaxis\": \"y\", \"type\": \"bar\"}], \"name\": \"405\"}, {\"data\": [{\"alignmentgroup\": \"True\", \"hovertemplate\": \"<b>%{hovertext}</b><br><br>Positive_Count=%{y}<br>Positive_Words=%{x}<extra></extra>\", \"hovertext\": [\"summer\"], \"legendgroup\": \"\", \"marker\": {\"color\": \"#636efa\"}, \"name\": \"\", \"offsetgroup\": \"\", \"orientation\": \"v\", \"showlegend\": false, \"textposition\": \"auto\", \"x\": [\"summer\"], \"xaxis\": \"x\", \"y\": [367], \"yaxis\": \"y\", \"type\": \"bar\"}], \"name\": \"367\"}, {\"data\": [{\"alignmentgroup\": \"True\", \"hovertemplate\": \"<b>%{hovertext}</b><br><br>Positive_Count=%{y}<br>Positive_Words=%{x}<extra></extra>\", \"hovertext\": [\"model\"], \"legendgroup\": \"\", \"marker\": {\"color\": \"#636efa\"}, \"name\": \"\", \"offsetgroup\": \"\", \"orientation\": \"v\", \"showlegend\": false, \"textposition\": \"auto\", \"x\": [\"model\"], \"xaxis\": \"x\", \"y\": [364], \"yaxis\": \"y\", \"type\": \"bar\"}], \"name\": \"364\"}, {\"data\": [{\"alignmentgroup\": \"True\", \"hovertemplate\": \"<b>%{hovertext}</b><br><br>Positive_Count=%{y}<br>Positive_Words=%{x}<extra></extra>\", \"hovertext\": [\"affirmation\"], \"legendgroup\": \"\", \"marker\": {\"color\": \"#636efa\"}, \"name\": \"\", \"offsetgroup\": \"\", \"orientation\": \"v\", \"showlegend\": false, \"textposition\": \"auto\", \"x\": [\"affirmation\"], \"xaxis\": \"x\", \"y\": [363], \"yaxis\": \"y\", \"type\": \"bar\"}], \"name\": \"363\"}, {\"data\": [{\"alignmentgroup\": \"True\", \"hovertemplate\": \"<b>%{hovertext}</b><br><br>Positive_Count=%{y}<br>Positive_Words=%{x}<extra></extra>\", \"hovertext\": [\"cute\"], \"legendgroup\": \"\", \"marker\": {\"color\": \"#636efa\"}, \"name\": \"\", \"offsetgroup\": \"\", \"orientation\": \"v\", \"showlegend\": false, \"textposition\": \"auto\", \"x\": [\"cute\"], \"xaxis\": \"x\", \"y\": [354], \"yaxis\": \"y\", \"type\": \"bar\"}], \"name\": \"354\"}, {\"data\": [{\"alignmentgroup\": \"True\", \"hovertemplate\": \"<b>%{hovertext}</b><br><br>Positive_Count=%{y}<br>Positive_Words=%{x}<extra></extra>\", \"hovertext\": [\"i_am\"], \"legendgroup\": \"\", \"marker\": {\"color\": \"#636efa\"}, \"name\": \"\", \"offsetgroup\": \"\", \"orientation\": \"v\", \"showlegend\": false, \"textposition\": \"auto\", \"x\": [\"i_am\"], \"xaxis\": \"x\", \"y\": [352], \"yaxis\": \"y\", \"type\": \"bar\"}], \"name\": \"352\"}, {\"data\": [{\"alignmentgroup\": \"True\", \"hovertemplate\": \"<b>%{hovertext}</b><br><br>Positive_Count=%{y}<br>Positive_Words=%{x}<extra></extra>\", \"hovertext\": [\"blog\"], \"legendgroup\": \"\", \"marker\": {\"color\": \"#636efa\"}, \"name\": \"\", \"offsetgroup\": \"\", \"orientation\": \"v\", \"showlegend\": false, \"textposition\": \"auto\", \"x\": [\"blog\"], \"xaxis\": \"x\", \"y\": [345], \"yaxis\": \"y\", \"type\": \"bar\"}], \"name\": \"345\"}, {\"data\": [{\"alignmentgroup\": \"True\", \"hovertemplate\": \"<b>%{hovertext}</b><br><br>Positive_Count=%{y}<br>Positive_Words=%{x}<extra></extra>\", \"hovertext\": [\"me\"], \"legendgroup\": \"\", \"marker\": {\"color\": \"#636efa\"}, \"name\": \"\", \"offsetgroup\": \"\", \"orientation\": \"v\", \"showlegend\": false, \"textposition\": \"auto\", \"x\": [\"me\"], \"xaxis\": \"x\", \"y\": [333], \"yaxis\": \"y\", \"type\": \"bar\"}], \"name\": \"333\"}, {\"data\": [{\"alignmentgroup\": \"True\", \"hovertemplate\": \"<b>%{hovertext}</b><br><br>Positive_Count=%{y}<br>Positive_Words=%{x}<extra></extra>\", \"hovertext\": [\"fathersday\"], \"legendgroup\": \"\", \"marker\": {\"color\": \"#636efa\"}, \"name\": \"\", \"offsetgroup\": \"\", \"orientation\": \"v\", \"showlegend\": false, \"textposition\": \"auto\", \"x\": [\"fathersday\"], \"xaxis\": \"x\", \"y\": [332], \"yaxis\": \"y\", \"type\": \"bar\"}], \"name\": \"332\"}, {\"data\": [{\"alignmentgroup\": \"True\", \"hovertemplate\": \"<b>%{hovertext}</b><br><br>Positive_Count=%{y}<br>Positive_Words=%{x}<extra></extra>\", \"hovertext\": [\"silver\"], \"legendgroup\": \"\", \"marker\": {\"color\": \"#636efa\"}, \"name\": \"\", \"offsetgroup\": \"\", \"orientation\": \"v\", \"showlegend\": false, \"textposition\": \"auto\", \"x\": [\"silver\"], \"xaxis\": \"x\", \"y\": [299], \"yaxis\": \"y\", \"type\": \"bar\"}], \"name\": \"299\"}, {\"data\": [{\"alignmentgroup\": \"True\", \"hovertemplate\": \"<b>%{hovertext}</b><br><br>Positive_Count=%{y}<br>Positive_Words=%{x}<extra></extra>\", \"hovertext\": [\"gold\"], \"legendgroup\": \"\", \"marker\": {\"color\": \"#636efa\"}, \"name\": \"\", \"offsetgroup\": \"\", \"orientation\": \"v\", \"showlegend\": false, \"textposition\": \"auto\", \"x\": [\"gold\"], \"xaxis\": \"x\", \"y\": [298], \"yaxis\": \"y\", \"type\": \"bar\"}], \"name\": \"298\"}, {\"data\": [{\"alignmentgroup\": \"True\", \"hovertemplate\": \"<b>%{hovertext}</b><br><br>Positive_Count=%{y}<br>Positive_Words=%{x}<extra></extra>\", \"hovertext\": [\"altwaystoheal\"], \"legendgroup\": \"\", \"marker\": {\"color\": \"#636efa\"}, \"name\": \"\", \"offsetgroup\": \"\", \"orientation\": \"v\", \"showlegend\": false, \"textposition\": \"auto\", \"x\": [\"altwaystoheal\"], \"xaxis\": \"x\", \"y\": [295], \"yaxis\": \"y\", \"type\": \"bar\"}], \"name\": \"295\"}, {\"data\": [{\"alignmentgroup\": \"True\", \"hovertemplate\": \"<b>%{hovertext}</b><br><br>Positive_Count=%{y}<br>Positive_Words=%{x}<extra></extra>\", \"hovertext\": [\"beautiful\"], \"legendgroup\": \"\", \"marker\": {\"color\": \"#636efa\"}, \"name\": \"\", \"offsetgroup\": \"\", \"orientation\": \"v\", \"showlegend\": false, \"textposition\": \"auto\", \"x\": [\"beautiful\"], \"xaxis\": \"x\", \"y\": [283], \"yaxis\": \"y\", \"type\": \"bar\"}], \"name\": \"283\"}, {\"data\": [{\"alignmentgroup\": \"True\", \"hovertemplate\": \"<b>%{hovertext}</b><br><br>Positive_Count=%{y}<br>Positive_Words=%{x}<extra></extra>\", \"hovertext\": [\"bihday\"], \"legendgroup\": \"\", \"marker\": {\"color\": \"#636efa\"}, \"name\": \"\", \"offsetgroup\": \"\", \"orientation\": \"v\", \"showlegend\": false, \"textposition\": \"auto\", \"x\": [\"bihday\"], \"xaxis\": \"x\", \"y\": [278], \"yaxis\": \"y\", \"type\": \"bar\"}], \"name\": \"278\"}]);\n",
       "                        }).then(function(){\n",
       "                            \n",
       "var gd = document.getElementById('1752e147-c978-4bc8-9f87-3ec4c02a023f');\n",
       "var x = new MutationObserver(function (mutations, observer) {{\n",
       "        var display = window.getComputedStyle(gd).display;\n",
       "        if (!display || display === 'none') {{\n",
       "            console.log([gd, 'removed!']);\n",
       "            Plotly.purge(gd);\n",
       "            observer.disconnect();\n",
       "        }}\n",
       "}});\n",
       "\n",
       "// Listen for the removal of the full notebook cells\n",
       "var notebookContainer = gd.closest('#notebook-container');\n",
       "if (notebookContainer) {{\n",
       "    x.observe(notebookContainer, {childList: true});\n",
       "}}\n",
       "\n",
       "// Listen for the clearing of the current output cell\n",
       "var outputEl = gd.closest('.output');\n",
       "if (outputEl) {{\n",
       "    x.observe(outputEl, {childList: true});\n",
       "}}\n",
       "\n",
       "                        })\n",
       "                };\n",
       "                });\n",
       "            </script>\n",
       "        </div>"
      ]
     },
     "metadata": {},
     "output_type": "display_data"
    }
   ],
   "source": [
    "#Animated plot for positive words with their frequency\n",
    "fig = px.bar(z, x=\"Positive_Words\", y=\"Positive_Count\",animation_frame=\"Positive_Count\",\n",
    "            hover_name=\"Positive_Words\")\n",
    "fig.layout.updatemenus[0].buttons[0].args[1][\"frame\"][\"duration\"] = 1200\n",
    "fig.show()\n"
   ]
  },
  {
   "cell_type": "code",
   "execution_count": 47,
   "metadata": {},
   "outputs": [
    {
     "data": {
      "application/vnd.plotly.v1+json": {
       "config": {
        "plotlyServerURL": "https://plot.ly"
       },
       "data": [
        {
         "alignmentgroup": "True",
         "hovertemplate": "<b>%{hovertext}</b><br><br>Negative_Count=%{y}<br>Negative_Words=%{x}<extra></extra>",
         "hovertext": [
          "trump"
         ],
         "legendgroup": "",
         "marker": {
          "color": "#636efa"
         },
         "name": "",
         "offsetgroup": "",
         "orientation": "v",
         "showlegend": false,
         "textposition": "auto",
         "type": "bar",
         "x": [
          "trump"
         ],
         "xaxis": "x",
         "y": [
          133
         ],
         "yaxis": "y"
        }
       ],
       "frames": [
        {
         "data": [
          {
           "alignmentgroup": "True",
           "hovertemplate": "<b>%{hovertext}</b><br><br>Negative_Count=%{y}<br>Negative_Words=%{x}<extra></extra>",
           "hovertext": [
            "trump"
           ],
           "legendgroup": "",
           "marker": {
            "color": "#636efa"
           },
           "name": "",
           "offsetgroup": "",
           "orientation": "v",
           "showlegend": false,
           "textposition": "auto",
           "type": "bar",
           "x": [
            "trump"
           ],
           "xaxis": "x",
           "y": [
            133
           ],
           "yaxis": "y"
          }
         ],
         "name": "133"
        },
        {
         "data": [
          {
           "alignmentgroup": "True",
           "hovertemplate": "<b>%{hovertext}</b><br><br>Negative_Count=%{y}<br>Negative_Words=%{x}<extra></extra>",
           "hovertext": [
            "politics"
           ],
           "legendgroup": "",
           "marker": {
            "color": "#636efa"
           },
           "name": "",
           "offsetgroup": "",
           "orientation": "v",
           "showlegend": false,
           "textposition": "auto",
           "type": "bar",
           "x": [
            "politics"
           ],
           "xaxis": "x",
           "y": [
            94
           ],
           "yaxis": "y"
          }
         ],
         "name": "94"
        },
        {
         "data": [
          {
           "alignmentgroup": "True",
           "hovertemplate": "<b>%{hovertext}</b><br><br>Negative_Count=%{y}<br>Negative_Words=%{x}<extra></extra>",
           "hovertext": [
            "allahsoil"
           ],
           "legendgroup": "",
           "marker": {
            "color": "#636efa"
           },
           "name": "",
           "offsetgroup": "",
           "orientation": "v",
           "showlegend": false,
           "textposition": "auto",
           "type": "bar",
           "x": [
            "allahsoil"
           ],
           "xaxis": "x",
           "y": [
            92
           ],
           "yaxis": "y"
          }
         ],
         "name": "92"
        },
        {
         "data": [
          {
           "alignmentgroup": "True",
           "hovertemplate": "<b>%{hovertext}</b><br><br>Negative_Count=%{y}<br>Negative_Words=%{x}<extra></extra>",
           "hovertext": [
            "libtard"
           ],
           "legendgroup": "",
           "marker": {
            "color": "#636efa"
           },
           "name": "",
           "offsetgroup": "",
           "orientation": "v",
           "showlegend": false,
           "textposition": "auto",
           "type": "bar",
           "x": [
            "libtard"
           ],
           "xaxis": "x",
           "y": [
            76
           ],
           "yaxis": "y"
          }
         ],
         "name": "76"
        },
        {
         "data": [
          {
           "alignmentgroup": "True",
           "hovertemplate": "<b>%{hovertext}</b><br><br>Negative_Count=%{y}<br>Negative_Words=%{x}<extra></extra>",
           "hovertext": [
            "liberal"
           ],
           "legendgroup": "",
           "marker": {
            "color": "#636efa"
           },
           "name": "",
           "offsetgroup": "",
           "orientation": "v",
           "showlegend": false,
           "textposition": "auto",
           "type": "bar",
           "x": [
            "liberal"
           ],
           "xaxis": "x",
           "y": [
            75
           ],
           "yaxis": "y"
          }
         ],
         "name": "75"
        },
        {
         "data": [
          {
           "alignmentgroup": "True",
           "hovertemplate": "<b>%{hovertext}</b><br><br>Negative_Count=%{y}<br>Negative_Words=%{x}<extra></extra>",
           "hovertext": [
            "sjw"
           ],
           "legendgroup": "",
           "marker": {
            "color": "#636efa"
           },
           "name": "",
           "offsetgroup": "",
           "orientation": "v",
           "showlegend": false,
           "textposition": "auto",
           "type": "bar",
           "x": [
            "sjw"
           ],
           "xaxis": "x",
           "y": [
            74
           ],
           "yaxis": "y"
          }
         ],
         "name": "74"
        },
        {
         "data": [
          {
           "alignmentgroup": "True",
           "hovertemplate": "<b>%{hovertext}</b><br><br>Negative_Count=%{y}<br>Negative_Words=%{x}<extra></extra>",
           "hovertext": [
            "retweet"
           ],
           "legendgroup": "",
           "marker": {
            "color": "#636efa"
           },
           "name": "",
           "offsetgroup": "",
           "orientation": "v",
           "showlegend": false,
           "textposition": "auto",
           "type": "bar",
           "x": [
            "retweet"
           ],
           "xaxis": "x",
           "y": [
            57
           ],
           "yaxis": "y"
          }
         ],
         "name": "57"
        },
        {
         "data": [
          {
           "alignmentgroup": "True",
           "hovertemplate": "<b>%{hovertext}</b><br><br>Negative_Count=%{y}<br>Negative_Words=%{x}<extra></extra>",
           "hovertext": [
            "black"
           ],
           "legendgroup": "",
           "marker": {
            "color": "#636efa"
           },
           "name": "",
           "offsetgroup": "",
           "orientation": "v",
           "showlegend": false,
           "textposition": "auto",
           "type": "bar",
           "x": [
            "black"
           ],
           "xaxis": "x",
           "y": [
            44
           ],
           "yaxis": "y"
          }
         ],
         "name": "44"
        },
        {
         "data": [
          {
           "alignmentgroup": "True",
           "hovertemplate": "<b>%{hovertext}</b><br><br>Negative_Count=%{y}<br>Negative_Words=%{x}<extra></extra>",
           "hovertext": [
            "miamia"
           ],
           "legendgroup": "",
           "marker": {
            "color": "#636efa"
           },
           "name": "",
           "offsetgroup": "",
           "orientation": "v",
           "showlegend": false,
           "textposition": "auto",
           "type": "bar",
           "x": [
            "miamia"
           ],
           "xaxis": "x",
           "y": [
            38
           ],
           "yaxis": "y"
          }
         ],
         "name": "38"
        },
        {
         "data": [
          {
           "alignmentgroup": "True",
           "hovertemplate": "<b>%{hovertext}</b><br><br>Negative_Count=%{y}<br>Negative_Words=%{x}<extra></extra>",
           "hovertext": [
            "hate",
            "tampa"
           ],
           "legendgroup": "",
           "marker": {
            "color": "#636efa"
           },
           "name": "",
           "offsetgroup": "",
           "orientation": "v",
           "showlegend": false,
           "textposition": "auto",
           "type": "bar",
           "x": [
            "hate",
            "tampa"
           ],
           "xaxis": "x",
           "y": [
            32,
            32
           ],
           "yaxis": "y"
          }
         ],
         "name": "32"
        },
        {
         "data": [
          {
           "alignmentgroup": "True",
           "hovertemplate": "<b>%{hovertext}</b><br><br>Negative_Count=%{y}<br>Negative_Words=%{x}<extra></extra>",
           "hovertext": [
            "blm",
            "hispanic"
           ],
           "legendgroup": "",
           "marker": {
            "color": "#636efa"
           },
           "name": "",
           "offsetgroup": "",
           "orientation": "v",
           "showlegend": false,
           "textposition": "auto",
           "type": "bar",
           "x": [
            "blm",
            "hispanic"
           ],
           "xaxis": "x",
           "y": [
            28,
            28
           ],
           "yaxis": "y"
          }
         ],
         "name": "28"
        },
        {
         "data": [
          {
           "alignmentgroup": "True",
           "hovertemplate": "<b>%{hovertext}</b><br><br>Negative_Count=%{y}<br>Negative_Words=%{x}<extra></extra>",
           "hovertext": [
            "brexit",
            "bigot",
            "sikh",
            "calgary"
           ],
           "legendgroup": "",
           "marker": {
            "color": "#636efa"
           },
           "name": "",
           "offsetgroup": "",
           "orientation": "v",
           "showlegend": false,
           "textposition": "auto",
           "type": "bar",
           "x": [
            "brexit",
            "bigot",
            "sikh",
            "calgary"
           ],
           "xaxis": "x",
           "y": [
            27,
            27,
            27,
            27
           ],
           "yaxis": "y"
          }
         ],
         "name": "27"
        },
        {
         "data": [
          {
           "alignmentgroup": "True",
           "hovertemplate": "<b>%{hovertext}</b><br><br>Negative_Count=%{y}<br>Negative_Words=%{x}<extra></extra>",
           "hovertext": [
            "temple",
            "wso",
            "obama"
           ],
           "legendgroup": "",
           "marker": {
            "color": "#636efa"
           },
           "name": "",
           "offsetgroup": "",
           "orientation": "v",
           "showlegend": false,
           "textposition": "auto",
           "type": "bar",
           "x": [
            "temple",
            "wso",
            "obama"
           ],
           "xaxis": "x",
           "y": [
            26,
            26,
            26
           ],
           "yaxis": "y"
          }
         ],
         "name": "26"
        }
       ],
       "layout": {
        "barmode": "relative",
        "legend": {
         "tracegroupgap": 0
        },
        "margin": {
         "t": 60
        },
        "sliders": [
         {
          "active": 0,
          "currentvalue": {
           "prefix": "Negative_Count="
          },
          "len": 0.9,
          "pad": {
           "b": 10,
           "t": 60
          },
          "steps": [
           {
            "args": [
             [
              "133"
             ],
             {
              "frame": {
               "duration": 0,
               "redraw": true
              },
              "fromcurrent": true,
              "mode": "immediate",
              "transition": {
               "duration": 0,
               "easing": "linear"
              }
             }
            ],
            "label": "133",
            "method": "animate"
           },
           {
            "args": [
             [
              "94"
             ],
             {
              "frame": {
               "duration": 0,
               "redraw": true
              },
              "fromcurrent": true,
              "mode": "immediate",
              "transition": {
               "duration": 0,
               "easing": "linear"
              }
             }
            ],
            "label": "94",
            "method": "animate"
           },
           {
            "args": [
             [
              "92"
             ],
             {
              "frame": {
               "duration": 0,
               "redraw": true
              },
              "fromcurrent": true,
              "mode": "immediate",
              "transition": {
               "duration": 0,
               "easing": "linear"
              }
             }
            ],
            "label": "92",
            "method": "animate"
           },
           {
            "args": [
             [
              "76"
             ],
             {
              "frame": {
               "duration": 0,
               "redraw": true
              },
              "fromcurrent": true,
              "mode": "immediate",
              "transition": {
               "duration": 0,
               "easing": "linear"
              }
             }
            ],
            "label": "76",
            "method": "animate"
           },
           {
            "args": [
             [
              "75"
             ],
             {
              "frame": {
               "duration": 0,
               "redraw": true
              },
              "fromcurrent": true,
              "mode": "immediate",
              "transition": {
               "duration": 0,
               "easing": "linear"
              }
             }
            ],
            "label": "75",
            "method": "animate"
           },
           {
            "args": [
             [
              "74"
             ],
             {
              "frame": {
               "duration": 0,
               "redraw": true
              },
              "fromcurrent": true,
              "mode": "immediate",
              "transition": {
               "duration": 0,
               "easing": "linear"
              }
             }
            ],
            "label": "74",
            "method": "animate"
           },
           {
            "args": [
             [
              "57"
             ],
             {
              "frame": {
               "duration": 0,
               "redraw": true
              },
              "fromcurrent": true,
              "mode": "immediate",
              "transition": {
               "duration": 0,
               "easing": "linear"
              }
             }
            ],
            "label": "57",
            "method": "animate"
           },
           {
            "args": [
             [
              "44"
             ],
             {
              "frame": {
               "duration": 0,
               "redraw": true
              },
              "fromcurrent": true,
              "mode": "immediate",
              "transition": {
               "duration": 0,
               "easing": "linear"
              }
             }
            ],
            "label": "44",
            "method": "animate"
           },
           {
            "args": [
             [
              "38"
             ],
             {
              "frame": {
               "duration": 0,
               "redraw": true
              },
              "fromcurrent": true,
              "mode": "immediate",
              "transition": {
               "duration": 0,
               "easing": "linear"
              }
             }
            ],
            "label": "38",
            "method": "animate"
           },
           {
            "args": [
             [
              "32"
             ],
             {
              "frame": {
               "duration": 0,
               "redraw": true
              },
              "fromcurrent": true,
              "mode": "immediate",
              "transition": {
               "duration": 0,
               "easing": "linear"
              }
             }
            ],
            "label": "32",
            "method": "animate"
           },
           {
            "args": [
             [
              "28"
             ],
             {
              "frame": {
               "duration": 0,
               "redraw": true
              },
              "fromcurrent": true,
              "mode": "immediate",
              "transition": {
               "duration": 0,
               "easing": "linear"
              }
             }
            ],
            "label": "28",
            "method": "animate"
           },
           {
            "args": [
             [
              "27"
             ],
             {
              "frame": {
               "duration": 0,
               "redraw": true
              },
              "fromcurrent": true,
              "mode": "immediate",
              "transition": {
               "duration": 0,
               "easing": "linear"
              }
             }
            ],
            "label": "27",
            "method": "animate"
           },
           {
            "args": [
             [
              "26"
             ],
             {
              "frame": {
               "duration": 0,
               "redraw": true
              },
              "fromcurrent": true,
              "mode": "immediate",
              "transition": {
               "duration": 0,
               "easing": "linear"
              }
             }
            ],
            "label": "26",
            "method": "animate"
           }
          ],
          "x": 0.1,
          "xanchor": "left",
          "y": 0,
          "yanchor": "top"
         }
        ],
        "template": {
         "data": {
          "bar": [
           {
            "error_x": {
             "color": "#2a3f5f"
            },
            "error_y": {
             "color": "#2a3f5f"
            },
            "marker": {
             "line": {
              "color": "#E5ECF6",
              "width": 0.5
             }
            },
            "type": "bar"
           }
          ],
          "barpolar": [
           {
            "marker": {
             "line": {
              "color": "#E5ECF6",
              "width": 0.5
             }
            },
            "type": "barpolar"
           }
          ],
          "carpet": [
           {
            "aaxis": {
             "endlinecolor": "#2a3f5f",
             "gridcolor": "white",
             "linecolor": "white",
             "minorgridcolor": "white",
             "startlinecolor": "#2a3f5f"
            },
            "baxis": {
             "endlinecolor": "#2a3f5f",
             "gridcolor": "white",
             "linecolor": "white",
             "minorgridcolor": "white",
             "startlinecolor": "#2a3f5f"
            },
            "type": "carpet"
           }
          ],
          "choropleth": [
           {
            "colorbar": {
             "outlinewidth": 0,
             "ticks": ""
            },
            "type": "choropleth"
           }
          ],
          "contour": [
           {
            "colorbar": {
             "outlinewidth": 0,
             "ticks": ""
            },
            "colorscale": [
             [
              0,
              "#0d0887"
             ],
             [
              0.1111111111111111,
              "#46039f"
             ],
             [
              0.2222222222222222,
              "#7201a8"
             ],
             [
              0.3333333333333333,
              "#9c179e"
             ],
             [
              0.4444444444444444,
              "#bd3786"
             ],
             [
              0.5555555555555556,
              "#d8576b"
             ],
             [
              0.6666666666666666,
              "#ed7953"
             ],
             [
              0.7777777777777778,
              "#fb9f3a"
             ],
             [
              0.8888888888888888,
              "#fdca26"
             ],
             [
              1,
              "#f0f921"
             ]
            ],
            "type": "contour"
           }
          ],
          "contourcarpet": [
           {
            "colorbar": {
             "outlinewidth": 0,
             "ticks": ""
            },
            "type": "contourcarpet"
           }
          ],
          "heatmap": [
           {
            "colorbar": {
             "outlinewidth": 0,
             "ticks": ""
            },
            "colorscale": [
             [
              0,
              "#0d0887"
             ],
             [
              0.1111111111111111,
              "#46039f"
             ],
             [
              0.2222222222222222,
              "#7201a8"
             ],
             [
              0.3333333333333333,
              "#9c179e"
             ],
             [
              0.4444444444444444,
              "#bd3786"
             ],
             [
              0.5555555555555556,
              "#d8576b"
             ],
             [
              0.6666666666666666,
              "#ed7953"
             ],
             [
              0.7777777777777778,
              "#fb9f3a"
             ],
             [
              0.8888888888888888,
              "#fdca26"
             ],
             [
              1,
              "#f0f921"
             ]
            ],
            "type": "heatmap"
           }
          ],
          "heatmapgl": [
           {
            "colorbar": {
             "outlinewidth": 0,
             "ticks": ""
            },
            "colorscale": [
             [
              0,
              "#0d0887"
             ],
             [
              0.1111111111111111,
              "#46039f"
             ],
             [
              0.2222222222222222,
              "#7201a8"
             ],
             [
              0.3333333333333333,
              "#9c179e"
             ],
             [
              0.4444444444444444,
              "#bd3786"
             ],
             [
              0.5555555555555556,
              "#d8576b"
             ],
             [
              0.6666666666666666,
              "#ed7953"
             ],
             [
              0.7777777777777778,
              "#fb9f3a"
             ],
             [
              0.8888888888888888,
              "#fdca26"
             ],
             [
              1,
              "#f0f921"
             ]
            ],
            "type": "heatmapgl"
           }
          ],
          "histogram": [
           {
            "marker": {
             "colorbar": {
              "outlinewidth": 0,
              "ticks": ""
             }
            },
            "type": "histogram"
           }
          ],
          "histogram2d": [
           {
            "colorbar": {
             "outlinewidth": 0,
             "ticks": ""
            },
            "colorscale": [
             [
              0,
              "#0d0887"
             ],
             [
              0.1111111111111111,
              "#46039f"
             ],
             [
              0.2222222222222222,
              "#7201a8"
             ],
             [
              0.3333333333333333,
              "#9c179e"
             ],
             [
              0.4444444444444444,
              "#bd3786"
             ],
             [
              0.5555555555555556,
              "#d8576b"
             ],
             [
              0.6666666666666666,
              "#ed7953"
             ],
             [
              0.7777777777777778,
              "#fb9f3a"
             ],
             [
              0.8888888888888888,
              "#fdca26"
             ],
             [
              1,
              "#f0f921"
             ]
            ],
            "type": "histogram2d"
           }
          ],
          "histogram2dcontour": [
           {
            "colorbar": {
             "outlinewidth": 0,
             "ticks": ""
            },
            "colorscale": [
             [
              0,
              "#0d0887"
             ],
             [
              0.1111111111111111,
              "#46039f"
             ],
             [
              0.2222222222222222,
              "#7201a8"
             ],
             [
              0.3333333333333333,
              "#9c179e"
             ],
             [
              0.4444444444444444,
              "#bd3786"
             ],
             [
              0.5555555555555556,
              "#d8576b"
             ],
             [
              0.6666666666666666,
              "#ed7953"
             ],
             [
              0.7777777777777778,
              "#fb9f3a"
             ],
             [
              0.8888888888888888,
              "#fdca26"
             ],
             [
              1,
              "#f0f921"
             ]
            ],
            "type": "histogram2dcontour"
           }
          ],
          "mesh3d": [
           {
            "colorbar": {
             "outlinewidth": 0,
             "ticks": ""
            },
            "type": "mesh3d"
           }
          ],
          "parcoords": [
           {
            "line": {
             "colorbar": {
              "outlinewidth": 0,
              "ticks": ""
             }
            },
            "type": "parcoords"
           }
          ],
          "pie": [
           {
            "automargin": true,
            "type": "pie"
           }
          ],
          "scatter": [
           {
            "marker": {
             "colorbar": {
              "outlinewidth": 0,
              "ticks": ""
             }
            },
            "type": "scatter"
           }
          ],
          "scatter3d": [
           {
            "line": {
             "colorbar": {
              "outlinewidth": 0,
              "ticks": ""
             }
            },
            "marker": {
             "colorbar": {
              "outlinewidth": 0,
              "ticks": ""
             }
            },
            "type": "scatter3d"
           }
          ],
          "scattercarpet": [
           {
            "marker": {
             "colorbar": {
              "outlinewidth": 0,
              "ticks": ""
             }
            },
            "type": "scattercarpet"
           }
          ],
          "scattergeo": [
           {
            "marker": {
             "colorbar": {
              "outlinewidth": 0,
              "ticks": ""
             }
            },
            "type": "scattergeo"
           }
          ],
          "scattergl": [
           {
            "marker": {
             "colorbar": {
              "outlinewidth": 0,
              "ticks": ""
             }
            },
            "type": "scattergl"
           }
          ],
          "scattermapbox": [
           {
            "marker": {
             "colorbar": {
              "outlinewidth": 0,
              "ticks": ""
             }
            },
            "type": "scattermapbox"
           }
          ],
          "scatterpolar": [
           {
            "marker": {
             "colorbar": {
              "outlinewidth": 0,
              "ticks": ""
             }
            },
            "type": "scatterpolar"
           }
          ],
          "scatterpolargl": [
           {
            "marker": {
             "colorbar": {
              "outlinewidth": 0,
              "ticks": ""
             }
            },
            "type": "scatterpolargl"
           }
          ],
          "scatterternary": [
           {
            "marker": {
             "colorbar": {
              "outlinewidth": 0,
              "ticks": ""
             }
            },
            "type": "scatterternary"
           }
          ],
          "surface": [
           {
            "colorbar": {
             "outlinewidth": 0,
             "ticks": ""
            },
            "colorscale": [
             [
              0,
              "#0d0887"
             ],
             [
              0.1111111111111111,
              "#46039f"
             ],
             [
              0.2222222222222222,
              "#7201a8"
             ],
             [
              0.3333333333333333,
              "#9c179e"
             ],
             [
              0.4444444444444444,
              "#bd3786"
             ],
             [
              0.5555555555555556,
              "#d8576b"
             ],
             [
              0.6666666666666666,
              "#ed7953"
             ],
             [
              0.7777777777777778,
              "#fb9f3a"
             ],
             [
              0.8888888888888888,
              "#fdca26"
             ],
             [
              1,
              "#f0f921"
             ]
            ],
            "type": "surface"
           }
          ],
          "table": [
           {
            "cells": {
             "fill": {
              "color": "#EBF0F8"
             },
             "line": {
              "color": "white"
             }
            },
            "header": {
             "fill": {
              "color": "#C8D4E3"
             },
             "line": {
              "color": "white"
             }
            },
            "type": "table"
           }
          ]
         },
         "layout": {
          "annotationdefaults": {
           "arrowcolor": "#2a3f5f",
           "arrowhead": 0,
           "arrowwidth": 1
          },
          "coloraxis": {
           "colorbar": {
            "outlinewidth": 0,
            "ticks": ""
           }
          },
          "colorscale": {
           "diverging": [
            [
             0,
             "#8e0152"
            ],
            [
             0.1,
             "#c51b7d"
            ],
            [
             0.2,
             "#de77ae"
            ],
            [
             0.3,
             "#f1b6da"
            ],
            [
             0.4,
             "#fde0ef"
            ],
            [
             0.5,
             "#f7f7f7"
            ],
            [
             0.6,
             "#e6f5d0"
            ],
            [
             0.7,
             "#b8e186"
            ],
            [
             0.8,
             "#7fbc41"
            ],
            [
             0.9,
             "#4d9221"
            ],
            [
             1,
             "#276419"
            ]
           ],
           "sequential": [
            [
             0,
             "#0d0887"
            ],
            [
             0.1111111111111111,
             "#46039f"
            ],
            [
             0.2222222222222222,
             "#7201a8"
            ],
            [
             0.3333333333333333,
             "#9c179e"
            ],
            [
             0.4444444444444444,
             "#bd3786"
            ],
            [
             0.5555555555555556,
             "#d8576b"
            ],
            [
             0.6666666666666666,
             "#ed7953"
            ],
            [
             0.7777777777777778,
             "#fb9f3a"
            ],
            [
             0.8888888888888888,
             "#fdca26"
            ],
            [
             1,
             "#f0f921"
            ]
           ],
           "sequentialminus": [
            [
             0,
             "#0d0887"
            ],
            [
             0.1111111111111111,
             "#46039f"
            ],
            [
             0.2222222222222222,
             "#7201a8"
            ],
            [
             0.3333333333333333,
             "#9c179e"
            ],
            [
             0.4444444444444444,
             "#bd3786"
            ],
            [
             0.5555555555555556,
             "#d8576b"
            ],
            [
             0.6666666666666666,
             "#ed7953"
            ],
            [
             0.7777777777777778,
             "#fb9f3a"
            ],
            [
             0.8888888888888888,
             "#fdca26"
            ],
            [
             1,
             "#f0f921"
            ]
           ]
          },
          "colorway": [
           "#636efa",
           "#EF553B",
           "#00cc96",
           "#ab63fa",
           "#FFA15A",
           "#19d3f3",
           "#FF6692",
           "#B6E880",
           "#FF97FF",
           "#FECB52"
          ],
          "font": {
           "color": "#2a3f5f"
          },
          "geo": {
           "bgcolor": "white",
           "lakecolor": "white",
           "landcolor": "#E5ECF6",
           "showlakes": true,
           "showland": true,
           "subunitcolor": "white"
          },
          "hoverlabel": {
           "align": "left"
          },
          "hovermode": "closest",
          "mapbox": {
           "style": "light"
          },
          "paper_bgcolor": "white",
          "plot_bgcolor": "#E5ECF6",
          "polar": {
           "angularaxis": {
            "gridcolor": "white",
            "linecolor": "white",
            "ticks": ""
           },
           "bgcolor": "#E5ECF6",
           "radialaxis": {
            "gridcolor": "white",
            "linecolor": "white",
            "ticks": ""
           }
          },
          "scene": {
           "xaxis": {
            "backgroundcolor": "#E5ECF6",
            "gridcolor": "white",
            "gridwidth": 2,
            "linecolor": "white",
            "showbackground": true,
            "ticks": "",
            "zerolinecolor": "white"
           },
           "yaxis": {
            "backgroundcolor": "#E5ECF6",
            "gridcolor": "white",
            "gridwidth": 2,
            "linecolor": "white",
            "showbackground": true,
            "ticks": "",
            "zerolinecolor": "white"
           },
           "zaxis": {
            "backgroundcolor": "#E5ECF6",
            "gridcolor": "white",
            "gridwidth": 2,
            "linecolor": "white",
            "showbackground": true,
            "ticks": "",
            "zerolinecolor": "white"
           }
          },
          "shapedefaults": {
           "line": {
            "color": "#2a3f5f"
           }
          },
          "ternary": {
           "aaxis": {
            "gridcolor": "white",
            "linecolor": "white",
            "ticks": ""
           },
           "baxis": {
            "gridcolor": "white",
            "linecolor": "white",
            "ticks": ""
           },
           "bgcolor": "#E5ECF6",
           "caxis": {
            "gridcolor": "white",
            "linecolor": "white",
            "ticks": ""
           }
          },
          "title": {
           "x": 0.05
          },
          "xaxis": {
           "automargin": true,
           "gridcolor": "white",
           "linecolor": "white",
           "ticks": "",
           "title": {
            "standoff": 15
           },
           "zerolinecolor": "white",
           "zerolinewidth": 2
          },
          "yaxis": {
           "automargin": true,
           "gridcolor": "white",
           "linecolor": "white",
           "ticks": "",
           "title": {
            "standoff": 15
           },
           "zerolinecolor": "white",
           "zerolinewidth": 2
          }
         }
        },
        "updatemenus": [
         {
          "buttons": [
           {
            "args": [
             null,
             {
              "frame": {
               "duration": 1200,
               "redraw": true
              },
              "fromcurrent": true,
              "mode": "immediate",
              "transition": {
               "duration": 500,
               "easing": "linear"
              }
             }
            ],
            "label": "&#9654;",
            "method": "animate"
           },
           {
            "args": [
             [
              null
             ],
             {
              "frame": {
               "duration": 0,
               "redraw": true
              },
              "fromcurrent": true,
              "mode": "immediate",
              "transition": {
               "duration": 0,
               "easing": "linear"
              }
             }
            ],
            "label": "&#9724;",
            "method": "animate"
           }
          ],
          "direction": "left",
          "pad": {
           "r": 10,
           "t": 70
          },
          "showactive": false,
          "type": "buttons",
          "x": 0.1,
          "xanchor": "right",
          "y": 0,
          "yanchor": "top"
         }
        ],
        "xaxis": {
         "anchor": "y",
         "domain": [
          0,
          1
         ],
         "title": {
          "text": "Negative_Words"
         }
        },
        "yaxis": {
         "anchor": "x",
         "categoryarray": [
          26,
          27,
          28,
          32,
          38,
          44,
          57,
          74,
          75,
          76,
          92,
          94,
          133
         ],
         "categoryorder": "array",
         "domain": [
          0,
          1
         ],
         "title": {
          "text": "Negative_Count"
         }
        }
       }
      },
      "text/html": [
       "<div>\n",
       "        \n",
       "        \n",
       "            <div id=\"cdb6007c-b3d5-487b-836c-9fe9b10778bd\" class=\"plotly-graph-div\" style=\"height:525px; width:100%;\"></div>\n",
       "            <script type=\"text/javascript\">\n",
       "                require([\"plotly\"], function(Plotly) {\n",
       "                    window.PLOTLYENV=window.PLOTLYENV || {};\n",
       "                    \n",
       "                if (document.getElementById(\"cdb6007c-b3d5-487b-836c-9fe9b10778bd\")) {\n",
       "                    Plotly.newPlot(\n",
       "                        'cdb6007c-b3d5-487b-836c-9fe9b10778bd',\n",
       "                        [{\"alignmentgroup\": \"True\", \"hovertemplate\": \"<b>%{hovertext}</b><br><br>Negative_Count=%{y}<br>Negative_Words=%{x}<extra></extra>\", \"hovertext\": [\"trump\"], \"legendgroup\": \"\", \"marker\": {\"color\": \"#636efa\"}, \"name\": \"\", \"offsetgroup\": \"\", \"orientation\": \"v\", \"showlegend\": false, \"textposition\": \"auto\", \"type\": \"bar\", \"x\": [\"trump\"], \"xaxis\": \"x\", \"y\": [133], \"yaxis\": \"y\"}],\n",
       "                        {\"barmode\": \"relative\", \"legend\": {\"tracegroupgap\": 0}, \"margin\": {\"t\": 60}, \"sliders\": [{\"active\": 0, \"currentvalue\": {\"prefix\": \"Negative_Count=\"}, \"len\": 0.9, \"pad\": {\"b\": 10, \"t\": 60}, \"steps\": [{\"args\": [[\"133\"], {\"frame\": {\"duration\": 0, \"redraw\": true}, \"fromcurrent\": true, \"mode\": \"immediate\", \"transition\": {\"duration\": 0, \"easing\": \"linear\"}}], \"label\": \"133\", \"method\": \"animate\"}, {\"args\": [[\"94\"], {\"frame\": {\"duration\": 0, \"redraw\": true}, \"fromcurrent\": true, \"mode\": \"immediate\", \"transition\": {\"duration\": 0, \"easing\": \"linear\"}}], \"label\": \"94\", \"method\": \"animate\"}, {\"args\": [[\"92\"], {\"frame\": {\"duration\": 0, \"redraw\": true}, \"fromcurrent\": true, \"mode\": \"immediate\", \"transition\": {\"duration\": 0, \"easing\": \"linear\"}}], \"label\": \"92\", \"method\": \"animate\"}, {\"args\": [[\"76\"], {\"frame\": {\"duration\": 0, \"redraw\": true}, \"fromcurrent\": true, \"mode\": \"immediate\", \"transition\": {\"duration\": 0, \"easing\": \"linear\"}}], \"label\": \"76\", \"method\": \"animate\"}, {\"args\": [[\"75\"], {\"frame\": {\"duration\": 0, \"redraw\": true}, \"fromcurrent\": true, \"mode\": \"immediate\", \"transition\": {\"duration\": 0, \"easing\": \"linear\"}}], \"label\": \"75\", \"method\": \"animate\"}, {\"args\": [[\"74\"], {\"frame\": {\"duration\": 0, \"redraw\": true}, \"fromcurrent\": true, \"mode\": \"immediate\", \"transition\": {\"duration\": 0, \"easing\": \"linear\"}}], \"label\": \"74\", \"method\": \"animate\"}, {\"args\": [[\"57\"], {\"frame\": {\"duration\": 0, \"redraw\": true}, \"fromcurrent\": true, \"mode\": \"immediate\", \"transition\": {\"duration\": 0, \"easing\": \"linear\"}}], \"label\": \"57\", \"method\": \"animate\"}, {\"args\": [[\"44\"], {\"frame\": {\"duration\": 0, \"redraw\": true}, \"fromcurrent\": true, \"mode\": \"immediate\", \"transition\": {\"duration\": 0, \"easing\": \"linear\"}}], \"label\": \"44\", \"method\": \"animate\"}, {\"args\": [[\"38\"], {\"frame\": {\"duration\": 0, \"redraw\": true}, \"fromcurrent\": true, \"mode\": \"immediate\", \"transition\": {\"duration\": 0, \"easing\": \"linear\"}}], \"label\": \"38\", \"method\": \"animate\"}, {\"args\": [[\"32\"], {\"frame\": {\"duration\": 0, \"redraw\": true}, \"fromcurrent\": true, \"mode\": \"immediate\", \"transition\": {\"duration\": 0, \"easing\": \"linear\"}}], \"label\": \"32\", \"method\": \"animate\"}, {\"args\": [[\"28\"], {\"frame\": {\"duration\": 0, \"redraw\": true}, \"fromcurrent\": true, \"mode\": \"immediate\", \"transition\": {\"duration\": 0, \"easing\": \"linear\"}}], \"label\": \"28\", \"method\": \"animate\"}, {\"args\": [[\"27\"], {\"frame\": {\"duration\": 0, \"redraw\": true}, \"fromcurrent\": true, \"mode\": \"immediate\", \"transition\": {\"duration\": 0, \"easing\": \"linear\"}}], \"label\": \"27\", \"method\": \"animate\"}, {\"args\": [[\"26\"], {\"frame\": {\"duration\": 0, \"redraw\": true}, \"fromcurrent\": true, \"mode\": \"immediate\", \"transition\": {\"duration\": 0, \"easing\": \"linear\"}}], \"label\": \"26\", \"method\": \"animate\"}], \"x\": 0.1, \"xanchor\": \"left\", \"y\": 0, \"yanchor\": \"top\"}], \"template\": {\"data\": {\"bar\": [{\"error_x\": {\"color\": \"#2a3f5f\"}, \"error_y\": {\"color\": \"#2a3f5f\"}, \"marker\": {\"line\": {\"color\": \"#E5ECF6\", \"width\": 0.5}}, \"type\": \"bar\"}], \"barpolar\": [{\"marker\": {\"line\": {\"color\": \"#E5ECF6\", \"width\": 0.5}}, \"type\": \"barpolar\"}], \"carpet\": [{\"aaxis\": {\"endlinecolor\": \"#2a3f5f\", \"gridcolor\": \"white\", \"linecolor\": \"white\", \"minorgridcolor\": \"white\", \"startlinecolor\": \"#2a3f5f\"}, \"baxis\": {\"endlinecolor\": \"#2a3f5f\", \"gridcolor\": \"white\", \"linecolor\": \"white\", \"minorgridcolor\": \"white\", \"startlinecolor\": \"#2a3f5f\"}, \"type\": \"carpet\"}], \"choropleth\": [{\"colorbar\": {\"outlinewidth\": 0, \"ticks\": \"\"}, \"type\": \"choropleth\"}], \"contour\": [{\"colorbar\": {\"outlinewidth\": 0, \"ticks\": \"\"}, \"colorscale\": [[0.0, \"#0d0887\"], [0.1111111111111111, \"#46039f\"], [0.2222222222222222, \"#7201a8\"], [0.3333333333333333, \"#9c179e\"], [0.4444444444444444, \"#bd3786\"], [0.5555555555555556, \"#d8576b\"], [0.6666666666666666, \"#ed7953\"], [0.7777777777777778, \"#fb9f3a\"], [0.8888888888888888, \"#fdca26\"], [1.0, \"#f0f921\"]], \"type\": \"contour\"}], \"contourcarpet\": [{\"colorbar\": {\"outlinewidth\": 0, \"ticks\": \"\"}, \"type\": \"contourcarpet\"}], \"heatmap\": [{\"colorbar\": {\"outlinewidth\": 0, \"ticks\": \"\"}, \"colorscale\": [[0.0, \"#0d0887\"], [0.1111111111111111, \"#46039f\"], [0.2222222222222222, \"#7201a8\"], [0.3333333333333333, \"#9c179e\"], [0.4444444444444444, \"#bd3786\"], [0.5555555555555556, \"#d8576b\"], [0.6666666666666666, \"#ed7953\"], [0.7777777777777778, \"#fb9f3a\"], [0.8888888888888888, \"#fdca26\"], [1.0, \"#f0f921\"]], \"type\": \"heatmap\"}], \"heatmapgl\": [{\"colorbar\": {\"outlinewidth\": 0, \"ticks\": \"\"}, \"colorscale\": [[0.0, \"#0d0887\"], [0.1111111111111111, \"#46039f\"], [0.2222222222222222, \"#7201a8\"], [0.3333333333333333, \"#9c179e\"], [0.4444444444444444, \"#bd3786\"], [0.5555555555555556, \"#d8576b\"], [0.6666666666666666, \"#ed7953\"], [0.7777777777777778, \"#fb9f3a\"], [0.8888888888888888, \"#fdca26\"], [1.0, \"#f0f921\"]], \"type\": \"heatmapgl\"}], \"histogram\": [{\"marker\": {\"colorbar\": {\"outlinewidth\": 0, \"ticks\": \"\"}}, \"type\": \"histogram\"}], \"histogram2d\": [{\"colorbar\": {\"outlinewidth\": 0, \"ticks\": \"\"}, \"colorscale\": [[0.0, \"#0d0887\"], [0.1111111111111111, \"#46039f\"], [0.2222222222222222, \"#7201a8\"], [0.3333333333333333, \"#9c179e\"], [0.4444444444444444, \"#bd3786\"], [0.5555555555555556, \"#d8576b\"], [0.6666666666666666, \"#ed7953\"], [0.7777777777777778, \"#fb9f3a\"], [0.8888888888888888, \"#fdca26\"], [1.0, \"#f0f921\"]], \"type\": \"histogram2d\"}], \"histogram2dcontour\": [{\"colorbar\": {\"outlinewidth\": 0, \"ticks\": \"\"}, \"colorscale\": [[0.0, \"#0d0887\"], [0.1111111111111111, \"#46039f\"], [0.2222222222222222, \"#7201a8\"], [0.3333333333333333, \"#9c179e\"], [0.4444444444444444, \"#bd3786\"], [0.5555555555555556, \"#d8576b\"], [0.6666666666666666, \"#ed7953\"], [0.7777777777777778, \"#fb9f3a\"], [0.8888888888888888, \"#fdca26\"], [1.0, \"#f0f921\"]], \"type\": \"histogram2dcontour\"}], \"mesh3d\": [{\"colorbar\": {\"outlinewidth\": 0, \"ticks\": \"\"}, \"type\": \"mesh3d\"}], \"parcoords\": [{\"line\": {\"colorbar\": {\"outlinewidth\": 0, \"ticks\": \"\"}}, \"type\": \"parcoords\"}], \"pie\": [{\"automargin\": true, \"type\": \"pie\"}], \"scatter\": [{\"marker\": {\"colorbar\": {\"outlinewidth\": 0, \"ticks\": \"\"}}, \"type\": \"scatter\"}], \"scatter3d\": [{\"line\": {\"colorbar\": {\"outlinewidth\": 0, \"ticks\": \"\"}}, \"marker\": {\"colorbar\": {\"outlinewidth\": 0, \"ticks\": \"\"}}, \"type\": \"scatter3d\"}], \"scattercarpet\": [{\"marker\": {\"colorbar\": {\"outlinewidth\": 0, \"ticks\": \"\"}}, \"type\": \"scattercarpet\"}], \"scattergeo\": [{\"marker\": {\"colorbar\": {\"outlinewidth\": 0, \"ticks\": \"\"}}, \"type\": \"scattergeo\"}], \"scattergl\": [{\"marker\": {\"colorbar\": {\"outlinewidth\": 0, \"ticks\": \"\"}}, \"type\": \"scattergl\"}], \"scattermapbox\": [{\"marker\": {\"colorbar\": {\"outlinewidth\": 0, \"ticks\": \"\"}}, \"type\": \"scattermapbox\"}], \"scatterpolar\": [{\"marker\": {\"colorbar\": {\"outlinewidth\": 0, \"ticks\": \"\"}}, \"type\": \"scatterpolar\"}], \"scatterpolargl\": [{\"marker\": {\"colorbar\": {\"outlinewidth\": 0, \"ticks\": \"\"}}, \"type\": \"scatterpolargl\"}], \"scatterternary\": [{\"marker\": {\"colorbar\": {\"outlinewidth\": 0, \"ticks\": \"\"}}, \"type\": \"scatterternary\"}], \"surface\": [{\"colorbar\": {\"outlinewidth\": 0, \"ticks\": \"\"}, \"colorscale\": [[0.0, \"#0d0887\"], [0.1111111111111111, \"#46039f\"], [0.2222222222222222, \"#7201a8\"], [0.3333333333333333, \"#9c179e\"], [0.4444444444444444, \"#bd3786\"], [0.5555555555555556, \"#d8576b\"], [0.6666666666666666, \"#ed7953\"], [0.7777777777777778, \"#fb9f3a\"], [0.8888888888888888, \"#fdca26\"], [1.0, \"#f0f921\"]], \"type\": \"surface\"}], \"table\": [{\"cells\": {\"fill\": {\"color\": \"#EBF0F8\"}, \"line\": {\"color\": \"white\"}}, \"header\": {\"fill\": {\"color\": \"#C8D4E3\"}, \"line\": {\"color\": \"white\"}}, \"type\": \"table\"}]}, \"layout\": {\"annotationdefaults\": {\"arrowcolor\": \"#2a3f5f\", \"arrowhead\": 0, \"arrowwidth\": 1}, \"coloraxis\": {\"colorbar\": {\"outlinewidth\": 0, \"ticks\": \"\"}}, \"colorscale\": {\"diverging\": [[0, \"#8e0152\"], [0.1, \"#c51b7d\"], [0.2, \"#de77ae\"], [0.3, \"#f1b6da\"], [0.4, \"#fde0ef\"], [0.5, \"#f7f7f7\"], [0.6, \"#e6f5d0\"], [0.7, \"#b8e186\"], [0.8, \"#7fbc41\"], [0.9, \"#4d9221\"], [1, \"#276419\"]], \"sequential\": [[0.0, \"#0d0887\"], [0.1111111111111111, \"#46039f\"], [0.2222222222222222, \"#7201a8\"], [0.3333333333333333, \"#9c179e\"], [0.4444444444444444, \"#bd3786\"], [0.5555555555555556, \"#d8576b\"], [0.6666666666666666, \"#ed7953\"], [0.7777777777777778, \"#fb9f3a\"], [0.8888888888888888, \"#fdca26\"], [1.0, \"#f0f921\"]], \"sequentialminus\": [[0.0, \"#0d0887\"], [0.1111111111111111, \"#46039f\"], [0.2222222222222222, \"#7201a8\"], [0.3333333333333333, \"#9c179e\"], [0.4444444444444444, \"#bd3786\"], [0.5555555555555556, \"#d8576b\"], [0.6666666666666666, \"#ed7953\"], [0.7777777777777778, \"#fb9f3a\"], [0.8888888888888888, \"#fdca26\"], [1.0, \"#f0f921\"]]}, \"colorway\": [\"#636efa\", \"#EF553B\", \"#00cc96\", \"#ab63fa\", \"#FFA15A\", \"#19d3f3\", \"#FF6692\", \"#B6E880\", \"#FF97FF\", \"#FECB52\"], \"font\": {\"color\": \"#2a3f5f\"}, \"geo\": {\"bgcolor\": \"white\", \"lakecolor\": \"white\", \"landcolor\": \"#E5ECF6\", \"showlakes\": true, \"showland\": true, \"subunitcolor\": \"white\"}, \"hoverlabel\": {\"align\": \"left\"}, \"hovermode\": \"closest\", \"mapbox\": {\"style\": \"light\"}, \"paper_bgcolor\": \"white\", \"plot_bgcolor\": \"#E5ECF6\", \"polar\": {\"angularaxis\": {\"gridcolor\": \"white\", \"linecolor\": \"white\", \"ticks\": \"\"}, \"bgcolor\": \"#E5ECF6\", \"radialaxis\": {\"gridcolor\": \"white\", \"linecolor\": \"white\", \"ticks\": \"\"}}, \"scene\": {\"xaxis\": {\"backgroundcolor\": \"#E5ECF6\", \"gridcolor\": \"white\", \"gridwidth\": 2, \"linecolor\": \"white\", \"showbackground\": true, \"ticks\": \"\", \"zerolinecolor\": \"white\"}, \"yaxis\": {\"backgroundcolor\": \"#E5ECF6\", \"gridcolor\": \"white\", \"gridwidth\": 2, \"linecolor\": \"white\", \"showbackground\": true, \"ticks\": \"\", \"zerolinecolor\": \"white\"}, \"zaxis\": {\"backgroundcolor\": \"#E5ECF6\", \"gridcolor\": \"white\", \"gridwidth\": 2, \"linecolor\": \"white\", \"showbackground\": true, \"ticks\": \"\", \"zerolinecolor\": \"white\"}}, \"shapedefaults\": {\"line\": {\"color\": \"#2a3f5f\"}}, \"ternary\": {\"aaxis\": {\"gridcolor\": \"white\", \"linecolor\": \"white\", \"ticks\": \"\"}, \"baxis\": {\"gridcolor\": \"white\", \"linecolor\": \"white\", \"ticks\": \"\"}, \"bgcolor\": \"#E5ECF6\", \"caxis\": {\"gridcolor\": \"white\", \"linecolor\": \"white\", \"ticks\": \"\"}}, \"title\": {\"x\": 0.05}, \"xaxis\": {\"automargin\": true, \"gridcolor\": \"white\", \"linecolor\": \"white\", \"ticks\": \"\", \"title\": {\"standoff\": 15}, \"zerolinecolor\": \"white\", \"zerolinewidth\": 2}, \"yaxis\": {\"automargin\": true, \"gridcolor\": \"white\", \"linecolor\": \"white\", \"ticks\": \"\", \"title\": {\"standoff\": 15}, \"zerolinecolor\": \"white\", \"zerolinewidth\": 2}}}, \"updatemenus\": [{\"buttons\": [{\"args\": [null, {\"frame\": {\"duration\": 1200, \"redraw\": true}, \"fromcurrent\": true, \"mode\": \"immediate\", \"transition\": {\"duration\": 500, \"easing\": \"linear\"}}], \"label\": \"&#9654;\", \"method\": \"animate\"}, {\"args\": [[null], {\"frame\": {\"duration\": 0, \"redraw\": true}, \"fromcurrent\": true, \"mode\": \"immediate\", \"transition\": {\"duration\": 0, \"easing\": \"linear\"}}], \"label\": \"&#9724;\", \"method\": \"animate\"}], \"direction\": \"left\", \"pad\": {\"r\": 10, \"t\": 70}, \"showactive\": false, \"type\": \"buttons\", \"x\": 0.1, \"xanchor\": \"right\", \"y\": 0, \"yanchor\": \"top\"}], \"xaxis\": {\"anchor\": \"y\", \"domain\": [0.0, 1.0], \"title\": {\"text\": \"Negative_Words\"}}, \"yaxis\": {\"anchor\": \"x\", \"categoryarray\": [26, 27, 28, 32, 38, 44, 57, 74, 75, 76, 92, 94, 133], \"categoryorder\": \"array\", \"domain\": [0.0, 1.0], \"title\": {\"text\": \"Negative_Count\"}}},\n",
       "                        {\"responsive\": true}\n",
       "                    ).then(function(){\n",
       "                            Plotly.addFrames('cdb6007c-b3d5-487b-836c-9fe9b10778bd', [{\"data\": [{\"alignmentgroup\": \"True\", \"hovertemplate\": \"<b>%{hovertext}</b><br><br>Negative_Count=%{y}<br>Negative_Words=%{x}<extra></extra>\", \"hovertext\": [\"trump\"], \"legendgroup\": \"\", \"marker\": {\"color\": \"#636efa\"}, \"name\": \"\", \"offsetgroup\": \"\", \"orientation\": \"v\", \"showlegend\": false, \"textposition\": \"auto\", \"x\": [\"trump\"], \"xaxis\": \"x\", \"y\": [133], \"yaxis\": \"y\", \"type\": \"bar\"}], \"name\": \"133\"}, {\"data\": [{\"alignmentgroup\": \"True\", \"hovertemplate\": \"<b>%{hovertext}</b><br><br>Negative_Count=%{y}<br>Negative_Words=%{x}<extra></extra>\", \"hovertext\": [\"politics\"], \"legendgroup\": \"\", \"marker\": {\"color\": \"#636efa\"}, \"name\": \"\", \"offsetgroup\": \"\", \"orientation\": \"v\", \"showlegend\": false, \"textposition\": \"auto\", \"x\": [\"politics\"], \"xaxis\": \"x\", \"y\": [94], \"yaxis\": \"y\", \"type\": \"bar\"}], \"name\": \"94\"}, {\"data\": [{\"alignmentgroup\": \"True\", \"hovertemplate\": \"<b>%{hovertext}</b><br><br>Negative_Count=%{y}<br>Negative_Words=%{x}<extra></extra>\", \"hovertext\": [\"allahsoil\"], \"legendgroup\": \"\", \"marker\": {\"color\": \"#636efa\"}, \"name\": \"\", \"offsetgroup\": \"\", \"orientation\": \"v\", \"showlegend\": false, \"textposition\": \"auto\", \"x\": [\"allahsoil\"], \"xaxis\": \"x\", \"y\": [92], \"yaxis\": \"y\", \"type\": \"bar\"}], \"name\": \"92\"}, {\"data\": [{\"alignmentgroup\": \"True\", \"hovertemplate\": \"<b>%{hovertext}</b><br><br>Negative_Count=%{y}<br>Negative_Words=%{x}<extra></extra>\", \"hovertext\": [\"libtard\"], \"legendgroup\": \"\", \"marker\": {\"color\": \"#636efa\"}, \"name\": \"\", \"offsetgroup\": \"\", \"orientation\": \"v\", \"showlegend\": false, \"textposition\": \"auto\", \"x\": [\"libtard\"], \"xaxis\": \"x\", \"y\": [76], \"yaxis\": \"y\", \"type\": \"bar\"}], \"name\": \"76\"}, {\"data\": [{\"alignmentgroup\": \"True\", \"hovertemplate\": \"<b>%{hovertext}</b><br><br>Negative_Count=%{y}<br>Negative_Words=%{x}<extra></extra>\", \"hovertext\": [\"liberal\"], \"legendgroup\": \"\", \"marker\": {\"color\": \"#636efa\"}, \"name\": \"\", \"offsetgroup\": \"\", \"orientation\": \"v\", \"showlegend\": false, \"textposition\": \"auto\", \"x\": [\"liberal\"], \"xaxis\": \"x\", \"y\": [75], \"yaxis\": \"y\", \"type\": \"bar\"}], \"name\": \"75\"}, {\"data\": [{\"alignmentgroup\": \"True\", \"hovertemplate\": \"<b>%{hovertext}</b><br><br>Negative_Count=%{y}<br>Negative_Words=%{x}<extra></extra>\", \"hovertext\": [\"sjw\"], \"legendgroup\": \"\", \"marker\": {\"color\": \"#636efa\"}, \"name\": \"\", \"offsetgroup\": \"\", \"orientation\": \"v\", \"showlegend\": false, \"textposition\": \"auto\", \"x\": [\"sjw\"], \"xaxis\": \"x\", \"y\": [74], \"yaxis\": \"y\", \"type\": \"bar\"}], \"name\": \"74\"}, {\"data\": [{\"alignmentgroup\": \"True\", \"hovertemplate\": \"<b>%{hovertext}</b><br><br>Negative_Count=%{y}<br>Negative_Words=%{x}<extra></extra>\", \"hovertext\": [\"retweet\"], \"legendgroup\": \"\", \"marker\": {\"color\": \"#636efa\"}, \"name\": \"\", \"offsetgroup\": \"\", \"orientation\": \"v\", \"showlegend\": false, \"textposition\": \"auto\", \"x\": [\"retweet\"], \"xaxis\": \"x\", \"y\": [57], \"yaxis\": \"y\", \"type\": \"bar\"}], \"name\": \"57\"}, {\"data\": [{\"alignmentgroup\": \"True\", \"hovertemplate\": \"<b>%{hovertext}</b><br><br>Negative_Count=%{y}<br>Negative_Words=%{x}<extra></extra>\", \"hovertext\": [\"black\"], \"legendgroup\": \"\", \"marker\": {\"color\": \"#636efa\"}, \"name\": \"\", \"offsetgroup\": \"\", \"orientation\": \"v\", \"showlegend\": false, \"textposition\": \"auto\", \"x\": [\"black\"], \"xaxis\": \"x\", \"y\": [44], \"yaxis\": \"y\", \"type\": \"bar\"}], \"name\": \"44\"}, {\"data\": [{\"alignmentgroup\": \"True\", \"hovertemplate\": \"<b>%{hovertext}</b><br><br>Negative_Count=%{y}<br>Negative_Words=%{x}<extra></extra>\", \"hovertext\": [\"miamia\"], \"legendgroup\": \"\", \"marker\": {\"color\": \"#636efa\"}, \"name\": \"\", \"offsetgroup\": \"\", \"orientation\": \"v\", \"showlegend\": false, \"textposition\": \"auto\", \"x\": [\"miamia\"], \"xaxis\": \"x\", \"y\": [38], \"yaxis\": \"y\", \"type\": \"bar\"}], \"name\": \"38\"}, {\"data\": [{\"alignmentgroup\": \"True\", \"hovertemplate\": \"<b>%{hovertext}</b><br><br>Negative_Count=%{y}<br>Negative_Words=%{x}<extra></extra>\", \"hovertext\": [\"hate\", \"tampa\"], \"legendgroup\": \"\", \"marker\": {\"color\": \"#636efa\"}, \"name\": \"\", \"offsetgroup\": \"\", \"orientation\": \"v\", \"showlegend\": false, \"textposition\": \"auto\", \"x\": [\"hate\", \"tampa\"], \"xaxis\": \"x\", \"y\": [32, 32], \"yaxis\": \"y\", \"type\": \"bar\"}], \"name\": \"32\"}, {\"data\": [{\"alignmentgroup\": \"True\", \"hovertemplate\": \"<b>%{hovertext}</b><br><br>Negative_Count=%{y}<br>Negative_Words=%{x}<extra></extra>\", \"hovertext\": [\"blm\", \"hispanic\"], \"legendgroup\": \"\", \"marker\": {\"color\": \"#636efa\"}, \"name\": \"\", \"offsetgroup\": \"\", \"orientation\": \"v\", \"showlegend\": false, \"textposition\": \"auto\", \"x\": [\"blm\", \"hispanic\"], \"xaxis\": \"x\", \"y\": [28, 28], \"yaxis\": \"y\", \"type\": \"bar\"}], \"name\": \"28\"}, {\"data\": [{\"alignmentgroup\": \"True\", \"hovertemplate\": \"<b>%{hovertext}</b><br><br>Negative_Count=%{y}<br>Negative_Words=%{x}<extra></extra>\", \"hovertext\": [\"brexit\", \"bigot\", \"sikh\", \"calgary\"], \"legendgroup\": \"\", \"marker\": {\"color\": \"#636efa\"}, \"name\": \"\", \"offsetgroup\": \"\", \"orientation\": \"v\", \"showlegend\": false, \"textposition\": \"auto\", \"x\": [\"brexit\", \"bigot\", \"sikh\", \"calgary\"], \"xaxis\": \"x\", \"y\": [27, 27, 27, 27], \"yaxis\": \"y\", \"type\": \"bar\"}], \"name\": \"27\"}, {\"data\": [{\"alignmentgroup\": \"True\", \"hovertemplate\": \"<b>%{hovertext}</b><br><br>Negative_Count=%{y}<br>Negative_Words=%{x}<extra></extra>\", \"hovertext\": [\"temple\", \"wso\", \"obama\"], \"legendgroup\": \"\", \"marker\": {\"color\": \"#636efa\"}, \"name\": \"\", \"offsetgroup\": \"\", \"orientation\": \"v\", \"showlegend\": false, \"textposition\": \"auto\", \"x\": [\"temple\", \"wso\", \"obama\"], \"xaxis\": \"x\", \"y\": [26, 26, 26], \"yaxis\": \"y\", \"type\": \"bar\"}], \"name\": \"26\"}]);\n",
       "                        }).then(function(){\n",
       "                            \n",
       "var gd = document.getElementById('cdb6007c-b3d5-487b-836c-9fe9b10778bd');\n",
       "var x = new MutationObserver(function (mutations, observer) {{\n",
       "        var display = window.getComputedStyle(gd).display;\n",
       "        if (!display || display === 'none') {{\n",
       "            console.log([gd, 'removed!']);\n",
       "            Plotly.purge(gd);\n",
       "            observer.disconnect();\n",
       "        }}\n",
       "}});\n",
       "\n",
       "// Listen for the removal of the full notebook cells\n",
       "var notebookContainer = gd.closest('#notebook-container');\n",
       "if (notebookContainer) {{\n",
       "    x.observe(notebookContainer, {childList: true});\n",
       "}}\n",
       "\n",
       "// Listen for the clearing of the current output cell\n",
       "var outputEl = gd.closest('.output');\n",
       "if (outputEl) {{\n",
       "    x.observe(outputEl, {childList: true});\n",
       "}}\n",
       "\n",
       "                        })\n",
       "                };\n",
       "                });\n",
       "            </script>\n",
       "        </div>"
      ]
     },
     "metadata": {},
     "output_type": "display_data"
    }
   ],
   "source": [
    "# Animated plot for negative words with their frequency\n",
    "fig = px.bar(z, x=\"Negative_Words\", y=\"Negative_Count\",animation_frame=\"Negative_Count\",\n",
    "            hover_name=\"Negative_Words\")\n",
    "fig.layout.updatemenus[0].buttons[0].args[1][\"frame\"][\"duration\"] = 1200\n",
    "fig.show()\n"
   ]
  },
  {
   "cell_type": "code",
   "execution_count": 48,
   "metadata": {},
   "outputs": [
    {
     "data": {
      "application/vnd.plotly.v1+json": {
       "config": {
        "plotlyServerURL": "https://plot.ly"
       },
       "data": [
        {
         "alignmentgroup": "True",
         "hovertemplate": "<b>%{hovertext}</b><br><br>Positive_Words=%{x}<br>Positive_Count=%{marker.color}<extra></extra>",
         "hovertext": [
          "love",
          "positive",
          "healthy",
          "smile",
          "thankful",
          "fun",
          "life",
          "summer",
          "model",
          "affirmation",
          "cute",
          "i_am",
          "blog",
          "me",
          "fathersday",
          "silver",
          "gold",
          "altwaystoheal",
          "beautiful",
          "bihday"
         ],
         "legendgroup": "",
         "marker": {
          "color": [
           1531,
           874,
           570,
           548,
           491,
           434,
           405,
           367,
           364,
           363,
           354,
           352,
           345,
           333,
           332,
           299,
           298,
           295,
           283,
           278
          ],
          "coloraxis": "coloraxis"
         },
         "name": "",
         "offsetgroup": "",
         "orientation": "v",
         "showlegend": false,
         "textposition": "auto",
         "type": "bar",
         "x": [
          "love",
          "positive",
          "healthy",
          "smile",
          "thankful",
          "fun",
          "life",
          "summer",
          "model",
          "affirmation",
          "cute",
          "i_am",
          "blog",
          "me",
          "fathersday",
          "silver",
          "gold",
          "altwaystoheal",
          "beautiful",
          "bihday"
         ],
         "xaxis": "x",
         "y": [
          1531,
          874,
          570,
          548,
          491,
          434,
          405,
          367,
          364,
          363,
          354,
          352,
          345,
          333,
          332,
          299,
          298,
          295,
          283,
          278
         ],
         "yaxis": "y"
        }
       ],
       "layout": {
        "barmode": "relative",
        "coloraxis": {
         "colorbar": {
          "title": {
           "text": "Positive_Count"
          }
         },
         "colorscale": [
          [
           0,
           "#0d0887"
          ],
          [
           0.1111111111111111,
           "#46039f"
          ],
          [
           0.2222222222222222,
           "#7201a8"
          ],
          [
           0.3333333333333333,
           "#9c179e"
          ],
          [
           0.4444444444444444,
           "#bd3786"
          ],
          [
           0.5555555555555556,
           "#d8576b"
          ],
          [
           0.6666666666666666,
           "#ed7953"
          ],
          [
           0.7777777777777778,
           "#fb9f3a"
          ],
          [
           0.8888888888888888,
           "#fdca26"
          ],
          [
           1,
           "#f0f921"
          ]
         ]
        },
        "legend": {
         "tracegroupgap": 0
        },
        "margin": {
         "t": 60
        },
        "template": {
         "data": {
          "bar": [
           {
            "error_x": {
             "color": "#2a3f5f"
            },
            "error_y": {
             "color": "#2a3f5f"
            },
            "marker": {
             "line": {
              "color": "#E5ECF6",
              "width": 0.5
             }
            },
            "type": "bar"
           }
          ],
          "barpolar": [
           {
            "marker": {
             "line": {
              "color": "#E5ECF6",
              "width": 0.5
             }
            },
            "type": "barpolar"
           }
          ],
          "carpet": [
           {
            "aaxis": {
             "endlinecolor": "#2a3f5f",
             "gridcolor": "white",
             "linecolor": "white",
             "minorgridcolor": "white",
             "startlinecolor": "#2a3f5f"
            },
            "baxis": {
             "endlinecolor": "#2a3f5f",
             "gridcolor": "white",
             "linecolor": "white",
             "minorgridcolor": "white",
             "startlinecolor": "#2a3f5f"
            },
            "type": "carpet"
           }
          ],
          "choropleth": [
           {
            "colorbar": {
             "outlinewidth": 0,
             "ticks": ""
            },
            "type": "choropleth"
           }
          ],
          "contour": [
           {
            "colorbar": {
             "outlinewidth": 0,
             "ticks": ""
            },
            "colorscale": [
             [
              0,
              "#0d0887"
             ],
             [
              0.1111111111111111,
              "#46039f"
             ],
             [
              0.2222222222222222,
              "#7201a8"
             ],
             [
              0.3333333333333333,
              "#9c179e"
             ],
             [
              0.4444444444444444,
              "#bd3786"
             ],
             [
              0.5555555555555556,
              "#d8576b"
             ],
             [
              0.6666666666666666,
              "#ed7953"
             ],
             [
              0.7777777777777778,
              "#fb9f3a"
             ],
             [
              0.8888888888888888,
              "#fdca26"
             ],
             [
              1,
              "#f0f921"
             ]
            ],
            "type": "contour"
           }
          ],
          "contourcarpet": [
           {
            "colorbar": {
             "outlinewidth": 0,
             "ticks": ""
            },
            "type": "contourcarpet"
           }
          ],
          "heatmap": [
           {
            "colorbar": {
             "outlinewidth": 0,
             "ticks": ""
            },
            "colorscale": [
             [
              0,
              "#0d0887"
             ],
             [
              0.1111111111111111,
              "#46039f"
             ],
             [
              0.2222222222222222,
              "#7201a8"
             ],
             [
              0.3333333333333333,
              "#9c179e"
             ],
             [
              0.4444444444444444,
              "#bd3786"
             ],
             [
              0.5555555555555556,
              "#d8576b"
             ],
             [
              0.6666666666666666,
              "#ed7953"
             ],
             [
              0.7777777777777778,
              "#fb9f3a"
             ],
             [
              0.8888888888888888,
              "#fdca26"
             ],
             [
              1,
              "#f0f921"
             ]
            ],
            "type": "heatmap"
           }
          ],
          "heatmapgl": [
           {
            "colorbar": {
             "outlinewidth": 0,
             "ticks": ""
            },
            "colorscale": [
             [
              0,
              "#0d0887"
             ],
             [
              0.1111111111111111,
              "#46039f"
             ],
             [
              0.2222222222222222,
              "#7201a8"
             ],
             [
              0.3333333333333333,
              "#9c179e"
             ],
             [
              0.4444444444444444,
              "#bd3786"
             ],
             [
              0.5555555555555556,
              "#d8576b"
             ],
             [
              0.6666666666666666,
              "#ed7953"
             ],
             [
              0.7777777777777778,
              "#fb9f3a"
             ],
             [
              0.8888888888888888,
              "#fdca26"
             ],
             [
              1,
              "#f0f921"
             ]
            ],
            "type": "heatmapgl"
           }
          ],
          "histogram": [
           {
            "marker": {
             "colorbar": {
              "outlinewidth": 0,
              "ticks": ""
             }
            },
            "type": "histogram"
           }
          ],
          "histogram2d": [
           {
            "colorbar": {
             "outlinewidth": 0,
             "ticks": ""
            },
            "colorscale": [
             [
              0,
              "#0d0887"
             ],
             [
              0.1111111111111111,
              "#46039f"
             ],
             [
              0.2222222222222222,
              "#7201a8"
             ],
             [
              0.3333333333333333,
              "#9c179e"
             ],
             [
              0.4444444444444444,
              "#bd3786"
             ],
             [
              0.5555555555555556,
              "#d8576b"
             ],
             [
              0.6666666666666666,
              "#ed7953"
             ],
             [
              0.7777777777777778,
              "#fb9f3a"
             ],
             [
              0.8888888888888888,
              "#fdca26"
             ],
             [
              1,
              "#f0f921"
             ]
            ],
            "type": "histogram2d"
           }
          ],
          "histogram2dcontour": [
           {
            "colorbar": {
             "outlinewidth": 0,
             "ticks": ""
            },
            "colorscale": [
             [
              0,
              "#0d0887"
             ],
             [
              0.1111111111111111,
              "#46039f"
             ],
             [
              0.2222222222222222,
              "#7201a8"
             ],
             [
              0.3333333333333333,
              "#9c179e"
             ],
             [
              0.4444444444444444,
              "#bd3786"
             ],
             [
              0.5555555555555556,
              "#d8576b"
             ],
             [
              0.6666666666666666,
              "#ed7953"
             ],
             [
              0.7777777777777778,
              "#fb9f3a"
             ],
             [
              0.8888888888888888,
              "#fdca26"
             ],
             [
              1,
              "#f0f921"
             ]
            ],
            "type": "histogram2dcontour"
           }
          ],
          "mesh3d": [
           {
            "colorbar": {
             "outlinewidth": 0,
             "ticks": ""
            },
            "type": "mesh3d"
           }
          ],
          "parcoords": [
           {
            "line": {
             "colorbar": {
              "outlinewidth": 0,
              "ticks": ""
             }
            },
            "type": "parcoords"
           }
          ],
          "pie": [
           {
            "automargin": true,
            "type": "pie"
           }
          ],
          "scatter": [
           {
            "marker": {
             "colorbar": {
              "outlinewidth": 0,
              "ticks": ""
             }
            },
            "type": "scatter"
           }
          ],
          "scatter3d": [
           {
            "line": {
             "colorbar": {
              "outlinewidth": 0,
              "ticks": ""
             }
            },
            "marker": {
             "colorbar": {
              "outlinewidth": 0,
              "ticks": ""
             }
            },
            "type": "scatter3d"
           }
          ],
          "scattercarpet": [
           {
            "marker": {
             "colorbar": {
              "outlinewidth": 0,
              "ticks": ""
             }
            },
            "type": "scattercarpet"
           }
          ],
          "scattergeo": [
           {
            "marker": {
             "colorbar": {
              "outlinewidth": 0,
              "ticks": ""
             }
            },
            "type": "scattergeo"
           }
          ],
          "scattergl": [
           {
            "marker": {
             "colorbar": {
              "outlinewidth": 0,
              "ticks": ""
             }
            },
            "type": "scattergl"
           }
          ],
          "scattermapbox": [
           {
            "marker": {
             "colorbar": {
              "outlinewidth": 0,
              "ticks": ""
             }
            },
            "type": "scattermapbox"
           }
          ],
          "scatterpolar": [
           {
            "marker": {
             "colorbar": {
              "outlinewidth": 0,
              "ticks": ""
             }
            },
            "type": "scatterpolar"
           }
          ],
          "scatterpolargl": [
           {
            "marker": {
             "colorbar": {
              "outlinewidth": 0,
              "ticks": ""
             }
            },
            "type": "scatterpolargl"
           }
          ],
          "scatterternary": [
           {
            "marker": {
             "colorbar": {
              "outlinewidth": 0,
              "ticks": ""
             }
            },
            "type": "scatterternary"
           }
          ],
          "surface": [
           {
            "colorbar": {
             "outlinewidth": 0,
             "ticks": ""
            },
            "colorscale": [
             [
              0,
              "#0d0887"
             ],
             [
              0.1111111111111111,
              "#46039f"
             ],
             [
              0.2222222222222222,
              "#7201a8"
             ],
             [
              0.3333333333333333,
              "#9c179e"
             ],
             [
              0.4444444444444444,
              "#bd3786"
             ],
             [
              0.5555555555555556,
              "#d8576b"
             ],
             [
              0.6666666666666666,
              "#ed7953"
             ],
             [
              0.7777777777777778,
              "#fb9f3a"
             ],
             [
              0.8888888888888888,
              "#fdca26"
             ],
             [
              1,
              "#f0f921"
             ]
            ],
            "type": "surface"
           }
          ],
          "table": [
           {
            "cells": {
             "fill": {
              "color": "#EBF0F8"
             },
             "line": {
              "color": "white"
             }
            },
            "header": {
             "fill": {
              "color": "#C8D4E3"
             },
             "line": {
              "color": "white"
             }
            },
            "type": "table"
           }
          ]
         },
         "layout": {
          "annotationdefaults": {
           "arrowcolor": "#2a3f5f",
           "arrowhead": 0,
           "arrowwidth": 1
          },
          "coloraxis": {
           "colorbar": {
            "outlinewidth": 0,
            "ticks": ""
           }
          },
          "colorscale": {
           "diverging": [
            [
             0,
             "#8e0152"
            ],
            [
             0.1,
             "#c51b7d"
            ],
            [
             0.2,
             "#de77ae"
            ],
            [
             0.3,
             "#f1b6da"
            ],
            [
             0.4,
             "#fde0ef"
            ],
            [
             0.5,
             "#f7f7f7"
            ],
            [
             0.6,
             "#e6f5d0"
            ],
            [
             0.7,
             "#b8e186"
            ],
            [
             0.8,
             "#7fbc41"
            ],
            [
             0.9,
             "#4d9221"
            ],
            [
             1,
             "#276419"
            ]
           ],
           "sequential": [
            [
             0,
             "#0d0887"
            ],
            [
             0.1111111111111111,
             "#46039f"
            ],
            [
             0.2222222222222222,
             "#7201a8"
            ],
            [
             0.3333333333333333,
             "#9c179e"
            ],
            [
             0.4444444444444444,
             "#bd3786"
            ],
            [
             0.5555555555555556,
             "#d8576b"
            ],
            [
             0.6666666666666666,
             "#ed7953"
            ],
            [
             0.7777777777777778,
             "#fb9f3a"
            ],
            [
             0.8888888888888888,
             "#fdca26"
            ],
            [
             1,
             "#f0f921"
            ]
           ],
           "sequentialminus": [
            [
             0,
             "#0d0887"
            ],
            [
             0.1111111111111111,
             "#46039f"
            ],
            [
             0.2222222222222222,
             "#7201a8"
            ],
            [
             0.3333333333333333,
             "#9c179e"
            ],
            [
             0.4444444444444444,
             "#bd3786"
            ],
            [
             0.5555555555555556,
             "#d8576b"
            ],
            [
             0.6666666666666666,
             "#ed7953"
            ],
            [
             0.7777777777777778,
             "#fb9f3a"
            ],
            [
             0.8888888888888888,
             "#fdca26"
            ],
            [
             1,
             "#f0f921"
            ]
           ]
          },
          "colorway": [
           "#636efa",
           "#EF553B",
           "#00cc96",
           "#ab63fa",
           "#FFA15A",
           "#19d3f3",
           "#FF6692",
           "#B6E880",
           "#FF97FF",
           "#FECB52"
          ],
          "font": {
           "color": "#2a3f5f"
          },
          "geo": {
           "bgcolor": "white",
           "lakecolor": "white",
           "landcolor": "#E5ECF6",
           "showlakes": true,
           "showland": true,
           "subunitcolor": "white"
          },
          "hoverlabel": {
           "align": "left"
          },
          "hovermode": "closest",
          "mapbox": {
           "style": "light"
          },
          "paper_bgcolor": "white",
          "plot_bgcolor": "#E5ECF6",
          "polar": {
           "angularaxis": {
            "gridcolor": "white",
            "linecolor": "white",
            "ticks": ""
           },
           "bgcolor": "#E5ECF6",
           "radialaxis": {
            "gridcolor": "white",
            "linecolor": "white",
            "ticks": ""
           }
          },
          "scene": {
           "xaxis": {
            "backgroundcolor": "#E5ECF6",
            "gridcolor": "white",
            "gridwidth": 2,
            "linecolor": "white",
            "showbackground": true,
            "ticks": "",
            "zerolinecolor": "white"
           },
           "yaxis": {
            "backgroundcolor": "#E5ECF6",
            "gridcolor": "white",
            "gridwidth": 2,
            "linecolor": "white",
            "showbackground": true,
            "ticks": "",
            "zerolinecolor": "white"
           },
           "zaxis": {
            "backgroundcolor": "#E5ECF6",
            "gridcolor": "white",
            "gridwidth": 2,
            "linecolor": "white",
            "showbackground": true,
            "ticks": "",
            "zerolinecolor": "white"
           }
          },
          "shapedefaults": {
           "line": {
            "color": "#2a3f5f"
           }
          },
          "ternary": {
           "aaxis": {
            "gridcolor": "white",
            "linecolor": "white",
            "ticks": ""
           },
           "baxis": {
            "gridcolor": "white",
            "linecolor": "white",
            "ticks": ""
           },
           "bgcolor": "#E5ECF6",
           "caxis": {
            "gridcolor": "white",
            "linecolor": "white",
            "ticks": ""
           }
          },
          "title": {
           "x": 0.05
          },
          "xaxis": {
           "automargin": true,
           "gridcolor": "white",
           "linecolor": "white",
           "ticks": "",
           "title": {
            "standoff": 15
           },
           "zerolinecolor": "white",
           "zerolinewidth": 2
          },
          "yaxis": {
           "automargin": true,
           "gridcolor": "white",
           "linecolor": "white",
           "ticks": "",
           "title": {
            "standoff": 15
           },
           "zerolinecolor": "white",
           "zerolinewidth": 2
          }
         }
        },
        "xaxis": {
         "anchor": "y",
         "domain": [
          0,
          1
         ],
         "title": {
          "text": "Positive_Words"
         }
        },
        "yaxis": {
         "anchor": "x",
         "domain": [
          0,
          1
         ],
         "title": {
          "text": "Positive_Count"
         }
        }
       }
      },
      "text/html": [
       "<div>\n",
       "        \n",
       "        \n",
       "            <div id=\"a14810f5-d483-4c26-bdbc-0e517a78a3ac\" class=\"plotly-graph-div\" style=\"height:525px; width:100%;\"></div>\n",
       "            <script type=\"text/javascript\">\n",
       "                require([\"plotly\"], function(Plotly) {\n",
       "                    window.PLOTLYENV=window.PLOTLYENV || {};\n",
       "                    \n",
       "                if (document.getElementById(\"a14810f5-d483-4c26-bdbc-0e517a78a3ac\")) {\n",
       "                    Plotly.newPlot(\n",
       "                        'a14810f5-d483-4c26-bdbc-0e517a78a3ac',\n",
       "                        [{\"alignmentgroup\": \"True\", \"hovertemplate\": \"<b>%{hovertext}</b><br><br>Positive_Words=%{x}<br>Positive_Count=%{marker.color}<extra></extra>\", \"hovertext\": [\"love\", \"positive\", \"healthy\", \"smile\", \"thankful\", \"fun\", \"life\", \"summer\", \"model\", \"affirmation\", \"cute\", \"i_am\", \"blog\", \"me\", \"fathersday\", \"silver\", \"gold\", \"altwaystoheal\", \"beautiful\", \"bihday\"], \"legendgroup\": \"\", \"marker\": {\"color\": [1531, 874, 570, 548, 491, 434, 405, 367, 364, 363, 354, 352, 345, 333, 332, 299, 298, 295, 283, 278], \"coloraxis\": \"coloraxis\"}, \"name\": \"\", \"offsetgroup\": \"\", \"orientation\": \"v\", \"showlegend\": false, \"textposition\": \"auto\", \"type\": \"bar\", \"x\": [\"love\", \"positive\", \"healthy\", \"smile\", \"thankful\", \"fun\", \"life\", \"summer\", \"model\", \"affirmation\", \"cute\", \"i_am\", \"blog\", \"me\", \"fathersday\", \"silver\", \"gold\", \"altwaystoheal\", \"beautiful\", \"bihday\"], \"xaxis\": \"x\", \"y\": [1531, 874, 570, 548, 491, 434, 405, 367, 364, 363, 354, 352, 345, 333, 332, 299, 298, 295, 283, 278], \"yaxis\": \"y\"}],\n",
       "                        {\"barmode\": \"relative\", \"coloraxis\": {\"colorbar\": {\"title\": {\"text\": \"Positive_Count\"}}, \"colorscale\": [[0.0, \"#0d0887\"], [0.1111111111111111, \"#46039f\"], [0.2222222222222222, \"#7201a8\"], [0.3333333333333333, \"#9c179e\"], [0.4444444444444444, \"#bd3786\"], [0.5555555555555556, \"#d8576b\"], [0.6666666666666666, \"#ed7953\"], [0.7777777777777778, \"#fb9f3a\"], [0.8888888888888888, \"#fdca26\"], [1.0, \"#f0f921\"]]}, \"legend\": {\"tracegroupgap\": 0}, \"margin\": {\"t\": 60}, \"template\": {\"data\": {\"bar\": [{\"error_x\": {\"color\": \"#2a3f5f\"}, \"error_y\": {\"color\": \"#2a3f5f\"}, \"marker\": {\"line\": {\"color\": \"#E5ECF6\", \"width\": 0.5}}, \"type\": \"bar\"}], \"barpolar\": [{\"marker\": {\"line\": {\"color\": \"#E5ECF6\", \"width\": 0.5}}, \"type\": \"barpolar\"}], \"carpet\": [{\"aaxis\": {\"endlinecolor\": \"#2a3f5f\", \"gridcolor\": \"white\", \"linecolor\": \"white\", \"minorgridcolor\": \"white\", \"startlinecolor\": \"#2a3f5f\"}, \"baxis\": {\"endlinecolor\": \"#2a3f5f\", \"gridcolor\": \"white\", \"linecolor\": \"white\", \"minorgridcolor\": \"white\", \"startlinecolor\": \"#2a3f5f\"}, \"type\": \"carpet\"}], \"choropleth\": [{\"colorbar\": {\"outlinewidth\": 0, \"ticks\": \"\"}, \"type\": \"choropleth\"}], \"contour\": [{\"colorbar\": {\"outlinewidth\": 0, \"ticks\": \"\"}, \"colorscale\": [[0.0, \"#0d0887\"], [0.1111111111111111, \"#46039f\"], [0.2222222222222222, \"#7201a8\"], [0.3333333333333333, \"#9c179e\"], [0.4444444444444444, \"#bd3786\"], [0.5555555555555556, \"#d8576b\"], [0.6666666666666666, \"#ed7953\"], [0.7777777777777778, \"#fb9f3a\"], [0.8888888888888888, \"#fdca26\"], [1.0, \"#f0f921\"]], \"type\": \"contour\"}], \"contourcarpet\": [{\"colorbar\": {\"outlinewidth\": 0, \"ticks\": \"\"}, \"type\": \"contourcarpet\"}], \"heatmap\": [{\"colorbar\": {\"outlinewidth\": 0, \"ticks\": \"\"}, \"colorscale\": [[0.0, \"#0d0887\"], [0.1111111111111111, \"#46039f\"], [0.2222222222222222, \"#7201a8\"], [0.3333333333333333, \"#9c179e\"], [0.4444444444444444, \"#bd3786\"], [0.5555555555555556, \"#d8576b\"], [0.6666666666666666, \"#ed7953\"], [0.7777777777777778, \"#fb9f3a\"], [0.8888888888888888, \"#fdca26\"], [1.0, \"#f0f921\"]], \"type\": \"heatmap\"}], \"heatmapgl\": [{\"colorbar\": {\"outlinewidth\": 0, \"ticks\": \"\"}, \"colorscale\": [[0.0, \"#0d0887\"], [0.1111111111111111, \"#46039f\"], [0.2222222222222222, \"#7201a8\"], [0.3333333333333333, \"#9c179e\"], [0.4444444444444444, \"#bd3786\"], [0.5555555555555556, \"#d8576b\"], [0.6666666666666666, \"#ed7953\"], [0.7777777777777778, \"#fb9f3a\"], [0.8888888888888888, \"#fdca26\"], [1.0, \"#f0f921\"]], \"type\": \"heatmapgl\"}], \"histogram\": [{\"marker\": {\"colorbar\": {\"outlinewidth\": 0, \"ticks\": \"\"}}, \"type\": \"histogram\"}], \"histogram2d\": [{\"colorbar\": {\"outlinewidth\": 0, \"ticks\": \"\"}, \"colorscale\": [[0.0, \"#0d0887\"], [0.1111111111111111, \"#46039f\"], [0.2222222222222222, \"#7201a8\"], [0.3333333333333333, \"#9c179e\"], [0.4444444444444444, \"#bd3786\"], [0.5555555555555556, \"#d8576b\"], [0.6666666666666666, \"#ed7953\"], [0.7777777777777778, \"#fb9f3a\"], [0.8888888888888888, \"#fdca26\"], [1.0, \"#f0f921\"]], \"type\": \"histogram2d\"}], \"histogram2dcontour\": [{\"colorbar\": {\"outlinewidth\": 0, \"ticks\": \"\"}, \"colorscale\": [[0.0, \"#0d0887\"], [0.1111111111111111, \"#46039f\"], [0.2222222222222222, \"#7201a8\"], [0.3333333333333333, \"#9c179e\"], [0.4444444444444444, \"#bd3786\"], [0.5555555555555556, \"#d8576b\"], [0.6666666666666666, \"#ed7953\"], [0.7777777777777778, \"#fb9f3a\"], [0.8888888888888888, \"#fdca26\"], [1.0, \"#f0f921\"]], \"type\": \"histogram2dcontour\"}], \"mesh3d\": [{\"colorbar\": {\"outlinewidth\": 0, \"ticks\": \"\"}, \"type\": \"mesh3d\"}], \"parcoords\": [{\"line\": {\"colorbar\": {\"outlinewidth\": 0, \"ticks\": \"\"}}, \"type\": \"parcoords\"}], \"pie\": [{\"automargin\": true, \"type\": \"pie\"}], \"scatter\": [{\"marker\": {\"colorbar\": {\"outlinewidth\": 0, \"ticks\": \"\"}}, \"type\": \"scatter\"}], \"scatter3d\": [{\"line\": {\"colorbar\": {\"outlinewidth\": 0, \"ticks\": \"\"}}, \"marker\": {\"colorbar\": {\"outlinewidth\": 0, \"ticks\": \"\"}}, \"type\": \"scatter3d\"}], \"scattercarpet\": [{\"marker\": {\"colorbar\": {\"outlinewidth\": 0, \"ticks\": \"\"}}, \"type\": \"scattercarpet\"}], \"scattergeo\": [{\"marker\": {\"colorbar\": {\"outlinewidth\": 0, \"ticks\": \"\"}}, \"type\": \"scattergeo\"}], \"scattergl\": [{\"marker\": {\"colorbar\": {\"outlinewidth\": 0, \"ticks\": \"\"}}, \"type\": \"scattergl\"}], \"scattermapbox\": [{\"marker\": {\"colorbar\": {\"outlinewidth\": 0, \"ticks\": \"\"}}, \"type\": \"scattermapbox\"}], \"scatterpolar\": [{\"marker\": {\"colorbar\": {\"outlinewidth\": 0, \"ticks\": \"\"}}, \"type\": \"scatterpolar\"}], \"scatterpolargl\": [{\"marker\": {\"colorbar\": {\"outlinewidth\": 0, \"ticks\": \"\"}}, \"type\": \"scatterpolargl\"}], \"scatterternary\": [{\"marker\": {\"colorbar\": {\"outlinewidth\": 0, \"ticks\": \"\"}}, \"type\": \"scatterternary\"}], \"surface\": [{\"colorbar\": {\"outlinewidth\": 0, \"ticks\": \"\"}, \"colorscale\": [[0.0, \"#0d0887\"], [0.1111111111111111, \"#46039f\"], [0.2222222222222222, \"#7201a8\"], [0.3333333333333333, \"#9c179e\"], [0.4444444444444444, \"#bd3786\"], [0.5555555555555556, \"#d8576b\"], [0.6666666666666666, \"#ed7953\"], [0.7777777777777778, \"#fb9f3a\"], [0.8888888888888888, \"#fdca26\"], [1.0, \"#f0f921\"]], \"type\": \"surface\"}], \"table\": [{\"cells\": {\"fill\": {\"color\": \"#EBF0F8\"}, \"line\": {\"color\": \"white\"}}, \"header\": {\"fill\": {\"color\": \"#C8D4E3\"}, \"line\": {\"color\": \"white\"}}, \"type\": \"table\"}]}, \"layout\": {\"annotationdefaults\": {\"arrowcolor\": \"#2a3f5f\", \"arrowhead\": 0, \"arrowwidth\": 1}, \"coloraxis\": {\"colorbar\": {\"outlinewidth\": 0, \"ticks\": \"\"}}, \"colorscale\": {\"diverging\": [[0, \"#8e0152\"], [0.1, \"#c51b7d\"], [0.2, \"#de77ae\"], [0.3, \"#f1b6da\"], [0.4, \"#fde0ef\"], [0.5, \"#f7f7f7\"], [0.6, \"#e6f5d0\"], [0.7, \"#b8e186\"], [0.8, \"#7fbc41\"], [0.9, \"#4d9221\"], [1, \"#276419\"]], \"sequential\": [[0.0, \"#0d0887\"], [0.1111111111111111, \"#46039f\"], [0.2222222222222222, \"#7201a8\"], [0.3333333333333333, \"#9c179e\"], [0.4444444444444444, \"#bd3786\"], [0.5555555555555556, \"#d8576b\"], [0.6666666666666666, \"#ed7953\"], [0.7777777777777778, \"#fb9f3a\"], [0.8888888888888888, \"#fdca26\"], [1.0, \"#f0f921\"]], \"sequentialminus\": [[0.0, \"#0d0887\"], [0.1111111111111111, \"#46039f\"], [0.2222222222222222, \"#7201a8\"], [0.3333333333333333, \"#9c179e\"], [0.4444444444444444, \"#bd3786\"], [0.5555555555555556, \"#d8576b\"], [0.6666666666666666, \"#ed7953\"], [0.7777777777777778, \"#fb9f3a\"], [0.8888888888888888, \"#fdca26\"], [1.0, \"#f0f921\"]]}, \"colorway\": [\"#636efa\", \"#EF553B\", \"#00cc96\", \"#ab63fa\", \"#FFA15A\", \"#19d3f3\", \"#FF6692\", \"#B6E880\", \"#FF97FF\", \"#FECB52\"], \"font\": {\"color\": \"#2a3f5f\"}, \"geo\": {\"bgcolor\": \"white\", \"lakecolor\": \"white\", \"landcolor\": \"#E5ECF6\", \"showlakes\": true, \"showland\": true, \"subunitcolor\": \"white\"}, \"hoverlabel\": {\"align\": \"left\"}, \"hovermode\": \"closest\", \"mapbox\": {\"style\": \"light\"}, \"paper_bgcolor\": \"white\", \"plot_bgcolor\": \"#E5ECF6\", \"polar\": {\"angularaxis\": {\"gridcolor\": \"white\", \"linecolor\": \"white\", \"ticks\": \"\"}, \"bgcolor\": \"#E5ECF6\", \"radialaxis\": {\"gridcolor\": \"white\", \"linecolor\": \"white\", \"ticks\": \"\"}}, \"scene\": {\"xaxis\": {\"backgroundcolor\": \"#E5ECF6\", \"gridcolor\": \"white\", \"gridwidth\": 2, \"linecolor\": \"white\", \"showbackground\": true, \"ticks\": \"\", \"zerolinecolor\": \"white\"}, \"yaxis\": {\"backgroundcolor\": \"#E5ECF6\", \"gridcolor\": \"white\", \"gridwidth\": 2, \"linecolor\": \"white\", \"showbackground\": true, \"ticks\": \"\", \"zerolinecolor\": \"white\"}, \"zaxis\": {\"backgroundcolor\": \"#E5ECF6\", \"gridcolor\": \"white\", \"gridwidth\": 2, \"linecolor\": \"white\", \"showbackground\": true, \"ticks\": \"\", \"zerolinecolor\": \"white\"}}, \"shapedefaults\": {\"line\": {\"color\": \"#2a3f5f\"}}, \"ternary\": {\"aaxis\": {\"gridcolor\": \"white\", \"linecolor\": \"white\", \"ticks\": \"\"}, \"baxis\": {\"gridcolor\": \"white\", \"linecolor\": \"white\", \"ticks\": \"\"}, \"bgcolor\": \"#E5ECF6\", \"caxis\": {\"gridcolor\": \"white\", \"linecolor\": \"white\", \"ticks\": \"\"}}, \"title\": {\"x\": 0.05}, \"xaxis\": {\"automargin\": true, \"gridcolor\": \"white\", \"linecolor\": \"white\", \"ticks\": \"\", \"title\": {\"standoff\": 15}, \"zerolinecolor\": \"white\", \"zerolinewidth\": 2}, \"yaxis\": {\"automargin\": true, \"gridcolor\": \"white\", \"linecolor\": \"white\", \"ticks\": \"\", \"title\": {\"standoff\": 15}, \"zerolinecolor\": \"white\", \"zerolinewidth\": 2}}}, \"xaxis\": {\"anchor\": \"y\", \"domain\": [0.0, 1.0], \"title\": {\"text\": \"Positive_Words\"}}, \"yaxis\": {\"anchor\": \"x\", \"domain\": [0.0, 1.0], \"title\": {\"text\": \"Positive_Count\"}}},\n",
       "                        {\"responsive\": true}\n",
       "                    ).then(function(){\n",
       "                            \n",
       "var gd = document.getElementById('a14810f5-d483-4c26-bdbc-0e517a78a3ac');\n",
       "var x = new MutationObserver(function (mutations, observer) {{\n",
       "        var display = window.getComputedStyle(gd).display;\n",
       "        if (!display || display === 'none') {{\n",
       "            console.log([gd, 'removed!']);\n",
       "            Plotly.purge(gd);\n",
       "            observer.disconnect();\n",
       "        }}\n",
       "}});\n",
       "\n",
       "// Listen for the removal of the full notebook cells\n",
       "var notebookContainer = gd.closest('#notebook-container');\n",
       "if (notebookContainer) {{\n",
       "    x.observe(notebookContainer, {childList: true});\n",
       "}}\n",
       "\n",
       "// Listen for the clearing of the current output cell\n",
       "var outputEl = gd.closest('.output');\n",
       "if (outputEl) {{\n",
       "    x.observe(outputEl, {childList: true});\n",
       "}}\n",
       "\n",
       "                        })\n",
       "                };\n",
       "                });\n",
       "            </script>\n",
       "        </div>"
      ]
     },
     "metadata": {},
     "output_type": "display_data"
    }
   ],
   "source": [
    "#Normal histogram of positive words\n",
    "fig = px.bar(z, x=\"Positive_Words\", y=\"Positive_Count\",\n",
    "            hover_name=\"Positive_Words\",color = 'Positive_Count')\n",
    "fig.show()"
   ]
  },
  {
   "cell_type": "code",
   "execution_count": 49,
   "metadata": {},
   "outputs": [
    {
     "data": {
      "application/vnd.plotly.v1+json": {
       "config": {
        "plotlyServerURL": "https://plot.ly"
       },
       "data": [
        {
         "alignmentgroup": "True",
         "hovertemplate": "<b>%{hovertext}</b><br><br>Negative_Words=%{x}<br>Negative_Count=%{marker.color}<extra></extra>",
         "hovertext": [
          "trump",
          "politics",
          "allahsoil",
          "libtard",
          "liberal",
          "sjw",
          "retweet",
          "black",
          "miamia",
          "hate",
          "tampa",
          "blm",
          "hispanic",
          "brexit",
          "bigot",
          "sikh",
          "calgary",
          "temple",
          "wso",
          "obama"
         ],
         "legendgroup": "",
         "marker": {
          "color": [
           133,
           94,
           92,
           76,
           75,
           74,
           57,
           44,
           38,
           32,
           32,
           28,
           28,
           27,
           27,
           27,
           27,
           26,
           26,
           26
          ],
          "coloraxis": "coloraxis"
         },
         "name": "",
         "offsetgroup": "",
         "orientation": "v",
         "showlegend": false,
         "textposition": "auto",
         "type": "bar",
         "x": [
          "trump",
          "politics",
          "allahsoil",
          "libtard",
          "liberal",
          "sjw",
          "retweet",
          "black",
          "miamia",
          "hate",
          "tampa",
          "blm",
          "hispanic",
          "brexit",
          "bigot",
          "sikh",
          "calgary",
          "temple",
          "wso",
          "obama"
         ],
         "xaxis": "x",
         "y": [
          133,
          94,
          92,
          76,
          75,
          74,
          57,
          44,
          38,
          32,
          32,
          28,
          28,
          27,
          27,
          27,
          27,
          26,
          26,
          26
         ],
         "yaxis": "y"
        }
       ],
       "layout": {
        "barmode": "relative",
        "coloraxis": {
         "colorbar": {
          "title": {
           "text": "Negative_Count"
          }
         },
         "colorscale": [
          [
           0,
           "#0d0887"
          ],
          [
           0.1111111111111111,
           "#46039f"
          ],
          [
           0.2222222222222222,
           "#7201a8"
          ],
          [
           0.3333333333333333,
           "#9c179e"
          ],
          [
           0.4444444444444444,
           "#bd3786"
          ],
          [
           0.5555555555555556,
           "#d8576b"
          ],
          [
           0.6666666666666666,
           "#ed7953"
          ],
          [
           0.7777777777777778,
           "#fb9f3a"
          ],
          [
           0.8888888888888888,
           "#fdca26"
          ],
          [
           1,
           "#f0f921"
          ]
         ]
        },
        "legend": {
         "tracegroupgap": 0
        },
        "margin": {
         "t": 60
        },
        "template": {
         "data": {
          "bar": [
           {
            "error_x": {
             "color": "#2a3f5f"
            },
            "error_y": {
             "color": "#2a3f5f"
            },
            "marker": {
             "line": {
              "color": "#E5ECF6",
              "width": 0.5
             }
            },
            "type": "bar"
           }
          ],
          "barpolar": [
           {
            "marker": {
             "line": {
              "color": "#E5ECF6",
              "width": 0.5
             }
            },
            "type": "barpolar"
           }
          ],
          "carpet": [
           {
            "aaxis": {
             "endlinecolor": "#2a3f5f",
             "gridcolor": "white",
             "linecolor": "white",
             "minorgridcolor": "white",
             "startlinecolor": "#2a3f5f"
            },
            "baxis": {
             "endlinecolor": "#2a3f5f",
             "gridcolor": "white",
             "linecolor": "white",
             "minorgridcolor": "white",
             "startlinecolor": "#2a3f5f"
            },
            "type": "carpet"
           }
          ],
          "choropleth": [
           {
            "colorbar": {
             "outlinewidth": 0,
             "ticks": ""
            },
            "type": "choropleth"
           }
          ],
          "contour": [
           {
            "colorbar": {
             "outlinewidth": 0,
             "ticks": ""
            },
            "colorscale": [
             [
              0,
              "#0d0887"
             ],
             [
              0.1111111111111111,
              "#46039f"
             ],
             [
              0.2222222222222222,
              "#7201a8"
             ],
             [
              0.3333333333333333,
              "#9c179e"
             ],
             [
              0.4444444444444444,
              "#bd3786"
             ],
             [
              0.5555555555555556,
              "#d8576b"
             ],
             [
              0.6666666666666666,
              "#ed7953"
             ],
             [
              0.7777777777777778,
              "#fb9f3a"
             ],
             [
              0.8888888888888888,
              "#fdca26"
             ],
             [
              1,
              "#f0f921"
             ]
            ],
            "type": "contour"
           }
          ],
          "contourcarpet": [
           {
            "colorbar": {
             "outlinewidth": 0,
             "ticks": ""
            },
            "type": "contourcarpet"
           }
          ],
          "heatmap": [
           {
            "colorbar": {
             "outlinewidth": 0,
             "ticks": ""
            },
            "colorscale": [
             [
              0,
              "#0d0887"
             ],
             [
              0.1111111111111111,
              "#46039f"
             ],
             [
              0.2222222222222222,
              "#7201a8"
             ],
             [
              0.3333333333333333,
              "#9c179e"
             ],
             [
              0.4444444444444444,
              "#bd3786"
             ],
             [
              0.5555555555555556,
              "#d8576b"
             ],
             [
              0.6666666666666666,
              "#ed7953"
             ],
             [
              0.7777777777777778,
              "#fb9f3a"
             ],
             [
              0.8888888888888888,
              "#fdca26"
             ],
             [
              1,
              "#f0f921"
             ]
            ],
            "type": "heatmap"
           }
          ],
          "heatmapgl": [
           {
            "colorbar": {
             "outlinewidth": 0,
             "ticks": ""
            },
            "colorscale": [
             [
              0,
              "#0d0887"
             ],
             [
              0.1111111111111111,
              "#46039f"
             ],
             [
              0.2222222222222222,
              "#7201a8"
             ],
             [
              0.3333333333333333,
              "#9c179e"
             ],
             [
              0.4444444444444444,
              "#bd3786"
             ],
             [
              0.5555555555555556,
              "#d8576b"
             ],
             [
              0.6666666666666666,
              "#ed7953"
             ],
             [
              0.7777777777777778,
              "#fb9f3a"
             ],
             [
              0.8888888888888888,
              "#fdca26"
             ],
             [
              1,
              "#f0f921"
             ]
            ],
            "type": "heatmapgl"
           }
          ],
          "histogram": [
           {
            "marker": {
             "colorbar": {
              "outlinewidth": 0,
              "ticks": ""
             }
            },
            "type": "histogram"
           }
          ],
          "histogram2d": [
           {
            "colorbar": {
             "outlinewidth": 0,
             "ticks": ""
            },
            "colorscale": [
             [
              0,
              "#0d0887"
             ],
             [
              0.1111111111111111,
              "#46039f"
             ],
             [
              0.2222222222222222,
              "#7201a8"
             ],
             [
              0.3333333333333333,
              "#9c179e"
             ],
             [
              0.4444444444444444,
              "#bd3786"
             ],
             [
              0.5555555555555556,
              "#d8576b"
             ],
             [
              0.6666666666666666,
              "#ed7953"
             ],
             [
              0.7777777777777778,
              "#fb9f3a"
             ],
             [
              0.8888888888888888,
              "#fdca26"
             ],
             [
              1,
              "#f0f921"
             ]
            ],
            "type": "histogram2d"
           }
          ],
          "histogram2dcontour": [
           {
            "colorbar": {
             "outlinewidth": 0,
             "ticks": ""
            },
            "colorscale": [
             [
              0,
              "#0d0887"
             ],
             [
              0.1111111111111111,
              "#46039f"
             ],
             [
              0.2222222222222222,
              "#7201a8"
             ],
             [
              0.3333333333333333,
              "#9c179e"
             ],
             [
              0.4444444444444444,
              "#bd3786"
             ],
             [
              0.5555555555555556,
              "#d8576b"
             ],
             [
              0.6666666666666666,
              "#ed7953"
             ],
             [
              0.7777777777777778,
              "#fb9f3a"
             ],
             [
              0.8888888888888888,
              "#fdca26"
             ],
             [
              1,
              "#f0f921"
             ]
            ],
            "type": "histogram2dcontour"
           }
          ],
          "mesh3d": [
           {
            "colorbar": {
             "outlinewidth": 0,
             "ticks": ""
            },
            "type": "mesh3d"
           }
          ],
          "parcoords": [
           {
            "line": {
             "colorbar": {
              "outlinewidth": 0,
              "ticks": ""
             }
            },
            "type": "parcoords"
           }
          ],
          "pie": [
           {
            "automargin": true,
            "type": "pie"
           }
          ],
          "scatter": [
           {
            "marker": {
             "colorbar": {
              "outlinewidth": 0,
              "ticks": ""
             }
            },
            "type": "scatter"
           }
          ],
          "scatter3d": [
           {
            "line": {
             "colorbar": {
              "outlinewidth": 0,
              "ticks": ""
             }
            },
            "marker": {
             "colorbar": {
              "outlinewidth": 0,
              "ticks": ""
             }
            },
            "type": "scatter3d"
           }
          ],
          "scattercarpet": [
           {
            "marker": {
             "colorbar": {
              "outlinewidth": 0,
              "ticks": ""
             }
            },
            "type": "scattercarpet"
           }
          ],
          "scattergeo": [
           {
            "marker": {
             "colorbar": {
              "outlinewidth": 0,
              "ticks": ""
             }
            },
            "type": "scattergeo"
           }
          ],
          "scattergl": [
           {
            "marker": {
             "colorbar": {
              "outlinewidth": 0,
              "ticks": ""
             }
            },
            "type": "scattergl"
           }
          ],
          "scattermapbox": [
           {
            "marker": {
             "colorbar": {
              "outlinewidth": 0,
              "ticks": ""
             }
            },
            "type": "scattermapbox"
           }
          ],
          "scatterpolar": [
           {
            "marker": {
             "colorbar": {
              "outlinewidth": 0,
              "ticks": ""
             }
            },
            "type": "scatterpolar"
           }
          ],
          "scatterpolargl": [
           {
            "marker": {
             "colorbar": {
              "outlinewidth": 0,
              "ticks": ""
             }
            },
            "type": "scatterpolargl"
           }
          ],
          "scatterternary": [
           {
            "marker": {
             "colorbar": {
              "outlinewidth": 0,
              "ticks": ""
             }
            },
            "type": "scatterternary"
           }
          ],
          "surface": [
           {
            "colorbar": {
             "outlinewidth": 0,
             "ticks": ""
            },
            "colorscale": [
             [
              0,
              "#0d0887"
             ],
             [
              0.1111111111111111,
              "#46039f"
             ],
             [
              0.2222222222222222,
              "#7201a8"
             ],
             [
              0.3333333333333333,
              "#9c179e"
             ],
             [
              0.4444444444444444,
              "#bd3786"
             ],
             [
              0.5555555555555556,
              "#d8576b"
             ],
             [
              0.6666666666666666,
              "#ed7953"
             ],
             [
              0.7777777777777778,
              "#fb9f3a"
             ],
             [
              0.8888888888888888,
              "#fdca26"
             ],
             [
              1,
              "#f0f921"
             ]
            ],
            "type": "surface"
           }
          ],
          "table": [
           {
            "cells": {
             "fill": {
              "color": "#EBF0F8"
             },
             "line": {
              "color": "white"
             }
            },
            "header": {
             "fill": {
              "color": "#C8D4E3"
             },
             "line": {
              "color": "white"
             }
            },
            "type": "table"
           }
          ]
         },
         "layout": {
          "annotationdefaults": {
           "arrowcolor": "#2a3f5f",
           "arrowhead": 0,
           "arrowwidth": 1
          },
          "coloraxis": {
           "colorbar": {
            "outlinewidth": 0,
            "ticks": ""
           }
          },
          "colorscale": {
           "diverging": [
            [
             0,
             "#8e0152"
            ],
            [
             0.1,
             "#c51b7d"
            ],
            [
             0.2,
             "#de77ae"
            ],
            [
             0.3,
             "#f1b6da"
            ],
            [
             0.4,
             "#fde0ef"
            ],
            [
             0.5,
             "#f7f7f7"
            ],
            [
             0.6,
             "#e6f5d0"
            ],
            [
             0.7,
             "#b8e186"
            ],
            [
             0.8,
             "#7fbc41"
            ],
            [
             0.9,
             "#4d9221"
            ],
            [
             1,
             "#276419"
            ]
           ],
           "sequential": [
            [
             0,
             "#0d0887"
            ],
            [
             0.1111111111111111,
             "#46039f"
            ],
            [
             0.2222222222222222,
             "#7201a8"
            ],
            [
             0.3333333333333333,
             "#9c179e"
            ],
            [
             0.4444444444444444,
             "#bd3786"
            ],
            [
             0.5555555555555556,
             "#d8576b"
            ],
            [
             0.6666666666666666,
             "#ed7953"
            ],
            [
             0.7777777777777778,
             "#fb9f3a"
            ],
            [
             0.8888888888888888,
             "#fdca26"
            ],
            [
             1,
             "#f0f921"
            ]
           ],
           "sequentialminus": [
            [
             0,
             "#0d0887"
            ],
            [
             0.1111111111111111,
             "#46039f"
            ],
            [
             0.2222222222222222,
             "#7201a8"
            ],
            [
             0.3333333333333333,
             "#9c179e"
            ],
            [
             0.4444444444444444,
             "#bd3786"
            ],
            [
             0.5555555555555556,
             "#d8576b"
            ],
            [
             0.6666666666666666,
             "#ed7953"
            ],
            [
             0.7777777777777778,
             "#fb9f3a"
            ],
            [
             0.8888888888888888,
             "#fdca26"
            ],
            [
             1,
             "#f0f921"
            ]
           ]
          },
          "colorway": [
           "#636efa",
           "#EF553B",
           "#00cc96",
           "#ab63fa",
           "#FFA15A",
           "#19d3f3",
           "#FF6692",
           "#B6E880",
           "#FF97FF",
           "#FECB52"
          ],
          "font": {
           "color": "#2a3f5f"
          },
          "geo": {
           "bgcolor": "white",
           "lakecolor": "white",
           "landcolor": "#E5ECF6",
           "showlakes": true,
           "showland": true,
           "subunitcolor": "white"
          },
          "hoverlabel": {
           "align": "left"
          },
          "hovermode": "closest",
          "mapbox": {
           "style": "light"
          },
          "paper_bgcolor": "white",
          "plot_bgcolor": "#E5ECF6",
          "polar": {
           "angularaxis": {
            "gridcolor": "white",
            "linecolor": "white",
            "ticks": ""
           },
           "bgcolor": "#E5ECF6",
           "radialaxis": {
            "gridcolor": "white",
            "linecolor": "white",
            "ticks": ""
           }
          },
          "scene": {
           "xaxis": {
            "backgroundcolor": "#E5ECF6",
            "gridcolor": "white",
            "gridwidth": 2,
            "linecolor": "white",
            "showbackground": true,
            "ticks": "",
            "zerolinecolor": "white"
           },
           "yaxis": {
            "backgroundcolor": "#E5ECF6",
            "gridcolor": "white",
            "gridwidth": 2,
            "linecolor": "white",
            "showbackground": true,
            "ticks": "",
            "zerolinecolor": "white"
           },
           "zaxis": {
            "backgroundcolor": "#E5ECF6",
            "gridcolor": "white",
            "gridwidth": 2,
            "linecolor": "white",
            "showbackground": true,
            "ticks": "",
            "zerolinecolor": "white"
           }
          },
          "shapedefaults": {
           "line": {
            "color": "#2a3f5f"
           }
          },
          "ternary": {
           "aaxis": {
            "gridcolor": "white",
            "linecolor": "white",
            "ticks": ""
           },
           "baxis": {
            "gridcolor": "white",
            "linecolor": "white",
            "ticks": ""
           },
           "bgcolor": "#E5ECF6",
           "caxis": {
            "gridcolor": "white",
            "linecolor": "white",
            "ticks": ""
           }
          },
          "title": {
           "x": 0.05
          },
          "xaxis": {
           "automargin": true,
           "gridcolor": "white",
           "linecolor": "white",
           "ticks": "",
           "title": {
            "standoff": 15
           },
           "zerolinecolor": "white",
           "zerolinewidth": 2
          },
          "yaxis": {
           "automargin": true,
           "gridcolor": "white",
           "linecolor": "white",
           "ticks": "",
           "title": {
            "standoff": 15
           },
           "zerolinecolor": "white",
           "zerolinewidth": 2
          }
         }
        },
        "xaxis": {
         "anchor": "y",
         "domain": [
          0,
          1
         ],
         "title": {
          "text": "Negative_Words"
         }
        },
        "yaxis": {
         "anchor": "x",
         "domain": [
          0,
          1
         ],
         "title": {
          "text": "Negative_Count"
         }
        }
       }
      },
      "text/html": [
       "<div>\n",
       "        \n",
       "        \n",
       "            <div id=\"cf307311-f707-42e6-a997-637b8fb82fec\" class=\"plotly-graph-div\" style=\"height:525px; width:100%;\"></div>\n",
       "            <script type=\"text/javascript\">\n",
       "                require([\"plotly\"], function(Plotly) {\n",
       "                    window.PLOTLYENV=window.PLOTLYENV || {};\n",
       "                    \n",
       "                if (document.getElementById(\"cf307311-f707-42e6-a997-637b8fb82fec\")) {\n",
       "                    Plotly.newPlot(\n",
       "                        'cf307311-f707-42e6-a997-637b8fb82fec',\n",
       "                        [{\"alignmentgroup\": \"True\", \"hovertemplate\": \"<b>%{hovertext}</b><br><br>Negative_Words=%{x}<br>Negative_Count=%{marker.color}<extra></extra>\", \"hovertext\": [\"trump\", \"politics\", \"allahsoil\", \"libtard\", \"liberal\", \"sjw\", \"retweet\", \"black\", \"miamia\", \"hate\", \"tampa\", \"blm\", \"hispanic\", \"brexit\", \"bigot\", \"sikh\", \"calgary\", \"temple\", \"wso\", \"obama\"], \"legendgroup\": \"\", \"marker\": {\"color\": [133, 94, 92, 76, 75, 74, 57, 44, 38, 32, 32, 28, 28, 27, 27, 27, 27, 26, 26, 26], \"coloraxis\": \"coloraxis\"}, \"name\": \"\", \"offsetgroup\": \"\", \"orientation\": \"v\", \"showlegend\": false, \"textposition\": \"auto\", \"type\": \"bar\", \"x\": [\"trump\", \"politics\", \"allahsoil\", \"libtard\", \"liberal\", \"sjw\", \"retweet\", \"black\", \"miamia\", \"hate\", \"tampa\", \"blm\", \"hispanic\", \"brexit\", \"bigot\", \"sikh\", \"calgary\", \"temple\", \"wso\", \"obama\"], \"xaxis\": \"x\", \"y\": [133, 94, 92, 76, 75, 74, 57, 44, 38, 32, 32, 28, 28, 27, 27, 27, 27, 26, 26, 26], \"yaxis\": \"y\"}],\n",
       "                        {\"barmode\": \"relative\", \"coloraxis\": {\"colorbar\": {\"title\": {\"text\": \"Negative_Count\"}}, \"colorscale\": [[0.0, \"#0d0887\"], [0.1111111111111111, \"#46039f\"], [0.2222222222222222, \"#7201a8\"], [0.3333333333333333, \"#9c179e\"], [0.4444444444444444, \"#bd3786\"], [0.5555555555555556, \"#d8576b\"], [0.6666666666666666, \"#ed7953\"], [0.7777777777777778, \"#fb9f3a\"], [0.8888888888888888, \"#fdca26\"], [1.0, \"#f0f921\"]]}, \"legend\": {\"tracegroupgap\": 0}, \"margin\": {\"t\": 60}, \"template\": {\"data\": {\"bar\": [{\"error_x\": {\"color\": \"#2a3f5f\"}, \"error_y\": {\"color\": \"#2a3f5f\"}, \"marker\": {\"line\": {\"color\": \"#E5ECF6\", \"width\": 0.5}}, \"type\": \"bar\"}], \"barpolar\": [{\"marker\": {\"line\": {\"color\": \"#E5ECF6\", \"width\": 0.5}}, \"type\": \"barpolar\"}], \"carpet\": [{\"aaxis\": {\"endlinecolor\": \"#2a3f5f\", \"gridcolor\": \"white\", \"linecolor\": \"white\", \"minorgridcolor\": \"white\", \"startlinecolor\": \"#2a3f5f\"}, \"baxis\": {\"endlinecolor\": \"#2a3f5f\", \"gridcolor\": \"white\", \"linecolor\": \"white\", \"minorgridcolor\": \"white\", \"startlinecolor\": \"#2a3f5f\"}, \"type\": \"carpet\"}], \"choropleth\": [{\"colorbar\": {\"outlinewidth\": 0, \"ticks\": \"\"}, \"type\": \"choropleth\"}], \"contour\": [{\"colorbar\": {\"outlinewidth\": 0, \"ticks\": \"\"}, \"colorscale\": [[0.0, \"#0d0887\"], [0.1111111111111111, \"#46039f\"], [0.2222222222222222, \"#7201a8\"], [0.3333333333333333, \"#9c179e\"], [0.4444444444444444, \"#bd3786\"], [0.5555555555555556, \"#d8576b\"], [0.6666666666666666, \"#ed7953\"], [0.7777777777777778, \"#fb9f3a\"], [0.8888888888888888, \"#fdca26\"], [1.0, \"#f0f921\"]], \"type\": \"contour\"}], \"contourcarpet\": [{\"colorbar\": {\"outlinewidth\": 0, \"ticks\": \"\"}, \"type\": \"contourcarpet\"}], \"heatmap\": [{\"colorbar\": {\"outlinewidth\": 0, \"ticks\": \"\"}, \"colorscale\": [[0.0, \"#0d0887\"], [0.1111111111111111, \"#46039f\"], [0.2222222222222222, \"#7201a8\"], [0.3333333333333333, \"#9c179e\"], [0.4444444444444444, \"#bd3786\"], [0.5555555555555556, \"#d8576b\"], [0.6666666666666666, \"#ed7953\"], [0.7777777777777778, \"#fb9f3a\"], [0.8888888888888888, \"#fdca26\"], [1.0, \"#f0f921\"]], \"type\": \"heatmap\"}], \"heatmapgl\": [{\"colorbar\": {\"outlinewidth\": 0, \"ticks\": \"\"}, \"colorscale\": [[0.0, \"#0d0887\"], [0.1111111111111111, \"#46039f\"], [0.2222222222222222, \"#7201a8\"], [0.3333333333333333, \"#9c179e\"], [0.4444444444444444, \"#bd3786\"], [0.5555555555555556, \"#d8576b\"], [0.6666666666666666, \"#ed7953\"], [0.7777777777777778, \"#fb9f3a\"], [0.8888888888888888, \"#fdca26\"], [1.0, \"#f0f921\"]], \"type\": \"heatmapgl\"}], \"histogram\": [{\"marker\": {\"colorbar\": {\"outlinewidth\": 0, \"ticks\": \"\"}}, \"type\": \"histogram\"}], \"histogram2d\": [{\"colorbar\": {\"outlinewidth\": 0, \"ticks\": \"\"}, \"colorscale\": [[0.0, \"#0d0887\"], [0.1111111111111111, \"#46039f\"], [0.2222222222222222, \"#7201a8\"], [0.3333333333333333, \"#9c179e\"], [0.4444444444444444, \"#bd3786\"], [0.5555555555555556, \"#d8576b\"], [0.6666666666666666, \"#ed7953\"], [0.7777777777777778, \"#fb9f3a\"], [0.8888888888888888, \"#fdca26\"], [1.0, \"#f0f921\"]], \"type\": \"histogram2d\"}], \"histogram2dcontour\": [{\"colorbar\": {\"outlinewidth\": 0, \"ticks\": \"\"}, \"colorscale\": [[0.0, \"#0d0887\"], [0.1111111111111111, \"#46039f\"], [0.2222222222222222, \"#7201a8\"], [0.3333333333333333, \"#9c179e\"], [0.4444444444444444, \"#bd3786\"], [0.5555555555555556, \"#d8576b\"], [0.6666666666666666, \"#ed7953\"], [0.7777777777777778, \"#fb9f3a\"], [0.8888888888888888, \"#fdca26\"], [1.0, \"#f0f921\"]], \"type\": \"histogram2dcontour\"}], \"mesh3d\": [{\"colorbar\": {\"outlinewidth\": 0, \"ticks\": \"\"}, \"type\": \"mesh3d\"}], \"parcoords\": [{\"line\": {\"colorbar\": {\"outlinewidth\": 0, \"ticks\": \"\"}}, \"type\": \"parcoords\"}], \"pie\": [{\"automargin\": true, \"type\": \"pie\"}], \"scatter\": [{\"marker\": {\"colorbar\": {\"outlinewidth\": 0, \"ticks\": \"\"}}, \"type\": \"scatter\"}], \"scatter3d\": [{\"line\": {\"colorbar\": {\"outlinewidth\": 0, \"ticks\": \"\"}}, \"marker\": {\"colorbar\": {\"outlinewidth\": 0, \"ticks\": \"\"}}, \"type\": \"scatter3d\"}], \"scattercarpet\": [{\"marker\": {\"colorbar\": {\"outlinewidth\": 0, \"ticks\": \"\"}}, \"type\": \"scattercarpet\"}], \"scattergeo\": [{\"marker\": {\"colorbar\": {\"outlinewidth\": 0, \"ticks\": \"\"}}, \"type\": \"scattergeo\"}], \"scattergl\": [{\"marker\": {\"colorbar\": {\"outlinewidth\": 0, \"ticks\": \"\"}}, \"type\": \"scattergl\"}], \"scattermapbox\": [{\"marker\": {\"colorbar\": {\"outlinewidth\": 0, \"ticks\": \"\"}}, \"type\": \"scattermapbox\"}], \"scatterpolar\": [{\"marker\": {\"colorbar\": {\"outlinewidth\": 0, \"ticks\": \"\"}}, \"type\": \"scatterpolar\"}], \"scatterpolargl\": [{\"marker\": {\"colorbar\": {\"outlinewidth\": 0, \"ticks\": \"\"}}, \"type\": \"scatterpolargl\"}], \"scatterternary\": [{\"marker\": {\"colorbar\": {\"outlinewidth\": 0, \"ticks\": \"\"}}, \"type\": \"scatterternary\"}], \"surface\": [{\"colorbar\": {\"outlinewidth\": 0, \"ticks\": \"\"}, \"colorscale\": [[0.0, \"#0d0887\"], [0.1111111111111111, \"#46039f\"], [0.2222222222222222, \"#7201a8\"], [0.3333333333333333, \"#9c179e\"], [0.4444444444444444, \"#bd3786\"], [0.5555555555555556, \"#d8576b\"], [0.6666666666666666, \"#ed7953\"], [0.7777777777777778, \"#fb9f3a\"], [0.8888888888888888, \"#fdca26\"], [1.0, \"#f0f921\"]], \"type\": \"surface\"}], \"table\": [{\"cells\": {\"fill\": {\"color\": \"#EBF0F8\"}, \"line\": {\"color\": \"white\"}}, \"header\": {\"fill\": {\"color\": \"#C8D4E3\"}, \"line\": {\"color\": \"white\"}}, \"type\": \"table\"}]}, \"layout\": {\"annotationdefaults\": {\"arrowcolor\": \"#2a3f5f\", \"arrowhead\": 0, \"arrowwidth\": 1}, \"coloraxis\": {\"colorbar\": {\"outlinewidth\": 0, \"ticks\": \"\"}}, \"colorscale\": {\"diverging\": [[0, \"#8e0152\"], [0.1, \"#c51b7d\"], [0.2, \"#de77ae\"], [0.3, \"#f1b6da\"], [0.4, \"#fde0ef\"], [0.5, \"#f7f7f7\"], [0.6, \"#e6f5d0\"], [0.7, \"#b8e186\"], [0.8, \"#7fbc41\"], [0.9, \"#4d9221\"], [1, \"#276419\"]], \"sequential\": [[0.0, \"#0d0887\"], [0.1111111111111111, \"#46039f\"], [0.2222222222222222, \"#7201a8\"], [0.3333333333333333, \"#9c179e\"], [0.4444444444444444, \"#bd3786\"], [0.5555555555555556, \"#d8576b\"], [0.6666666666666666, \"#ed7953\"], [0.7777777777777778, \"#fb9f3a\"], [0.8888888888888888, \"#fdca26\"], [1.0, \"#f0f921\"]], \"sequentialminus\": [[0.0, \"#0d0887\"], [0.1111111111111111, \"#46039f\"], [0.2222222222222222, \"#7201a8\"], [0.3333333333333333, \"#9c179e\"], [0.4444444444444444, \"#bd3786\"], [0.5555555555555556, \"#d8576b\"], [0.6666666666666666, \"#ed7953\"], [0.7777777777777778, \"#fb9f3a\"], [0.8888888888888888, \"#fdca26\"], [1.0, \"#f0f921\"]]}, \"colorway\": [\"#636efa\", \"#EF553B\", \"#00cc96\", \"#ab63fa\", \"#FFA15A\", \"#19d3f3\", \"#FF6692\", \"#B6E880\", \"#FF97FF\", \"#FECB52\"], \"font\": {\"color\": \"#2a3f5f\"}, \"geo\": {\"bgcolor\": \"white\", \"lakecolor\": \"white\", \"landcolor\": \"#E5ECF6\", \"showlakes\": true, \"showland\": true, \"subunitcolor\": \"white\"}, \"hoverlabel\": {\"align\": \"left\"}, \"hovermode\": \"closest\", \"mapbox\": {\"style\": \"light\"}, \"paper_bgcolor\": \"white\", \"plot_bgcolor\": \"#E5ECF6\", \"polar\": {\"angularaxis\": {\"gridcolor\": \"white\", \"linecolor\": \"white\", \"ticks\": \"\"}, \"bgcolor\": \"#E5ECF6\", \"radialaxis\": {\"gridcolor\": \"white\", \"linecolor\": \"white\", \"ticks\": \"\"}}, \"scene\": {\"xaxis\": {\"backgroundcolor\": \"#E5ECF6\", \"gridcolor\": \"white\", \"gridwidth\": 2, \"linecolor\": \"white\", \"showbackground\": true, \"ticks\": \"\", \"zerolinecolor\": \"white\"}, \"yaxis\": {\"backgroundcolor\": \"#E5ECF6\", \"gridcolor\": \"white\", \"gridwidth\": 2, \"linecolor\": \"white\", \"showbackground\": true, \"ticks\": \"\", \"zerolinecolor\": \"white\"}, \"zaxis\": {\"backgroundcolor\": \"#E5ECF6\", \"gridcolor\": \"white\", \"gridwidth\": 2, \"linecolor\": \"white\", \"showbackground\": true, \"ticks\": \"\", \"zerolinecolor\": \"white\"}}, \"shapedefaults\": {\"line\": {\"color\": \"#2a3f5f\"}}, \"ternary\": {\"aaxis\": {\"gridcolor\": \"white\", \"linecolor\": \"white\", \"ticks\": \"\"}, \"baxis\": {\"gridcolor\": \"white\", \"linecolor\": \"white\", \"ticks\": \"\"}, \"bgcolor\": \"#E5ECF6\", \"caxis\": {\"gridcolor\": \"white\", \"linecolor\": \"white\", \"ticks\": \"\"}}, \"title\": {\"x\": 0.05}, \"xaxis\": {\"automargin\": true, \"gridcolor\": \"white\", \"linecolor\": \"white\", \"ticks\": \"\", \"title\": {\"standoff\": 15}, \"zerolinecolor\": \"white\", \"zerolinewidth\": 2}, \"yaxis\": {\"automargin\": true, \"gridcolor\": \"white\", \"linecolor\": \"white\", \"ticks\": \"\", \"title\": {\"standoff\": 15}, \"zerolinecolor\": \"white\", \"zerolinewidth\": 2}}}, \"xaxis\": {\"anchor\": \"y\", \"domain\": [0.0, 1.0], \"title\": {\"text\": \"Negative_Words\"}}, \"yaxis\": {\"anchor\": \"x\", \"domain\": [0.0, 1.0], \"title\": {\"text\": \"Negative_Count\"}}},\n",
       "                        {\"responsive\": true}\n",
       "                    ).then(function(){\n",
       "                            \n",
       "var gd = document.getElementById('cf307311-f707-42e6-a997-637b8fb82fec');\n",
       "var x = new MutationObserver(function (mutations, observer) {{\n",
       "        var display = window.getComputedStyle(gd).display;\n",
       "        if (!display || display === 'none') {{\n",
       "            console.log([gd, 'removed!']);\n",
       "            Plotly.purge(gd);\n",
       "            observer.disconnect();\n",
       "        }}\n",
       "}});\n",
       "\n",
       "// Listen for the removal of the full notebook cells\n",
       "var notebookContainer = gd.closest('#notebook-container');\n",
       "if (notebookContainer) {{\n",
       "    x.observe(notebookContainer, {childList: true});\n",
       "}}\n",
       "\n",
       "// Listen for the clearing of the current output cell\n",
       "var outputEl = gd.closest('.output');\n",
       "if (outputEl) {{\n",
       "    x.observe(outputEl, {childList: true});\n",
       "}}\n",
       "\n",
       "                        })\n",
       "                };\n",
       "                });\n",
       "            </script>\n",
       "        </div>"
      ]
     },
     "metadata": {},
     "output_type": "display_data"
    }
   ],
   "source": [
    "#Normal histogram of negative words\n",
    "fig = px.bar(z, x=\"Negative_Words\", y=\"Negative_Count\",\n",
    "            hover_name=\"Negative_Words\",color= 'Negative_Count')\n",
    "fig.show()"
   ]
  },
  {
   "cell_type": "code",
   "execution_count": null,
   "metadata": {},
   "outputs": [],
   "source": [
    "data_frame.head()"
   ]
  },
  {
   "cell_type": "code",
   "execution_count": 50,
   "metadata": {},
   "outputs": [],
   "source": [
    "#remove hashtags don't do this yet until you run hastag analyzer above\n",
    " # remove hashtags only\n",
    "data_frame['clean_tweet2'] = data_frame['clean_tweet'].apply(lambda x : ' '.join([word.replace('#', '') for word in x.split()]))\n",
    "\n",
    "#removing links\n",
    "data_frame['clean_tweet2'] = data_frame['clean_tweet2'].apply(lambda x : ' '.join([re.sub(\"(@[A-Za-z0-9]+)|([^0-9A-Za-z \\t])|(\\w+:\\/\\/\\S+)\",\" \",word) for word in x.split()]))\n",
    "\n",
    "#reduce excess letters\n",
    "def reduce_lengthening(text):\n",
    "    pattern = re.compile(r\"(.)\\1{2,}\")\n",
    "    return pattern.sub(r\"\\1\\1\", text)\n",
    "\n",
    "#print reduce_lengthening( \"finallllllly\" )\n",
    "data_frame['clean_tweet2'] = data_frame['clean_tweet2'].apply(lambda x : ' '.join([reduce_lengthening(word) for word in x.split()]))\n",
    "\n",
    "#removing single letters except single digits\n",
    "#re.sub(r'(?:^| )\\w(?:$| )', ' ', text).strip() #removes digits too\n",
    "data_frame['clean_tweet2'] = data_frame['clean_tweet2'].apply(lambda x : ' '.join( [w for w in x.split() if (len(w)>1 or w.isdigit())] ))"
   ]
  },
  {
   "cell_type": "code",
   "execution_count": 51,
   "metadata": {
    "scrolled": true
   },
   "outputs": [
    {
     "data": {
      "application/vnd.jupyter.widget-view+json": {
       "model_id": "7982699423ae4e1ea6b257fd374288e6",
       "version_major": 2,
       "version_minor": 0
      },
      "text/plain": [
       "HBox(children=(HTML(value=''), FloatProgress(value=1.0, bar_style='info', layout=Layout(width='20px'), max=1.0…"
      ]
     },
     "metadata": {},
     "output_type": "display_data"
    },
    {
     "name": "stdout",
     "output_type": "stream",
     "text": [
      "\n"
     ]
    },
    {
     "data": {
      "application/vnd.jupyter.widget-view+json": {
       "model_id": "2bef16bd17ac42a59c2f83047371c386",
       "version_major": 2,
       "version_minor": 0
      },
      "text/plain": [
       "HBox(children=(HTML(value=''), FloatProgress(value=0.0, max=31962.0), HTML(value='')))"
      ]
     },
     "metadata": {},
     "output_type": "display_data"
    },
    {
     "name": "stdout",
     "output_type": "stream",
     "text": [
      "\n"
     ]
    }
   ],
   "source": [
    "#text word correcting\n",
    "\n",
    "import pkg_resources\n",
    "from symspellpy import SymSpell, Verbosity\n",
    "from tqdm import tqdm, tqdm_notebook\n",
    "tqdm_notebook().pandas()\n",
    "\n",
    "sym_spell = SymSpell(max_dictionary_edit_distance=2, prefix_length=7)\n",
    "dictionary_path = pkg_resources.resource_filename(\n",
    "    \"symspellpy\", \"frequency_dictionary_en_82_765.txt\")\n",
    "bigram_path = pkg_resources.resource_filename(\n",
    "    \"symspellpy\", \"frequency_bigramdictionary_en_243_342.txt\")\n",
    "# term_index is the column of the term and count_index is the\n",
    "# column of the term frequency\n",
    "sym_spell.load_dictionary(dictionary_path, term_index=0, count_index=1)\n",
    "sym_spell.load_bigram_dictionary(bigram_path, term_index=0, count_index=2)\n",
    "\n",
    "# lookup suggestions for multi-word input strings (supports compound\n",
    "# splitting & merging)\n",
    "input_term = (\"whereis th fuckiing cunt shit elove hehad dated forImuch of thepast who \"\n",
    "              \"couldnt read in sixtgrade and ins pired him\")\n",
    "# max edit distance per lookup (per single word, not per whole input string)\n",
    "suggestions = sym_spell.lookup_compound(input_term, max_edit_distance=2)\n",
    "# display suggestion term, edit distance, and term frequency\n",
    "\n",
    "#for suggestion in suggestions:\n",
    "#    print(suggestion.term)\n",
    "\n",
    "#print(suggestions[0].term)\n",
    "    \n",
    "#test = data_frame[0:7]\n",
    "#test[\"clean_tweet\"][0] = input_term\n",
    "#test['corrected_tweet'] = test['clean_tweet'].progress_apply(lambda x : ''.join([word.term for word in sym_spell.lookup_compound(x, max_edit_distance=2)]))\n",
    "#test\n",
    "\n",
    "data_frame['corrected_tweet'] = data_frame['clean_tweet2'].progress_apply(lambda x : ''.join([word.term for word in sym_spell.lookup_compound(x, max_edit_distance=2)]))"
   ]
  },
  {
   "cell_type": "code",
   "execution_count": 52,
   "metadata": {},
   "outputs": [],
   "source": [
    "#pip install wordcloud\n",
    "import wordcloud"
   ]
  },
  {
   "cell_type": "code",
   "execution_count": 53,
   "metadata": {},
   "outputs": [
    {
     "name": "stdout",
     "output_type": "stream",
     "text": [
      "Normal words\n"
     ]
    },
    {
     "data": {
      "text/plain": [
       "(-0.5, 799.5, 499.5, -0.5)"
      ]
     },
     "execution_count": 53,
     "metadata": {},
     "output_type": "execute_result"
    },
    {
     "data": {
      "image/png": "[encoded data removed]",
      "text/plain": [
       "<Figure size 864x576 with 1 Axes>"
      ]
     },
     "metadata": {
      "needs_background": "light"
     },
     "output_type": "display_data"
    }
   ],
   "source": [
    "normal_words = ' '.join([word for word in data_frame['corrected_tweet'][data_frame['label'] == 0]])\n",
    "wordcloud = WordCloud(width = 800, height = 500, max_font_size = 110,max_words = 100).generate(normal_words)\n",
    "print('Normal words')\n",
    "plt.figure(figsize= (12,8))\n",
    "plt.imshow(wordcloud, interpolation = 'bilinear',cmap='viridis')\n",
    "plt.axis('off')"
   ]
  },
  {
   "cell_type": "code",
   "execution_count": 54,
   "metadata": {},
   "outputs": [
    {
     "name": "stdout",
     "output_type": "stream",
     "text": [
      "Normal words\n"
     ]
    },
    {
     "data": {
      "text/plain": [
       "(-0.5, 799.5, 499.5, -0.5)"
      ]
     },
     "execution_count": 54,
     "metadata": {},
     "output_type": "execute_result"
    },
    {
     "data": {
      "image/png": "[encoded data removed]",
      "text/plain": [
       "<Figure size 864x576 with 1 Axes>"
      ]
     },
     "metadata": {
      "needs_background": "light"
     },
     "output_type": "display_data"
    }
   ],
   "source": [
    "normal_words = ' '.join([word for word in data_frame['corrected_tweet'][data_frame['label'] == 1]])\n",
    "wordcloud = WordCloud(width = 800, height = 500, max_font_size = 110,max_words = 100).generate(normal_words)\n",
    "print('Normal words')\n",
    "plt.figure(figsize= (12,8))\n",
    "plt.imshow(wordcloud, interpolation = 'bilinear')\n",
    "plt.axis('off')"
   ]
  },
  {
   "cell_type": "code",
   "execution_count": 55,
   "metadata": {},
   "outputs": [],
   "source": [
    "#Removing stopwords\n",
    "data_frame['clean_tweet'] = data_frame['clean_tweet'].apply(lambda x : ' '.join([word for word in x.split() if not word in set(stopwords.words('english'))]))\n",
    "data_frame['corrected_tweet'] = data_frame['corrected_tweet'].apply(lambda x : ' '.join([word for word in x.split() if not word in set(stopwords.words('english'))]))"
   ]
  },
  {
   "cell_type": "code",
   "execution_count": 56,
   "metadata": {},
   "outputs": [],
   "source": [
    "#Lemmitization\n",
    "lemmatizer = WordNetLemmatizer()\n",
    "data_frame['clean_tweet'] = data_frame['clean_tweet'].apply(lambda x : ' '.join([lemmatizer.lemmatize(word) for word in x.split()]))\n",
    "data_frame['corrected_tweet'] = data_frame['corrected_tweet'].apply(lambda x : ' '.join([lemmatizer.lemmatize(word) for word in x.split()]))"
   ]
  },
  {
   "cell_type": "code",
   "execution_count": 57,
   "metadata": {},
   "outputs": [],
   "source": [
    "#Stemming\n",
    "ps = PorterStemmer()\n",
    "adwait = data_frame\n",
    "#adwait.head()\n",
    "data_frame['clean_tweet'] = data_frame['clean_tweet'].apply(lambda x : ' '.join([ps.stem(word) for word in x.split()]))\n",
    "data_frame['corrected_tweet'] = data_frame['corrected_tweet'].apply(lambda x : ' '.join([ps.stem(word) for word in x.split()]))"
   ]
  },
  {
   "cell_type": "code",
   "execution_count": 58,
   "metadata": {},
   "outputs": [
    {
     "data": {
      "text/html": [
       "<div>\n",
       "<style scoped>\n",
       "    .dataframe tbody tr th:only-of-type {\n",
       "        vertical-align: middle;\n",
       "    }\n",
       "\n",
       "    .dataframe tbody tr th {\n",
       "        vertical-align: top;\n",
       "    }\n",
       "\n",
       "    .dataframe thead th {\n",
       "        text-align: right;\n",
       "    }\n",
       "</style>\n",
       "<table border=\"1\" class=\"dataframe\">\n",
       "  <thead>\n",
       "    <tr style=\"text-align: right;\">\n",
       "      <th></th>\n",
       "      <th>id</th>\n",
       "      <th>label</th>\n",
       "      <th>tweet</th>\n",
       "      <th>clean_tweet</th>\n",
       "      <th>Hash words</th>\n",
       "      <th>clean_tweet2</th>\n",
       "      <th>corrected_tweet</th>\n",
       "    </tr>\n",
       "  </thead>\n",
       "  <tbody>\n",
       "    <tr>\n",
       "      <th>0</th>\n",
       "      <td>1</td>\n",
       "      <td>0</td>\n",
       "      <td>@user when a father is dysfunctional and is s...</td>\n",
       "      <td>father dysfunct selfish drag kid dysfunction. ...</td>\n",
       "      <td>#run</td>\n",
       "      <td>when father is dysfunctional and is so selfish...</td>\n",
       "      <td>father dysfunct selfish drag kid dysfunct run</td>\n",
       "    </tr>\n",
       "    <tr>\n",
       "      <th>1</th>\n",
       "      <td>2</td>\n",
       "      <td>0</td>\n",
       "      <td>@user @user thanks for #lyft credit i can't us...</td>\n",
       "      <td>thank #lyft credit can't use caus offer wheelc...</td>\n",
       "      <td>#lyft #disapointed #getthanked</td>\n",
       "      <td>thanks for lyft credit can use cause they don ...</td>\n",
       "      <td>thank left credit use caus offer wheelchair va...</td>\n",
       "    </tr>\n",
       "    <tr>\n",
       "      <th>2</th>\n",
       "      <td>3</td>\n",
       "      <td>0</td>\n",
       "      <td>bihday your majesty</td>\n",
       "      <td>bihday majesti</td>\n",
       "      <td>No hashtags</td>\n",
       "      <td>bihday your majesty</td>\n",
       "      <td>day majesti</td>\n",
       "    </tr>\n",
       "    <tr>\n",
       "      <th>3</th>\n",
       "      <td>4</td>\n",
       "      <td>0</td>\n",
       "      <td>#model   i love u take with u all the time in ...</td>\n",
       "      <td>#model love u take u time urd+-!!! dddd d|d|d|</td>\n",
       "      <td>#model</td>\n",
       "      <td>model love take with all the time in urd dd</td>\n",
       "      <td>model love take time ord</td>\n",
       "    </tr>\n",
       "    <tr>\n",
       "      <th>4</th>\n",
       "      <td>5</td>\n",
       "      <td>0</td>\n",
       "      <td>factsguide: society now    #motivation</td>\n",
       "      <td>factsguide: societi #motiv</td>\n",
       "      <td>#motivation</td>\n",
       "      <td>factsguide society now motivation</td>\n",
       "      <td>fact guid societi motiv</td>\n",
       "    </tr>\n",
       "  </tbody>\n",
       "</table>\n",
       "</div>"
      ],
      "text/plain": [
       "   id  label                                              tweet  \\\n",
       "0   1      0   @user when a father is dysfunctional and is s...   \n",
       "1   2      0  @user @user thanks for #lyft credit i can't us...   \n",
       "2   3      0                                bihday your majesty   \n",
       "3   4      0  #model   i love u take with u all the time in ...   \n",
       "4   5      0             factsguide: society now    #motivation   \n",
       "\n",
       "                                         clean_tweet  \\\n",
       "0  father dysfunct selfish drag kid dysfunction. ...   \n",
       "1  thank #lyft credit can't use caus offer wheelc...   \n",
       "2                                     bihday majesti   \n",
       "3     #model love u take u time urd+-!!! dddd d|d|d|   \n",
       "4                         factsguide: societi #motiv   \n",
       "\n",
       "                       Hash words  \\\n",
       "0                            #run   \n",
       "1  #lyft #disapointed #getthanked   \n",
       "2                     No hashtags   \n",
       "3                          #model   \n",
       "4                     #motivation   \n",
       "\n",
       "                                        clean_tweet2  \\\n",
       "0  when father is dysfunctional and is so selfish...   \n",
       "1  thanks for lyft credit can use cause they don ...   \n",
       "2                                bihday your majesty   \n",
       "3        model love take with all the time in urd dd   \n",
       "4                  factsguide society now motivation   \n",
       "\n",
       "                                     corrected_tweet  \n",
       "0      father dysfunct selfish drag kid dysfunct run  \n",
       "1  thank left credit use caus offer wheelchair va...  \n",
       "2                                        day majesti  \n",
       "3                           model love take time ord  \n",
       "4                            fact guid societi motiv  "
      ]
     },
     "execution_count": 58,
     "metadata": {},
     "output_type": "execute_result"
    }
   ],
   "source": [
    "data_frame.head()"
   ]
  },
  {
   "cell_type": "code",
   "execution_count": 61,
   "metadata": {},
   "outputs": [],
   "source": [
    "#Tokenization\n",
    "corpus = []\n",
    "for i in range(0,31962):\n",
    "    tweet = data_frame['clean_tweet'][i]\n",
    "    tweet = tweet.lower()\n",
    "    tweet = tweet.split()\n",
    "    tweet = [ps.stem(word) for word in tweet if not word in set(stopwords.words('english'))]\n",
    "    tweet = ' '.join(tweet)\n",
    "    corpus.append(tweet)\n",
    "\n",
    "corpus_corrected = []\n",
    "for i in range(0,31962):\n",
    "    tweet = data_frame['corrected_tweet'][i]\n",
    "    tweet = tweet.lower()\n",
    "    tweet = tweet.split()\n",
    "    tweet = [ps.stem(word) for word in tweet if not word in set(stopwords.words('english'))]\n",
    "    tweet = ' '.join(tweet)\n",
    "    corpus_corrected.append(tweet)"
   ]
  },
  {
   "cell_type": "code",
   "execution_count": null,
   "metadata": {},
   "outputs": [],
   "source": [
    "#Ensuring all the tweets are tokenized into individual words\n",
    "len(corpus)"
   ]
  },
  {
   "cell_type": "code",
   "execution_count": 62,
   "metadata": {},
   "outputs": [
    {
     "data": {
      "text/plain": [
       "['father dysfunct selfish drag kid dysfunct run',\n",
       " 'thank left credit use cau offer wheelchair van pix disappoint get thank',\n",
       " 'day majesti',\n",
       " 'model love take time ord',\n",
       " 'fact guid societi motiv',\n",
       " 'huge fan fare big talk leav chao pay disput get allshowandnogo',\n",
       " 'camp tomorrow danni',\n",
       " 'next school year year exam think school exam hate imagin actor life revolut school girl',\n",
       " 'love land car champion cleveland cleveland cavali',\n",
       " 'welcom gre',\n",
       " 'ireland consum price index mon climb previou may blog silver gold fore',\n",
       " 'selfish orlando stand orlando pul shoot orlando shoot bigger problem selfish break valu love',\n",
       " 'get see daddi today day get fed',\n",
       " 'call michigan middl school build wall chant tot',\n",
       " 'comment australia april lindsay sea shepherd help dolphin cove help dolphin',\n",
       " 'ouch junior angri got junior go org',\n",
       " 'thank paper thank posit',\n",
       " 'tweet agr',\n",
       " 'friday smile around via user cooki make peopl',\n",
       " 'know essenti oil made chemic',\n",
       " 'europ peopl blame conc goal fat rooney gave away free kick know bale hit',\n",
       " 'sad littl dude bad day congo shame cat piss funni laugh',\n",
       " 'product day happi man wine tool weekend time open amp drink',\n",
       " 'lumpi say prove lumpi',\n",
       " 'taif gamet indi de indi amend squad',\n",
       " 'beauti sign vendor upsid florida shop alyssa love',\n",
       " 'smile medium press confer antalya turkey sunday throwback love dad',\n",
       " 'great panel medium station public servic icahn',\n",
       " 'happi father day',\n",
       " 'peopl went nightclub good night man action mean peopl lost famili forev rip orlando',\n",
       " 'never chanc vote presidenti candid excit cycl look differ',\n",
       " 'aloha friday time exist posit vibe hawaiian',\n",
       " 'rip fellow hern ireland fan sadli pass away tonight gaza forev sing cheer fire',\n",
       " 'hard monday due cloudi weather disabl oxygen product today goodnight bad monday',\n",
       " 'unbeliev list centuri need someth like never ump xenophobia',\n",
       " 'taylorswift1989 bull domin bull direct whatev want',\n",
       " 'morn travel ingram dalai pink life',\n",
       " 'one word tell photo shop enough enough dontphotoshopeveryth wheresallthenaturalphoto',\n",
       " 'cedar point wait hour val rain line stop work close',\n",
       " 'thank sunshin thank posit',\n",
       " 'final finish book work awhil bookworm ontothenextnovel',\n",
       " 'yup kick fan hard easier aba fan playoff roll around',\n",
       " 'life social network embrac day',\n",
       " 'mon share day day snake see weekend',\n",
       " 'love clever bloom flower grow garden indonesia bliss bloom basilica botan',\n",
       " 'amaz posit affirm',\n",
       " 'model love take time ord',\n",
       " 'whenev someth go wrong',\n",
       " 'feel blue illustr',\n",
       " 'best life know day',\n",
       " 'abc get readi remov victim pul club prayer orlando',\n",
       " 'day got nose job dope day petunia love',\n",
       " 'co celebr alba pilgrimag first time',\n",
       " 'let scum bagger begin',\n",
       " 'thank super love spa delacruz wed dolor cap tarlac',\n",
       " 'scourg play baroqu piec piano beyond belief',\n",
       " 'let fight love peac',\n",
       " 'happi father day ray video father day ray world hot video video',\n",
       " 'ascot time babe ascot fashion monochrom style instal payday',\n",
       " 'weekend self solo like like',\n",
       " 'happi work confer right mindset lead cultur develop organ work mindset',\n",
       " 'christina gimm last perform shot via christina rip voic christina jimmi',\n",
       " 'readi danc roar preschool student proud',\n",
       " 'realli feel',\n",
       " 'wife ador miss poland show surgeri name bridget amp everyth',\n",
       " 'jealou right chat ado',\n",
       " 'celebr everi man play fatherli role father day',\n",
       " 'sure happi add add hour',\n",
       " 'white establish blk fox run around love promot great',\n",
       " 'good morn journey begin travel yeah thejourneybegin hello',\n",
       " 'lug hot week like pay venu chang',\n",
       " 'new brochur arriv excit work solut',\n",
       " 'much stuff happen florida first orlando shoot disneygatorattack two year old kidd',\n",
       " 'ferrari dad sake championship clearli turn point ferrari merci',\n",
       " 'ace first test proud',\n",
       " 'seek probe udo punjab leak point finger marin map',\n",
       " 'wrap senseaboutmath eth',\n",
       " 'hey white peopl call peopl white race ident',\n",
       " 'might shown today regurgit talk point name call',\n",
       " 'sometim rai brow rai bar golfstrengthandcondit strong felix golf',\n",
       " 'great honour career condo',\n",
       " 'design innov learn space includ water hole cave mountaintop campfir',\n",
       " 'alright us amp insecur lure men white supremaci',\n",
       " 'carri gun would help take gun control stop black market terror get wor',\n",
       " 'use power mind heal bodi alway total healthi peac',\n",
       " 'boohoo week go',\n",
       " 'far away place famili member hu',\n",
       " 'readi rehear tonight new music new video look announc midweek new music watch space guitar',\n",
       " 'monday night pm channel final get see fuss',\n",
       " 'watch new episod',\n",
       " 'offlin nice long night snap chat redhead vermilion red',\n",
       " 'thing incr peopl',\n",
       " 'ye receiv accept letter master back octob good time histori',\n",
       " 'daughter ride bike around driveway son play guitar u enjoy campfir summertim memori',\n",
       " 'org love station way jam work get work done cour memori',\n",
       " 'alway hope one day get hug think gonna happen anytim soon',\n",
       " 'model love take time ord',\n",
       " 'coupl sex fat nake japan girl',\n",
       " 'hump hump day hamper edward villa pennsylvania',\n",
       " 'personali gap get shop cool home fun',\n",
       " 'truli sick pal',\n",
       " 'trump call obama resign orlando shoot boy point year talk chang',\n",
       " 'long nashvilletour2016 nashvil forev',\n",
       " 'eur u clear barrier jump fresh week high blog silver gold fore',\n",
       " 'go la tomorrow',\n",
       " 'thank good friend thank posit',\n",
       " 'still wrap head around fact christina jimmi gone fact man destroy prayer orlando',\n",
       " 'receiv di wait sta bake eyelid dad',\n",
       " 'play vigil orlando harp clonal rip via',\n",
       " 'ye ye ye friend someonecomewithm',\n",
       " 'sunday weekend relax icon woman sunday morn sunday marilyn monro',\n",
       " 'interest linguist address race amp racism power sociolinguist bring',\n",
       " 'one belov long lost cd recov thank appl music',\n",
       " 'marvel song music weed rip christina adel danc vine',\n",
       " 'mock obama black credit',\n",
       " 'spell credit referendum comer bank blog silver gold fore',\n",
       " 'amaz health benefit cucumb healthi alway total',\n",
       " 'model love take time ord',\n",
       " 'work dad pinot follow tiger inst good smile love',\n",
       " 'tor dora anim anim edit made breakup alon lone',\n",
       " 'lap pool ask ride done pick gym membership form',\n",
       " 'cold polar bear climb race angri polar bear climb race polar bear live cold place look',\n",
       " 'get angri muslim assassin much',\n",
       " 'happi snappi wait footbal footbal snap chat',\n",
       " 'friday miss fringesqcbagssumm',\n",
       " 'helena la vega u la vega strip',\n",
       " 'fleurett instaboyinstamansefieseptumfriend smilesblackandwhit',\n",
       " 'sad branch raini day write tear fli bird haiku line micro poetri',\n",
       " 'yeah new button mail pretti jewel make button',\n",
       " 'driver hit femal moo river weston moo kill driver crew remov anim',\n",
       " 'made japan made japan eo cute fun hawaii love strawberri tomato',\n",
       " 'peopl protest trump republican trump adher amp',\n",
       " 'need find way spend time alway mind boy guy',\n",
       " '1466047260 updat social analyt photo tiger like',\n",
       " 'anyon know date fri becam corrupt email gate hillari shame disgrac ridicul',\n",
       " 'stupid make even neglig put machin nodular instal go take',\n",
       " 'dad bid birthday best friend love',\n",
       " 'implant thing enjoy life matter life pooh',\n",
       " 'happi day chri evan great actor human dded chri evan day',\n",
       " 'thought prayer go peopl murder gay nightclub florida',\n",
       " 'demo guitar new album new album indi guitar echo belli',\n",
       " 'retreat lion pro taif web market see commun manag weekend',\n",
       " 'ned u target week sea blog silver gold fore',\n",
       " 'pretti bad day week far worst ever bihdayweeksuck birthday',\n",
       " 'bless work best lead ladi',\n",
       " 'happiest place disneysmagickingdom disney magic kingdom disneyland orlando',\n",
       " 'kinda among human',\n",
       " 'found exclaim gre blain hair site',\n",
       " 'ltd listen beauti best friend sing amaz voic ltd ltd ltd ltd',\n",
       " 'healthi freedom eff present mere mean eff store past theodor roosevelt',\n",
       " 'know saint go know love commit trust faith',\n",
       " 'ye call michel obama gorilla racist long thought black peopl beta',\n",
       " 'newark festiv u year wait show sta ord year run',\n",
       " 'internet broken watch netflix chit debug pug life',\n",
       " 'busi usual',\n",
       " 'dick suck tequila login slut want way late busti longtim',\n",
       " 'smaller hand show barri probabl lie kick game suck golf',\n",
       " 'good morn friday everyon weekend good morn friday girl love florida',\n",
       " 'challeng map claim punjabi drug addict dare prove',\n",
       " 'trace request send deepest condol orlando gay famili zimbabw gay commun touch',\n",
       " 'new self guy matt chap one',\n",
       " 'saturday afternoon chi meet friend',\n",
       " 'model love take time ord',\n",
       " 'sold nut amp bolt bloke',\n",
       " 'awe yeah good bong bong',\n",
       " 'dawn month see live excit fest summer',\n",
       " 'happi day shane robe watson day shane watson australia cricket',\n",
       " 'point one finger million point right back jewish supremacist',\n",
       " 'sad hear announc say may move player one two lead know',\n",
       " 'radio go cold play tonight ye',\n",
       " 'think like god come god keep',\n",
       " 'terrorist constitut right anoth excu republican appea era gun control measur',\n",
       " 'gloucest rugbi',\n",
       " 'sad happen',\n",
       " 'everyon everyth sad togeth alon fine dandi lone exub depress half full half empti',\n",
       " 'mike ashley sposdirectsham perhap good exampl need protect worker right within europ eur remain',\n",
       " 'angri bird stella bad princess bird stella bad princess birdsstellabadprincess time post wed',\n",
       " 'check incr made great memori great peopl',\n",
       " 'saw last night said rip care realli',\n",
       " 'hilari alreadi block ask one particularli difficult question',\n",
       " 'devast news go victim famili orlando break',\n",
       " 'happi state arriv manner travel margaret lee run beck happi quot inspir',\n",
       " 'safe way heal acn alway total healthi heal',\n",
       " 'creat right beat make beat thursday work standard aka proa',\n",
       " 'wed number add wed wed pay love forev wed dress',\n",
       " 'look forward attend cid ireland confer amp workshop cpd one friday',\n",
       " 'final reach follow twitch follow hype stream tomorrow',\n",
       " 'word free use pm cost verbal abu love adult teen',\n",
       " 'countri went last year see peopl bring bomb stadium amp come everyth footbal',\n",
       " 'thank cat thank posit',\n",
       " 'time eat seal cha de tuner lunch happi love amour una',\n",
       " 'love secret law attract quiz love happi motiv success joy life',\n",
       " 'might librari librari saw liber polit',\n",
       " 'go pole bop roth diva blackbird sole bodi pole live love',\n",
       " 'argentina attack bull game cd realli think head empti around citi side',\n",
       " 'self serv hypocrit alway keep eye bounc ball nimrod presid',\n",
       " 'carolina bull domin bull direct whatev want',\n",
       " 'build polar bear climb race angri polar bear climb race polar bear live cold place loo',\n",
       " 'want reelect money leg',\n",
       " 'orlando right truli cannot imagin could easili happen anywh',\n",
       " 'agr group also away cute summer photograph dubai sun hair dubai',\n",
       " 'seem like place action montreal',\n",
       " 'old wash',\n",
       " 'spirit posit affirm',\n",
       " 'thank entrain thank posit',\n",
       " 'show truli bad brisban',\n",
       " 'wait wimbledon',\n",
       " 'happi man success model entrepreneur speaker fresh confid fashion',\n",
       " 'gala moment day kid bipolar frikiegirl2016 lucki chinatown mall bin',\n",
       " 'realli take piss angri go show valu complet utter moron',\n",
       " 'take trash america vote hate vote vote vote',\n",
       " 'father day amaz dad give much famili enjoy',\n",
       " 'magnet therapi realli work alway total heal healthi',\n",
       " 'webb said',\n",
       " 'dad egad smile dp smile smile trio',\n",
       " 'brilliant servic ketter branch today custom',\n",
       " 'screen miss sing song pop shock treatment',\n",
       " 'way today bu alamein dah white music carri underwood',\n",
       " 'model love take time ord',\n",
       " 'good day new beer bridg food amp beer fest back campsit drunk starstruck amp move',\n",
       " 'report proper ocean summer life famili sydney',\n",
       " 'want teach love like never felt quot quot love pakistan call girl boy fashion feel',\n",
       " 'thank thank posit',\n",
       " 'god day left countdown note wait come milan 22092016',\n",
       " 'stone rose done time club day',\n",
       " 'reason two peopl stay togeth give someth nobodi el hope great day',\n",
       " 'never know might crush wow buzz moment ride love crush date hookup app',\n",
       " 'friend got engag dad',\n",
       " 'day left end class may say type',\n",
       " 'thursday may watch say need saida',\n",
       " 'legendari posit affirm',\n",
       " 'unit state america rest world think proven right firearm',\n",
       " 'hold open door woman woman nice thing even tri deni',\n",
       " 'good weekend show thank bless jeffrey william',\n",
       " 'good help everyon alway seem one get true',\n",
       " 'happiest babi live ever known cute smile babi girl beauti niec bless',\n",
       " 'readi one lincoln',\n",
       " 'wait car wind readi see time rock park timetogetmyjesuson',\n",
       " 'alreadi bought find dori ticket',\n",
       " 'everi minut lose sixti second happi',\n",
       " 'san japan anim convent see guy septemb',\n",
       " 'question day excit motor tech announc motor question',\n",
       " 'make today count monday motiv livelifetothefullest healthi everyday count',\n",
       " 'happi morn degr anna classmat friend',\n",
       " 'would abl supp event brentwood home lost fund may close',\n",
       " 'happi littl peopl happi happi peopl kitten cat black kitten',\n",
       " 'thank much opp uniti cherish forev dead',\n",
       " 'theme wood puppi',\n",
       " 'day till',\n",
       " 'happi harrel william harrel william lyric',\n",
       " 'happi confer right mindset lead cultur develop organ work',\n",
       " 'lost anoth member famili yesterday gut rosi',\n",
       " 'may trailer morrow fever super',\n",
       " 'watch fanci tail vine mad mad teeth bite piss dog bite bite dog treat',\n",
       " 'dream catcher bull domin bull direct whatev want',\n",
       " 'readi tomorrow english teacher teacher ecuador',\n",
       " 'memori wonder dad alway miss etern love strong great quot',\n",
       " 'dalla shoot video see disturb viewer discret play loop',\n",
       " 'take alon fine littl',\n",
       " 'sunshin amp sticker kind saturday leth belittl childhood unplug',\n",
       " 'wonder day today calm sunni chubbi girl glass finnish girl finn',\n",
       " 'buna bergama tea famili wuhu trisha lucki amp mayfair townhou pic',\n",
       " 'love know nationalbestfriendsday true',\n",
       " 'man ran governor state biggest african american popul',\n",
       " 'stereotyp prejud offer hope solut creat old repetit hate conflict',\n",
       " 'get pussi quicker day',\n",
       " 'probabl time come back home ugh',\n",
       " 'model love take time ord',\n",
       " 'anyon play voe kinda love game game game girl gamer voe',\n",
       " 'mani pol pass mani time said noth bluelivesmatt drain swamp ferguson',\n",
       " 'sequoia weekend',\n",
       " 'bitch care eyebrow much main end week',\n",
       " 'beam pride paradereadybey ham',\n",
       " 'father day guy play dad love',\n",
       " 'a0616caey day gummi love forev hope happi everyday good night',\n",
       " 'wish client babi goat cuddl',\n",
       " 'posit vibe fresh love guy get concord mill mall',\n",
       " 'conjur get readi scare tonight readi true stori',\n",
       " 'today day make chang elimin neg choo live posit lifestyl instead',\n",
       " 'aah qabalah look amiga happi day ali idea banana',\n",
       " 'last day work tomorrow self employ monday scare redditchbizhour',\n",
       " 'half boy half man dumb',\n",
       " 'happi littl boy smile combin asp',\n",
       " 'never appropri zero idea feel right scare miss',\n",
       " 'magnif monday monday morn monday motiv monday indra oka',\n",
       " 'done understand design print anim fabric bought muslin san final exchang polici',\n",
       " 'mayb happi hour get end',\n",
       " 'littl bear friend joy toddler friend pure sweet later ram toddler fun',\n",
       " 'never lost love one senseless violenc get fuck opinion amend',\n",
       " 'world head could lose life leav home orlando',\n",
       " 'heard say tri lock shooter kept patron get',\n",
       " 'good mood flight munich interview harrel',\n",
       " 'first present netherland',\n",
       " 'made u proud read word amp assur moment petit emot wish best',\n",
       " 'happi joy happi temporari leaf joy last forev never leaf real tri',\n",
       " 'twinkl boy slut snapshot hot nasti naughti sexi horni shi porn nude kinki xxx',\n",
       " 'peopl thank thank peopl happi thank thursday',\n",
       " 'creativ posit affirm',\n",
       " 'held back tear cri happi tear amp final leav week tomorrow canadian raver',\n",
       " 'day pressi mummi granni michael kor luck girl day liverpool',\n",
       " 'stuck athen instead satori said windi land shock servic everi level sinc',\n",
       " 'happi folk first freak shake launch freak yum dalton',\n",
       " 'huge crowd trump',\n",
       " 'thank saturday thank posit',\n",
       " 'good god',\n",
       " 'enjoy delici melon vegan organ fresh fruit organ healthi healthi live life',\n",
       " 'first month week day till begin end sad time dec',\n",
       " 'firework wether',\n",
       " 'blackpool attack bull game cd realli think head empti around citi side',\n",
       " 'father day amaz father today',\n",
       " 'want much ask',\n",
       " 'readi wait new blood',\n",
       " 'sad aunt pass away funer',\n",
       " 'horribl ad made u cring',\n",
       " 'would mind robson kane decent player avail free transfer',\n",
       " 'come better plea put shoe unnecessari stress',\n",
       " 'stalk watch peon poor disabl kill u u use proud amp univ care',\n",
       " 'step curri outburst beg question christian get final',\n",
       " 'grate affirm',\n",
       " 'week go san antonio bound see cant wait see littl brother miss brother keeper',\n",
       " 'listen',\n",
       " 'die light villag green town antisemit school columbia hood',\n",
       " 'hah aha last friday amp weird',\n",
       " 'hey notic train lover ask check free app known train appl',\n",
       " 'sexi fuck direct dial transact dialler win hot justin weber justin believ',\n",
       " 'father day say love dad right santa whererefreshingbegin',\n",
       " 'guess back back lifeaftersurgeri dog dog life labrador labrador retriev life sam',\n",
       " 'hey super spoilt may want check latest updat last fest',\n",
       " 'day sid god bless success career',\n",
       " 'aba final ambiv love step thompson mari stink green class dosh hebron talk guillermo',\n",
       " 'check product team web seri episod edit truli seri',\n",
       " 'model love take time ord',\n",
       " 'never answer statement nazi hatr amp bigotri found',\n",
       " 'nineteenth independ day food thought rich ancestr heritag independ hall',\n",
       " 'river gorilla simul need adapt environ need tear citi materi',\n",
       " 'watch leadership embrac amp kiss donald pathet amp pay pay racism amp hate hiphop',\n",
       " 'love matur age',\n",
       " 'awe yeah good bong bong',\n",
       " 'good feel happen smile inst like inst mood inst pic',\n",
       " 'check graffiti dublin ireland music video movi video europ peopl flow fun rapallo vicki',\n",
       " 'season day aah',\n",
       " 'imposs today extraordinari speak star award hat',\n",
       " 'sun happi thursday breakfast sun day sunni day sun blue',\n",
       " 'pack sneak peek work yellow jacket mesh bel hockey',\n",
       " 'toni sunday toni award',\n",
       " 'happi father day dad dad father day',\n",
       " 'verdict idiot countri rock bluegrass beatl love pop romanc',\n",
       " 'project week june blog silver gold fore',\n",
       " '300dayshappi dayseventyseven day happi love quot life',\n",
       " 'littl brother higher toler alcohol laugh loud',\n",
       " 'wish guy day blaze say spit imag',\n",
       " 'thank hike trail thank posit',\n",
       " 'pay meet tackl movi uncov problem want world know',\n",
       " 'chill relax piano music keep pet quiet juli firework',\n",
       " 'might librari librari saw liber polit',\n",
       " 'noth say america like tweet',\n",
       " 'alway paratyphoid',\n",
       " 'today lost voic sister senselessli sing love death peopl stop hecat rip christina',\n",
       " 'guy concern twitter brand honest follow',\n",
       " 'hate like famili realli born big toxic bomb mother fucker give fuck cut got money',\n",
       " 'get get get enjoy music today free app free music',\n",
       " 'best law attract resourc heal alway total healthi id',\n",
       " 'trump co chair make racist remark michel obama pm pm fri tot',\n",
       " 'fan make',\n",
       " 'music therapi tool heal alway total healthi',\n",
       " 'food make famili fight mem',\n",
       " 'delici sangriasaludch smile pub pembrok',\n",
       " 'fabul weekend beauti soul filter',\n",
       " 'feel overwhelm look see million reason happi love craig',\n",
       " 'back day job shane lowri',\n",
       " 'hour right bottl amp drink pm chippewa st buffalo',\n",
       " 'ana nim arista maria shushan number mark obtain damn high',\n",
       " 'monday empti without bachelorett bachelorett empti wine',\n",
       " 'suppo famili god chivalri tradit pride one heritag controversi',\n",
       " 'pic say otherwi young girl confin kitchen void mean beyond cheap public tool',\n",
       " 'good night faith ever vaitacacommafiasdv',\n",
       " 'love simpli love love success work busi',\n",
       " 'lunchtim mon harrington lunch afterschool inst daili yummi',\n",
       " 'sister even know watch argu nigga wait say wrong shit',\n",
       " 'ride ride back done cycl sunset ride bike fit cardio de sea',\n",
       " 'well gonna go see astr',\n",
       " 'tag like foodfriendssummerswagquot love girl weekend polaroid follow teen win job',\n",
       " 'pain polar bear climb race angri polar bear climb race polar bear live cold place',\n",
       " 'healthi famili',\n",
       " 'dream palac move alreadi stellar girl dreami good morn day',\n",
       " 'wait follow sinc factor',\n",
       " 'fault use point score',\n",
       " 'week stand kinda lame get better may wednesday wisdom',\n",
       " 'forev young man luke hot wen temper alway fan till list breath',\n",
       " 'worri bee',\n",
       " 'doubl tap follow beauti smooth lifestyl skin inst size fashion',\n",
       " 'law attract heal low healthi well id',\n",
       " 'oil turn flat eye via inventori data fuhrer direct blog silver gold fore',\n",
       " 'train new employ fun new blood',\n",
       " 'first day puppi eloi sweet babi dog grow cute bid girl',\n",
       " 'pig burn aliv saskatchewan barn fire video',\n",
       " 'never convinc american right bear prayer orlando gun control',\n",
       " 'beauti ladi bless know smile love',\n",
       " 'today baba side que tar pay mumbai amp aveng see',\n",
       " 'hand ombr blue',\n",
       " 'wait go see war craft ugh war craft',\n",
       " 'cousin reunit famili fun well',\n",
       " 'audienc duan henri insight',\n",
       " 'train move bing sweet',\n",
       " 'lover stop angri visit u lover friend astrolog love',\n",
       " 'block troll promi blacklist matter amp let nonsen rant boost',\n",
       " 'father day dad one heaven',\n",
       " 'sale june',\n",
       " 'creepi awesom baboon climb fire escap like human summer zoo',\n",
       " 'use power mind heal bodi alway total healthi',\n",
       " 'dude tiger roar tiger anna shoo bid celebr',\n",
       " 'laugh happi laugh william jame extra',\n",
       " 'happi sunday everyon think today go good day posit vibe sunshin sunday',\n",
       " 'talk way organ dehuman u never held account',\n",
       " 'stuck rat race find freedom master experi',\n",
       " 'studi face pizza stole roommat idea take pic',\n",
       " 'dinner sister sister adventur sister love sister',\n",
       " 'el plan watch tomorrow',\n",
       " 'u rifl day snow closest ever got navi',\n",
       " 'euro bic pundit make predict franc euro sta today',\n",
       " 'happi happi minion',\n",
       " 'elder scroll mani year bethesda e32016',\n",
       " 'poor piggi littl bit cheeki jan amp throwback thursday',\n",
       " 'cannot wait eur gamer year pump eurogamer2016',\n",
       " 'work russel beck soon stay tune friend lyle tap flag',\n",
       " 'nazi studi american race law inspir u histori eugen',\n",
       " 'share ice cream sun love outdoor picnic summer famili daughter father jess ice cream',\n",
       " 'noth like river island sale shop spree cheer retail therapi river island shop queen alwayscheersyouup',\n",
       " 'clean hou go zip laundri final free fever cold happi clean laundri day',\n",
       " 'new list ebay boohoo sell sell buy shop shop',\n",
       " 'thank challeng thank posit',\n",
       " 'chill night ice cream amp grown chill',\n",
       " 'biker ism absolut origin hate bigotri alright hatr african american lotu resist',\n",
       " 'sweet dded inst good ii idol idol follow self',\n",
       " 'tragedi america first kill christina jimmi orlando america safe place today',\n",
       " 'credit angst factor help drive interest rate germani japan bah blog silver gold',\n",
       " 'fab amp interest day pm dash quiet place dial ii emma region meet busi',\n",
       " 'kayak sup snorkel swim whatev pleasur well put togeth aloha beach hawaii explor',\n",
       " 'hold man year watch chang hear say loyalti',\n",
       " 'well back go taliban see later great travel taliban citi cat logan',\n",
       " 'feel olymp medal',\n",
       " 'angri bird film download hot bird download film',\n",
       " 'sunday photo model urban topless tit mono tweet sexi heel ace',\n",
       " 'offic viral arrest video rude racist chief crime offic',\n",
       " 'saturday friend',\n",
       " 'may friend got marri today ddegddegddegd congratul guy marri',\n",
       " 'model love take time ord',\n",
       " 'lewi remain perfect ranger announc gonna stroke',\n",
       " 'chri back soccer miss spring season broken',\n",
       " 'train ticket book opera week wale',\n",
       " 'beauti day sun fun beach park beach park',\n",
       " 'big screen fit right euro',\n",
       " 'love stori happi end anim love stori end like like',\n",
       " 'poet bull domin bull direct whatev want sta',\n",
       " 'tranquil posit affirm',\n",
       " 'name upcom new track pm pop',\n",
       " 'best essenti oil anxieti healthi peac alway total',\n",
       " 'wow peopl child noth better insult peopl twitter',\n",
       " 'think mayb bought instead get old becom bore borderland go blizzard',\n",
       " 'fact album hour away drip lose mind fatkidinacandystor',\n",
       " 'ryder idea see csc cum togeth snapshot young shi kinki wet porn hot xxx horni',\n",
       " 'snap chat gabi china love girl snap chat flower inst smile inst love',\n",
       " 'brilliant posit affirm',\n",
       " 'true nigga done go look parent go look shoe jewelleri',\n",
       " 'safe way heal acn alway total healthi heal',\n",
       " 'msgapparelstoday special u father day',\n",
       " 'camp next weekend love camp brown wood',\n",
       " 'grate affirm',\n",
       " 'forev bessi karaok friend friendship love filter inst cool inst good',\n",
       " 'absolut love place fantast welcom carlo receptionist eth time room request grant usual',\n",
       " 'head alter peculiar famili',\n",
       " 'u retail sale control group like rose may danc bank blog silver gold fore',\n",
       " 'happi father day love life amp best father world father day love',\n",
       " 'coolest hack world smallest snake motiv',\n",
       " 'shockingli increasingli violent world live u gun control law feel famili amp friend',\n",
       " 'funni simpli true stori',\n",
       " 'happi day birthday day holiday monday model',\n",
       " 'sadden one thought groom posit ask opinion issu',\n",
       " 'ukrainian athlet gross watch live stream without see',\n",
       " 'new season oink star tonight season',\n",
       " 'excit side chain tonight look forward see broadway',\n",
       " 'quay collar say sold love loudest',\n",
       " 'final get jordan get paid wear low top',\n",
       " 'impress posit affirm',\n",
       " 'father day father make happen salut',\n",
       " 'view floor nyx new citi view girl wine friday night',\n",
       " 'discuss republican thing critiqu ignor consequ',\n",
       " 'got school tomorrow last integr',\n",
       " 'amen truth alway ltd ltd love bless',\n",
       " 'stamford kid got month rape boredom minut action',\n",
       " 'let colon life rainbow damian love colour rainbow depot',\n",
       " 'ariel maharashtra rude custom care execut make want switch loyalti anoth provid irrit',\n",
       " 'teddi corpu rock teddi band enjoy idol org',\n",
       " 'wow great daughter send father right father day cheap hot lowbrow shame',\n",
       " 'reason happi kid mid tantrum parent tantrum toddler calm mind strong',\n",
       " 'truth posit affirm',\n",
       " 'yup sir macro wwdc2016 wood next work listen skill',\n",
       " 'day done dresser nicknam newelectricscrewdriv brock eli london',\n",
       " 'black amp feel like stomp tweet tampa miami',\n",
       " 'problem one polic offic need bigger gun perhap one tank soldier',\n",
       " 'father day friend',\n",
       " 'choic fall alway write candid',\n",
       " 'ii edg ii idea end',\n",
       " 'get know team behind app keep tummi june issu bazaar aga',\n",
       " 'actual go fish today somewh nice ali',\n",
       " 'cute look like doll',\n",
       " '',\n",
       " 'love vacat enjoy greec crete sabin drift chill blond girl blue dress',\n",
       " 'unreal advisor refu take payment say wait pc custom servic site want work',\n",
       " 'game readi horizon pc time live',\n",
       " 'life better tahiti summer life school tahiti like',\n",
       " 'know male thought vagina like video game cd stupid thought quot lao',\n",
       " 'pack taken brainwash cheetah downasquadmemb tree',\n",
       " 'japan domest corpor good price index line expect may blog silver',\n",
       " 'rememb day peopl went becom realiti star seem realiti star becom big brother contest',\n",
       " 'allah oil familiar becom difficult stereotyp',\n",
       " 'good morn want live life tie goal peopl thing',\n",
       " 'friday ltd friday feel relax bristol',\n",
       " 'day porn movi pussi pay pic',\n",
       " 'look easi till turn rap hiphop rock funni comedi pop west',\n",
       " 'banner merri christma new year free decor new year',\n",
       " 'may thank let know happi man',\n",
       " 'exam room test tire annoy',\n",
       " 'best homeopath remedi anxieti alway total heal peac',\n",
       " 'rest peac christina',\n",
       " 'hama fool around might rai child pal done think far advanc see fun whatev',\n",
       " 'anti racist codeword anti white asia asian africa african white countri everyon',\n",
       " 'periscop first god babi graduat high school colleg bound',\n",
       " 'nearli folk nervou curiou finali stuff pointer grain bring ton',\n",
       " 'fellowship life group',\n",
       " 'caught eat chocol slice bread besid ref realiz still eat dinner',\n",
       " 'prai cleveland polic inc polic consent decr white tam price rip',\n",
       " 'best law attract resourc heal alway total healthi id',\n",
       " 'everyth need sur day father day dad nov spot novytowelsurfgear',\n",
       " 'agr',\n",
       " 'next show monday fiddler elbow camden look like go huge night hat',\n",
       " 'swim sign everywh parent watch year old',\n",
       " 'mitchel rattl mitchel good',\n",
       " 'get readi saturday jeep run obj day showyourjeepday jeep mafia jeep life jeep etta',\n",
       " 'attempt czech furi croatia score second',\n",
       " 'latest dairi thank',\n",
       " 'yep grate everyday gratitud laura world',\n",
       " 'book awhil nice hard copi',\n",
       " 'aba final game could basketb fan ask final',\n",
       " 'prevent bigot',\n",
       " 'dear despit attempt save chariti regret announc lost tragic rip angel friend miss',\n",
       " 'space place color blue fabric sourc finish pillow cushion use u',\n",
       " 'perfect moment day',\n",
       " 'wait hour come autograph final walk away come cour disappoint',\n",
       " 'father day gift dad secur financ futur save insur invest',\n",
       " 'girl world sexi matur housewif',\n",
       " 'time get happi saturday saturday weekend',\n",
       " 'awesom dad almighti father lord darl dad rip sweetheart husband babi daddi st son father day',\n",
       " 'owen footbal tournament footbal',\n",
       " 'come piss poor recept today ap month struggl get signal button put mast switch grumpi',\n",
       " 'excit name',\n",
       " 'let troop tricolour begin bihdayyourmajesti chequ nat hat',\n",
       " 'work fusion wolf last stage develop chase',\n",
       " 'like blacklist matter slogan talk',\n",
       " 'littl bear bear hamster rip miss',\n",
       " 'give hug love cat moment',\n",
       " 'lip like fire blood like gasolin love boyfriend smile',\n",
       " 'go let peopl icrs2016',\n",
       " 'life race allow present fun',\n",
       " 'dental testimoni lichfield client',\n",
       " 'thank much pretti feel bless amp lucki pli keep shower lek surpri like unexpect',\n",
       " 'nice pc susanna smile day need fal promi fli dragon got ben',\n",
       " 'cd back yet',\n",
       " 'got call yesterday mon diagno stage ovarian cancer terrifi terrifi know',\n",
       " 'femin cancer femin terror femin bharat male vote ignor',\n",
       " 'side histori alli issu embarrass',\n",
       " 'fox new come say bluntli one thing read',\n",
       " 'good morn internationaldayofyoga2016 yoga love yoga relax healthi posit',\n",
       " 'monkey also declar vermin protest bar day',\n",
       " 'new plant readi garden garden know',\n",
       " 'cold play last night fave cold play hampden fave coupl cute',\n",
       " 'use power mind heal bodi alway total healthi peac',\n",
       " 'flag day mine gorgeou texa sky household name take vera',\n",
       " 'awe yeah good bong bong',\n",
       " 'ye let suppo openli prewar anti islam homophob rapist advoc hypocrit',\n",
       " 'cat furri persian pinion wallpap imag',\n",
       " 'good morn taif kiss kiss friday friday fun',\n",
       " 'enjoy everyth alreadi given rather alway need bless thank',\n",
       " 'europ match schedul design franc romanian feedback appreci',\n",
       " 'father day take dad love',\n",
       " 'berlin thank much incr thrive berlin bo',\n",
       " 'listen incubu never hu play sick littl world nissan live set de',\n",
       " 'anderson cooper amp lemon like gay thrown build sharia amend',\n",
       " 'field dog walk dog',\n",
       " 'would steal work boo hiss',\n",
       " 'compet list today whenrealtorscompeteyouwin call gotheextramilea',\n",
       " 'great park total disorgani one bonaventura joke',\n",
       " 'got news berni win even vote held last month devot',\n",
       " 'eur u print new monthli top drag eye blog silver gold fore',\n",
       " 'two presidenti candid everybodi devolv elect america sch u',\n",
       " 'poor pup anim puppi vine magic subscrib youtub vine',\n",
       " 'rare pic superstar day siva fatal',\n",
       " 'move outsid downtown neither offer better map',\n",
       " 'wish dad happi father day dad father day intel ice',\n",
       " 'met girl yr ago onlin gay friend look like',\n",
       " 'face say pm proud',\n",
       " 'love inst good tit cute beauti follow',\n",
       " 'enjoy weekend famili home happi weekend dear friend weekend famili home',\n",
       " 'anoth senseless tragedi tragic pul orlando strong thought prayer',\n",
       " 'love yukki bottom day stare amp get return ugli pat',\n",
       " 'captain felix rutland water littl boat behind go grand adventur',\n",
       " 'bing watch seri kill complet avoid footbal',\n",
       " 'quot jeremi corbi fuck go',\n",
       " 'happi travel time inst mood moment love life russian girl model like',\n",
       " 'porn kid wwsmallgirlsexcom',\n",
       " 'tuesday jacki quot take time make soul enjoy life smile believ dream fun',\n",
       " 'home sweet home call edinburgh sinc move year ago scotland home home famili',\n",
       " 'play england russia marseil expect high risk game plenti time drink',\n",
       " 'awe yeah good bong bong',\n",
       " 'thank sweater weather thank posit',\n",
       " 'haunt atmosph studio time',\n",
       " 'becom fan give right critic person life idol',\n",
       " 'latest obsidian radio daili thank late news',\n",
       " 'mind blown learn much googl form workshop find',\n",
       " 'sexi pretti pussi sexi realm',\n",
       " 'back traumat month damag bad thought proof plan work onward amp upward excit',\n",
       " 'might librari librari saw liber polit',\n",
       " 'overwhelm evid compani trump keep echo sentiment amp ideal dump trump',\n",
       " 'femal beef commun dick nigga',\n",
       " 'peopl like alreadi forgot nah new name made tag weekli basi',\n",
       " 'answer',\n",
       " 'cherri color symbol warm posit energi necklac price stone gift amaz beauti',\n",
       " 'wait season begin lac englishpremierleagu',\n",
       " 'happi father day dad except roger goodal father day goodal suck',\n",
       " 'orb independ credit poll show leav vote ahead gap u slump blog silver gold fore',\n",
       " 'comm comm washout flood good take set anoth day golf',\n",
       " 'ever sinc wayn left never',\n",
       " 'happi father day love father day sunday father daddi day',\n",
       " 'big shock monday need find new home yeah found dream cottag tuesday',\n",
       " 'save thousand free search login broker actor see learn sta fresh',\n",
       " 'actual order kyle lip kit',\n",
       " 'hope famili made arrang make sure bastard get access',\n",
       " 'social medium u firm build nuclear reactor india',\n",
       " 'smartphon bull domin bull direct whatev want',\n",
       " 'life beauti love work hard train hard matter go bless fit life',\n",
       " 'oscar cabaret talk lui suarez angri reaction spot lui oscar',\n",
       " 'play enjoy litmu station u u eur join u nice nyx',\n",
       " 'week go person trainer full time new slot avail june plu spread',\n",
       " 'mother take care ten child sometim ten child cant take care mother',\n",
       " 'thank good night sleep thank posit',\n",
       " 'play bride nocturn melancholi melancholi music',\n",
       " 'tvk3fathersday father day tatar daddi enjoy watch voic kid',\n",
       " 'thank friend thank posit',\n",
       " 'thank mason jar thank posit',\n",
       " 'nigger life lesson white kid grew blog post white peopl respect',\n",
       " 'congrat',\n",
       " 'via love sink think music inst gay celeb spot',\n",
       " 'readi ccmf2016 church front row upshot',\n",
       " 'utterli peopl incur stupid africa albino kill malawi spark educ campaign',\n",
       " 'gold high back around blog silver gold fore',\n",
       " 'shock event orlando u review gun law innoc die first horrif unforgiv',\n",
       " 'knowledg posit affirm',\n",
       " 'sister inst travel inst moment daili instar hub inst good inst like',\n",
       " 'feel lone',\n",
       " 'girliguessimwithh tag saddest repres peopl feel forc vote',\n",
       " 'factor mobil app make user want factor click download recent white paper',\n",
       " 'meanwhil googl violat free speech',\n",
       " 'happi work confer right mindset lead cultur develop organ work mindset',\n",
       " 'rochest attack bull chase leav lot despit fact strong sourc',\n",
       " 'competit dude',\n",
       " 'tattoo sleev gorilla simul need adapt environ need tear citi',\n",
       " 'imago cri hour bob',\n",
       " 'tell sorrow river river taught flow without complain senat dahl philosophi proverb',\n",
       " 'thank memori thank posit',\n",
       " 'sure nasti piec work lao',\n",
       " 'today perfect day happi life coach reinvent imposs',\n",
       " 'sex sex name woman',\n",
       " 'thank cocktail thank posit',\n",
       " 'done wait outsid peel work homophob taxi driver guy kiss gay melbourn cab',\n",
       " 'guess one want let resid spring street know would abl leav hour today',\n",
       " 'great morn deborah smile kind day',\n",
       " 'window split screen browser custom tab edit',\n",
       " 'peopl use tragedi like fuel hate agenda toward entir group peopl opposit help',\n",
       " 'anni fire way realli hope album cover yellow laugh loud',\n",
       " 'john mica hell peopl like elect total politician touch disgrac',\n",
       " 'noth make dad happier tasti meal father day',\n",
       " 'truth suicid rate young black boy',\n",
       " 'happi sunday home home amaz love istanbul girl beauti inst like',\n",
       " 'block least love island look forward sunday',\n",
       " 'play suzann clock morn music song',\n",
       " 'swing dad swing babi girl babi littl girl park love cute',\n",
       " 'help bubbl attack winter bath time copi',\n",
       " 'move posit affirm',\n",
       " 'thing matter mani law regul gun peopl still find way get hand',\n",
       " 'sunflow natur garden photographi qualiti print amp card',\n",
       " 'didst stay long emerg home daughter well rush home miss set',\n",
       " 'great insight trust profess emma growth hack confer growthwithhubspot',\n",
       " 'carolyn cooper ugli poor ignor black',\n",
       " 'franklin dog sunshin dog twitter',\n",
       " 'perfect day buy real furnitur hike dinner jess sleep number bonu longest',\n",
       " 'happi face love smile satisfi hair work smile face',\n",
       " 'love sunday weekend self longhair girl self orbit love',\n",
       " 'natur perfect bull hill climb reach target complet task surviv str',\n",
       " 'model love take time ord',\n",
       " 'orlando gay men angri amp donat blood massacr',\n",
       " 'gold global gold hunter fresh air trail run soul keep gold hunter life balanc',\n",
       " 'monro amp nick best friend amp rosali amp addi kelli amp babylon sale grimm famili nagaland',\n",
       " 'lie hillari would call secur inquiri liber like mind one eat shit eat shit',\n",
       " 'know find incr disrespect take person call meet frustrat',\n",
       " 'date night friday pub love inst gay beer billi burnet',\n",
       " 'wish would make phone damn screen shatter cost arm leg still gotta pay fix pm',\n",
       " 'wrench would state mother know son die',\n",
       " 'time fli le week go brilliant lead summer confer',\n",
       " 'fruit time fruit jess inst moment photo yer sweet vaniti pizza',\n",
       " 'sad one',\n",
       " 'sir log follow karen iqbal glib farad sin full poetri add follow',\n",
       " 'minut go armaanamaalontkss',\n",
       " 'thank god royal without kansa citi right cleveland disgrac',\n",
       " 'get see favourit person throw',\n",
       " 'latina buffalo simul buffalo take vicin home way',\n",
       " 'world live orlando',\n",
       " 'vacat begun triathlet triathlon coach vacat fearless rule etta',\n",
       " 'bit break reflect',\n",
       " 'peac way sta morn daili chao begin gratitud',\n",
       " 'hardcor girl video day sex xxx',\n",
       " 'taka lot book order arriv time long weekend away bush greenfield',\n",
       " 'say someth bull domin bull direct whatev want',\n",
       " 'step san kana badli need plea',\n",
       " 'anoth hand amp foot complet beach best amp tire',\n",
       " 'way ctr book talk inmat particip book club program slug',\n",
       " 'readi awesom beat cool danc dem hou good music mad',\n",
       " 'spi neg extern environ remain suppo mug blog silver gold fore',\n",
       " 'mkt collect jasmin moira cross bodi bag wednesday',\n",
       " 'current eat ste handshak minut gotten shake order',\n",
       " 'gray sad color make feel grant togo',\n",
       " 'difficult road often lead beauti destin anon leadership inspir quot inspir',\n",
       " 'u long posit ad eur show increa blog silver gold fore',\n",
       " 'rock allay day noi',\n",
       " 'definit mexican taken sale',\n",
       " 'new album relea break love breakup hot',\n",
       " 'stand racism hate american cur congress hater deplor hate',\n",
       " 'sunshin sunshin make sky gray',\n",
       " 'someth want say someth make happi game gamer boon playstat e32016',\n",
       " 'footbal actual thing watchabl bring gladiat',\n",
       " 'happi hump day hum day life lifestyl wednesday midweek snap chat walru funni',\n",
       " 'let say love',\n",
       " 'worri happi via archiv day weekend share happi quot',\n",
       " 'great thing never came combo zone good great inspir love',\n",
       " 'happi puppi london puppi thursday motiv',\n",
       " 'know go room one troubl soul draw blacken white',\n",
       " 'recommend dark amp romanc horror movi genr ambianc',\n",
       " 'trump use hate putin win white hou trump press attack khan famili leader',\n",
       " 'one bucket list item tick tonight final saw ice cube live tonight wildlif festiv today good day',\n",
       " 'friend magic potion new beach magicalhappydrink era beach hou',\n",
       " 'everi time wear soccer join fri say look mexican fuck',\n",
       " 'weird month final feel posit life late plea chang',\n",
       " 'check holiday croatia day togo',\n",
       " 'night sweet dream',\n",
       " 'nyx seven day new york new citi travel big appl',\n",
       " 'life make let make motiv',\n",
       " 'fashion blog rooster simul want climb vast expan mountain reach leakag co',\n",
       " 'best mood ever love',\n",
       " 'happi worri smile love ii love nice day',\n",
       " 'monacorestochezedgardgrandprixf1 essaissunlewissuppodd amour love',\n",
       " 'bought launch use design think amp via read let make',\n",
       " 'basal announc offic bearer east coast zone canada',\n",
       " 'mad chose snake zed dec',\n",
       " 'mango wood lett gap get shop cool home fun',\n",
       " 'danger white liber govern appli liber men femin',\n",
       " 'truli truli pathet mani way noth learn cover',\n",
       " 'monday morn work lake scotti russel work love picot day',\n",
       " 'love rain hope hang around rain water tit weather bribe island',\n",
       " 'chosen wrong hor unless chang mind soon end polit career',\n",
       " 'wed implant celebr life possibl ann hathaway wed love',\n",
       " 'ici shoot orlando nightclub kill polic say develop gun',\n",
       " 'snatch past week school suppli',\n",
       " 'great aisl right money starspangledbann slaveri anaheim u',\n",
       " 'babi born welcom new world cat babi cat newborn congratul',\n",
       " 'pretend reinpainisjustanexampl ofhowstrongyouareasa person dead dad dad nighti',\n",
       " 'even dear citi add',\n",
       " 'mental cultur mental health',\n",
       " 'wish u weekend',\n",
       " 'thank freezer thank posit',\n",
       " 'readi full day home essay',\n",
       " 'day cake made mon day mon fondant pumpkin chocol delici beauti amaz',\n",
       " 'thank power social medium mand',\n",
       " 'made smile big bang babi',\n",
       " 'send good vibe way happi friday friday goodi happi smile',\n",
       " 'let go agent easi day till dec know game everyon',\n",
       " 'holi citi issu',\n",
       " 'old mon day',\n",
       " 'decid food golden retriev lcck9comfodog work dog',\n",
       " 'get angri muslim assassin much',\n",
       " 'eric dec music music life dem danc girl',\n",
       " 'funni thing humankind watch news feel bad etc back open busi usual good futur',\n",
       " 'keep tell aryan allow rape woman troll end',\n",
       " 'speechless come shoot recent guess peopl noth lose respect',\n",
       " 'forecast beauti wave real uganda disappear due construct bridg amp hope coma',\n",
       " 'minut trump condemn vile bigot comment surrog car paladin end area',\n",
       " 'wish wonder dad father day let rock today red rascal',\n",
       " 'allah oil got multi million dollar bonu averag american lost home',\n",
       " 'love abraham hick law attract healthi heal joy train',\n",
       " 'model love take time ord',\n",
       " 'sign first hiram yoga class',\n",
       " 'think thought shine face like sun beam quot smile',\n",
       " 'want creativ worker give enough time play success quot',\n",
       " 'prayer orlando victim famili get commun',\n",
       " 'jan interest discrimin affect crimin justic system',\n",
       " 'friend forev friendsswedenreunion grate love edna hem',\n",
       " 'keep opposit end venat',\n",
       " 'love pizza pizzaslicepizzaslice2aoyamapizzayummydelicia goodtimeswithgoa',\n",
       " 'two love beer craft bee dog main lover illinoi passion friend',\n",
       " 'abund posit affirm',\n",
       " 'father day father day dad skinni singl buy thing',\n",
       " 'ricketi rick ricketi rick ole broken wagon look find next sateen jump board',\n",
       " 'love citi great day cleveland home calm',\n",
       " 'guess talk progress advanc misogyni homophobia bigotri',\n",
       " 'teen girl kill injur downtown oakland shoot gun mental ill gang orlando',\n",
       " 'everyon go struggl pain right keep head keep smile get hope',\n",
       " 'good even darl inst gram babi bless lipstick makeup fun grate share',\n",
       " 'jake right mani pal lack power take stand amp drown small mind amp oft evil tendenc past',\n",
       " 'realli hate hip crit politician side deserv better citizen',\n",
       " 'environ well plan site noth',\n",
       " 'day sway day sway bid year area bid year area',\n",
       " 'saturday morn go back sleep trust co music indi fade away john maun listen',\n",
       " 'fou nate man life everi singl day father day',\n",
       " 'gut know tonight would good luck',\n",
       " 'begin think tom bradi hater way go man',\n",
       " 'attack orlando cau lot pain mani peopl vengeanc option let combo',\n",
       " 'cute overload let life fill love sweet live long marri life',\n",
       " 'head graduat mech plumb futur lumber proud mama',\n",
       " 'possibl speak topic without bring race bigot',\n",
       " 'model love take time ord',\n",
       " 'much terribl news weekend orlando christina jimmi prayer',\n",
       " 'make innov nou',\n",
       " '1465876849 updat social analyt inst like tit yoga summer fun',\n",
       " 'rush limbaugh incr obama impress via',\n",
       " 'peopl fail fellow citizen',\n",
       " 'string pack move new flat',\n",
       " 'first love may make feel like love chee shotermlongdist',\n",
       " 'youth bed two get friendship',\n",
       " 'want kind poor sin despi anyon jesu faith believ wisdom',\n",
       " 'nice life done tri love quot',\n",
       " 'latest positivementalattitud thank posit',\n",
       " 'want spark seriou debat gun violenc relea photo bodi insid club orlando shoot gun violenc',\n",
       " 'arriv blagu grad zap feel umbrella',\n",
       " 'number leader come',\n",
       " 'see showroom yesterday',\n",
       " 'mean mean like',\n",
       " 'great way spend saturday relax posit vibe california cake theocrat',\n",
       " 'eur u could test near term west blog silver gold fore',\n",
       " 'money campaign ask donat midnight fight hr buy broke donald lyndon',\n",
       " 'today call champagn friday friday feel friday good week client hair',\n",
       " 'rightli top hate trump obama',\n",
       " 'sunday hug',\n",
       " 'usapsapsapsapsapsapsap self friend love giannini smile comeback',\n",
       " 'moment decid need switch control life respon default',\n",
       " 'play yuma kiss rain music song',\n",
       " 'simpl true becom capabl burn survivor dolbi motiv motiv',\n",
       " 'back miss great logo bend great self',\n",
       " 'repeat put dog hot car leav heat keep home fuck sake dog',\n",
       " 'splendid noi probabl year arc ralli poland',\n",
       " 'hour go music video relea music edinburgh scotland band music video',\n",
       " 'confirm dead accord far rah gray pul shoot',\n",
       " 'look journey left right foot stage',\n",
       " 'black professor make assumpt entir race whilst speak entir race next week jew',\n",
       " 'back music play michael jackson lost child unif day may god child amp famili smile',\n",
       " 'drake josh buffalo simul buffalo take vicin home',\n",
       " 'trump call u homophob misogynist realli say jealou u',\n",
       " 'think suspend indefinit racist staff',\n",
       " 'sat alon let sad sigh open bore',\n",
       " 'good morn manchest quick preview new gin well launch soon one',\n",
       " 'tri new train today although feel similar smoother feel great',\n",
       " 'wiki felt ignor today make wiki danc kit danc mia book',\n",
       " 'sourc inspir ideal lye baba father day',\n",
       " 'congrat thoma new beauti home thale welcom linear famili homeown',\n",
       " 'miss day friend play box',\n",
       " 'new case scraggli hair',\n",
       " 'love inc wear mum word straight saturday brick',\n",
       " 'day sexi girl girl top boy nake',\n",
       " 'one major fan like salti fan need someon',\n",
       " 'chang daili basi week handov network team soon',\n",
       " 'come singapor',\n",
       " 'sea babi sock gap get shop cool home fun',\n",
       " 'like video saw retard want',\n",
       " 'wait doubl wife vegan perfect vegan',\n",
       " 'lao dead',\n",
       " 'amaz interview mckenzi born win music',\n",
       " 'boast tuesday last night boom boom harri hype say get',\n",
       " 'day malaya even age mass look craze fan screen romanc legend jambalaya',\n",
       " 'boohoo king land highland reserv hou famili build home',\n",
       " 'outlin theme would poem hama',\n",
       " 'decor buffalo simul buffalo take vicin home way',\n",
       " 'sold one two paint go get beauti new home week sold',\n",
       " 'mag hope new year busi end endof2016 ted talk date',\n",
       " 'slag child love show realli',\n",
       " 'safe say miss mark sit home watch europ listen rain depress bring happi',\n",
       " 'brainwash left allow terrorist come america kill',\n",
       " 'go morn dragon go kong yong yong via big bang handsom cute love',\n",
       " 'friend pc',\n",
       " 'day till vacat',\n",
       " 'secret happi marriag find peopl le attract rep',\n",
       " 'python concurr best friend code restructur get concurr celeri develop python',\n",
       " 'woman amaz think induc superwoman follow dowhatyoulov',\n",
       " 'hairi pussi tube hardcor track',\n",
       " 'let season bing begin oink favourit season weekend plan',\n",
       " 'rest peac christina jimmi loss rip miss fan foreverinourhea',\n",
       " 'pictur thousand word sunday rewind hong kong travel ladi lawyer',\n",
       " 'relax finger follow follow follow follow beach pool relax enjoy coupl',\n",
       " 'countdown begunfamilyfreeventfestiv entrain food stall',\n",
       " 'awesom beginn go pro mount super use',\n",
       " 'dear store plea crash due heavi overload book time much love',\n",
       " 'never underestim power good book good wine good food great patio summer even patio weather',\n",
       " 'stg best chee datum expen',\n",
       " 'morn offic routin never without',\n",
       " 'model love take time ord',\n",
       " 'shallow weak attempt cash jaw anniversari',\n",
       " 'non stop elect blame span hide year pittsburgh california',\n",
       " 'extrem reveal first offici poster pop origin pay come summer moa',\n",
       " 'minut count wide wwdc2016',\n",
       " 'play ball state polit facad lost princip',\n",
       " 'peopl protest trump republican trump adher amp',\n",
       " 'great day noth happi bless thank',\n",
       " 'happi sunday everyon dad sunday morn sunday peac love',\n",
       " 'alway help never peopl matter clearli quot late night',\n",
       " 'day weekend even better xxx',\n",
       " 'stay strong self love love love quot quot quot happi life wisdom word wisdom',\n",
       " 'happi father day boy father sweet love memori',\n",
       " 'awe yeah good bong bong',\n",
       " 'life implant human spirit truth love give spiritu thinkbigsundaywithmarshadd',\n",
       " 'father babi love happiest father day father via',\n",
       " 'current mood web develop meet amp hire',\n",
       " 'know get old sta get turn look pow tool amp',\n",
       " 'project busi hand happi hand',\n",
       " 'bride woman fine prospect happi behind ambro bierc wed love',\n",
       " 'friday box samantha via',\n",
       " 'stop rob innoc custom hard earn anim guy idea dey manag recharg',\n",
       " 'grab bessi amp swing hour miss fun eat',\n",
       " 'opinion racism degrad peopl base race justifi discrimin open violenc stop racism',\n",
       " 'final move today',\n",
       " 'way say blogger blogger',\n",
       " 'may fantast edinburgh',\n",
       " 'lemm find put boiler month june',\n",
       " 'go famili peopl kill massacr orlando',\n",
       " 'gig drink passthecourvoisi',\n",
       " 'rescu pup meet sexi spa rescu sexi pup fig suicid girl beauti puppi love',\n",
       " 'video get excit futur tech augment futur mobil',\n",
       " 'congrat wish come true work super cite song dad',\n",
       " 'wish',\n",
       " 'hello sunday hope beauti sunday sunday sunday sunday',\n",
       " 'listen song sinc age',\n",
       " 'ned u rise eye get price index statement blog silver gold fore',\n",
       " 'true home food consid cheap meal impress made restaur',\n",
       " 'happi day one west greatest topic shaker day rip alpaca',\n",
       " 'live life',\n",
       " 'hr god al motion poster reveal upper madam feel nervou stay tune',\n",
       " 'littl tast sure',\n",
       " 'appl stag complex cake famili day self smile girl summer',\n",
       " 'anim anim tree friend tag anim fan pixi happi tree',\n",
       " 'happi wed anniversari amaz husband dded memori year lost come love',\n",
       " 'slow sta product day get back routin bout fatigu flare hard spoon problem',\n",
       " 'love ramadan fast love tar feel love way feel ramadan pray read quran bless',\n",
       " 'eur gap subdu trade action around blog silver gold fore',\n",
       " 'ngitingtagumpay',\n",
       " 'unusu cloudi day elect day picnic friend sunday everyon welcom devic',\n",
       " 'cloud chaser gorilla simul need adapt environ need tear citi mat',\n",
       " 'christ aliv vic ob love grace amen share passion church life',\n",
       " 'want leak data punjab probe suspect polit job job search chandigarh maker udo',\n",
       " 'yesterday open restaur fatal',\n",
       " 'alreadi tell next week episod gonna give inten anxieti nervou game throne',\n",
       " 'got noth say assum ahahahahahah',\n",
       " 'ordinari girl introduc',\n",
       " 'may light triumph dark may ramadan bring peac harmoni joy ramadan ramada kareem',\n",
       " 'el notic supper pageant girl year intern femal oppress system',\n",
       " 'reason optimist rule world success growth balanc optim',\n",
       " 'hate onlin applic even get foot door tell need',\n",
       " 'thank flower thank posit',\n",
       " 'top crappi day sign paper hou pop block work amp know',\n",
       " 'beauti love live beach beach love',\n",
       " 'god bitch knew gone oil kim actual look like music video',\n",
       " 'taif gamet indi de indi amend squad',\n",
       " 'man even bunch coupon',\n",
       " 'way sta day good morn',\n",
       " 'king forward water hole watchtow fores',\n",
       " 'allah oil next best seller book isi islam 2016in4world 2016in4word terrorist got',\n",
       " 'fantast rub steak yum thespicesndteaexchang healthi',\n",
       " 'follow touch tit',\n",
       " 'feel like summer love like live life enjoy healthi sun tan bikini summer',\n",
       " 'teenag reckon gone beyond call duti father day prezzi',\n",
       " 'forget research show sexist men psycholog problem tucker carlson',\n",
       " 'nice specif pedagog chang',\n",
       " 'typic citi fan',\n",
       " 'attract asian pal asian tell attract inst race hoe',\n",
       " 'awl rite mol jealou better cricket pitch life get life',\n",
       " 'prayer go eddi famili',\n",
       " 'happi carer finish one week',\n",
       " 'close encount fat kind fat id desk sick tire mayb mono',\n",
       " 'gym oregon gym morn strength energi train win gym',\n",
       " 'glad arriv safe',\n",
       " 'defin histor oppress histor oppressor privileg',\n",
       " 'realli pretend truth seeker empow self improv heal radio',\n",
       " 'final found way delet old sweet might find use well delet week',\n",
       " 'view oregon poland u unit state holiday produc hou',\n",
       " 'put vote yet share see make smile poll',\n",
       " 'next chapter life star soon look hou today bianca',\n",
       " ...]"
      ]
     },
     "execution_count": 62,
     "metadata": {},
     "output_type": "execute_result"
    }
   ],
   "source": [
    "corpus_corrected"
   ]
  },
  {
   "cell_type": "code",
   "execution_count": null,
   "metadata": {},
   "outputs": [],
   "source": [
    "#Techniques to convert the tweets into Bag-of-Words, TF-IDF, and Word Embeddings\n",
    "#Building various classifiers: -\n",
    "#TF-IDF approach\n",
    "from sklearn.feature_extraction.text import TfidfVectorizer\n",
    "tfidf_vectorizer = TfidfVectorizer(max_df=0.90, min_df=2,stop_words='english')\n",
    "# TF-IDF feature matrix\n",
    "X1 = tfidf_vectorizer.fit_transform(corpus).toarray()\n",
    "Y1 = df.loc[:,'label'].values"
   ]
  },
  {
   "cell_type": "code",
   "execution_count": null,
   "metadata": {},
   "outputs": [],
   "source": [
    "from sklearn.model_selection import train_test_split\n",
    "X1_train, X1_test, Y1_train, Y1_test = train_test_split(data_frame['clean_tweet'], data_frame['label'], test_size = 0.3, random_state=0, shuffle = True, stratify=data_frame['label'])\n",
    "vectorizer = TfidfVectorizer()\n",
    "X1_train_vect = vectorizer.fit_transform(X1_train)\n",
    "Y1 = df.loc[:,'label'].values"
   ]
  },
  {
   "cell_type": "code",
   "execution_count": null,
   "metadata": {},
   "outputs": [],
   "source": [
    "#Random Forest using pipelines\n",
    "from sklearn.pipeline import Pipeline\n",
    "from sklearn.metrics import classification_report\n",
    "from sklearn.metrics import confusion_matrix\n",
    "from sklearn.ensemble import RandomForestClassifier\n",
    "rf = Pipeline([('tfidf', TfidfVectorizer()), ('rf', RandomForestClassifier())])\n",
    "rf.fit(X1_train, Y1_train)\n",
    "y_pred = rf.predict(X1_test)\n",
    "print(pd.crosstab(Y1_test,y_pred,rownames=['Actual'],colnames=['Predicted']))\n",
    "print(classification_report(Y1_test, y_pred))"
   ]
  },
  {
   "cell_type": "code",
   "execution_count": null,
   "metadata": {
    "scrolled": true
   },
   "outputs": [],
   "source": [
    "print(rf.predict([\"i swaer to trump\"]))\n",
    "print(rf)"
   ]
  },
  {
   "cell_type": "code",
   "execution_count": null,
   "metadata": {},
   "outputs": [],
   "source": [
    "#all my test processing goes here"
   ]
  },
  {
   "cell_type": "code",
   "execution_count": 63,
   "metadata": {},
   "outputs": [],
   "source": [
    "# save dataframed and corpus1 and courpus2\n",
    "\n",
    "data_frame.to_pickle('data/dataframe.pkl')"
   ]
  }
 ],
 "metadata": {
  "kernelspec": {
   "display_name": "Python 3",
   "language": "python",
   "name": "python3"
  },
  "language_info": {
   "codemirror_mode": {
    "name": "ipython",
    "version": 3
   },
   "file_extension": ".py",
   "mimetype": "text/x-python",
   "name": "python",
   "nbconvert_exporter": "python",
   "pygments_lexer": "ipython3",
   "version": "3.7.2"
  }
 },
 "nbformat": 4,
 "nbformat_minor": 4
}
