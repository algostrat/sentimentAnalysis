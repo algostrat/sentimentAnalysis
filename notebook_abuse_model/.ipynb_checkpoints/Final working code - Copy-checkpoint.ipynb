{
 "cells": [
  {
   "cell_type": "code",
   "execution_count": 122,
   "metadata": {},
   "outputs": [],
   "source": [
    "import pandas as pd"
   ]
  },
  {
   "cell_type": "code",
   "execution_count": 123,
   "metadata": {},
   "outputs": [
    {
     "data": {
      "text/html": [
       "<div>\n",
       "<style scoped>\n",
       "    .dataframe tbody tr th:only-of-type {\n",
       "        vertical-align: middle;\n",
       "    }\n",
       "\n",
       "    .dataframe tbody tr th {\n",
       "        vertical-align: top;\n",
       "    }\n",
       "\n",
       "    .dataframe thead th {\n",
       "        text-align: right;\n",
       "    }\n",
       "</style>\n",
       "<table border=\"1\" class=\"dataframe\">\n",
       "  <thead>\n",
       "    <tr style=\"text-align: right;\">\n",
       "      <th></th>\n",
       "      <th>id</th>\n",
       "      <th>label</th>\n",
       "      <th>tweet</th>\n",
       "      <th>clean_tweet</th>\n",
       "      <th>Hash words</th>\n",
       "      <th>clean_tweet2</th>\n",
       "      <th>corrected_tweet</th>\n",
       "    </tr>\n",
       "  </thead>\n",
       "  <tbody>\n",
       "    <tr>\n",
       "      <th>0</th>\n",
       "      <td>1</td>\n",
       "      <td>0</td>\n",
       "      <td>@user when a father is dysfunctional and is s...</td>\n",
       "      <td>father dysfunct selfish drag kid dysfunction. ...</td>\n",
       "      <td>#run</td>\n",
       "      <td>when a father is dysfunctional and is so selfi...</td>\n",
       "      <td>father dysfunct selfish drag kid dysfunct run</td>\n",
       "    </tr>\n",
       "    <tr>\n",
       "      <th>1</th>\n",
       "      <td>2</td>\n",
       "      <td>0</td>\n",
       "      <td>@user @user thanks for #lyft credit i can't us...</td>\n",
       "      <td>thank #lyft credit can't use caus offer wheelc...</td>\n",
       "      <td>#lyft #disapointed #getthanked</td>\n",
       "      <td>thanks for lyft credit i can t use cause they ...</td>\n",
       "      <td>thank left credit use caus offer wheelchair va...</td>\n",
       "    </tr>\n",
       "    <tr>\n",
       "      <th>2</th>\n",
       "      <td>3</td>\n",
       "      <td>0</td>\n",
       "      <td>bihday your majesty</td>\n",
       "      <td>bihday majesti</td>\n",
       "      <td>No hashtags</td>\n",
       "      <td>bihday your majesty</td>\n",
       "      <td>day majesti</td>\n",
       "    </tr>\n",
       "    <tr>\n",
       "      <th>3</th>\n",
       "      <td>4</td>\n",
       "      <td>0</td>\n",
       "      <td>#model   i love u take with u all the time in ...</td>\n",
       "      <td>#model love take time urd+-!!! dddd d|d|d|</td>\n",
       "      <td>#model</td>\n",
       "      <td>model i love you take with you all the time in...</td>\n",
       "      <td>model love take time ord add</td>\n",
       "    </tr>\n",
       "    <tr>\n",
       "      <th>4</th>\n",
       "      <td>5</td>\n",
       "      <td>0</td>\n",
       "      <td>factsguide: society now    #motivation</td>\n",
       "      <td>factsguide: societi #motiv</td>\n",
       "      <td>#motivation</td>\n",
       "      <td>factsguide society now motivation</td>\n",
       "      <td>fact guid societi motiv</td>\n",
       "    </tr>\n",
       "  </tbody>\n",
       "</table>\n",
       "</div>"
      ],
      "text/plain": [
       "   id  label                                              tweet  \\\n",
       "0   1      0   @user when a father is dysfunctional and is s...   \n",
       "1   2      0  @user @user thanks for #lyft credit i can't us...   \n",
       "2   3      0                                bihday your majesty   \n",
       "3   4      0  #model   i love u take with u all the time in ...   \n",
       "4   5      0             factsguide: society now    #motivation   \n",
       "\n",
       "                                         clean_tweet  \\\n",
       "0  father dysfunct selfish drag kid dysfunction. ...   \n",
       "1  thank #lyft credit can't use caus offer wheelc...   \n",
       "2                                     bihday majesti   \n",
       "3         #model love take time urd+-!!! dddd d|d|d|   \n",
       "4                         factsguide: societi #motiv   \n",
       "\n",
       "                       Hash words  \\\n",
       "0                            #run   \n",
       "1  #lyft #disapointed #getthanked   \n",
       "2                     No hashtags   \n",
       "3                          #model   \n",
       "4                     #motivation   \n",
       "\n",
       "                                        clean_tweet2  \\\n",
       "0  when a father is dysfunctional and is so selfi...   \n",
       "1  thanks for lyft credit i can t use cause they ...   \n",
       "2                                bihday your majesty   \n",
       "3  model i love you take with you all the time in...   \n",
       "4                  factsguide society now motivation   \n",
       "\n",
       "                                     corrected_tweet  \n",
       "0      father dysfunct selfish drag kid dysfunct run  \n",
       "1  thank left credit use caus offer wheelchair va...  \n",
       "2                                        day majesti  \n",
       "3                       model love take time ord add  \n",
       "4                            fact guid societi motiv  "
      ]
     },
     "execution_count": 123,
     "metadata": {},
     "output_type": "execute_result"
    }
   ],
   "source": [
    "df = pd.read_pickle(\"data/dataframe.pkl\")\n",
    "df.head()"
   ]
  },
  {
   "cell_type": "code",
   "execution_count": 124,
   "metadata": {},
   "outputs": [],
   "source": [
    "import numpy as np"
   ]
  },
  {
   "cell_type": "code",
   "execution_count": 125,
   "metadata": {},
   "outputs": [
    {
     "data": {
      "text/html": [
       "<div>\n",
       "<style scoped>\n",
       "    .dataframe tbody tr th:only-of-type {\n",
       "        vertical-align: middle;\n",
       "    }\n",
       "\n",
       "    .dataframe tbody tr th {\n",
       "        vertical-align: top;\n",
       "    }\n",
       "\n",
       "    .dataframe thead th {\n",
       "        text-align: right;\n",
       "    }\n",
       "</style>\n",
       "<table border=\"1\" class=\"dataframe\">\n",
       "  <thead>\n",
       "    <tr style=\"text-align: right;\">\n",
       "      <th></th>\n",
       "      <th>label</th>\n",
       "      <th>corrected_tweet</th>\n",
       "    </tr>\n",
       "  </thead>\n",
       "  <tbody>\n",
       "    <tr>\n",
       "      <th>0</th>\n",
       "      <td>0</td>\n",
       "      <td>father dysfunct selfish drag kid dysfunct run</td>\n",
       "    </tr>\n",
       "    <tr>\n",
       "      <th>1</th>\n",
       "      <td>0</td>\n",
       "      <td>thank left credit use caus offer wheelchair va...</td>\n",
       "    </tr>\n",
       "    <tr>\n",
       "      <th>2</th>\n",
       "      <td>0</td>\n",
       "      <td>day majesti</td>\n",
       "    </tr>\n",
       "    <tr>\n",
       "      <th>3</th>\n",
       "      <td>0</td>\n",
       "      <td>model love take time ord add</td>\n",
       "    </tr>\n",
       "    <tr>\n",
       "      <th>4</th>\n",
       "      <td>0</td>\n",
       "      <td>fact guid societi motiv</td>\n",
       "    </tr>\n",
       "  </tbody>\n",
       "</table>\n",
       "</div>"
      ],
      "text/plain": [
       "   label                                    corrected_tweet\n",
       "0      0      father dysfunct selfish drag kid dysfunct run\n",
       "1      0  thank left credit use caus offer wheelchair va...\n",
       "2      0                                        day majesti\n",
       "3      0                       model love take time ord add\n",
       "4      0                            fact guid societi motiv"
      ]
     },
     "execution_count": 125,
     "metadata": {},
     "output_type": "execute_result"
    }
   ],
   "source": [
    "#df = df.iloc[:,[1,3,6]]\n",
    "df = df.iloc[:,[1,6]]\n",
    "df.head()"
   ]
  },
  {
   "cell_type": "code",
   "execution_count": 126,
   "metadata": {},
   "outputs": [
    {
     "data": {
      "text/html": [
       "<div>\n",
       "<style scoped>\n",
       "    .dataframe tbody tr th:only-of-type {\n",
       "        vertical-align: middle;\n",
       "    }\n",
       "\n",
       "    .dataframe tbody tr th {\n",
       "        vertical-align: top;\n",
       "    }\n",
       "\n",
       "    .dataframe thead th {\n",
       "        text-align: right;\n",
       "    }\n",
       "</style>\n",
       "<table border=\"1\" class=\"dataframe\">\n",
       "  <thead>\n",
       "    <tr style=\"text-align: right;\">\n",
       "      <th></th>\n",
       "      <th>label</th>\n",
       "      <th>corrected_tweet</th>\n",
       "    </tr>\n",
       "  </thead>\n",
       "  <tbody>\n",
       "    <tr>\n",
       "      <th>0</th>\n",
       "      <td>0</td>\n",
       "      <td>father dysfunct selfish drag kid dysfunct run</td>\n",
       "    </tr>\n",
       "    <tr>\n",
       "      <th>1</th>\n",
       "      <td>0</td>\n",
       "      <td>thank left credit use caus offer wheelchair va...</td>\n",
       "    </tr>\n",
       "    <tr>\n",
       "      <th>2</th>\n",
       "      <td>0</td>\n",
       "      <td>day majesti</td>\n",
       "    </tr>\n",
       "    <tr>\n",
       "      <th>3</th>\n",
       "      <td>0</td>\n",
       "      <td>model love take time ord add</td>\n",
       "    </tr>\n",
       "    <tr>\n",
       "      <th>4</th>\n",
       "      <td>0</td>\n",
       "      <td>fact guid societi motiv</td>\n",
       "    </tr>\n",
       "  </tbody>\n",
       "</table>\n",
       "</div>"
      ],
      "text/plain": [
       "   label                                    corrected_tweet\n",
       "0      0      father dysfunct selfish drag kid dysfunct run\n",
       "1      0  thank left credit use caus offer wheelchair va...\n",
       "2      0                                        day majesti\n",
       "3      0                       model love take time ord add\n",
       "4      0                            fact guid societi motiv"
      ]
     },
     "execution_count": 126,
     "metadata": {},
     "output_type": "execute_result"
    }
   ],
   "source": [
    "df.head()"
   ]
  },
  {
   "cell_type": "code",
   "execution_count": 127,
   "metadata": {},
   "outputs": [
    {
     "data": {
      "text/plain": [
       "(31962, 2)"
      ]
     },
     "execution_count": 127,
     "metadata": {},
     "output_type": "execute_result"
    }
   ],
   "source": [
    "df.shape"
   ]
  },
  {
   "cell_type": "code",
   "execution_count": 128,
   "metadata": {},
   "outputs": [],
   "source": [
    "dff = df.drop(['label'], axis = 1)"
   ]
  },
  {
   "cell_type": "code",
   "execution_count": 129,
   "metadata": {},
   "outputs": [
    {
     "data": {
      "text/html": [
       "<div>\n",
       "<style scoped>\n",
       "    .dataframe tbody tr th:only-of-type {\n",
       "        vertical-align: middle;\n",
       "    }\n",
       "\n",
       "    .dataframe tbody tr th {\n",
       "        vertical-align: top;\n",
       "    }\n",
       "\n",
       "    .dataframe thead th {\n",
       "        text-align: right;\n",
       "    }\n",
       "</style>\n",
       "<table border=\"1\" class=\"dataframe\">\n",
       "  <thead>\n",
       "    <tr style=\"text-align: right;\">\n",
       "      <th></th>\n",
       "      <th>corrected_tweet</th>\n",
       "    </tr>\n",
       "  </thead>\n",
       "  <tbody>\n",
       "    <tr>\n",
       "      <th>0</th>\n",
       "      <td>father dysfunct selfish drag kid dysfunct run</td>\n",
       "    </tr>\n",
       "    <tr>\n",
       "      <th>1</th>\n",
       "      <td>thank left credit use caus offer wheelchair va...</td>\n",
       "    </tr>\n",
       "    <tr>\n",
       "      <th>2</th>\n",
       "      <td>day majesti</td>\n",
       "    </tr>\n",
       "    <tr>\n",
       "      <th>3</th>\n",
       "      <td>model love take time ord add</td>\n",
       "    </tr>\n",
       "    <tr>\n",
       "      <th>4</th>\n",
       "      <td>fact guid societi motiv</td>\n",
       "    </tr>\n",
       "  </tbody>\n",
       "</table>\n",
       "</div>"
      ],
      "text/plain": [
       "                                     corrected_tweet\n",
       "0      father dysfunct selfish drag kid dysfunct run\n",
       "1  thank left credit use caus offer wheelchair va...\n",
       "2                                        day majesti\n",
       "3                       model love take time ord add\n",
       "4                            fact guid societi motiv"
      ]
     },
     "execution_count": 129,
     "metadata": {},
     "output_type": "execute_result"
    }
   ],
   "source": [
    "dff.head()"
   ]
  },
  {
   "cell_type": "code",
   "execution_count": null,
   "metadata": {},
   "outputs": [],
   "source": []
  },
  {
   "cell_type": "code",
   "execution_count": 130,
   "metadata": {},
   "outputs": [],
   "source": [
    "from sklearn.model_selection import train_test_split\n",
    "X_temp, X_test, y_temp, y_test = train_test_split(dff, list(df.label), test_size=0.1)"
   ]
  },
  {
   "cell_type": "code",
   "execution_count": 131,
   "metadata": {},
   "outputs": [
    {
     "data": {
      "text/plain": [
       "(3197, 1)"
      ]
     },
     "execution_count": 131,
     "metadata": {},
     "output_type": "execute_result"
    }
   ],
   "source": [
    "X_test.shape"
   ]
  },
  {
   "cell_type": "code",
   "execution_count": 132,
   "metadata": {},
   "outputs": [
    {
     "data": {
      "text/plain": [
       "(28765, 1)"
      ]
     },
     "execution_count": 132,
     "metadata": {},
     "output_type": "execute_result"
    }
   ],
   "source": [
    "X_temp.shape"
   ]
  },
  {
   "cell_type": "code",
   "execution_count": 133,
   "metadata": {},
   "outputs": [
    {
     "data": {
      "text/plain": [
       "3197"
      ]
     },
     "execution_count": 133,
     "metadata": {},
     "output_type": "execute_result"
    }
   ],
   "source": [
    "len(y_test)"
   ]
  },
  {
   "cell_type": "code",
   "execution_count": 134,
   "metadata": {},
   "outputs": [
    {
     "data": {
      "text/plain": [
       "list"
      ]
     },
     "execution_count": 134,
     "metadata": {},
     "output_type": "execute_result"
    }
   ],
   "source": [
    "type(y_temp)"
   ]
  },
  {
   "cell_type": "code",
   "execution_count": 135,
   "metadata": {
    "scrolled": true
   },
   "outputs": [
    {
     "name": "stderr",
     "output_type": "stream",
     "text": [
      "c:\\python37\\lib\\site-packages\\ipykernel_launcher.py:1: SettingWithCopyWarning: \n",
      "A value is trying to be set on a copy of a slice from a DataFrame.\n",
      "Try using .loc[row_indexer,col_indexer] = value instead\n",
      "\n",
      "See the caveats in the documentation: https://pandas.pydata.org/pandas-docs/stable/user_guide/indexing.html#returning-a-view-versus-a-copy\n",
      "  \"\"\"Entry point for launching an IPython kernel.\n"
     ]
    }
   ],
   "source": [
    "X_temp['label'] = np.array(y_temp)"
   ]
  },
  {
   "cell_type": "code",
   "execution_count": 136,
   "metadata": {},
   "outputs": [
    {
     "data": {
      "text/html": [
       "<div>\n",
       "<style scoped>\n",
       "    .dataframe tbody tr th:only-of-type {\n",
       "        vertical-align: middle;\n",
       "    }\n",
       "\n",
       "    .dataframe tbody tr th {\n",
       "        vertical-align: top;\n",
       "    }\n",
       "\n",
       "    .dataframe thead th {\n",
       "        text-align: right;\n",
       "    }\n",
       "</style>\n",
       "<table border=\"1\" class=\"dataframe\">\n",
       "  <thead>\n",
       "    <tr style=\"text-align: right;\">\n",
       "      <th></th>\n",
       "      <th>corrected_tweet</th>\n",
       "      <th>label</th>\n",
       "    </tr>\n",
       "  </thead>\n",
       "  <tbody>\n",
       "    <tr>\n",
       "      <th>8366</th>\n",
       "      <td>fuck sideway mean miser low</td>\n",
       "      <td>0</td>\n",
       "    </tr>\n",
       "    <tr>\n",
       "      <th>6285</th>\n",
       "      <td>anim hat chill content bucket polar bear</td>\n",
       "      <td>0</td>\n",
       "    </tr>\n",
       "    <tr>\n",
       "      <th>24629</th>\n",
       "      <td>plan whole night around clinton life</td>\n",
       "      <td>0</td>\n",
       "    </tr>\n",
       "    <tr>\n",
       "      <th>17289</th>\n",
       "      <td>rememb lost empir dream success goal aim world...</td>\n",
       "      <td>0</td>\n",
       "    </tr>\n",
       "    <tr>\n",
       "      <th>16356</th>\n",
       "      <td>italian fascist car paladin need lobotomi wish...</td>\n",
       "      <td>1</td>\n",
       "    </tr>\n",
       "    <tr>\n",
       "      <th>...</th>\n",
       "      <td>...</td>\n",
       "      <td>...</td>\n",
       "    </tr>\n",
       "    <tr>\n",
       "      <th>26903</th>\n",
       "      <td>garden wisdom wisdom saturday morn flower satu...</td>\n",
       "      <td>0</td>\n",
       "    </tr>\n",
       "    <tr>\n",
       "      <th>15894</th>\n",
       "      <td>leadership award winner mari sch ster could be...</td>\n",
       "      <td>0</td>\n",
       "    </tr>\n",
       "    <tr>\n",
       "      <th>18460</th>\n",
       "      <td>bo fire due alleg told hate everyon honestli m...</td>\n",
       "      <td>1</td>\n",
       "    </tr>\n",
       "    <tr>\n",
       "      <th>15838</th>\n",
       "      <td>finish episod season sherlock sign</td>\n",
       "      <td>0</td>\n",
       "    </tr>\n",
       "    <tr>\n",
       "      <th>24114</th>\n",
       "      <td>creat someth beauti anoth day whatev make go c...</td>\n",
       "      <td>0</td>\n",
       "    </tr>\n",
       "  </tbody>\n",
       "</table>\n",
       "<p>28765 rows × 2 columns</p>\n",
       "</div>"
      ],
      "text/plain": [
       "                                         corrected_tweet  label\n",
       "8366                         fuck sideway mean miser low      0\n",
       "6285            anim hat chill content bucket polar bear      0\n",
       "24629               plan whole night around clinton life      0\n",
       "17289  rememb lost empir dream success goal aim world...      0\n",
       "16356  italian fascist car paladin need lobotomi wish...      1\n",
       "...                                                  ...    ...\n",
       "26903  garden wisdom wisdom saturday morn flower satu...      0\n",
       "15894  leadership award winner mari sch ster could be...      0\n",
       "18460  bo fire due alleg told hate everyon honestli m...      1\n",
       "15838                 finish episod season sherlock sign      0\n",
       "24114  creat someth beauti anoth day whatev make go c...      0\n",
       "\n",
       "[28765 rows x 2 columns]"
      ]
     },
     "execution_count": 136,
     "metadata": {},
     "output_type": "execute_result"
    }
   ],
   "source": [
    "X_temp"
   ]
  },
  {
   "cell_type": "code",
   "execution_count": 137,
   "metadata": {},
   "outputs": [
    {
     "data": {
      "text/plain": [
       "1"
      ]
     },
     "execution_count": 137,
     "metadata": {},
     "output_type": "execute_result"
    }
   ],
   "source": [
    "X_temp.at[16656,'label']"
   ]
  },
  {
   "cell_type": "code",
   "execution_count": 138,
   "metadata": {},
   "outputs": [
    {
     "data": {
      "text/plain": [
       "pandas.core.frame.DataFrame"
      ]
     },
     "execution_count": 138,
     "metadata": {},
     "output_type": "execute_result"
    }
   ],
   "source": [
    "type(X_temp)"
   ]
  },
  {
   "cell_type": "code",
   "execution_count": 139,
   "metadata": {},
   "outputs": [],
   "source": [
    "nonhate = X_temp[X_temp['label'] == 0]"
   ]
  },
  {
   "cell_type": "code",
   "execution_count": 140,
   "metadata": {},
   "outputs": [
    {
     "data": {
      "text/html": [
       "<div>\n",
       "<style scoped>\n",
       "    .dataframe tbody tr th:only-of-type {\n",
       "        vertical-align: middle;\n",
       "    }\n",
       "\n",
       "    .dataframe tbody tr th {\n",
       "        vertical-align: top;\n",
       "    }\n",
       "\n",
       "    .dataframe thead th {\n",
       "        text-align: right;\n",
       "    }\n",
       "</style>\n",
       "<table border=\"1\" class=\"dataframe\">\n",
       "  <thead>\n",
       "    <tr style=\"text-align: right;\">\n",
       "      <th></th>\n",
       "      <th>corrected_tweet</th>\n",
       "      <th>label</th>\n",
       "    </tr>\n",
       "  </thead>\n",
       "  <tbody>\n",
       "    <tr>\n",
       "      <th>8366</th>\n",
       "      <td>fuck sideway mean miser low</td>\n",
       "      <td>0</td>\n",
       "    </tr>\n",
       "    <tr>\n",
       "      <th>6285</th>\n",
       "      <td>anim hat chill content bucket polar bear</td>\n",
       "      <td>0</td>\n",
       "    </tr>\n",
       "    <tr>\n",
       "      <th>24629</th>\n",
       "      <td>plan whole night around clinton life</td>\n",
       "      <td>0</td>\n",
       "    </tr>\n",
       "    <tr>\n",
       "      <th>17289</th>\n",
       "      <td>rememb lost empir dream success goal aim world...</td>\n",
       "      <td>0</td>\n",
       "    </tr>\n",
       "    <tr>\n",
       "      <th>5777</th>\n",
       "      <td>day princ philip duke edinburgh turn congrat k...</td>\n",
       "      <td>0</td>\n",
       "    </tr>\n",
       "  </tbody>\n",
       "</table>\n",
       "</div>"
      ],
      "text/plain": [
       "                                         corrected_tweet  label\n",
       "8366                         fuck sideway mean miser low      0\n",
       "6285            anim hat chill content bucket polar bear      0\n",
       "24629               plan whole night around clinton life      0\n",
       "17289  rememb lost empir dream success goal aim world...      0\n",
       "5777   day princ philip duke edinburgh turn congrat k...      0"
      ]
     },
     "execution_count": 140,
     "metadata": {},
     "output_type": "execute_result"
    }
   ],
   "source": [
    "nonhate.head()"
   ]
  },
  {
   "cell_type": "code",
   "execution_count": 141,
   "metadata": {},
   "outputs": [],
   "source": [
    "hate = X_temp[X_temp.label == 1]"
   ]
  },
  {
   "cell_type": "code",
   "execution_count": 142,
   "metadata": {},
   "outputs": [
    {
     "data": {
      "text/plain": [
       "2039"
      ]
     },
     "execution_count": 142,
     "metadata": {},
     "output_type": "execute_result"
    }
   ],
   "source": [
    "hate.shape[0]"
   ]
  },
  {
   "cell_type": "code",
   "execution_count": 143,
   "metadata": {},
   "outputs": [],
   "source": [
    "nonhatesample = nonhate.sample(n = hate.shape[0])"
   ]
  },
  {
   "cell_type": "code",
   "execution_count": 144,
   "metadata": {},
   "outputs": [
    {
     "data": {
      "text/html": [
       "<div>\n",
       "<style scoped>\n",
       "    .dataframe tbody tr th:only-of-type {\n",
       "        vertical-align: middle;\n",
       "    }\n",
       "\n",
       "    .dataframe tbody tr th {\n",
       "        vertical-align: top;\n",
       "    }\n",
       "\n",
       "    .dataframe thead th {\n",
       "        text-align: right;\n",
       "    }\n",
       "</style>\n",
       "<table border=\"1\" class=\"dataframe\">\n",
       "  <thead>\n",
       "    <tr style=\"text-align: right;\">\n",
       "      <th></th>\n",
       "      <th>corrected_tweet</th>\n",
       "      <th>label</th>\n",
       "    </tr>\n",
       "  </thead>\n",
       "  <tbody>\n",
       "    <tr>\n",
       "      <th>19906</th>\n",
       "      <td>happi friday everyon ali friday everyon summer...</td>\n",
       "      <td>0</td>\n",
       "    </tr>\n",
       "    <tr>\n",
       "      <th>4393</th>\n",
       "      <td>ltd get tit may moment rosi wear sosa</td>\n",
       "      <td>0</td>\n",
       "    </tr>\n",
       "    <tr>\n",
       "      <th>2788</th>\n",
       "      <td>wow sure teach skill set seminari cultur death</td>\n",
       "      <td>0</td>\n",
       "    </tr>\n",
       "    <tr>\n",
       "      <th>14177</th>\n",
       "      <td>go see reginald hunter tonight derri comedi</td>\n",
       "      <td>0</td>\n",
       "    </tr>\n",
       "    <tr>\n",
       "      <th>2094</th>\n",
       "      <td>instaaoftheday buffalo simul buffalo take vici...</td>\n",
       "      <td>0</td>\n",
       "    </tr>\n",
       "  </tbody>\n",
       "</table>\n",
       "</div>"
      ],
      "text/plain": [
       "                                         corrected_tweet  label\n",
       "19906  happi friday everyon ali friday everyon summer...      0\n",
       "4393               ltd get tit may moment rosi wear sosa      0\n",
       "2788      wow sure teach skill set seminari cultur death      0\n",
       "14177        go see reginald hunter tonight derri comedi      0\n",
       "2094   instaaoftheday buffalo simul buffalo take vici...      0"
      ]
     },
     "execution_count": 144,
     "metadata": {},
     "output_type": "execute_result"
    }
   ],
   "source": [
    "nonhatesample.head()"
   ]
  },
  {
   "cell_type": "code",
   "execution_count": 145,
   "metadata": {},
   "outputs": [
    {
     "data": {
      "text/plain": [
       "(2039, 2)"
      ]
     },
     "execution_count": 145,
     "metadata": {},
     "output_type": "execute_result"
    }
   ],
   "source": [
    "nonhatesample.shape"
   ]
  },
  {
   "cell_type": "code",
   "execution_count": null,
   "metadata": {},
   "outputs": [],
   "source": []
  },
  {
   "cell_type": "code",
   "execution_count": null,
   "metadata": {},
   "outputs": [],
   "source": []
  },
  {
   "cell_type": "code",
   "execution_count": 146,
   "metadata": {},
   "outputs": [],
   "source": [
    "ds = pd.concat([hate, nonhatesample], axis = 0)"
   ]
  },
  {
   "cell_type": "code",
   "execution_count": 147,
   "metadata": {},
   "outputs": [
    {
     "data": {
      "text/html": [
       "<div>\n",
       "<style scoped>\n",
       "    .dataframe tbody tr th:only-of-type {\n",
       "        vertical-align: middle;\n",
       "    }\n",
       "\n",
       "    .dataframe tbody tr th {\n",
       "        vertical-align: top;\n",
       "    }\n",
       "\n",
       "    .dataframe thead th {\n",
       "        text-align: right;\n",
       "    }\n",
       "</style>\n",
       "<table border=\"1\" class=\"dataframe\">\n",
       "  <thead>\n",
       "    <tr style=\"text-align: right;\">\n",
       "      <th></th>\n",
       "      <th>corrected_tweet</th>\n",
       "      <th>label</th>\n",
       "    </tr>\n",
       "  </thead>\n",
       "  <tbody>\n",
       "    <tr>\n",
       "      <th>12283</th>\n",
       "      <td>write script upcom video gratitud guy tell pra...</td>\n",
       "      <td>0</td>\n",
       "    </tr>\n",
       "    <tr>\n",
       "      <th>29640</th>\n",
       "      <td>damien complet made death last week back reali...</td>\n",
       "      <td>0</td>\n",
       "    </tr>\n",
       "    <tr>\n",
       "      <th>13658</th>\n",
       "      <td>race end suggest one would suffer happi rep ne...</td>\n",
       "      <td>0</td>\n",
       "    </tr>\n",
       "    <tr>\n",
       "      <th>16918</th>\n",
       "      <td>famili trip man organ good man eat organ famil...</td>\n",
       "      <td>0</td>\n",
       "    </tr>\n",
       "    <tr>\n",
       "      <th>9880</th>\n",
       "      <td>final finish hour type need spellcheck refus w...</td>\n",
       "      <td>0</td>\n",
       "    </tr>\n",
       "  </tbody>\n",
       "</table>\n",
       "</div>"
      ],
      "text/plain": [
       "                                         corrected_tweet  label\n",
       "12283  write script upcom video gratitud guy tell pra...      0\n",
       "29640  damien complet made death last week back reali...      0\n",
       "13658  race end suggest one would suffer happi rep ne...      0\n",
       "16918  famili trip man organ good man eat organ famil...      0\n",
       "9880   final finish hour type need spellcheck refus w...      0"
      ]
     },
     "execution_count": 147,
     "metadata": {},
     "output_type": "execute_result"
    }
   ],
   "source": [
    "ds.tail()"
   ]
  },
  {
   "cell_type": "code",
   "execution_count": 148,
   "metadata": {},
   "outputs": [
    {
     "data": {
      "text/plain": [
       "(4078, 2)"
      ]
     },
     "execution_count": 148,
     "metadata": {},
     "output_type": "execute_result"
    }
   ],
   "source": [
    "ds.shape"
   ]
  },
  {
   "cell_type": "code",
   "execution_count": 149,
   "metadata": {},
   "outputs": [],
   "source": [
    "#ds.to_csv(\"G:UCI/Q2/trainset.csv\")\n",
    "ds.to_pickle('data/trainset.pkl')"
   ]
  },
  {
   "cell_type": "code",
   "execution_count": 150,
   "metadata": {},
   "outputs": [],
   "source": [
    "#ds = pd.read_csv(\"G:UCI/Q2/trainset.csv\")\n",
    "ds = pd.read_pickle('data/trainset.pkl')"
   ]
  },
  {
   "cell_type": "code",
   "execution_count": 151,
   "metadata": {},
   "outputs": [
    {
     "data": {
      "text/html": [
       "<div>\n",
       "<style scoped>\n",
       "    .dataframe tbody tr th:only-of-type {\n",
       "        vertical-align: middle;\n",
       "    }\n",
       "\n",
       "    .dataframe tbody tr th {\n",
       "        vertical-align: top;\n",
       "    }\n",
       "\n",
       "    .dataframe thead th {\n",
       "        text-align: right;\n",
       "    }\n",
       "</style>\n",
       "<table border=\"1\" class=\"dataframe\">\n",
       "  <thead>\n",
       "    <tr style=\"text-align: right;\">\n",
       "      <th></th>\n",
       "      <th>corrected_tweet</th>\n",
       "      <th>label</th>\n",
       "    </tr>\n",
       "  </thead>\n",
       "  <tbody>\n",
       "    <tr>\n",
       "      <th>16356</th>\n",
       "      <td>italian fascist car paladin need lobotomi wish...</td>\n",
       "      <td>1</td>\n",
       "    </tr>\n",
       "    <tr>\n",
       "      <th>23773</th>\n",
       "      <td>wake left stop hypocrit liber logic</td>\n",
       "      <td>1</td>\n",
       "    </tr>\n",
       "    <tr>\n",
       "      <th>10229</th>\n",
       "      <td>evid import credit vote</td>\n",
       "      <td>1</td>\n",
       "    </tr>\n",
       "    <tr>\n",
       "      <th>4594</th>\n",
       "      <td>white nationalist leader reveal horrifi hope a...</td>\n",
       "      <td>1</td>\n",
       "    </tr>\n",
       "    <tr>\n",
       "      <th>8515</th>\n",
       "      <td>die light villag green town antisemit school c...</td>\n",
       "      <td>1</td>\n",
       "    </tr>\n",
       "  </tbody>\n",
       "</table>\n",
       "</div>"
      ],
      "text/plain": [
       "                                         corrected_tweet  label\n",
       "16356  italian fascist car paladin need lobotomi wish...      1\n",
       "23773                wake left stop hypocrit liber logic      1\n",
       "10229                            evid import credit vote      1\n",
       "4594   white nationalist leader reveal horrifi hope a...      1\n",
       "8515   die light villag green town antisemit school c...      1"
      ]
     },
     "execution_count": 151,
     "metadata": {},
     "output_type": "execute_result"
    }
   ],
   "source": [
    "ds.head()"
   ]
  },
  {
   "cell_type": "code",
   "execution_count": 152,
   "metadata": {},
   "outputs": [],
   "source": [
    "ds_temp = ds"
   ]
  },
  {
   "cell_type": "code",
   "execution_count": 153,
   "metadata": {},
   "outputs": [
    {
     "name": "stderr",
     "output_type": "stream",
     "text": [
      "c:\\python37\\lib\\site-packages\\ipykernel_launcher.py:2: SettingWithCopyWarning: \n",
      "A value is trying to be set on a copy of a slice from a DataFrame.\n",
      "Try using .loc[row_indexer,col_indexer] = value instead\n",
      "\n",
      "See the caveats in the documentation: https://pandas.pydata.org/pandas-docs/stable/user_guide/indexing.html#returning-a-view-versus-a-copy\n",
      "  \n"
     ]
    }
   ],
   "source": [
    "testdf = X_test\n",
    "testdf['label'] = y_test"
   ]
  },
  {
   "cell_type": "code",
   "execution_count": 154,
   "metadata": {},
   "outputs": [
    {
     "data": {
      "text/plain": [
       "(3197, 2)"
      ]
     },
     "execution_count": 154,
     "metadata": {},
     "output_type": "execute_result"
    }
   ],
   "source": [
    "testdf.shape"
   ]
  },
  {
   "cell_type": "code",
   "execution_count": 155,
   "metadata": {},
   "outputs": [],
   "source": [
    "ds = pd.concat([ds_temp, testdf], axis = 0)"
   ]
  },
  {
   "cell_type": "code",
   "execution_count": 156,
   "metadata": {},
   "outputs": [
    {
     "data": {
      "text/html": [
       "<div>\n",
       "<style scoped>\n",
       "    .dataframe tbody tr th:only-of-type {\n",
       "        vertical-align: middle;\n",
       "    }\n",
       "\n",
       "    .dataframe tbody tr th {\n",
       "        vertical-align: top;\n",
       "    }\n",
       "\n",
       "    .dataframe thead th {\n",
       "        text-align: right;\n",
       "    }\n",
       "</style>\n",
       "<table border=\"1\" class=\"dataframe\">\n",
       "  <thead>\n",
       "    <tr style=\"text-align: right;\">\n",
       "      <th></th>\n",
       "      <th>corrected_tweet</th>\n",
       "      <th>label</th>\n",
       "    </tr>\n",
       "  </thead>\n",
       "  <tbody>\n",
       "    <tr>\n",
       "      <th>16356</th>\n",
       "      <td>italian fascist car paladin need lobotomi wish...</td>\n",
       "      <td>1</td>\n",
       "    </tr>\n",
       "    <tr>\n",
       "      <th>23773</th>\n",
       "      <td>wake left stop hypocrit liber logic</td>\n",
       "      <td>1</td>\n",
       "    </tr>\n",
       "    <tr>\n",
       "      <th>10229</th>\n",
       "      <td>evid import credit vote</td>\n",
       "      <td>1</td>\n",
       "    </tr>\n",
       "    <tr>\n",
       "      <th>4594</th>\n",
       "      <td>white nationalist leader reveal horrifi hope a...</td>\n",
       "      <td>1</td>\n",
       "    </tr>\n",
       "    <tr>\n",
       "      <th>8515</th>\n",
       "      <td>die light villag green town antisemit school c...</td>\n",
       "      <td>1</td>\n",
       "    </tr>\n",
       "  </tbody>\n",
       "</table>\n",
       "</div>"
      ],
      "text/plain": [
       "                                         corrected_tweet  label\n",
       "16356  italian fascist car paladin need lobotomi wish...      1\n",
       "23773                wake left stop hypocrit liber logic      1\n",
       "10229                            evid import credit vote      1\n",
       "4594   white nationalist leader reveal horrifi hope a...      1\n",
       "8515   die light villag green town antisemit school c...      1"
      ]
     },
     "execution_count": 156,
     "metadata": {},
     "output_type": "execute_result"
    }
   ],
   "source": [
    "ds.head()"
   ]
  },
  {
   "cell_type": "code",
   "execution_count": 157,
   "metadata": {},
   "outputs": [
    {
     "data": {
      "text/plain": [
       "(7275, 2)"
      ]
     },
     "execution_count": 157,
     "metadata": {},
     "output_type": "execute_result"
    }
   ],
   "source": [
    "ds.shape"
   ]
  },
  {
   "cell_type": "code",
   "execution_count": 158,
   "metadata": {},
   "outputs": [
    {
     "data": {
      "text/html": [
       "<div>\n",
       "<style scoped>\n",
       "    .dataframe tbody tr th:only-of-type {\n",
       "        vertical-align: middle;\n",
       "    }\n",
       "\n",
       "    .dataframe tbody tr th {\n",
       "        vertical-align: top;\n",
       "    }\n",
       "\n",
       "    .dataframe thead th {\n",
       "        text-align: right;\n",
       "    }\n",
       "</style>\n",
       "<table border=\"1\" class=\"dataframe\">\n",
       "  <thead>\n",
       "    <tr style=\"text-align: right;\">\n",
       "      <th></th>\n",
       "      <th>corrected_tweet</th>\n",
       "      <th>label</th>\n",
       "    </tr>\n",
       "  </thead>\n",
       "  <tbody>\n",
       "    <tr>\n",
       "      <th>23075</th>\n",
       "      <td>black beauti thursday</td>\n",
       "      <td>0</td>\n",
       "    </tr>\n",
       "    <tr>\n",
       "      <th>5568</th>\n",
       "      <td>excit saturday fake festiv sister day si mate ...</td>\n",
       "      <td>0</td>\n",
       "    </tr>\n",
       "    <tr>\n",
       "      <th>23772</th>\n",
       "      <td>went severn valley park run paddl river dog</td>\n",
       "      <td>0</td>\n",
       "    </tr>\n",
       "    <tr>\n",
       "      <th>5974</th>\n",
       "      <td>repostdosoffieros thank love follow share come...</td>\n",
       "      <td>0</td>\n",
       "    </tr>\n",
       "    <tr>\n",
       "      <th>8820</th>\n",
       "      <td>help laugh cd model</td>\n",
       "      <td>0</td>\n",
       "    </tr>\n",
       "  </tbody>\n",
       "</table>\n",
       "</div>"
      ],
      "text/plain": [
       "                                         corrected_tweet  label\n",
       "23075                              black beauti thursday      0\n",
       "5568   excit saturday fake festiv sister day si mate ...      0\n",
       "23772        went severn valley park run paddl river dog      0\n",
       "5974   repostdosoffieros thank love follow share come...      0\n",
       "8820                                 help laugh cd model      0"
      ]
     },
     "execution_count": 158,
     "metadata": {},
     "output_type": "execute_result"
    }
   ],
   "source": [
    "testdf.head()"
   ]
  },
  {
   "cell_type": "code",
   "execution_count": 159,
   "metadata": {},
   "outputs": [
    {
     "data": {
      "text/plain": [
       "[23075,\n",
       " 5568,\n",
       " 23772,\n",
       " 5974,\n",
       " 8820,\n",
       " 3691,\n",
       " 24445,\n",
       " 20279,\n",
       " 2795,\n",
       " 16165,\n",
       " 6967,\n",
       " 19838,\n",
       " 26876,\n",
       " 7419,\n",
       " 12142,\n",
       " 15557,\n",
       " 4606,\n",
       " 4590,\n",
       " 24069,\n",
       " 2600,\n",
       " 5160,\n",
       " 17137,\n",
       " 22683,\n",
       " 20851,\n",
       " 369,\n",
       " 22282,\n",
       " 7625,\n",
       " 13183,\n",
       " 12186,\n",
       " 8894,\n",
       " 10513,\n",
       " 8886,\n",
       " 23934,\n",
       " 30049,\n",
       " 15412,\n",
       " 17923,\n",
       " 26430,\n",
       " 30633,\n",
       " 22335,\n",
       " 22280,\n",
       " 24122,\n",
       " 17925,\n",
       " 29432,\n",
       " 28930,\n",
       " 9960,\n",
       " 11704,\n",
       " 16682,\n",
       " 19551,\n",
       " 1607,\n",
       " 5536,\n",
       " 19189,\n",
       " 26946,\n",
       " 10191,\n",
       " 23808,\n",
       " 22720,\n",
       " 4245,\n",
       " 14221,\n",
       " 22675,\n",
       " 27176,\n",
       " 13811,\n",
       " 30596,\n",
       " 14470,\n",
       " 10549,\n",
       " 19959,\n",
       " 24580,\n",
       " 8181,\n",
       " 9925,\n",
       " 22483,\n",
       " 28849,\n",
       " 8238,\n",
       " 3864,\n",
       " 6904,\n",
       " 9193,\n",
       " 8357,\n",
       " 18205,\n",
       " 3692,\n",
       " 19675,\n",
       " 21771,\n",
       " 7379,\n",
       " 5237,\n",
       " 16965,\n",
       " 27125,\n",
       " 21707,\n",
       " 21727,\n",
       " 12206,\n",
       " 24627,\n",
       " 7458,\n",
       " 25282,\n",
       " 2236,\n",
       " 22695,\n",
       " 21127,\n",
       " 16304,\n",
       " 20828,\n",
       " 20360,\n",
       " 6909,\n",
       " 7345,\n",
       " 18178,\n",
       " 29851,\n",
       " 27230,\n",
       " 9239,\n",
       " 10812,\n",
       " 889,\n",
       " 16019,\n",
       " 20295,\n",
       " 15741,\n",
       " 18247,\n",
       " 14542,\n",
       " 14605,\n",
       " 10749,\n",
       " 30354,\n",
       " 24935,\n",
       " 21248,\n",
       " 19216,\n",
       " 3449,\n",
       " 17053,\n",
       " 11845,\n",
       " 20773,\n",
       " 25315,\n",
       " 5462,\n",
       " 22963,\n",
       " 12008,\n",
       " 30219,\n",
       " 11875,\n",
       " 4672,\n",
       " 22775,\n",
       " 21731,\n",
       " 23525,\n",
       " 83,\n",
       " 31433,\n",
       " 7810,\n",
       " 5624,\n",
       " 16691,\n",
       " 11922,\n",
       " 16410,\n",
       " 17288,\n",
       " 23722,\n",
       " 26155,\n",
       " 5884,\n",
       " 24943,\n",
       " 6892,\n",
       " 9254,\n",
       " 27980,\n",
       " 4122,\n",
       " 11538,\n",
       " 15988,\n",
       " 20082,\n",
       " 23966,\n",
       " 2146,\n",
       " 4942,\n",
       " 16349,\n",
       " 41,\n",
       " 20437,\n",
       " 27707,\n",
       " 22086,\n",
       " 9306,\n",
       " 13633,\n",
       " 1952,\n",
       " 13758,\n",
       " 9247,\n",
       " 23446,\n",
       " 21299,\n",
       " 27049,\n",
       " 24683,\n",
       " 8882,\n",
       " 18765,\n",
       " 20589,\n",
       " 23670,\n",
       " 2759,\n",
       " 30800,\n",
       " 14390,\n",
       " 2343,\n",
       " 5528,\n",
       " 24533,\n",
       " 15553,\n",
       " 25465,\n",
       " 30845,\n",
       " 21357,\n",
       " 1295,\n",
       " 6412,\n",
       " 13965,\n",
       " 28682,\n",
       " 9106,\n",
       " 13214,\n",
       " 26193,\n",
       " 20733,\n",
       " 16838,\n",
       " 17562,\n",
       " 22071,\n",
       " 22581,\n",
       " 15644,\n",
       " 127,\n",
       " 30647,\n",
       " 3880,\n",
       " 30726,\n",
       " 19772,\n",
       " 18082,\n",
       " 1911,\n",
       " 8014,\n",
       " 5300,\n",
       " 24584,\n",
       " 31758,\n",
       " 17825,\n",
       " 18273,\n",
       " 6353,\n",
       " 25640,\n",
       " 11994,\n",
       " 15874,\n",
       " 7062,\n",
       " 6304,\n",
       " 4109,\n",
       " 2538,\n",
       " 21024,\n",
       " 27347,\n",
       " 10386,\n",
       " 25615,\n",
       " 30865,\n",
       " 18397,\n",
       " 29243,\n",
       " 5682,\n",
       " 1958,\n",
       " 25950,\n",
       " 9583,\n",
       " 5468,\n",
       " 27676,\n",
       " 2510,\n",
       " 4612,\n",
       " 28243,\n",
       " 7879,\n",
       " 2719,\n",
       " 24363,\n",
       " 25900,\n",
       " 2897,\n",
       " 481,\n",
       " 3488,\n",
       " 12998,\n",
       " 24057,\n",
       " 18153,\n",
       " 4310,\n",
       " 15637,\n",
       " 980,\n",
       " 4341,\n",
       " 4650,\n",
       " 6155,\n",
       " 6551,\n",
       " 31291,\n",
       " 5314,\n",
       " 6247,\n",
       " 24689,\n",
       " 16089,\n",
       " 6373,\n",
       " 20277,\n",
       " 3752,\n",
       " 5929,\n",
       " 17643,\n",
       " 26232,\n",
       " 19626,\n",
       " 10072,\n",
       " 19232,\n",
       " 19797,\n",
       " 10620,\n",
       " 5400,\n",
       " 5095,\n",
       " 13691,\n",
       " 17419,\n",
       " 24392,\n",
       " 28603,\n",
       " 27644,\n",
       " 12817,\n",
       " 21926,\n",
       " 27738,\n",
       " 13066,\n",
       " 23211,\n",
       " 2400,\n",
       " 15688,\n",
       " 23865,\n",
       " 28902,\n",
       " 27299,\n",
       " 2314,\n",
       " 22059,\n",
       " 28513,\n",
       " 23800,\n",
       " 1205,\n",
       " 26784,\n",
       " 2603,\n",
       " 23892,\n",
       " 28367,\n",
       " 30650,\n",
       " 6173,\n",
       " 11618,\n",
       " 26539,\n",
       " 8021,\n",
       " 31787,\n",
       " 29264,\n",
       " 8374,\n",
       " 20718,\n",
       " 6832,\n",
       " 4858,\n",
       " 12869,\n",
       " 6646,\n",
       " 10333,\n",
       " 11181,\n",
       " 8672,\n",
       " 31154,\n",
       " 25024,\n",
       " 31269,\n",
       " 14806,\n",
       " 11173,\n",
       " 22369,\n",
       " 31652,\n",
       " 1063,\n",
       " 9677,\n",
       " 17740,\n",
       " 11630,\n",
       " 30646,\n",
       " 23382,\n",
       " 17516,\n",
       " 11452,\n",
       " 25090,\n",
       " 31478,\n",
       " 13580,\n",
       " 1715,\n",
       " 31557,\n",
       " 16088,\n",
       " 22160,\n",
       " 9027,\n",
       " 242,\n",
       " 6120,\n",
       " 29015,\n",
       " 19231,\n",
       " 2334,\n",
       " 30555,\n",
       " 31840,\n",
       " 30162,\n",
       " 23376,\n",
       " 24194,\n",
       " 31231,\n",
       " 19341,\n",
       " 28152,\n",
       " 24015,\n",
       " 25741,\n",
       " 1719,\n",
       " 27661,\n",
       " 30311,\n",
       " 4817,\n",
       " 2013,\n",
       " 31494,\n",
       " 4884,\n",
       " 28233,\n",
       " 18732,\n",
       " 23877,\n",
       " 23632,\n",
       " 8004,\n",
       " 901,\n",
       " 1220,\n",
       " 6520,\n",
       " 19250,\n",
       " 14718,\n",
       " 765,\n",
       " 11736,\n",
       " 6130,\n",
       " 6675,\n",
       " 23972,\n",
       " 28822,\n",
       " 18374,\n",
       " 9422,\n",
       " 10556,\n",
       " 10425,\n",
       " 23391,\n",
       " 20756,\n",
       " 7425,\n",
       " 16902,\n",
       " 13990,\n",
       " 4770,\n",
       " 1085,\n",
       " 10883,\n",
       " 14356,\n",
       " 2574,\n",
       " 26013,\n",
       " 25765,\n",
       " 7927,\n",
       " 21612,\n",
       " 18016,\n",
       " 16099,\n",
       " 2214,\n",
       " 14824,\n",
       " 4244,\n",
       " 7144,\n",
       " 23407,\n",
       " 17869,\n",
       " 29253,\n",
       " 10061,\n",
       " 2532,\n",
       " 2660,\n",
       " 22370,\n",
       " 7008,\n",
       " 19091,\n",
       " 26058,\n",
       " 19210,\n",
       " 30069,\n",
       " 15832,\n",
       " 21685,\n",
       " 3181,\n",
       " 15716,\n",
       " 18004,\n",
       " 19734,\n",
       " 4706,\n",
       " 20800,\n",
       " 6714,\n",
       " 28761,\n",
       " 3678,\n",
       " 8008,\n",
       " 21063,\n",
       " 7662,\n",
       " 1809,\n",
       " 18100,\n",
       " 31179,\n",
       " 27753,\n",
       " 26844,\n",
       " 12600,\n",
       " 12136,\n",
       " 11422,\n",
       " 31732,\n",
       " 4919,\n",
       " 15873,\n",
       " 24869,\n",
       " 29864,\n",
       " 5608,\n",
       " 26189,\n",
       " 11791,\n",
       " 29577,\n",
       " 11132,\n",
       " 18704,\n",
       " 25384,\n",
       " 12635,\n",
       " 24082,\n",
       " 1686,\n",
       " 17277,\n",
       " 31357,\n",
       " 3153,\n",
       " 29699,\n",
       " 5654,\n",
       " 2297,\n",
       " 12736,\n",
       " 30881,\n",
       " 19366,\n",
       " 29847,\n",
       " 19006,\n",
       " 23073,\n",
       " 23562,\n",
       " 28238,\n",
       " 7262,\n",
       " 5337,\n",
       " 27654,\n",
       " 14741,\n",
       " 16994,\n",
       " 9829,\n",
       " 30304,\n",
       " 23620,\n",
       " 2588,\n",
       " 13740,\n",
       " 24905,\n",
       " 27906,\n",
       " 17927,\n",
       " 12020,\n",
       " 12442,\n",
       " 19980,\n",
       " 14651,\n",
       " 16980,\n",
       " 14814,\n",
       " 30220,\n",
       " 12037,\n",
       " 24596,\n",
       " 30893,\n",
       " 29784,\n",
       " 24275,\n",
       " 11893,\n",
       " 10148,\n",
       " 8547,\n",
       " 9725,\n",
       " 29439,\n",
       " 18071,\n",
       " 26070,\n",
       " 28018,\n",
       " 17332,\n",
       " 30964,\n",
       " 15800,\n",
       " 25505,\n",
       " 13880,\n",
       " 7480,\n",
       " 30431,\n",
       " 15578,\n",
       " 17922,\n",
       " 14670,\n",
       " 9913,\n",
       " 14736,\n",
       " 30336,\n",
       " 26911,\n",
       " 22707,\n",
       " 815,\n",
       " 3850,\n",
       " 3340,\n",
       " 3551,\n",
       " 28470,\n",
       " 17622,\n",
       " 16527,\n",
       " 30295,\n",
       " 25810,\n",
       " 7981,\n",
       " 28145,\n",
       " 14264,\n",
       " 19226,\n",
       " 4209,\n",
       " 31314,\n",
       " 4559,\n",
       " 29651,\n",
       " 2255,\n",
       " 21249,\n",
       " 25559,\n",
       " 5090,\n",
       " 2037,\n",
       " 29975,\n",
       " 3871,\n",
       " 26281,\n",
       " 28269,\n",
       " 24344,\n",
       " 23409,\n",
       " 26503,\n",
       " 26504,\n",
       " 10176,\n",
       " 16384,\n",
       " 15508,\n",
       " 10956,\n",
       " 20898,\n",
       " 14903,\n",
       " 27849,\n",
       " 14036,\n",
       " 27841,\n",
       " 28447,\n",
       " 28618,\n",
       " 7568,\n",
       " 9455,\n",
       " 28736,\n",
       " 12298,\n",
       " 19503,\n",
       " 13737,\n",
       " 15939,\n",
       " 27226,\n",
       " 19419,\n",
       " 26522,\n",
       " 14344,\n",
       " 18069,\n",
       " 29069,\n",
       " 6998,\n",
       " 30057,\n",
       " 24426,\n",
       " 31809,\n",
       " 1739,\n",
       " 11075,\n",
       " 6231,\n",
       " 17816,\n",
       " 4003,\n",
       " 1277,\n",
       " 17210,\n",
       " 4947,\n",
       " 2014,\n",
       " 22329,\n",
       " 22420,\n",
       " 29743,\n",
       " 30242,\n",
       " 24302,\n",
       " 1613,\n",
       " 13584,\n",
       " 2313,\n",
       " 15859,\n",
       " 7849,\n",
       " 31600,\n",
       " 19236,\n",
       " 23510,\n",
       " 16503,\n",
       " 14499,\n",
       " 27939,\n",
       " 30054,\n",
       " 3379,\n",
       " 594,\n",
       " 1948,\n",
       " 15798,\n",
       " 19509,\n",
       " 2682,\n",
       " 1388,\n",
       " 16131,\n",
       " 20772,\n",
       " 20651,\n",
       " 22368,\n",
       " 12716,\n",
       " 31047,\n",
       " 18658,\n",
       " 25365,\n",
       " 13469,\n",
       " 29981,\n",
       " 2233,\n",
       " 2650,\n",
       " 1060,\n",
       " 24896,\n",
       " 16702,\n",
       " 15517,\n",
       " 1612,\n",
       " 10195,\n",
       " 28450,\n",
       " 29914,\n",
       " 21323,\n",
       " 27737,\n",
       " 9773,\n",
       " 29212,\n",
       " 16319,\n",
       " 18361,\n",
       " 4589,\n",
       " 16914,\n",
       " 5039,\n",
       " 31617,\n",
       " 16662,\n",
       " 29415,\n",
       " 24956,\n",
       " 8243,\n",
       " 15996,\n",
       " 21460,\n",
       " 7454,\n",
       " 14119,\n",
       " 27039,\n",
       " 27695,\n",
       " 10663,\n",
       " 25793,\n",
       " 27037,\n",
       " 15806,\n",
       " 20405,\n",
       " 227,\n",
       " 4711,\n",
       " 27390,\n",
       " 29361,\n",
       " 15809,\n",
       " 6152,\n",
       " 30772,\n",
       " 29350,\n",
       " 6135,\n",
       " 23851,\n",
       " 10138,\n",
       " 14940,\n",
       " 5255,\n",
       " 12347,\n",
       " 14485,\n",
       " 665,\n",
       " 16561,\n",
       " 5466,\n",
       " 11873,\n",
       " 6989,\n",
       " 10433,\n",
       " 59,\n",
       " 2074,\n",
       " 23957,\n",
       " 17718,\n",
       " 22112,\n",
       " 16931,\n",
       " 12638,\n",
       " 6990,\n",
       " 26861,\n",
       " 3118,\n",
       " 2671,\n",
       " 3782,\n",
       " 8532,\n",
       " 4178,\n",
       " 13675,\n",
       " 30199,\n",
       " 25234,\n",
       " 7547,\n",
       " 27151,\n",
       " 27554,\n",
       " 15093,\n",
       " 23072,\n",
       " 12426,\n",
       " 26218,\n",
       " 11556,\n",
       " 13162,\n",
       " 4415,\n",
       " 24444,\n",
       " 22566,\n",
       " 1152,\n",
       " 11454,\n",
       " 7960,\n",
       " 21523,\n",
       " 29233,\n",
       " 8588,\n",
       " 9992,\n",
       " 13331,\n",
       " 9142,\n",
       " 1555,\n",
       " 23530,\n",
       " 11002,\n",
       " 2075,\n",
       " 22418,\n",
       " 7334,\n",
       " 12705,\n",
       " 13230,\n",
       " 2399,\n",
       " 4455,\n",
       " 20952,\n",
       " 2941,\n",
       " 19152,\n",
       " 27836,\n",
       " 1870,\n",
       " 13731,\n",
       " 6459,\n",
       " 20832,\n",
       " 27067,\n",
       " 21129,\n",
       " 7086,\n",
       " 27945,\n",
       " 1599,\n",
       " 5220,\n",
       " 3905,\n",
       " 8832,\n",
       " 20972,\n",
       " 11878,\n",
       " 7401,\n",
       " 26601,\n",
       " 15795,\n",
       " 19011,\n",
       " 12177,\n",
       " 28989,\n",
       " 1253,\n",
       " 9856,\n",
       " 9674,\n",
       " 9634,\n",
       " 30769,\n",
       " 7685,\n",
       " 27194,\n",
       " 16135,\n",
       " 30854,\n",
       " 3078,\n",
       " 8092,\n",
       " 16781,\n",
       " 30750,\n",
       " 18179,\n",
       " 15645,\n",
       " 9458,\n",
       " 31336,\n",
       " 21110,\n",
       " 20088,\n",
       " 29707,\n",
       " 1923,\n",
       " 18854,\n",
       " 4869,\n",
       " 8865,\n",
       " 9478,\n",
       " 22734,\n",
       " 25594,\n",
       " 20687,\n",
       " 13783,\n",
       " 17493,\n",
       " 7431,\n",
       " 24197,\n",
       " 9244,\n",
       " 6848,\n",
       " 8433,\n",
       " 13702,\n",
       " 29917,\n",
       " 3604,\n",
       " 24528,\n",
       " 27279,\n",
       " 17862,\n",
       " 25224,\n",
       " 3892,\n",
       " 24708,\n",
       " 1546,\n",
       " 28252,\n",
       " 28622,\n",
       " 15228,\n",
       " 26253,\n",
       " 17279,\n",
       " 21508,\n",
       " 2827,\n",
       " 6049,\n",
       " 31088,\n",
       " 23743,\n",
       " 8248,\n",
       " 11394,\n",
       " 14257,\n",
       " 5026,\n",
       " 9273,\n",
       " 26440,\n",
       " 18299,\n",
       " 17554,\n",
       " 8667,\n",
       " 31730,\n",
       " 8060,\n",
       " 8554,\n",
       " 23450,\n",
       " 22034,\n",
       " 15275,\n",
       " 27033,\n",
       " 15652,\n",
       " 8339,\n",
       " 1000,\n",
       " 31939,\n",
       " 12613,\n",
       " 12399,\n",
       " 18440,\n",
       " 11117,\n",
       " 21914,\n",
       " 5958,\n",
       " 2597,\n",
       " 27997,\n",
       " 29027,\n",
       " 17356,\n",
       " 10744,\n",
       " 693,\n",
       " 17711,\n",
       " 4243,\n",
       " 23379,\n",
       " 2545,\n",
       " 23364,\n",
       " 11568,\n",
       " 25044,\n",
       " 6565,\n",
       " 10440,\n",
       " 16809,\n",
       " 20737,\n",
       " 5733,\n",
       " 20261,\n",
       " 13114,\n",
       " 31306,\n",
       " 2494,\n",
       " 22564,\n",
       " 8789,\n",
       " 16859,\n",
       " 24400,\n",
       " 13015,\n",
       " 9104,\n",
       " 6613,\n",
       " 20932,\n",
       " 6091,\n",
       " 2814,\n",
       " 9631,\n",
       " 4366,\n",
       " 20947,\n",
       " 23782,\n",
       " 21220,\n",
       " 19760,\n",
       " 22687,\n",
       " 20230,\n",
       " 18433,\n",
       " 14111,\n",
       " 3872,\n",
       " 27547,\n",
       " 13530,\n",
       " 31140,\n",
       " 10834,\n",
       " 11467,\n",
       " 10899,\n",
       " 29396,\n",
       " 8479,\n",
       " 1426,\n",
       " 10527,\n",
       " 10551,\n",
       " 21586,\n",
       " 507,\n",
       " 14626,\n",
       " 28223,\n",
       " 1562,\n",
       " 30684,\n",
       " 4528,\n",
       " 12081,\n",
       " 26226,\n",
       " 5827,\n",
       " 27649,\n",
       " 14017,\n",
       " 30719,\n",
       " 30642,\n",
       " 28042,\n",
       " 15427,\n",
       " 25775,\n",
       " 12735,\n",
       " 24817,\n",
       " 5948,\n",
       " 8729,\n",
       " 24028,\n",
       " 11614,\n",
       " 13746,\n",
       " 26025,\n",
       " 1401,\n",
       " 6182,\n",
       " 18324,\n",
       " 31515,\n",
       " 15955,\n",
       " 14701,\n",
       " 6717,\n",
       " 23588,\n",
       " 16240,\n",
       " 14697,\n",
       " 2458,\n",
       " 9676,\n",
       " 11729,\n",
       " 18686,\n",
       " 13936,\n",
       " 9243,\n",
       " 2708,\n",
       " 1882,\n",
       " 19040,\n",
       " 31913,\n",
       " 22510,\n",
       " 26748,\n",
       " 13026,\n",
       " 3271,\n",
       " 30513,\n",
       " 23473,\n",
       " 7754,\n",
       " 25154,\n",
       " 29352,\n",
       " 6142,\n",
       " 8052,\n",
       " 2479,\n",
       " 1712,\n",
       " 31876,\n",
       " 13688,\n",
       " 9129,\n",
       " 24675,\n",
       " 31772,\n",
       " 14099,\n",
       " 14885,\n",
       " 1689,\n",
       " 30194,\n",
       " 8576,\n",
       " 26611,\n",
       " 9016,\n",
       " 14453,\n",
       " 21229,\n",
       " 6472,\n",
       " 5068,\n",
       " 18303,\n",
       " 10693,\n",
       " 25402,\n",
       " 11234,\n",
       " 17601,\n",
       " 19026,\n",
       " 19105,\n",
       " 12603,\n",
       " 10801,\n",
       " 31186,\n",
       " 4234,\n",
       " 29712,\n",
       " 5085,\n",
       " 20490,\n",
       " 30741,\n",
       " 3659,\n",
       " 22258,\n",
       " 28006,\n",
       " 125,\n",
       " 17962,\n",
       " 12207,\n",
       " 9736,\n",
       " 17105,\n",
       " 2955,\n",
       " 12569,\n",
       " 21527,\n",
       " 30511,\n",
       " 2582,\n",
       " 17885,\n",
       " 6213,\n",
       " 14021,\n",
       " 10175,\n",
       " 2557,\n",
       " 14405,\n",
       " 6196,\n",
       " 11968,\n",
       " 16722,\n",
       " 23774,\n",
       " 3795,\n",
       " 6965,\n",
       " 29731,\n",
       " 27728,\n",
       " 29444,\n",
       " 1158,\n",
       " 29879,\n",
       " 27108,\n",
       " 24167,\n",
       " 18249,\n",
       " 29813,\n",
       " 22928,\n",
       " 16141,\n",
       " 23798,\n",
       " 24871,\n",
       " 17710,\n",
       " 3252,\n",
       " 24854,\n",
       " 29220,\n",
       " 23010,\n",
       " 18924,\n",
       " 17172,\n",
       " 11876,\n",
       " 5786,\n",
       " 30432,\n",
       " 30632,\n",
       " ...]"
      ]
     },
     "execution_count": 159,
     "metadata": {},
     "output_type": "execute_result"
    }
   ],
   "source": [
    "list(testdf.index)"
   ]
  },
  {
   "cell_type": "code",
   "execution_count": null,
   "metadata": {},
   "outputs": [],
   "source": []
  },
  {
   "cell_type": "code",
   "execution_count": 160,
   "metadata": {},
   "outputs": [],
   "source": [
    "corpus = []\n",
    "for i in range(ds.shape[0]):\n",
    "    corpus.append(ds.iloc[i][0])"
   ]
  },
  {
   "cell_type": "code",
   "execution_count": 161,
   "metadata": {},
   "outputs": [
    {
     "data": {
      "text/plain": [
       "['italian fascist car paladin need lobotomi wish perhap hell realiz ye carl bigot amp',\n",
       " 'wake left stop hypocrit liber logic',\n",
       " 'evid import credit vote',\n",
       " 'white nationalist leader reveal horrifi hope america',\n",
       " 'die light villag green town antisemit school columbia hood',\n",
       " 'obama jarrett agenda destroy everyth good countri inflict even bit hate',\n",
       " 'alreadi happen given russia reason jolli hack fraud',\n",
       " 'anti islamist ralli organis neil erickson shown laugh death footag au pol tinfoil',\n",
       " 'new law make accept clip racist cab driver round ear satir',\n",
       " 'nice urg presid elect denounc twitter acct',\n",
       " 'japan abe govt oppress freedom speech hate speech time guardian humanoid swatch notabl anonym ref asp',\n",
       " 'buffalo school district boot trump alli racist comment bird feather resist',\n",
       " 'might librari librari saw liber polit',\n",
       " 'fuck donald trump never presid open opt rump illegitim oligarch plutocrat shill',\n",
       " 'motherhood unscript new post happi new year serious celebr death trump misogyni hate',\n",
       " 'let door hit way sorri as mono disgust kick rock come back white dumb as',\n",
       " 'allah oil enlighten wast wil blind emir',\n",
       " 'black amp feel like stomp listen tweet tampa miami',\n",
       " 'indianapoli colt black cheerlead hug boy use slur much class',\n",
       " 'la la land san idea pc make film pm quit bitch whitey white',\n",
       " 'reorder live dec swiftli sharpen fang dystopian tale',\n",
       " 'wait wildest cutest creatur take yakima girl high fashion brand',\n",
       " 'latest blocker daili thank trump',\n",
       " 'damn video racist hillari say talk white peopl hillari',\n",
       " 'ici yesterday one per venu offer eye entrain rape cultur law hat',\n",
       " 'fair amp love effect',\n",
       " 'one requir job u presid male still wither hillari clinton never map',\n",
       " 'comedi comedian',\n",
       " 'white peopl medium coverag victim fear life mayb probat black person',\n",
       " 'remark racist even utter wife car paladin involv anyth educ',\n",
       " 'defin histor oppress histor oppressor privileg',\n",
       " 'agre hr would popular vote much way trump would win',\n",
       " 'black amp feel like stomp listen tweet tampa miami',\n",
       " 'dear democrat dot allow islam radic use america freedom destroy freedom islamophobia',\n",
       " 'qualif tri professor borzoi higher educ south africa',\n",
       " 'die light villag green town antisemit school columbia hood',\n",
       " 'new arriv fact phobia ale peopl whose use follow word islamophobia femin cultur enrich',\n",
       " 'team new amp show phillysuppophilli amp combat',\n",
       " 'latest blocker daili thank market',\n",
       " 'openli total obama russia graceless goodby america first black presid',\n",
       " 'broader phenomenon reemerg race scienc american intellectu discours citi journal',\n",
       " 'racism home anti advic other good',\n",
       " 'vandal turn jewish famili home menorah swastika bigotri new switch',\n",
       " 'striker leagu disallow mun mid',\n",
       " 'camber sand death blame victim cultur council pay lifeguard mayb wow',\n",
       " 'top deplor seen mani conserv meme last year funni',\n",
       " 'spot perhap murray hater would happier murray bit like gaza hero drunk wife eater',\n",
       " 'problem solv talk instead polit relationship new',\n",
       " 'scrutin saver amp dispos unbeliev chosen headlin revolut racism human',\n",
       " 'thought factori left right polaris trump uselections2016 leadership polit credit blk',\n",
       " 'say would let guy fall ground get wail second call fight',\n",
       " 'govern deliber tour refuge coloni inquest amid death amp busi usual',\n",
       " 'hispan amp like stomp listen tweet boric miami',\n",
       " 'sick liber think dictat think isra jew allow live includ',\n",
       " 'stop save let walkabout thepoliticalmillenni class educ femin polit',\n",
       " 'agre hard believ given strident opposit ordin woman woman ordin',\n",
       " 'supp hr fund saudi woman degrad pig supp woman drive cover face',\n",
       " 'seem escap attent bash white win elect dem seat lost',\n",
       " 'top fail anti moral platform',\n",
       " 'music imag coward suggest white peopl south africa day',\n",
       " 'excel analysi backlash refuge real crisi europ apostol folium di',\n",
       " 'call car paladin step wont know spew consequ',\n",
       " 'allah oil mani politician claim jihad attack human team tea',\n",
       " 'bow fuck blk fuck bitch real simpleton figur one',\n",
       " 'lie disingenu excus deviant remark michel amp barack obama',\n",
       " 'let tell stori video game specif marvel super hero street fighter',\n",
       " 'realli gotten credit one manga trump quot quot lotu news medium',\n",
       " 'obama suppos commun islam anoth deadli ideolog bout race suppos nazi',\n",
       " 'mani white american actual believ chanc peac sexual predat amp alright helm moron matter',\n",
       " 'joke matter offic fire joke target practic black neighbourhood via',\n",
       " 'get u war better send boy day amp quay first idiot fool sad traitor',\n",
       " 'de colon curriculum way process togeth decolon',\n",
       " 'icon brand associ trump brand tarnish reput',\n",
       " 'assault woman new year resolut woman issu self defens woman cours',\n",
       " 'bigot carl paladin alli wish obama dead mad cow diseas trumpproofamerica',\n",
       " 'trump supper gonna make america great hate',\n",
       " 'dystopian tale radicalis amp reveng reorder dec spa',\n",
       " 'sikh templ vandalis calgari condemn act',\n",
       " 'resist presid russia gate vote suppress tyranni want u fight',\n",
       " 'alt right euro conservat trump',\n",
       " 'video censor youtub hate speech enjoy manga everyth racist trigger',\n",
       " 'trump alli unstopp obama via christma eve',\n",
       " 'everyon blame black brown commun crack blame doubl standard drug',\n",
       " 'experi europ american aliv unwel',\n",
       " 'peopl colour enjoy equal within lgth commun exclud marginalis group',\n",
       " 'wow real time back day smack unitedstateschampion u champion live great illeg talk',\n",
       " 'reel let girl first massiv queue guy',\n",
       " 'man ran governor state biggest african american popul',\n",
       " 'mean cruel talk radio host like make imposs person color like feel american',\n",
       " 'racial differ biolog realiti rottweil chihuahua understand',\n",
       " 'pli sign japan bulli tweeter fiji',\n",
       " 'boycott lie divis nationalist fox news add list karma',\n",
       " 'brian chopra subject fought back hard hollywood quantic bollywood',\n",
       " 'student gay bar stood next white man said pari jeremi joseph get',\n",
       " 'allah oil crusad west islam terror popular sequel capit commun',\n",
       " 'donald putin butt buddi commi',\n",
       " 'top stori featur christma',\n",
       " 'realiti tech industri made regular as peopl tech discrimin',\n",
       " 'louisvil kentucki woman go rant penni expos racism ignor',\n",
       " 'mama total hypocrit cheer like hell remain silent confeder flag amp stanc',\n",
       " 'guess shield man objectifi shield shield woman',\n",
       " 'marijuana prohibit sta detroit atlanta tennesse alabama georgia florida utah',\n",
       " 'go fuck as hole dumb mazurka',\n",
       " 'alright us amp insecur lure men white supremaci',\n",
       " 'allah oil revolut occur marx expect team teamster junior',\n",
       " 'putin amp net yahoo talk phone thug obama think whoa',\n",
       " 'lao non white peopl bigot prejud system oppress',\n",
       " 'new video white peopl west race arch wanna see worst',\n",
       " 'sikh templ vandalis calgari condemn act',\n",
       " 'latest daili thank catalina',\n",
       " 'peopl agent protest trump republican trump adher amp',\n",
       " 'allah oil think cultur separ distinct one anoth',\n",
       " 'racism could fuel power need light everyon christma light u lee jasper',\n",
       " 'latest obsidian radio daili thank late news',\n",
       " 'everyth wrong america embodi misogyni hostil scienc blacksagainsttrump trump',\n",
       " 'pet u youth parliament democraci amp listen free app',\n",
       " 'send trump inaugur join today',\n",
       " 'america racist plethora reason someon like obama ignor mani fashion',\n",
       " 'buffalo school board demand resign remark made obama pc car paladin new york',\n",
       " 'typic lie leftist slander gap christian done kill christian',\n",
       " 'type trash trump paladin attract dumb fuck',\n",
       " 'peopl agent protest trump republican trump adher amp',\n",
       " 'seriou semel woman thrive outsid home',\n",
       " 'femin cancer femin terror femin bharat male vote ignor',\n",
       " 'racist troll ale great state kentucki listen last thur crab comedi polit elect',\n",
       " 'look like year old post dictionari definit amp act prove point',\n",
       " 'allah oil problem space altern explan emir',\n",
       " 'black amp feel like stomp tweet tampa miami',\n",
       " 'need stop racist let terrorist kill sarcasm trump train',\n",
       " 'new video show guy stand abus humili muslim guy',\n",
       " 'ark man discov racist graffiti car quick errand hoodi blk',\n",
       " 'term pal bhakti denounc terror anti nation act show sens reason never mia',\n",
       " 'black amp feel like stomp listen tweet tampa miami',\n",
       " 'destroy one minut jan elliot',\n",
       " 'guy racist full ignor hatr bigot ignor',\n",
       " 'everyday respons',\n",
       " 'way man allow becom attorney gener liar as',\n",
       " 'stupid idea trump fascist destroy u gone far obama terrorist',\n",
       " 'past yr despit demagogueri obstruct fear',\n",
       " 'black tea',\n",
       " 'leaf commun look rethink disciplin abl ism autism step mass incarcer deaf prison decrimin',\n",
       " 'almost dad 5wordtrumplethinskin',\n",
       " 'black amp feel like stomp listen tweet tampa miami',\n",
       " 'notic definit bulli disabl tri chang peopl',\n",
       " 'racism amp fascism get rate amp peopl resist everi time',\n",
       " 'pleas rep',\n",
       " 'trump supper voic thought woman suffrag germani immigr polici',\n",
       " 'u govern new anti semit definit conflat valid critic israel open democraci',\n",
       " 'latest one news daili thank africa',\n",
       " 'leav gwen longer debat type slaveri',\n",
       " 'well surpris wonder much bit research cost',\n",
       " 'basic sum credit mean britain eur sceptic xenophob isolationist tribal',\n",
       " 'leav gwen longer debat type slaveri',\n",
       " 'rebellion u dontbuythesun amp rag spread tori propaganda fear hatr',\n",
       " 'trump nowher close geniu fact singl digit',\n",
       " 'graduat u amp friend want forget rector islam',\n",
       " 'despis hatr racism caus mani black peopl ina',\n",
       " 'new one either way men disgrac harass verbal assault',\n",
       " 'one proudtobeanamerican moment vaniti respond semi retard',\n",
       " 'tell jefferi beauregard quit fool around come pick hood amp sheet saturday',\n",
       " 'research play greatest role select',\n",
       " 'noth would danger give putin choic impress accept stop racism boycott',\n",
       " 'white peopl got noth nigga one sick horribl person sadli',\n",
       " 'releas book book summer melt everyth novel tiffani mcdaniel via',\n",
       " 'world man took dive like peopl would say fix ronda rous woman expect',\n",
       " 'sign check bag ian everi singl time',\n",
       " 'allah oil never equat cultur exclus geograph boundari emir',\n",
       " 'nicola sturgeon send christma messag surround white child brown kid nationalist nicola',\n",
       " 'alex pascal friend late daddi music teacher eur east european',\n",
       " 'seem like canadian valu ignor realiti divid amp weaken hate amp scienc cd nokia',\n",
       " 'attack ching ltd',\n",
       " 'thing get commun amp islamophobia experienc white gay men',\n",
       " 'thought factori bic neutral right wing fascism polit medium blk credit trump leadership',\n",
       " 'turn resign',\n",
       " 'sikh templ vandalis calgari condemn act',\n",
       " 'word factori race denial prevent heal south africa leadership transform inequ',\n",
       " 'grow u credit bugger bori regret skip vote leav leav',\n",
       " 'think award bigotri self centr dick',\n",
       " 'happi new year white peopl elect presid treat woman like crap biker disrespect kkt suppos white devil',\n",
       " 'advanc valu chain video valu chain',\n",
       " 'truli sad lot work class men resent offer help woman evolut still lot',\n",
       " 'final action cadet resist presid impeach trump',\n",
       " 'chick get fuck nude superhero',\n",
       " 'serious led come better',\n",
       " 'allah oil correl religion islam violenc',\n",
       " 'moron lead u path much potenti damag destroy world',\n",
       " 'might librari librari saw liber polit',\n",
       " 'porn video sexi latina kid',\n",
       " 'reason mani muslim might',\n",
       " 'make sick yr idol georg bailey spoil choos potter greed lie misogyni learn fail',\n",
       " 'team new amp show phillysuppophilli amp combat',\n",
       " 'overwhelm evid compani trump keep echo sentiment amp ideal dump trump',\n",
       " 'term work way happi keep band say',\n",
       " 'misogyni spectrum vote',\n",
       " 'femin cancer femin terror femin bharat male vote ignor',\n",
       " 'busti co hama realli great',\n",
       " 'year old man still young enough teach sexism say woman help',\n",
       " 'immatur tri make fool xenophob immatur moron',\n",
       " 'allah oil never equat cultur exclus geograph boundari',\n",
       " 'hispan amp like stomp listen tweet boric miami',\n",
       " 'joke spun tornado black peopl common take ruin neighbourhood',\n",
       " 'anti racist codeword anti white asia asian africa african white countri everyon',\n",
       " 'buffalo school district boot trump alli racist comment bird feather resist',\n",
       " 'multipl type racism america u america',\n",
       " 'one mil american reject bigotri amp hatr fli flag half mast jan',\n",
       " 'kind peopl need eras ear surfac',\n",
       " 'look problem first thing thing color black white problem',\n",
       " 'content abus paedophilia stalk harass ga light abl ism threat suicid new self harm',\n",
       " 'vandal turn jewish famili menorah swastika antisemit hate',\n",
       " 'check flyer trump may titti question bring pussi grab pussi',\n",
       " 'restrict duti like straight jacket pad room look blacklist matter',\n",
       " 'trophi alway one educ woman wednesday',\n",
       " 'aw slap face american hey neighbour black bought hous',\n",
       " 'econom sanction russia cuba china none white privileg white supremaci rough water',\n",
       " 'feed public trough piggi michel obama',\n",
       " 'silver agatha screenshot amp share snap michael cool implant messag colour',\n",
       " 'woman defend want',\n",
       " 'jeff session think wont notic react decad one applic confirm',\n",
       " 'stop tri find even happen airingofthegriev',\n",
       " 'racial discrimin interact genet impact health among african american doh',\n",
       " 'michel obama crack pipe',\n",
       " 'al woman scream racial slur aim gun laser pointer black mcdonald custom',\n",
       " 'god trigger',\n",
       " 'white establish blk fox run around love promot great',\n",
       " 'cri bulli snowflak wanna talk amp divers read brief honesti editor',\n",
       " 'kkt blk nazi scum hitler upend differ color skin leftist amp dem ideolog',\n",
       " 'forgot small hand orang skin weird hair big teeth sociopath insan misogynist bogota',\n",
       " 'also love u supp trump hate half thea',\n",
       " 'cent play celtic woman celtic symbol accent etc bald charact pal assum man',\n",
       " 'happen far often',\n",
       " 'cleveland polic union overwhelmingli endors trump presid cleveland kkt klan love trump ohio',\n",
       " 'typic lie leftist slander gap christian done kill christian',\n",
       " 'much hatr xenophobia islamophobia antisemit war much let hope get le',\n",
       " 'woman facil program cool empow men facil program gay misogynist doubl ana',\n",
       " 'know environment',\n",
       " 'land cranberri fire think choke child wrong arrest parent accept',\n",
       " 'like blacklist matter slogan talk',\n",
       " 'femin cancer femin terror femin bharat male vote ignor',\n",
       " 'tran sexi nake boob',\n",
       " 'miami offic fire target practic joke polic brutal new switch',\n",
       " 'holiday better ever marijuana unleash book',\n",
       " 'hispan amp feel like stomp listen tweet boric',\n",
       " 'might librari librari saw liber polit',\n",
       " 'trump fascist amp bigot misogynist sexual predat proven word',\n",
       " 'femin cancer femin terror femin bharat male vote ignor',\n",
       " 'might librari librari saw liber polit',\n",
       " 'dear leftist lunat chang word tell aisl peopl sick',\n",
       " 'reagan convinc asa flood market drive oil price histor low allah oil team',\n",
       " 'sea shepherd supper racist anti racism sea shepherd',\n",
       " 'radic woodrow wilson racism blacklist matter tot black witter lot',\n",
       " 'black life matter blk except mine appar patienc watch way',\n",
       " 'liber belief pay exclus belief equal anywher tray',\n",
       " 'fall go thing wonder resist narcissist psychopath misogynist clown happynewyear2017',\n",
       " 'white girl sex black guy best world sex',\n",
       " 'bear rapaci hunger oil also seal doom allah oil team tea',\n",
       " 'billionair chair trump say hope obama dy michel go back male ape africa u usag melt pot',\n",
       " 'sicken implant read',\n",
       " 'exemplifi swamp drain day demo taxpay thief islam terrorist enabl',\n",
       " 'trump alli made remark toward obama dec',\n",
       " 'allah oil knee jerk reaction assum ait must isi',\n",
       " 'chick get fuck thoma howel nake',\n",
       " 'hispan amp feel like stomp listen tweet boric',\n",
       " 'implant messag publicserviceannounc spa inspir chang embrac differ dream',\n",
       " 'ye rude nasti behavior brought main stream never presid',\n",
       " 'white damon sauna demon jan teach realli lame class',\n",
       " 'democrat pay way pay black inferior white white inferior everybodi',\n",
       " 'ye let suppos openli prewar anti islam homophob rapist advoc hypocrit',\n",
       " 'must said trump voter guilti normal form racism moral moveabl fear',\n",
       " 'stop perpetu fals racism leftist subvers polit correct propaganda america racist',\n",
       " 'trump alli carl paladin slam wish list obama news',\n",
       " 'peac fucku2016 better unless loudli fight corrupt xenophobia islamophobia homophobia resist',\n",
       " 'fuck propaganda rant inde aussi flag muslim crest',\n",
       " 'femin cancer femin terror femin bharat male vote ignor',\n",
       " 'team new amp show phillysuppophilli amp combat',\n",
       " 'movi mad indian challeng rewrit sexist bollywood song movi indian challeng rewrit',\n",
       " 'might librari librari saw liber polit',\n",
       " 'pfc pay amanda tune amp still champ chop ronda rous le payday mil',\n",
       " 'also hansen paulin muslim senat chat maria',\n",
       " 'joke matter offic fire joke target practic black neighbourhood via',\n",
       " 'end self love mess cri religion christian mecca live',\n",
       " 'ebon huge con job black amp liber run america decad actual lack lana',\n",
       " 'allah oil islamophobia serf empow extremist emir 2016in4word',\n",
       " '',\n",
       " 'perhap paladin feel econom anxieti',\n",
       " 'hollywood present stereotyp solidar love',\n",
       " 'men think misogyni issu way white peopl think issu tri listen instead',\n",
       " 'wait wildest cutest take yakima high fashion brand cosmet brand world campaign amp',\n",
       " 'librari believ hate muslim supp trump black woman damn slave',\n",
       " 'complain pap white accord affirm action bee quota law',\n",
       " 'know real nigger fake nigger amp uppiti nigger get delet life race play',\n",
       " 'know usk go mem medium amp le racist crazybengiefbp wog say nut',\n",
       " 'missu man appl wait festiv period upset other right outrag',\n",
       " 'offici hate breed hate prejudic parent',\n",
       " 'also upset lost measur useless appendix govern',\n",
       " 'seem escap attent bash white win elect dem seat lost',\n",
       " 'peopl agent protest trump republican trump adher amp',\n",
       " 'as hole like shut everi rape prevent victori human',\n",
       " 'hatr person narcissist amp',\n",
       " 'societi overcom possibl end racism happen one person time spiritu',\n",
       " 'sikh templ vandalis calgari condemn act',\n",
       " 'demo need keep feed narr marxism',\n",
       " 'stop',\n",
       " 'disgrac asham person fellow new yorker',\n",
       " 'time white man call get result',\n",
       " 'allah oil life matter emir 2016in4word',\n",
       " 'pleas stop',\n",
       " 'could system racism imposs real act racism easier stand unfortun',\n",
       " 'empress regnant distant prospect japan despit gender equal law femin equal asia news',\n",
       " 'hour walk nyx woman new york woman men bigot',\n",
       " 'new video super mario run sexist christma ivan trump man spread',\n",
       " 'trump guilti treason resist must resist hate nake ray gun treason',\n",
       " 'sikh templ vandalis calgari condemn act',\n",
       " 'live nyx see lot one racism disappoint see much twitter must never toler',\n",
       " 'peopl agent protest trump republican trump adher amp',\n",
       " 'riyadh renown deadliest traffic world 2017in3wordsa',\n",
       " 'male privileg huh yeah tot femin men',\n",
       " 'traffick amp profit use word nigger sell music',\n",
       " 'appar thing done hate asian parent instil massiv amount',\n",
       " 'mud radio song word showmeyoureawoman org anyon listen word seventi classic sign oftentim',\n",
       " 'carolyn cooper ugli poor ignor black',\n",
       " 'sikh templ vandalis calgari condemn act',\n",
       " 'reject news write south africa polit librarian',\n",
       " 'time woman got physic mcdonald add equal garbag kid grownup assault may',\n",
       " 'thought factori left right polaris trump uselections2016 leadership polit credit blk',\n",
       " 'right idea deal nasti',\n",
       " 'stop legitim use alt right amp call neonat nazi doctrin incl ultra nation',\n",
       " 'allah oil western islamophobia emir 2016in4word',\n",
       " 'advanc valu chain video valu chain',\n",
       " 'girl world matt canada sex fuck',\n",
       " 'donkey zion proud murder real palestinian semit child call antisemit',\n",
       " 'hispan feel like stomp listen tweet boric',\n",
       " 'racial profil cologn disgust',\n",
       " 'carri fisher feminist fight amp ageism hollywood pen act talent amp',\n",
       " 'team new amp show phillysuppophilli amp combat',\n",
       " 'drunk ladi fall heater pub friction amp indian friend tri help thrown houston midtown',\n",
       " 'might librari librari saw liber polit',\n",
       " 'fox news anchor tell lauren duck stick thigh high boot rather polit',\n",
       " 'togeth christma plu amp follow nation day action feb amp thea',\n",
       " 'thought factori left right polaris trump uselections2016 leadership polit credit blk',\n",
       " 'kind tweet want compani rep send',\n",
       " 'person rehir shame claycountydevelopmentcorp pamelaramseytaylor',\n",
       " 'surpris adam sale',\n",
       " 'liber',\n",
       " 'michel obama rape heel case begin donald trump america',\n",
       " 'legaci croni vote pass call resign get boot',\n",
       " 'sea shepherd supper racist anti racism sea shepherd',\n",
       " 'might librari librari saw liber polit',\n",
       " 'coz kid done mean watch hilari must watch',\n",
       " 'excel idea dig deep amp hang pm high treason aid enemi fraud coverup benghazi emot',\n",
       " 'wait somebodi call see anybodi',\n",
       " 'wow blog',\n",
       " 'unbeliev aisl tip never tell someon cannot procreat',\n",
       " 'even santa afraid obama amp sort group threaten public safeti amp proper',\n",
       " 'shocker sort fund caus matter critic leotard polici hypocrisi',\n",
       " 'book endur convict fred kor matsu amp quest justic human right hat',\n",
       " 'carl paladin trump alli wish obama dead mad cow diseas',\n",
       " 'ironi inher experi live amp work qatar discrimin',\n",
       " 'amateur spank kid woman workplac',\n",
       " 'resist presid ever treason narcissist ga light',\n",
       " 'scape lite progress rebel good riddanc blacklist matter',\n",
       " 'hope guy wont say come trump get speak mind peopl enough pc alreadi sarcasm',\n",
       " 'boy play sex woman',\n",
       " 'sain burn red stripe',\n",
       " 'make equiti greater via racial equiti',\n",
       " 'hr pass amp still angri coher talk',\n",
       " 'might librari librari saw liber polit',\n",
       " 'mock obama black credit',\n",
       " 'black amp feel like listen tweet tampa miami new york',\n",
       " 'lumpi say prove lumpi',\n",
       " 'racism race classifi human race biggest mistak histori scienc race',\n",
       " 'didst hear latent everi singl day',\n",
       " 'alway white christma household onlywhitechristma',\n",
       " 'take trash america vote hate vote vote vote',\n",
       " 'dear pleas give u multi racial amp object list prove select',\n",
       " 'wen south choos dark south heroin anal tam anna ami whf',\n",
       " 'sikh templ vandalis calgari condemn act',\n",
       " 'korean amp jose peopl japan abus claim right rough demo aberdeen',\n",
       " 'end self love mess cri religion christian mecca live',\n",
       " 'look passion ivan trump plane fake yet ignor adam sale ray',\n",
       " 'millenni think',\n",
       " 'danger white liber govern appli liber men femin',\n",
       " 'peopl agent protest trump republican trump adher amp',\n",
       " 'femin cancer femin terror femin bharat male vote ignor',\n",
       " 'see russia syria destroy masjid',\n",
       " 'scape lite wood tuesday block troll promis blacklist matter amp',\n",
       " 'mil reject putin choic boycott busi amp hatr must stop',\n",
       " 'trump new york co chair wont resign despit racist remark obama polit obama school',\n",
       " 'pay rich white snob via tot pc trump',\n",
       " 'expo explain best way deal friend amp famili',\n",
       " 'learn men find breast feed repuls amp father make sens whatsoev',\n",
       " 'agre true overus term result fast becom',\n",
       " 'indianapoli colt black cheerlead hug boy use slur much class',\n",
       " 'fuck homophob misogynist xenophob white supremacist may fool major',\n",
       " 'allah oil muslim one displac uncl sam 2016in4wordsa',\n",
       " 'noth humor jibe arrog trump offici paladin fire crude obama remark',\n",
       " 'someon find man stop racism',\n",
       " 'presid ever misogynist traitor resist putin bitch',\n",
       " 'alt right promot new kind genet',\n",
       " 'work idea creat substant argument make point rather call name',\n",
       " 'mtg white peopl cot via',\n",
       " 'ultim joke earli wish tell also wish well',\n",
       " 'show tit idiot',\n",
       " 'nigel garag mani year critic immigr effect societi shut',\n",
       " 'allah oil market crash march greenspan cut interest rate even',\n",
       " 'sea shepherd supper racist anti racism sea shepherd',\n",
       " 'white crowd turn back black basketbal team high school game trump',\n",
       " 'get low key play trump foolish request chang judg got wall wall coverag',\n",
       " 'silenc betray innoc activ hunger fur anim right moulin wildlif vegan get',\n",
       " 'john terri chose white christma favourit christma song surpris',\n",
       " 'might librari librari saw liber polit',\n",
       " 'need reapprais victim hood',\n",
       " 'antic purpos use liber divid u wake americana',\n",
       " 'wish happi new year homophob warmong world danger like',\n",
       " 'korean amp jose peopl japan abus claim right rough demo',\n",
       " 'multipl type racism america u america',\n",
       " 'major kind peopl talk enough via environment justic',\n",
       " 'day govern state counti etc ban smoke say chain word cloth school',\n",
       " 'mega upload porn link porn video',\n",
       " 'everi elect usher lie hate misogyni inciner democraci',\n",
       " 'keep convers go school home need creat space time commit help',\n",
       " 'sick program hill bot rhetor enough alreadi uniti patriot love',\n",
       " 'year mostli arrog abus discrimin amp even dutch dri leav die',\n",
       " 'clueless buddi regard long stand american polici comment reflect ignor',\n",
       " 'fake activist amp',\n",
       " 'hey carl paladin look like fire',\n",
       " 'ironi butt creeper sexism aisl think pro rapist misogynist male vote etta',\n",
       " 'obama legaci show neg stuff confus obama lotu donald trump',\n",
       " 'offic woman porn blue tube',\n",
       " 'engag white call big subhuman',\n",
       " 'hello sweeti glad see id',\n",
       " 'truth polic amp manga audibl channel',\n",
       " 'jeff session tri delet decad',\n",
       " 'like u deploy interf genocid within africa stop kill',\n",
       " 'agre true overus term result fast becom meaningless',\n",
       " 'might librari librari saw liber polit',\n",
       " 'black amp feel like stomp listen tweet tampa miami',\n",
       " 'bless icon lovebeingalegend',\n",
       " 'surpris trump chosen administr mere basket racist though hillari liar',\n",
       " 'trump credit base misconcept race nation say renown philosoph csc radio',\n",
       " 'latest blocker daili thank',\n",
       " 'word factori race denial prevent heal south africa leadership transform inequ',\n",
       " 'target littl muslim child pronounc terrac hous amp treat like crimin',\n",
       " 'noth would danger give putin choic impress accept stop racism boycott',\n",
       " 'fear root racism mostli fear ego acknowledg anoth human wors better',\n",
       " 'agre hr would popular vote much way trump would win',\n",
       " 'two bot one girl tot pm femin saw logic',\n",
       " 'girl world sexi matur housewif',\n",
       " 'might librari librari saw liber polit',\n",
       " 'allah oil death caus islam extrem occur civil war terror attack',\n",
       " 'kevin macdonald ethnocentr normal ration race ethnocentr alright peg ida',\n",
       " 'age gender race defin capabl ageism',\n",
       " 'tackl system racism bia empathi read sag chat',\n",
       " 'ladi said junior area want amp id ask leav someon complain bo defend',\n",
       " 'victim cant victimis oppressor econom power black peopl racist',\n",
       " 'u fell pop star job bic eur credit medium',\n",
       " 'trump pick attorney gener shadow race histori well duh session',\n",
       " 'read understand berni bro chose sander hillari',\n",
       " 'good morn bud breakfast marijuana unleash book',\n",
       " 'woman racism charg',\n",
       " 'never content sit back watch other right trampl upon right could next',\n",
       " 'opinion racism degrad peopl base race justifi discrimin open violenc stop racism',\n",
       " 'lee water caught tape explain southern strategi reagan cabinet',\n",
       " 'allah oil neoliber priorit money oil pretti much everyth els',\n",
       " 'lame duck lame dick',\n",
       " 'said tweeter nazi hatr amp bigotri',\n",
       " 'ultim joke earli wish tell also wish well',\n",
       " 'chaplin dictat speech via resist resist resist manga alright ray',\n",
       " 'allah oil term jihad highli contest concept team team junior',\n",
       " 'millenni shock hillari quot think trump',\n",
       " 'loll web either cow',\n",
       " 'allah oil peopl around world afraid world prime react emir',\n",
       " 'time realiz done hate exploit read america histori',\n",
       " 'white unab obama nation thing killer cop amp',\n",
       " 'inde typic scumbag ride trump hate machin sic',\n",
       " 'resign today chair school texa justic reform',\n",
       " 'unappet scam woman need throw shackl salad food foodi',\n",
       " 'season trump new york co chair make gorilla remark michel obama carl paladin disgrac',\n",
       " 'motherfuck need prison charl paladin racist comment spark call resign',\n",
       " 'u refus veto resolut israel zionism illeg settlement',\n",
       " 'le jacob marley potter seem end evil misogynist narrow hole win georg bailey epic',\n",
       " 'mad interraci coupl tweet go fuck republican trash cracker white peopl',\n",
       " 'tit young woman relev read woman journal',\n",
       " 'twitter full vile alright homophob theistic troll man give juic nightlif girl',\n",
       " 'disgust le pig human assum human go play traffic',\n",
       " 'oop carl paladin mean publicli post racist comment blk young turk',\n",
       " 'watch one u marin fearlessli take violent angri mob pro palestin protest',\n",
       " 'allah oil one infam makeov affection baptiz saudi sweep',\n",
       " 'despis anti american muslim po amp everyth stand tri destroy u',\n",
       " 'black trump supper smack report race bait trump',\n",
       " 'deeper look',\n",
       " 'sea shepherd supper racist anti racism sea shepherd',\n",
       " 'might librari librari saw liber polit',\n",
       " 'keep colin powel consol claric secretari state word use jump shark',\n",
       " 'oop melt anoth fragil snowflak sad sore loser heed trigger warn',\n",
       " 'mani u find obama polici repugn make u liber race card exhaust',\n",
       " 'bullshit thrown muslim',\n",
       " 'excel rambl alt right tot lot alright blacklist matter',\n",
       " 'maria shake as fine pa blunt',\n",
       " 'emo exist revers via',\n",
       " 'como paladin racist ugli comment obama embarrass new yorker polit',\n",
       " 'note abl pop zit neck day squeez day',\n",
       " 'fascism arriv nazi salt sharp suit alright richard spencer trump ism depot',\n",
       " 'dylan roof face new compet hear ignor hate',\n",
       " 'kitazatoshibasaburo found tetanu immun colleagu kit cato nobel prize colleagu white',\n",
       " 'defend woman condescens turn defend woman verbal assail',\n",
       " 'st mark cathedr name racism anti semit xenophobia sin homo news',\n",
       " 'white establish blk fox run around love promot great',\n",
       " 'amelia bank jimmi mcmillan jame david man u clinton trump',\n",
       " 'insan act korean trampl nation flag nation clearli rape cultur',\n",
       " 'pre emperor san cloth never late stop hate misogyni',\n",
       " 'go ahead amp chang profil pic hepburn ambassador unit amp ignor would',\n",
       " 'kevin macdonald ethnocentr normal ration race ethnocentr',\n",
       " 'believ keep like spokesperson loser compani',\n",
       " 'expect trump father wont denounc kkt racism face',\n",
       " 'anoth comment social medium idiot',\n",
       " 'trump alli wish mad cow diseas death obama hatr insult',\n",
       " 'fine ill boycott',\n",
       " 'perfect time tweet stamp',\n",
       " 'great see quebec establish provinci inquiri system amp toward indigen pal',\n",
       " 'might librari librari saw liber polit',\n",
       " 'trump real estat buddi carl paladin wish obama dead mad cow diseas',\n",
       " 'messag hope new year build busi end storytel endof2016 ted talk date',\n",
       " 'pay attent past year year',\n",
       " 'emma fan loss matter great emma fan rhonda rous lost twice trash doubl standard',\n",
       " 'al capon jail tax evas murder commit achil heel unpreced notat',\n",
       " 'sex video fuck cross',\n",
       " 'whiter kevin underlin',\n",
       " 'ball lumpi girl spot lumpi toni say prove lumpi bahama yamaha',\n",
       " 'sikh templ vandalis calgari condemn act',\n",
       " 'black life matter also close affili suppos worker world pay communist',\n",
       " 'must think peopl realli stupid otherwis would lie blatantli never toler',\n",
       " 'sikh templ vandalis calgari condemn act',\n",
       " 'ever notic much scum trump hire',\n",
       " 'green book sundown town rout guid remind face travel u segreg',\n",
       " 'alabama victoria secret shopper face racial discrimin video cwt via',\n",
       " 'hate putin puppet love attent januari',\n",
       " 'girl world nude yong girl',\n",
       " 'cunt campaign co chair unleash obama wish list via fuck trump',\n",
       " 'prison offic goad muslim inmat need restrain game',\n",
       " 'nazi swastika ebay trump donald trump republ firepow',\n",
       " 'eth remak token asian chick carol candlelight',\n",
       " 'wont wast time sob plaster color profil blk bacon lettuc matter matter slice bread',\n",
       " 'small brain close eye vote lunat kkt brent alright',\n",
       " 'campaign co chair answer question trump',\n",
       " 'sad peopl feel treat other like scum religion race sexual act penney',\n",
       " 'genealog xenophobia papa bull colonis slaveri enlighten polygyni pseudosci',\n",
       " 'video lithuania lisa like cuckold write follow',\n",
       " 'definit histori racist idea requir read u histori adam hist',\n",
       " 'far europ swing right lib crib unit blue fascism trump fear ignor hate',\n",
       " 'happi anoth year pass stop',\n",
       " 'porn video smoke porn fetish',\n",
       " 'cover reveal swiftli sharpen fang radicalis amp reveng',\n",
       " 'realli tell micro aggress race white privileg anti black',\n",
       " 'manic joy joe biden want thank trump unmask america',\n",
       " 'reject news latest write aisl',\n",
       " 'discuss republican thing critiqu ignor consequ',\n",
       " 'suspend fund u gov sexual predat resign',\n",
       " 'rememb camber sand death blame victim cultur council',\n",
       " 'india will entitl social innat sick revolt entitl two apia',\n",
       " 'cowboy racist convinc food nigga got win swap white boy shit',\n",
       " 'hispan feel like stomp listen tweet boric',\n",
       " 'insan crazi racist white woman reaction paranorm insan crazi insan free classifi ad',\n",
       " 'nazi continu target jew busi whitefish jewish christian montana nav',\n",
       " 'trump hair mysteri amp may avers appropri tip black woman',\n",
       " 'carpal dino vomit monster truckload shit u first famili jail hate crime pig',\n",
       " 'sikh templ vandalis calgari condemn act',\n",
       " 'man come last race declar winner putin choic putin puppet ret beta',\n",
       " 'trump lo church stand knew adulteri misogyni bigotri incest paedophilia rape',\n",
       " 'trump lackey carl palladio get mate pig amp hyena amp slug apolog pig yea',\n",
       " 'guess go back yell',\n",
       " 'emma stone hollywood given joke away male co star via',\n",
       " 'san address home network info bill info still speak husband failur',\n",
       " 'hispan amp like stomp listen tweet boric miami',\n",
       " 'might librari librari saw liber polit',\n",
       " 'end hope messag music industri via',\n",
       " 'go great year wait till happen treason traitor ump lara',\n",
       " 'meet wilmington peacekeep walk beauti inv week action peac covey climat',\n",
       " 'man st loui racist much fuck st loui st',\n",
       " 'even know anymor',\n",
       " 'bring back moral obama divid profan',\n",
       " 'chief gang hillari clinton obama sort canon',\n",
       " 'princ charl issu veil warn trump return dark day princ charl',\n",
       " 'white peopl expat rest u immigr classism imperi',\n",
       " 'michel obama rape heel case begin donald trump america',\n",
       " 'video men woman bed without cloth nude mother son sex',\n",
       " 'buddhist burmes noth buddhism period row',\n",
       " 'sex video chines woman workplac',\n",
       " 'confess former new confeder audibl channel u histori slaveri southern truth',\n",
       " 'quot woman kingfish girl xxx',\n",
       " 'like war woman amp gun control need russia bad guy excus bad ideolog lot pm',\n",
       " 'sick program hill bot rhetor enough alreadi uniti patriot love',\n",
       " 'kinda dig white chick tho thought gonna win guess sarcast',\n",
       " 'allah oil up got multi million dollar bonu averag american lost home',\n",
       " 'wait see amp admin hang treason trump makeamericagreatagain',\n",
       " 'america racist plethora reason someon like obama ignor mani fashion',\n",
       " 'dearfellowwhitepeopl let realiz wear white hood amp swastika tattoo say',\n",
       " 'amp democrat pay keep tell blk see chicago detroit amp everi inner citi america',\n",
       " 'holiday fun social relev podcast celebr bewitch xma',\n",
       " 'wish black could lot feminist shut amp homophobia',\n",
       " 'would promot hit woman condon assault amp terror war',\n",
       " 'guy lunat angri ignor viciou man',\n",
       " 'black brown woman intersect al mean see bu get thrown white femin',\n",
       " 'carl paladin need lose school board seat disgust pig',\n",
       " 'news racism resourc develop polit stori inuit watch',\n",
       " 'joseph est advoc sumbawa world like anti semit motiv u singl purpos intellectu compet',\n",
       " 'stori villa forev pure footbal jerusalem',\n",
       " 'barack obama get real face offic via',\n",
       " 'lesson learn hate shoot messeng press play',\n",
       " 'first offici codifi centuri spain',\n",
       " 'word factori race denial prevent heal south africa leadership transform inequ',\n",
       " 'funni get rid amend mani distract lousi mayb next year pro baba',\n",
       " 'surpris news outlet call opposit race mix hate racism though embrac',\n",
       " 'thought factori left right polaris trump uselections2016 leadership polit credit blk',\n",
       " 'sikh templ vandalis calgari condemn act',\n",
       " 'nutshel',\n",
       " 'help person comment like obama line like duh knew vote',\n",
       " 'black amp feel like stomp tweet tampa miami',\n",
       " 'ever met would drop po right stood noth crap sac',\n",
       " 'u ambassador say zionism form israel settlement illegalisraelisettl terror',\n",
       " 'stun respons plan nomin muslim brotherhood member lead pay',\n",
       " 'latest tattler thank afghanistan',\n",
       " 'tea pay biker trump movement',\n",
       " 'sea shepherd supper racist anti racism sea shepherd',\n",
       " 'au pol race cultur war mean',\n",
       " 'aptli name white non kill town seal white mascot',\n",
       " 'hope see none inaugur wait wont watch idiot anyway minor boycott',\n",
       " 'come wake eff u crazi stem hatr obama seem like',\n",
       " 'black amp feel like stomp listen tweet tampa miami',\n",
       " 'kind expect trump america',\n",
       " 'year',\n",
       " 'way facebook rejoin system fail commun standard user blacklist matter',\n",
       " 'racism america kill obama muslim welcom sign new mexico draw critic',\n",
       " 'come tax ripoff four white nationalist group given nonprofit statu',\n",
       " 'quick shit lill comment note black racist',\n",
       " 'latest african american turmoil thank black witter',\n",
       " 'name woman fuck hard teen',\n",
       " 'fuck bag presid fuck trump sexual predat liar incompet orang delusion divid moron',\n",
       " 'ever notic word non black person word nigger black person yield almost reaction',\n",
       " 'wanna fuck id 13479 meet',\n",
       " 'put big girl panti andi ass',\n",
       " 'hispan black asian non racist white minor serv militari power',\n",
       " 'mezzo bodi cam reveal black student threaten white frat boy',\n",
       " 'histori america true progress',\n",
       " 'stop che ski fan equal divers',\n",
       " 'trump call homophob misogynist jealousi loser go go',\n",
       " 'donkey zion proud murder real palestinian semit child call antisemit',\n",
       " 'trump campaign chair say sit presid unit state first law',\n",
       " 'black amp feel like stomp tweet tampa miami',\n",
       " 'need differ word altogeth defin hatr white men satisfi hate pal like',\n",
       " 'racist intent guy joke via trump barack obama michel obama',\n",
       " 'tyler perri claim revers racism critic tic seri tyler perri claim revers critic',\n",
       " 'peopl agent protest trump republican trump adher amp',\n",
       " 'mark levin reveal miss histori democrat pay via',\n",
       " 'might librari librari saw liber polit',\n",
       " 'sex post pictur white girl sex black guy',\n",
       " 'white immigr make america great via jar taylor slicker',\n",
       " 'hey go done teacher make statement malvern arkansa',\n",
       " 'ignor white privileg white fragil egregi dare speak rest canada',\n",
       " 'kind expect trump america',\n",
       " 'como paladin ugli comment obama embarrass new yorker',\n",
       " 'latest eur tweet daili thank healthi',\n",
       " 'la calibr video close fiend dad die',\n",
       " 'smaller hand show barri probabl lie kick game suck golf',\n",
       " 'u neonat antisemit embolden trump win top',\n",
       " 'allah oil enlighten wast wil blind emir 2016in4word',\n",
       " 'pastor maiman wont respond lill bo liter made kiss job goodby shout',\n",
       " 'pleas stop go away amp take ugli spank pussi grabber',\n",
       " 'what matter carolina progress reactionari fascism get',\n",
       " 'new paladin love egg like shit head bitch obama block earli block often spam',\n",
       " 'shot insid pussi offic woman',\n",
       " 'queue basket food shop guy say give u smile think respons first look face',\n",
       " 'thank next four year forecast worst hope fascist plan fail',\n",
       " 'zionism ultra orthodox jewish child worksheet say non jew evil',\n",
       " 'white peopl expat rest u immigr social class money privileg',\n",
       " 'thought assist glass gone hope',\n",
       " 'note call oppos latest damn right get filth net race traitor',\n",
       " 'safe place black countri peopl like bitter',\n",
       " 'tyre wong bambi list thaw didst want child constrain line laid other',\n",
       " 'sound look fall back unlik tune good luck',\n",
       " 'serious believ trump alli wish mad cow diseas death obama crazi',\n",
       " 'homegrown nighti white american time like harm refuge fear',\n",
       " 'congrat tucker came exactli childish paisa hack',\n",
       " 'snow peopl movi white',\n",
       " 'thank dead white dude europ nigga list blk rapechucktodda',\n",
       " 'might librari librari saw liber polit',\n",
       " 'allah oil medium disco threat islam extrem emir',\n",
       " 'might librari librari saw liber polit',\n",
       " 'femin cancer femin terror femin bharat male vote ignor',\n",
       " 'smooth new year eve marijuana unleash book',\n",
       " 'still root societi attitud toward black woman hair read candid rang',\n",
       " 'told amp voter id law still wither liber democrat need wake amp real',\n",
       " 'market deme sell beer white said close hispan walk sold',\n",
       " 'bigot person would tweet call name tell truth',\n",
       " 'probabl closet pose black man long ago duff said',\n",
       " 'check mention org back april founder girl nyx happi new year',\n",
       " 'sum vote credit littl england syndrom sovereignti democraci',\n",
       " 'allah oil market crash march greenspan cut interest rate even',\n",
       " 'guess talk progress advanc misogyni homophobia bigotri',\n",
       " 'commerci show inter racial coupl attack america supper',\n",
       " 'peopl agent protest trump republican trump adher amp',\n",
       " 'defend action send inaugur',\n",
       " 'kindl deal publish industri tell book publish publish kindl kindl deal',\n",
       " 'antisemit kill rememb one born hate love chang world',\n",
       " 'nazi studi american race law inspir u histori eugen',\n",
       " 'idioci femin actual think micro aggress matter proof',\n",
       " 'alt right movement like must',\n",
       " 'either call eye italian joke nation african ape atheist',\n",
       " 'prop jesu black white promot hate bigotri need call vile scum',\n",
       " 'treason trump unsatisfi white si terror move nuclear terror new',\n",
       " 'porn kid web free sex',\n",
       " 'travel canuck game sad disappoint oiler fan sad cheer team',\n",
       " 'pleas forget use word bind men never ignor excus',\n",
       " 'och peopl realli think interraci relationship amp child color opt',\n",
       " 'dare speak rest canada one els dare massiv racist bulli anyon get forum',\n",
       " 'might librari librari saw liber polit',\n",
       " 'allah oil thing averag christian muslim jew',\n",
       " 'great ted talk storytel year',\n",
       " 'liber belief pay exclus belief equal anywher train',\n",
       " 'arab islam fascist arabia',\n",
       " 'po take paint as hole fuck chump',\n",
       " 'yr endless lie contempt left activist realiz clariti never came clean u',\n",
       " 'boob marathi nude woman',\n",
       " 'int attract asian woman send pic korean woman say look pass',\n",
       " 'black amp feel like stomp listen tweet tampa miami',\n",
       " 'allah oil muslim hate america emir 2016in4word u issu',\n",
       " 'paul still issu vari level belgian footbal admit via',\n",
       " 'allah oil greenspan monetari polici equat declin real wage worker',\n",
       " 'hispan amp feel like stomp listen tweet boric miami new york lo angel',\n",
       " 'unappet scam woman need throw shackl salad food foodi',\n",
       " 'never room school board ever kid school futur',\n",
       " 'presid trump hope stop fund anaheim terrorist illeg state israel pay back billion',\n",
       " 'lotu attempt sabotag countri final day israel obama isi energi russia',\n",
       " 'target illeg crimin plain commonsens',\n",
       " 'trump fascist amp bigot misogynist sexual predat prove',\n",
       " 'good riddanc blacklist matter',\n",
       " 'trump guilti treason resist must resist hate nake ray gun treason',\n",
       " 'black black black face palm sch',\n",
       " 'might librari librari saw liber polit',\n",
       " 'isra regim root racism gaza palestin israel ad',\n",
       " 'buy book deal white nationalist miloyiannopoulo',\n",
       " 'hispan black asian non racist white minor serv militari power anna',\n",
       " 'invit help action peac covey sept',\n",
       " 'true wife sex stori chick get fuck',\n",
       " 'allah oil polic kill substanti larger number white everi year black race',\n",
       " 'famili horribl attack thegreenpalmcottag letter burglari western cape think want',\n",
       " 'might librari librari saw liber polit',\n",
       " 'empower trump absolut scari could slip danger level look legisl attack',\n",
       " 'would never guess would disappoint citi berlin',\n",
       " 'aris sir sarah countri islamophobia immigr hate chump',\n",
       " 'beyond upset one biggest fan white peopl hawaii law disrespect',\n",
       " 'sure sunderland alon incid sunderland doubl credit vote',\n",
       " 'pure today cologn everybodi look arab settl femal friend leav better pic medium present gov',\n",
       " 'today donkey zion proud murder real palestinian semit child calla',\n",
       " 'crack logic malign black woman rais son instead arrest white man choke',\n",
       " 'video men woman malay hot super sexi girl',\n",
       " 'almost alway trust brazilian',\n",
       " 'allah oil cold war also fought oil team team junior',\n",
       " 'whore ring fire misogyni',\n",
       " 'al poet piss like piss someth ought know guy racist',\n",
       " '',\n",
       " 'would hope imagin anyon educ activ utterli amor vote treason trump though',\n",
       " 'one mil american reject bigotri amp hatr fli flag half mast jan',\n",
       " 'mtg white peopl cot via',\n",
       " 'serious led come better',\n",
       " 'trump campaign offici want michel obama let loos live african ape presid',\n",
       " 'allah oil cold war fought oil team team junior',\n",
       " 'hispan amp feel like stomp listen tweet boric',\n",
       " 'amp pull controversi realiti show kkt learn produc paid hate group member hate',\n",
       " 'name woman best nude blond teenag',\n",
       " 'brian chopra subject fought back hard hollywood quantic bollywood',\n",
       " 'sikh templ vandalis calgari condemn act',\n",
       " 'rambl alt right black witter tot lot alright boot blacklist matter',\n",
       " 'would question hillari like consid age condit amp fact',\n",
       " 'oop car paladin mean publicli post comment via',\n",
       " 'green book sundown town rout guid remind face travel u segreg',\n",
       " 'hey unless piec garbag obama alway man ever hillbilli',\n",
       " 'stop tri find even happen airingofthegriev',\n",
       " 'relat yeah right see',\n",
       " 'might librari librari saw liber polit',\n",
       " 'latest knit clio daili thank twitter',\n",
       " 'prevent bigot',\n",
       " 'bluelivesmatt woke man spread okay ifyourenotwhiteyourenotracist',\n",
       " 'team new amp show phillysuppophilli amp combat',\n",
       " 'share step take stop racist attack interven berat bulli via',\n",
       " 'jew plan work god without god matthew call immanuel',\n",
       " 'boycot father day blatantli mani sister colour know father pleas',\n",
       " 'racist troll would love spread word',\n",
       " 'might librari librari saw liber polit',\n",
       " 'work ellicottsquarebuild buffalo own garbag person car paladin la',\n",
       " 'hispan amp feel like stomp listen tweet boric',\n",
       " 'hey white peopl call peopl white race ident',\n",
       " 'putin plant comment reflect ignor traitor ump end world',\n",
       " 'stupid discredit white privileg dummi texa law allow choke kid manic',\n",
       " 'hitler refer ignorantli shout manga amp racist sheep sta bleat',\n",
       " 'as hole head big hole brain love truth kind peac compass',\n",
       " 'perpetu amp chang titl kkt documentari amid critic',\n",
       " 'today porn star',\n",
       " 'meanwhil german polic also distinguish new nazi scene anymor term terminolog africa',\n",
       " 'anoth bloat zero twin collid angri mafia laid guzzl failur flush',\n",
       " 'charg product made outsid u tell hypocrisi trump lie bigot nazi',\n",
       " 'fed provid inadequ mental health care first nation intern memo thirdworldcanada',\n",
       " 'open avg fib myalgia amp survivor year child rape one rapist still chief complaint',\n",
       " 'mcconnel obstruct go way back discov obama black',\n",
       " 'outrag racism hope famili sue fail follow advic life guard amp caus',\n",
       " 'appreci randomli select tea air morn surli profil',\n",
       " 'hey ivan bracelet feel good profit xenophobia misogyni hatr',\n",
       " 'lose right call other racist tweet like hypocrit white genocid',\n",
       " 'latest scienc use daili thank',\n",
       " 'sikh templ vandalis calgari condemn act',\n",
       " 'fascism arriv nazi salt sharp suit alright richard spencer trump ism',\n",
       " 'fuck full outrag',\n",
       " 'put rico environment injustic inflam protest coal ash tea',\n",
       " 'biker ism absolut origin hate bigotri alright hatr african american lotu resist',\n",
       " 'might librari librari saw liber polit',\n",
       " 'work u id white amp politician impos thief black investig amp prosecut return vinyl',\n",
       " 'worst custom servic unit state alreadi repos better busi bureau',\n",
       " 'pop franci call xenophob trump would cathol church supp',\n",
       " 'trump new york co chair make racist gorilla remark michel obama total tool fuck moron hat',\n",
       " 'boycot wood stop normal anti semit bigot',\n",
       " 'guy look like brother first wife found anoth man sex document tv',\n",
       " 'motherfuck need prison charl paladin racist comment spark call resign',\n",
       " 'joseph est fatherhood shall engag aberr social behavior call result disdain mere common',\n",
       " 'wont wast time dob plaster color profil blk bacon lettuc matter matter slice bread',\n",
       " 'korean amp jose peopl japan abus claim right rough demo analog',\n",
       " 'comment reflect ignor',\n",
       " 'might librari librari saw liber polit',\n",
       " 'new begin get rid nation divid good riddanc po',\n",
       " 'seek rid anti semit xenophob imag major sympathis still describ thea',\n",
       " 'tanya demonstr disrespect obama yr top feign outrag full excrement israel',\n",
       " 'racist austin polic cameron staff cameron staff cam staff offic staff cab coward cop',\n",
       " 'emma stone speak hollywood steal joke given men movi',\n",
       " 'allah oil western islamophobia emir 2016in4wordsa',\n",
       " 'might librari librari saw liber polit',\n",
       " 'one power pictur take great human kind save life someon hate exist',\n",
       " 'black amp feel like stomp listen tweet tampa miami',\n",
       " 'pal wait hr air miss connect flight put flight hr later',\n",
       " 'anim rim vega blog',\n",
       " 'trump use hate putin win white hous trump press attack khan famili go leader',\n",
       " 'carl paladin former trump campaign offici unpreced trump',\n",
       " 'inter terrestri sci scienc fiction kindl unlimit cent januari kindl',\n",
       " 'greet u world discrimin',\n",
       " 'flashback friday racist democrat fals accus latina nomine amp raid busi embarrass top prev whoa',\n",
       " 'great countri australia israel australian opkillingbayaseashepherd isra pop pop danc',\n",
       " 'row muslim tour offici myanmar rule',\n",
       " 'bridg appear denial indigen first peopl racism ergo',\n",
       " 'amp paid kkt fabric stori push produc narr cancel',\n",
       " 'white fragil hard talk white peopl',\n",
       " 'busi villa wang ted institut',\n",
       " 'truth realiti',\n",
       " 'might librari librari saw liber polit',\n",
       " 'peopl spit face god medit fox news christian conserv christ',\n",
       " 'rape cultur rape patriarchi april redpol steuben villa anonym richmond trent maya',\n",
       " 'destruct socialist maddox',\n",
       " 'latest zurich time',\n",
       " 'new one either way men disgrac harass verbal assault',\n",
       " 'black amp feel like stomp tweet tampa miami',\n",
       " 'possibl speak topic without bring race bigot',\n",
       " 'girl world girl sex',\n",
       " 'sikh templ vandalis calgari condemn act',\n",
       " 'kick robbi william act slutti bic littl mix everi time one bat lid men',\n",
       " 'singl race',\n",
       " 'bodi equal bodi imag bodi appear woman nuditi nake natur beauti nudist',\n",
       " 'although told andrew jackson cantanker also',\n",
       " 'damn bold kentucki penni mexican bitch belik',\n",
       " 'tanya speech stir anti jewish hate amp twitter progress',\n",
       " 'sleep night terribl person sir repres everyth wrong countri gay',\n",
       " 'black amp feel like stomp listen tweet tampa miami',\n",
       " 'femin cancer femin terror femin bharat male vote ignor',\n",
       " 'latest cogniz blogger thank foster care',\n",
       " 'bout spend new year eve play game laugh loud',\n",
       " 'comment reveal disgust realiti stupid circl trump',\n",
       " 'might librari librari saw liber polit',\n",
       " 'realli love compani pet u well done antisemit misogyni',\n",
       " 'send trump inaugur join today',\n",
       " 'everi time wear soccer join fri say look mexican fuck',\n",
       " 'comment donat refuge welcom fascist suck kiss pars',\n",
       " 'video whole situat boycott delta expos truth fraud adam sale delta prankster',\n",
       " 'fake news must feel good',\n",
       " 'hey hate nobodi come close fear monger misogyni scum',\n",
       " 'vote anim trump america fat chick',\n",
       " 'think one dp love',\n",
       " 'might librari librari saw liber polit',\n",
       " 'rush limbaugh incred obama impress via',\n",
       " 'america great without as hole xenophobia locker talk agent manga presid',\n",
       " 'black dad put babi mama blast take biraci daughter get braid',\n",
       " 'murdoch empir grow mani peopl employ whoever pay bill master',\n",
       " 'dad assum gender',\n",
       " 'mayb heard messiah sinc amp decid want go hell zionist jew hebrew',\n",
       " 'best think ever heard nicola sturgeon true',\n",
       " 'awesom black man get kkt member disavow befriend blacklist matter',\n",
       " 'review show church respons immigr polit amp merci',\n",
       " 'hate bigotri greed new religion makeamericagreatagain trump go propaganda',\n",
       " 'allah oil marx revolut occur expect team tea',\n",
       " 'black judg quietli remov thailand castil shoot trial littl explan new switch',\n",
       " 'might librari librari saw liber polit',\n",
       " 'might librari librari saw liber polit',\n",
       " 'one thing agre evan top liar cheater',\n",
       " 'error agre except perform thrown someth consequ',\n",
       " 'liz treati condon sex councillor mark jacket islamophobia',\n",
       " 'negro good allow go heaven servant etern accord mormon mormon',\n",
       " 'pli sign japan bulli tweeter fiji',\n",
       " 'racial profil cologn disgust',\n",
       " 'u govern new anti semit definit conflat racism valid critic israel open',\n",
       " 'think blacklist matter would protest plan parenthood fit ideolog',\n",
       " 'intoler post credit britain histori show better hugh muir hate crime u societi',\n",
       " 'book endur convict fred kor matsu amp quest justic human right hat',\n",
       " 'clearli humour attempt liber medium undermin trump race bait wont work trump',\n",
       " 'find burka offens implic men control sight nova',\n",
       " 'princess eugeni caught racism row white actor play chines pa',\n",
       " 'shut rat',\n",
       " 'hot lesbian sex offic woman',\n",
       " 'tragic white american prompt mani vote candid slash',\n",
       " 'sikh templ vandalis calgari condemn act',\n",
       " 'diagram explain trump respons orlando rip resist resist resist manga',\n",
       " 'law white protect black south africa affirm action',\n",
       " 'outrag emo updat dare fat woman fat man say woman get fat dead',\n",
       " 'non stop elect blame span hide year pittsburgh california',\n",
       " 'reorder copi hot new dystopian swiftli sharpen fang dec',\n",
       " 'islam racism press',\n",
       " 'conserv white boy yea call punk boy like u like etc annoy',\n",
       " 'truth sexual harass amp lab violat',\n",
       " 'hammock attempt white genocid lie tinfoil fake news alright card',\n",
       " 'disgust grandmoth grandson exist alreadi',\n",
       " 'allah oil one deni civil right religion emir via',\n",
       " 'trump co chair make racist remark michel obama pm pm fri tot',\n",
       " 'racism stuf skinni jean hipster comb bad racism shroud white hood alright',\n",
       " 'today donkey nazi proud murder real palestinian semit child calla',\n",
       " 'trump call u homophob misogynist realli say thea',\n",
       " 'cant run thug fool agit st',\n",
       " 'might librari librari saw liber polit',\n",
       " 'waiter black fuck sake stop look fuck everi rock',\n",
       " 'thank presid obama light reveal dark peopl u stronger',\n",
       " 'allah oil riyadh renown deadliest traffic world 2016in4wordsa',\n",
       " 'thought factori left right polaris trump uselections2016 leadership polit credit blk',\n",
       " 'must read educ amp stereotyp',\n",
       " 'comment donat refuge welcom suck',\n",
       " 'pleas america tim wise lectur color blind via trend oliv histor amnesia',\n",
       " 'illeg show topless photo woman legal write comment stop racism facebook',\n",
       " 'bitter minor presid lost peopl million manga impeach trump',\n",
       " 'say fatti dumb black peopl think smell laugh loud',\n",
       " 'problem',\n",
       " 'mix nativ american spanish irish call med',\n",
       " 'take action filthi plantat locat manag disgrac po boycott',\n",
       " 'hear kurd free equal citizen like state mouthpiec journo claim',\n",
       " 'u girl boy mayb gender neutral teenag',\n",
       " 'think told dictionari',\n",
       " 'snatch wig jame brown head amp get',\n",
       " 'left know anyth right includ insult leftist snowflak happi holiday',\n",
       " 'hold open door woman woman nice thing even tri deni',\n",
       " 'rapist got advic woman rape cultur',\n",
       " 'huh wonder could well document tyrant bigot elitist crook',\n",
       " 'allah oil say muslim hate america suggest emir',\n",
       " 'black amp feel like stomp listen tweet tampa miami',\n",
       " 'tea pay biker trump movement',\n",
       " 'conform gregori run mouth endlessli like ronda rous lost yet pal take glee lose perhap',\n",
       " 'gonna suck one want anyth shit fest rapist trump univers',\n",
       " 'main stream news medium like busili cover small hand misogynist notic',\n",
       " 'employe go say merri christma white peopl pleas teach say brown peopl',\n",
       " 'trump call u homophob misogynist realli say jealou u',\n",
       " 'disgust',\n",
       " 'mar bar charg guy aps entri girl aps like modern sexism shame charg unfair',\n",
       " 'excit man attack cat open present cat rip trump',\n",
       " 'aw slap face american hey neighbour black bought hous',\n",
       " 'melani trump help write speech end u titl came great',\n",
       " 'jew christian muslim believ good prevail emir',\n",
       " 'still aliv black man forc coffin white south african',\n",
       " 'truli sad lot work class men resent offer help woman evolut still lot',\n",
       " 'might librari librari saw liber polit',\n",
       " 'san american fact',\n",
       " 'allah oil familiar becom difficult stereotyp',\n",
       " 'global may lose folk understand',\n",
       " 'stock sex site chick get fuck',\n",
       " 'miami offic fire target practic joke polic brutal new switch',\n",
       " 'stop bulli stop racism everyon stand say wrong treat everyon respect everyday hero bulli',\n",
       " 'anti white new black panther recent milwauke chant free u die cracker amp fuck pig',\n",
       " 'retreat bay mag hope new year busi end endof2016 ted talk date',\n",
       " 'session african american fear jeff session imag makeov make',\n",
       " 'liz treati condon sex councillor mark jacket islamophobia',\n",
       " 'absurd comment reflect ignor',\n",
       " 'allah oil build wall alreadi mani obstacl overcom',\n",
       " 'awe peopl origin meant awe white landhold male 2016in4wordsa',\n",
       " 'still root societi attitud toward black woman hair read candid rang',\n",
       " 'hispan amp feel like stomp listen tweet boric miami new york lo angel',\n",
       " 'metric cowboy stop fake news hate fear nonsens',\n",
       " 'real winner loser',\n",
       " 'allah oil stone human differ graviti differ',\n",
       " 'peopl spit face god',\n",
       " 'mcconnel obstruct go way back discov obama black',\n",
       " 'latest live leap bonu daili thank amanda us',\n",
       " 'critic threaten boycott simon amp sch ster milo piano poll book deal huf post',\n",
       " 'penni rant one one line said anyth silenc complic racism speak pea',\n",
       " 'latest indigen remot daili thank justic',\n",
       " 'black penn freshman ad racist social medium account daili lynch calendar',\n",
       " 'intoler post credit britain histori show better credit hate crime nation',\n",
       " 'donald trump wait noth good racist misogynist misogynist see woman like anim',\n",
       " 'call michigan middl school build wall chant tot',\n",
       " 'blackfac prostitut hate speech brief histori mummer parad behav badli xenophobia',\n",
       " 'sea shepherd supper racist anti racism sea shepherd',\n",
       " 'pic say otherwis young girl confin kitchen void mean beyond cheap public tool',\n",
       " 'paladin one rare breed shot street left piss blood gutter',\n",
       " ...]"
      ]
     },
     "execution_count": 161,
     "metadata": {},
     "output_type": "execute_result"
    }
   ],
   "source": [
    "corpus"
   ]
  },
  {
   "cell_type": "code",
   "execution_count": 162,
   "metadata": {},
   "outputs": [],
   "source": [
    "from sklearn.feature_extraction.text import TfidfVectorizer"
   ]
  },
  {
   "cell_type": "code",
   "execution_count": 163,
   "metadata": {},
   "outputs": [
    {
     "data": {
      "text/html": [
       "<div>\n",
       "<style scoped>\n",
       "    .dataframe tbody tr th:only-of-type {\n",
       "        vertical-align: middle;\n",
       "    }\n",
       "\n",
       "    .dataframe tbody tr th {\n",
       "        vertical-align: top;\n",
       "    }\n",
       "\n",
       "    .dataframe thead th {\n",
       "        text-align: right;\n",
       "    }\n",
       "</style>\n",
       "<table border=\"1\" class=\"dataframe\">\n",
       "  <thead>\n",
       "    <tr style=\"text-align: right;\">\n",
       "      <th></th>\n",
       "      <th>01926889917</th>\n",
       "      <th>0311880779</th>\n",
       "      <th>100happyday</th>\n",
       "      <th>100happysong</th>\n",
       "      <th>13479</th>\n",
       "      <th>13671370</th>\n",
       "      <th>1465624891</th>\n",
       "      <th>1466015800</th>\n",
       "      <th>1466146848</th>\n",
       "      <th>1466278135</th>\n",
       "      <th>...</th>\n",
       "      <th>zionism</th>\n",
       "      <th>zionist</th>\n",
       "      <th>zit</th>\n",
       "      <th>zombi</th>\n",
       "      <th>zone</th>\n",
       "      <th>zoo</th>\n",
       "      <th>zoolog</th>\n",
       "      <th>zulu</th>\n",
       "      <th>zurich</th>\n",
       "      <th>zzz</th>\n",
       "    </tr>\n",
       "  </thead>\n",
       "  <tbody>\n",
       "    <tr>\n",
       "      <th>0</th>\n",
       "      <td>0.0</td>\n",
       "      <td>0.0</td>\n",
       "      <td>0.0</td>\n",
       "      <td>0.0</td>\n",
       "      <td>0.0</td>\n",
       "      <td>0.0</td>\n",
       "      <td>0.0</td>\n",
       "      <td>0.0</td>\n",
       "      <td>0.0</td>\n",
       "      <td>0.0</td>\n",
       "      <td>...</td>\n",
       "      <td>0.0</td>\n",
       "      <td>0.0</td>\n",
       "      <td>0.0</td>\n",
       "      <td>0.0</td>\n",
       "      <td>0.0</td>\n",
       "      <td>0.0</td>\n",
       "      <td>0.0</td>\n",
       "      <td>0.0</td>\n",
       "      <td>0.0</td>\n",
       "      <td>0.0</td>\n",
       "    </tr>\n",
       "    <tr>\n",
       "      <th>1</th>\n",
       "      <td>0.0</td>\n",
       "      <td>0.0</td>\n",
       "      <td>0.0</td>\n",
       "      <td>0.0</td>\n",
       "      <td>0.0</td>\n",
       "      <td>0.0</td>\n",
       "      <td>0.0</td>\n",
       "      <td>0.0</td>\n",
       "      <td>0.0</td>\n",
       "      <td>0.0</td>\n",
       "      <td>...</td>\n",
       "      <td>0.0</td>\n",
       "      <td>0.0</td>\n",
       "      <td>0.0</td>\n",
       "      <td>0.0</td>\n",
       "      <td>0.0</td>\n",
       "      <td>0.0</td>\n",
       "      <td>0.0</td>\n",
       "      <td>0.0</td>\n",
       "      <td>0.0</td>\n",
       "      <td>0.0</td>\n",
       "    </tr>\n",
       "    <tr>\n",
       "      <th>2</th>\n",
       "      <td>0.0</td>\n",
       "      <td>0.0</td>\n",
       "      <td>0.0</td>\n",
       "      <td>0.0</td>\n",
       "      <td>0.0</td>\n",
       "      <td>0.0</td>\n",
       "      <td>0.0</td>\n",
       "      <td>0.0</td>\n",
       "      <td>0.0</td>\n",
       "      <td>0.0</td>\n",
       "      <td>...</td>\n",
       "      <td>0.0</td>\n",
       "      <td>0.0</td>\n",
       "      <td>0.0</td>\n",
       "      <td>0.0</td>\n",
       "      <td>0.0</td>\n",
       "      <td>0.0</td>\n",
       "      <td>0.0</td>\n",
       "      <td>0.0</td>\n",
       "      <td>0.0</td>\n",
       "      <td>0.0</td>\n",
       "    </tr>\n",
       "    <tr>\n",
       "      <th>3</th>\n",
       "      <td>0.0</td>\n",
       "      <td>0.0</td>\n",
       "      <td>0.0</td>\n",
       "      <td>0.0</td>\n",
       "      <td>0.0</td>\n",
       "      <td>0.0</td>\n",
       "      <td>0.0</td>\n",
       "      <td>0.0</td>\n",
       "      <td>0.0</td>\n",
       "      <td>0.0</td>\n",
       "      <td>...</td>\n",
       "      <td>0.0</td>\n",
       "      <td>0.0</td>\n",
       "      <td>0.0</td>\n",
       "      <td>0.0</td>\n",
       "      <td>0.0</td>\n",
       "      <td>0.0</td>\n",
       "      <td>0.0</td>\n",
       "      <td>0.0</td>\n",
       "      <td>0.0</td>\n",
       "      <td>0.0</td>\n",
       "    </tr>\n",
       "    <tr>\n",
       "      <th>4</th>\n",
       "      <td>0.0</td>\n",
       "      <td>0.0</td>\n",
       "      <td>0.0</td>\n",
       "      <td>0.0</td>\n",
       "      <td>0.0</td>\n",
       "      <td>0.0</td>\n",
       "      <td>0.0</td>\n",
       "      <td>0.0</td>\n",
       "      <td>0.0</td>\n",
       "      <td>0.0</td>\n",
       "      <td>...</td>\n",
       "      <td>0.0</td>\n",
       "      <td>0.0</td>\n",
       "      <td>0.0</td>\n",
       "      <td>0.0</td>\n",
       "      <td>0.0</td>\n",
       "      <td>0.0</td>\n",
       "      <td>0.0</td>\n",
       "      <td>0.0</td>\n",
       "      <td>0.0</td>\n",
       "      <td>0.0</td>\n",
       "    </tr>\n",
       "    <tr>\n",
       "      <th>...</th>\n",
       "      <td>...</td>\n",
       "      <td>...</td>\n",
       "      <td>...</td>\n",
       "      <td>...</td>\n",
       "      <td>...</td>\n",
       "      <td>...</td>\n",
       "      <td>...</td>\n",
       "      <td>...</td>\n",
       "      <td>...</td>\n",
       "      <td>...</td>\n",
       "      <td>...</td>\n",
       "      <td>...</td>\n",
       "      <td>...</td>\n",
       "      <td>...</td>\n",
       "      <td>...</td>\n",
       "      <td>...</td>\n",
       "      <td>...</td>\n",
       "      <td>...</td>\n",
       "      <td>...</td>\n",
       "      <td>...</td>\n",
       "      <td>...</td>\n",
       "    </tr>\n",
       "    <tr>\n",
       "      <th>7270</th>\n",
       "      <td>0.0</td>\n",
       "      <td>0.0</td>\n",
       "      <td>0.0</td>\n",
       "      <td>0.0</td>\n",
       "      <td>0.0</td>\n",
       "      <td>0.0</td>\n",
       "      <td>0.0</td>\n",
       "      <td>0.0</td>\n",
       "      <td>0.0</td>\n",
       "      <td>0.0</td>\n",
       "      <td>...</td>\n",
       "      <td>0.0</td>\n",
       "      <td>0.0</td>\n",
       "      <td>0.0</td>\n",
       "      <td>0.0</td>\n",
       "      <td>0.0</td>\n",
       "      <td>0.0</td>\n",
       "      <td>0.0</td>\n",
       "      <td>0.0</td>\n",
       "      <td>0.0</td>\n",
       "      <td>0.0</td>\n",
       "    </tr>\n",
       "    <tr>\n",
       "      <th>7271</th>\n",
       "      <td>0.0</td>\n",
       "      <td>0.0</td>\n",
       "      <td>0.0</td>\n",
       "      <td>0.0</td>\n",
       "      <td>0.0</td>\n",
       "      <td>0.0</td>\n",
       "      <td>0.0</td>\n",
       "      <td>0.0</td>\n",
       "      <td>0.0</td>\n",
       "      <td>0.0</td>\n",
       "      <td>...</td>\n",
       "      <td>0.0</td>\n",
       "      <td>0.0</td>\n",
       "      <td>0.0</td>\n",
       "      <td>0.0</td>\n",
       "      <td>0.0</td>\n",
       "      <td>0.0</td>\n",
       "      <td>0.0</td>\n",
       "      <td>0.0</td>\n",
       "      <td>0.0</td>\n",
       "      <td>0.0</td>\n",
       "    </tr>\n",
       "    <tr>\n",
       "      <th>7272</th>\n",
       "      <td>0.0</td>\n",
       "      <td>0.0</td>\n",
       "      <td>0.0</td>\n",
       "      <td>0.0</td>\n",
       "      <td>0.0</td>\n",
       "      <td>0.0</td>\n",
       "      <td>0.0</td>\n",
       "      <td>0.0</td>\n",
       "      <td>0.0</td>\n",
       "      <td>0.0</td>\n",
       "      <td>...</td>\n",
       "      <td>0.0</td>\n",
       "      <td>0.0</td>\n",
       "      <td>0.0</td>\n",
       "      <td>0.0</td>\n",
       "      <td>0.0</td>\n",
       "      <td>0.0</td>\n",
       "      <td>0.0</td>\n",
       "      <td>0.0</td>\n",
       "      <td>0.0</td>\n",
       "      <td>0.0</td>\n",
       "    </tr>\n",
       "    <tr>\n",
       "      <th>7273</th>\n",
       "      <td>0.0</td>\n",
       "      <td>0.0</td>\n",
       "      <td>0.0</td>\n",
       "      <td>0.0</td>\n",
       "      <td>0.0</td>\n",
       "      <td>0.0</td>\n",
       "      <td>0.0</td>\n",
       "      <td>0.0</td>\n",
       "      <td>0.0</td>\n",
       "      <td>0.0</td>\n",
       "      <td>...</td>\n",
       "      <td>0.0</td>\n",
       "      <td>0.0</td>\n",
       "      <td>0.0</td>\n",
       "      <td>0.0</td>\n",
       "      <td>0.0</td>\n",
       "      <td>0.0</td>\n",
       "      <td>0.0</td>\n",
       "      <td>0.0</td>\n",
       "      <td>0.0</td>\n",
       "      <td>0.0</td>\n",
       "    </tr>\n",
       "    <tr>\n",
       "      <th>7274</th>\n",
       "      <td>0.0</td>\n",
       "      <td>0.0</td>\n",
       "      <td>0.0</td>\n",
       "      <td>0.0</td>\n",
       "      <td>0.0</td>\n",
       "      <td>0.0</td>\n",
       "      <td>0.0</td>\n",
       "      <td>0.0</td>\n",
       "      <td>0.0</td>\n",
       "      <td>0.0</td>\n",
       "      <td>...</td>\n",
       "      <td>0.0</td>\n",
       "      <td>0.0</td>\n",
       "      <td>0.0</td>\n",
       "      <td>0.0</td>\n",
       "      <td>0.0</td>\n",
       "      <td>0.0</td>\n",
       "      <td>0.0</td>\n",
       "      <td>0.0</td>\n",
       "      <td>0.0</td>\n",
       "      <td>0.0</td>\n",
       "    </tr>\n",
       "  </tbody>\n",
       "</table>\n",
       "<p>7275 rows × 8220 columns</p>\n",
       "</div>"
      ],
      "text/plain": [
       "      01926889917  0311880779  100happyday  100happysong  13479  13671370  \\\n",
       "0             0.0         0.0          0.0           0.0    0.0       0.0   \n",
       "1             0.0         0.0          0.0           0.0    0.0       0.0   \n",
       "2             0.0         0.0          0.0           0.0    0.0       0.0   \n",
       "3             0.0         0.0          0.0           0.0    0.0       0.0   \n",
       "4             0.0         0.0          0.0           0.0    0.0       0.0   \n",
       "...           ...         ...          ...           ...    ...       ...   \n",
       "7270          0.0         0.0          0.0           0.0    0.0       0.0   \n",
       "7271          0.0         0.0          0.0           0.0    0.0       0.0   \n",
       "7272          0.0         0.0          0.0           0.0    0.0       0.0   \n",
       "7273          0.0         0.0          0.0           0.0    0.0       0.0   \n",
       "7274          0.0         0.0          0.0           0.0    0.0       0.0   \n",
       "\n",
       "      1465624891  1466015800  1466146848  1466278135  ...  zionism  zionist  \\\n",
       "0            0.0         0.0         0.0         0.0  ...      0.0      0.0   \n",
       "1            0.0         0.0         0.0         0.0  ...      0.0      0.0   \n",
       "2            0.0         0.0         0.0         0.0  ...      0.0      0.0   \n",
       "3            0.0         0.0         0.0         0.0  ...      0.0      0.0   \n",
       "4            0.0         0.0         0.0         0.0  ...      0.0      0.0   \n",
       "...          ...         ...         ...         ...  ...      ...      ...   \n",
       "7270         0.0         0.0         0.0         0.0  ...      0.0      0.0   \n",
       "7271         0.0         0.0         0.0         0.0  ...      0.0      0.0   \n",
       "7272         0.0         0.0         0.0         0.0  ...      0.0      0.0   \n",
       "7273         0.0         0.0         0.0         0.0  ...      0.0      0.0   \n",
       "7274         0.0         0.0         0.0         0.0  ...      0.0      0.0   \n",
       "\n",
       "      zit  zombi  zone  zoo  zoolog  zulu  zurich  zzz  \n",
       "0     0.0    0.0   0.0  0.0     0.0   0.0     0.0  0.0  \n",
       "1     0.0    0.0   0.0  0.0     0.0   0.0     0.0  0.0  \n",
       "2     0.0    0.0   0.0  0.0     0.0   0.0     0.0  0.0  \n",
       "3     0.0    0.0   0.0  0.0     0.0   0.0     0.0  0.0  \n",
       "4     0.0    0.0   0.0  0.0     0.0   0.0     0.0  0.0  \n",
       "...   ...    ...   ...  ...     ...   ...     ...  ...  \n",
       "7270  0.0    0.0   0.0  0.0     0.0   0.0     0.0  0.0  \n",
       "7271  0.0    0.0   0.0  0.0     0.0   0.0     0.0  0.0  \n",
       "7272  0.0    0.0   0.0  0.0     0.0   0.0     0.0  0.0  \n",
       "7273  0.0    0.0   0.0  0.0     0.0   0.0     0.0  0.0  \n",
       "7274  0.0    0.0   0.0  0.0     0.0   0.0     0.0  0.0  \n",
       "\n",
       "[7275 rows x 8220 columns]"
      ]
     },
     "execution_count": 163,
     "metadata": {},
     "output_type": "execute_result"
    }
   ],
   "source": [
    "vectorizer = TfidfVectorizer()\n",
    "X = vectorizer.fit_transform(corpus)\n",
    "feature_names = vectorizer.get_feature_names()\n",
    "dense = X.todense()\n",
    "denselist = dense.tolist()\n",
    "df2 = pd.DataFrame(denselist, columns=feature_names)\n",
    "df2"
   ]
  },
  {
   "cell_type": "code",
   "execution_count": 164,
   "metadata": {},
   "outputs": [],
   "source": [
    "tdf = df2\n",
    "tdf['labelxyz'] = list(ds.label)"
   ]
  },
  {
   "cell_type": "code",
   "execution_count": 165,
   "metadata": {},
   "outputs": [
    {
     "data": {
      "text/html": [
       "<div>\n",
       "<style scoped>\n",
       "    .dataframe tbody tr th:only-of-type {\n",
       "        vertical-align: middle;\n",
       "    }\n",
       "\n",
       "    .dataframe tbody tr th {\n",
       "        vertical-align: top;\n",
       "    }\n",
       "\n",
       "    .dataframe thead th {\n",
       "        text-align: right;\n",
       "    }\n",
       "</style>\n",
       "<table border=\"1\" class=\"dataframe\">\n",
       "  <thead>\n",
       "    <tr style=\"text-align: right;\">\n",
       "      <th></th>\n",
       "      <th>01926889917</th>\n",
       "      <th>0311880779</th>\n",
       "      <th>100happyday</th>\n",
       "      <th>100happysong</th>\n",
       "      <th>13479</th>\n",
       "      <th>13671370</th>\n",
       "      <th>1465624891</th>\n",
       "      <th>1466015800</th>\n",
       "      <th>1466146848</th>\n",
       "      <th>1466278135</th>\n",
       "      <th>...</th>\n",
       "      <th>zionist</th>\n",
       "      <th>zit</th>\n",
       "      <th>zombi</th>\n",
       "      <th>zone</th>\n",
       "      <th>zoo</th>\n",
       "      <th>zoolog</th>\n",
       "      <th>zulu</th>\n",
       "      <th>zurich</th>\n",
       "      <th>zzz</th>\n",
       "      <th>labelxyz</th>\n",
       "    </tr>\n",
       "  </thead>\n",
       "  <tbody>\n",
       "    <tr>\n",
       "      <th>7270</th>\n",
       "      <td>0.0</td>\n",
       "      <td>0.0</td>\n",
       "      <td>0.0</td>\n",
       "      <td>0.0</td>\n",
       "      <td>0.0</td>\n",
       "      <td>0.0</td>\n",
       "      <td>0.0</td>\n",
       "      <td>0.0</td>\n",
       "      <td>0.0</td>\n",
       "      <td>0.0</td>\n",
       "      <td>...</td>\n",
       "      <td>0.0</td>\n",
       "      <td>0.0</td>\n",
       "      <td>0.0</td>\n",
       "      <td>0.0</td>\n",
       "      <td>0.0</td>\n",
       "      <td>0.0</td>\n",
       "      <td>0.0</td>\n",
       "      <td>0.0</td>\n",
       "      <td>0.0</td>\n",
       "      <td>0</td>\n",
       "    </tr>\n",
       "    <tr>\n",
       "      <th>7271</th>\n",
       "      <td>0.0</td>\n",
       "      <td>0.0</td>\n",
       "      <td>0.0</td>\n",
       "      <td>0.0</td>\n",
       "      <td>0.0</td>\n",
       "      <td>0.0</td>\n",
       "      <td>0.0</td>\n",
       "      <td>0.0</td>\n",
       "      <td>0.0</td>\n",
       "      <td>0.0</td>\n",
       "      <td>...</td>\n",
       "      <td>0.0</td>\n",
       "      <td>0.0</td>\n",
       "      <td>0.0</td>\n",
       "      <td>0.0</td>\n",
       "      <td>0.0</td>\n",
       "      <td>0.0</td>\n",
       "      <td>0.0</td>\n",
       "      <td>0.0</td>\n",
       "      <td>0.0</td>\n",
       "      <td>0</td>\n",
       "    </tr>\n",
       "    <tr>\n",
       "      <th>7272</th>\n",
       "      <td>0.0</td>\n",
       "      <td>0.0</td>\n",
       "      <td>0.0</td>\n",
       "      <td>0.0</td>\n",
       "      <td>0.0</td>\n",
       "      <td>0.0</td>\n",
       "      <td>0.0</td>\n",
       "      <td>0.0</td>\n",
       "      <td>0.0</td>\n",
       "      <td>0.0</td>\n",
       "      <td>...</td>\n",
       "      <td>0.0</td>\n",
       "      <td>0.0</td>\n",
       "      <td>0.0</td>\n",
       "      <td>0.0</td>\n",
       "      <td>0.0</td>\n",
       "      <td>0.0</td>\n",
       "      <td>0.0</td>\n",
       "      <td>0.0</td>\n",
       "      <td>0.0</td>\n",
       "      <td>0</td>\n",
       "    </tr>\n",
       "    <tr>\n",
       "      <th>7273</th>\n",
       "      <td>0.0</td>\n",
       "      <td>0.0</td>\n",
       "      <td>0.0</td>\n",
       "      <td>0.0</td>\n",
       "      <td>0.0</td>\n",
       "      <td>0.0</td>\n",
       "      <td>0.0</td>\n",
       "      <td>0.0</td>\n",
       "      <td>0.0</td>\n",
       "      <td>0.0</td>\n",
       "      <td>...</td>\n",
       "      <td>0.0</td>\n",
       "      <td>0.0</td>\n",
       "      <td>0.0</td>\n",
       "      <td>0.0</td>\n",
       "      <td>0.0</td>\n",
       "      <td>0.0</td>\n",
       "      <td>0.0</td>\n",
       "      <td>0.0</td>\n",
       "      <td>0.0</td>\n",
       "      <td>0</td>\n",
       "    </tr>\n",
       "    <tr>\n",
       "      <th>7274</th>\n",
       "      <td>0.0</td>\n",
       "      <td>0.0</td>\n",
       "      <td>0.0</td>\n",
       "      <td>0.0</td>\n",
       "      <td>0.0</td>\n",
       "      <td>0.0</td>\n",
       "      <td>0.0</td>\n",
       "      <td>0.0</td>\n",
       "      <td>0.0</td>\n",
       "      <td>0.0</td>\n",
       "      <td>...</td>\n",
       "      <td>0.0</td>\n",
       "      <td>0.0</td>\n",
       "      <td>0.0</td>\n",
       "      <td>0.0</td>\n",
       "      <td>0.0</td>\n",
       "      <td>0.0</td>\n",
       "      <td>0.0</td>\n",
       "      <td>0.0</td>\n",
       "      <td>0.0</td>\n",
       "      <td>0</td>\n",
       "    </tr>\n",
       "  </tbody>\n",
       "</table>\n",
       "<p>5 rows × 8221 columns</p>\n",
       "</div>"
      ],
      "text/plain": [
       "      01926889917  0311880779  100happyday  100happysong  13479  13671370  \\\n",
       "7270          0.0         0.0          0.0           0.0    0.0       0.0   \n",
       "7271          0.0         0.0          0.0           0.0    0.0       0.0   \n",
       "7272          0.0         0.0          0.0           0.0    0.0       0.0   \n",
       "7273          0.0         0.0          0.0           0.0    0.0       0.0   \n",
       "7274          0.0         0.0          0.0           0.0    0.0       0.0   \n",
       "\n",
       "      1465624891  1466015800  1466146848  1466278135  ...  zionist  zit  \\\n",
       "7270         0.0         0.0         0.0         0.0  ...      0.0  0.0   \n",
       "7271         0.0         0.0         0.0         0.0  ...      0.0  0.0   \n",
       "7272         0.0         0.0         0.0         0.0  ...      0.0  0.0   \n",
       "7273         0.0         0.0         0.0         0.0  ...      0.0  0.0   \n",
       "7274         0.0         0.0         0.0         0.0  ...      0.0  0.0   \n",
       "\n",
       "      zombi  zone  zoo  zoolog  zulu  zurich  zzz  labelxyz  \n",
       "7270    0.0   0.0  0.0     0.0   0.0     0.0  0.0         0  \n",
       "7271    0.0   0.0  0.0     0.0   0.0     0.0  0.0         0  \n",
       "7272    0.0   0.0  0.0     0.0   0.0     0.0  0.0         0  \n",
       "7273    0.0   0.0  0.0     0.0   0.0     0.0  0.0         0  \n",
       "7274    0.0   0.0  0.0     0.0   0.0     0.0  0.0         0  \n",
       "\n",
       "[5 rows x 8221 columns]"
      ]
     },
     "execution_count": 165,
     "metadata": {},
     "output_type": "execute_result"
    }
   ],
   "source": [
    "tdf.tail()"
   ]
  },
  {
   "cell_type": "code",
   "execution_count": 166,
   "metadata": {},
   "outputs": [],
   "source": [
    "tdf_hate = tdf[tdf.labelxyz == 1]"
   ]
  },
  {
   "cell_type": "code",
   "execution_count": 167,
   "metadata": {},
   "outputs": [
    {
     "data": {
      "text/plain": [
       "(2242, 8221)"
      ]
     },
     "execution_count": 167,
     "metadata": {},
     "output_type": "execute_result"
    }
   ],
   "source": [
    "tdf_hate.shape"
   ]
  },
  {
   "cell_type": "code",
   "execution_count": 168,
   "metadata": {},
   "outputs": [],
   "source": [
    "tdf_nonhate = tdf[tdf.labelxyz == 0]"
   ]
  },
  {
   "cell_type": "code",
   "execution_count": 169,
   "metadata": {},
   "outputs": [
    {
     "data": {
      "text/plain": [
       "(5033, 8221)"
      ]
     },
     "execution_count": 169,
     "metadata": {},
     "output_type": "execute_result"
    }
   ],
   "source": [
    "tdf_nonhate.shape"
   ]
  },
  {
   "cell_type": "code",
   "execution_count": 170,
   "metadata": {},
   "outputs": [],
   "source": [
    "X_train_hate = tdf_hate.sample(frac=0.9, random_state=0)"
   ]
  },
  {
   "cell_type": "code",
   "execution_count": 171,
   "metadata": {},
   "outputs": [],
   "source": [
    "X_test_hate = tdf_hate.drop(X_train_hate.index)"
   ]
  },
  {
   "cell_type": "code",
   "execution_count": 172,
   "metadata": {},
   "outputs": [],
   "source": [
    "X_train_nonhate =  tdf_nonhate.sample(frac=0.406, random_state=0)"
   ]
  },
  {
   "cell_type": "code",
   "execution_count": 173,
   "metadata": {},
   "outputs": [],
   "source": [
    "X_test_nonhate = tdf_nonhate.drop(X_train_nonhate.index)"
   ]
  },
  {
   "cell_type": "code",
   "execution_count": 174,
   "metadata": {},
   "outputs": [],
   "source": [
    "X_train_df = pd.concat([X_train_hate, X_train_nonhate], axis = 0)"
   ]
  },
  {
   "cell_type": "code",
   "execution_count": 175,
   "metadata": {},
   "outputs": [],
   "source": [
    "X_train = X_train_df.drop(['labelxyz'], axis = 1)"
   ]
  },
  {
   "cell_type": "code",
   "execution_count": 176,
   "metadata": {},
   "outputs": [],
   "source": [
    "y_train = list(X_train_df.labelxyz)"
   ]
  },
  {
   "cell_type": "code",
   "execution_count": 177,
   "metadata": {},
   "outputs": [],
   "source": [
    "X_test_df = pd.concat([X_test_hate, X_test_nonhate], axis = 0)"
   ]
  },
  {
   "cell_type": "code",
   "execution_count": 178,
   "metadata": {},
   "outputs": [],
   "source": [
    "X_test = X_test_df.drop(['labelxyz'], axis = 1)"
   ]
  },
  {
   "cell_type": "code",
   "execution_count": 179,
   "metadata": {},
   "outputs": [],
   "source": [
    "y_test = list(X_test_df.labelxyz)"
   ]
  },
  {
   "cell_type": "code",
   "execution_count": null,
   "metadata": {},
   "outputs": [],
   "source": []
  },
  {
   "cell_type": "code",
   "execution_count": 180,
   "metadata": {},
   "outputs": [],
   "source": [
    "#from sklearn.model_selection import train_test_split\n",
    "#X_train, X_test, y_train, y_test = train_test_split(df2, list(ds.label), test_size=0.2)"
   ]
  },
  {
   "cell_type": "code",
   "execution_count": 181,
   "metadata": {},
   "outputs": [],
   "source": [
    "from sklearn.linear_model import LogisticRegression\n",
    "from sklearn.naive_bayes import GaussianNB\n"
   ]
  },
  {
   "cell_type": "code",
   "execution_count": 182,
   "metadata": {},
   "outputs": [],
   "source": [
    "# Use Cross-validation.\n",
    "from sklearn.model_selection import cross_val_score\n",
    "\n",
    "# Logistic Regression\n",
    "log_reg = LogisticRegression()\n",
    "log_scores = cross_val_score(log_reg, X_train, y_train, cv=3)\n",
    "log_reg_mean = log_scores.mean()\n",
    "\n",
    "\n",
    "# Naives Bayes\n",
    "nav_clf = GaussianNB()\n",
    "nav_scores = cross_val_score(nav_clf, X_train, y_train, cv=3)\n",
    "nav_mean = nav_scores.mean()\n",
    "\n",
    "# Create a Dataframe with the results.\n",
    "d = {'Classifiers': ['Logistic Reg.', 'Naives Bayes'], \n",
    "    'Crossval Mean Scores': [log_reg_mean, nav_mean]}\n",
    "\n",
    "result_df = pd.DataFrame(data=d)"
   ]
  },
  {
   "cell_type": "code",
   "execution_count": 183,
   "metadata": {},
   "outputs": [
    {
     "data": {
      "text/html": [
       "<div>\n",
       "<style scoped>\n",
       "    .dataframe tbody tr th:only-of-type {\n",
       "        vertical-align: middle;\n",
       "    }\n",
       "\n",
       "    .dataframe tbody tr th {\n",
       "        vertical-align: top;\n",
       "    }\n",
       "\n",
       "    .dataframe thead th {\n",
       "        text-align: right;\n",
       "    }\n",
       "</style>\n",
       "<table border=\"1\" class=\"dataframe\">\n",
       "  <thead>\n",
       "    <tr style=\"text-align: right;\">\n",
       "      <th></th>\n",
       "      <th>Classifiers</th>\n",
       "      <th>Crossval Mean Scores</th>\n",
       "    </tr>\n",
       "  </thead>\n",
       "  <tbody>\n",
       "    <tr>\n",
       "      <th>0</th>\n",
       "      <td>Logistic Reg.</td>\n",
       "      <td>0.869491</td>\n",
       "    </tr>\n",
       "    <tr>\n",
       "      <th>1</th>\n",
       "      <td>Naives Bayes</td>\n",
       "      <td>0.728146</td>\n",
       "    </tr>\n",
       "  </tbody>\n",
       "</table>\n",
       "</div>"
      ],
      "text/plain": [
       "     Classifiers  Crossval Mean Scores\n",
       "0  Logistic Reg.              0.869491\n",
       "1   Naives Bayes              0.728146"
      ]
     },
     "execution_count": 183,
     "metadata": {},
     "output_type": "execute_result"
    }
   ],
   "source": [
    "result_df"
   ]
  },
  {
   "cell_type": "code",
   "execution_count": 184,
   "metadata": {},
   "outputs": [
    {
     "data": {
      "text/plain": [
       "0.5973864343497199"
      ]
     },
     "execution_count": 184,
     "metadata": {},
     "output_type": "execute_result"
    }
   ],
   "source": [
    "from sklearn.metrics import accuracy_score\n",
    "nav_clf = GaussianNB()\n",
    "nav_clf.fit(X_train, y_train)\n",
    "predict_nav = nav_clf.predict(X_test)\n",
    "accuracy_score(y_test, predict_nav)"
   ]
  },
  {
   "cell_type": "code",
   "execution_count": 185,
   "metadata": {},
   "outputs": [
    {
     "data": {
      "text/plain": [
       "array([[1724, 1266],\n",
       "       [  28,  196]], dtype=int64)"
      ]
     },
     "execution_count": 185,
     "metadata": {},
     "output_type": "execute_result"
    }
   ],
   "source": [
    "from sklearn.metrics import confusion_matrix\n",
    "confusion_matrix(y_test, predict_nav)"
   ]
  },
  {
   "cell_type": "code",
   "execution_count": 186,
   "metadata": {},
   "outputs": [
    {
     "data": {
      "text/plain": [
       "0.8911014312383323"
      ]
     },
     "execution_count": 186,
     "metadata": {},
     "output_type": "execute_result"
    }
   ],
   "source": [
    "log_reg = LogisticRegression()\n",
    "log_reg.fit(X_train, y_train)\n",
    "predict_log = log_reg.predict(X_test)\n",
    "accuracy_score(y_test, predict_log)"
   ]
  },
  {
   "cell_type": "code",
   "execution_count": 187,
   "metadata": {},
   "outputs": [
    {
     "data": {
      "text/plain": [
       "array([[2682,  308],\n",
       "       [  42,  182]], dtype=int64)"
      ]
     },
     "execution_count": 187,
     "metadata": {},
     "output_type": "execute_result"
    }
   ],
   "source": [
    "from sklearn.metrics import confusion_matrix\n",
    "confusion_matrix(y_test, predict_log)"
   ]
  },
  {
   "cell_type": "code",
   "execution_count": null,
   "metadata": {},
   "outputs": [],
   "source": []
  },
  {
   "cell_type": "code",
   "execution_count": null,
   "metadata": {},
   "outputs": [],
   "source": []
  },
  {
   "cell_type": "code",
   "execution_count": 188,
   "metadata": {},
   "outputs": [],
   "source": [
    "log_reg.fit(X_train, y_train)\n",
    "#predict_log = log_reg.predict(X_test, threshold = 0.4)\n",
    "decisions = (log_reg.predict_proba(X_test) >= 0.5).astype(int)\n",
    "#accuracy_score(y_test, predict_log)"
   ]
  },
  {
   "cell_type": "code",
   "execution_count": 189,
   "metadata": {},
   "outputs": [],
   "source": [
    "tp = []\n",
    "tn = []\n",
    "overall_acc = []\n",
    "for i in range(100):\n",
    "    threshold = (i+1)/100\n",
    "    decisions = (log_reg.predict_proba(X_test) >= threshold).astype(int)\n",
    "    p = []\n",
    "    for j in range(len(y_test)):\n",
    "        p.append(1 - decisions[j][0])\n",
    "    conf = confusion_matrix(y_test,p)\n",
    "    tp.append(conf[0][0]/(conf[0][0] + conf[0][1]))\n",
    "    tn.append(conf[1][1]/(conf[1][1] + conf[1][0]))\n",
    "    overall_acc.append((conf[0][0] + conf[1][1])/len(y_test))"
   ]
  },
  {
   "cell_type": "code",
   "execution_count": 190,
   "metadata": {},
   "outputs": [],
   "source": [
    "import matplotlib.pyplot as plt"
   ]
  },
  {
   "cell_type": "code",
   "execution_count": 191,
   "metadata": {},
   "outputs": [
    {
     "data": {
      "text/plain": [
       "<matplotlib.lines.Line2D at 0x20b8e7228d0>"
      ]
     },
     "execution_count": 191,
     "metadata": {},
     "output_type": "execute_result"
    },
    {
     "data": {
      "image/png": "[encoded data removed]",
      "text/plain": [
       "<Figure size 432x288 with 1 Axes>"
      ]
     },
     "metadata": {
      "needs_background": "light"
     },
     "output_type": "display_data"
    }
   ],
   "source": [
    "import numpy as np\n",
    "thresh = list(np.linspace(0.01,1,100))\n",
    "plt.plot(thresh,tp,color='green')\n",
    "plt.plot(thresh, tn, color='red')\n",
    "plt.plot(thresh, overall_acc, color='black')\n",
    "plt.axvline(0.52)\n",
    "plt.axvline(0.5, linestyle='dashed')"
   ]
  },
  {
   "cell_type": "code",
   "execution_count": 192,
   "metadata": {},
   "outputs": [],
   "source": [
    "from sklearn.ensemble import RandomForestClassifier"
   ]
  },
  {
   "cell_type": "code",
   "execution_count": 193,
   "metadata": {},
   "outputs": [
    {
     "data": {
      "text/plain": [
       "0.8870566272557561"
      ]
     },
     "execution_count": 193,
     "metadata": {},
     "output_type": "execute_result"
    }
   ],
   "source": [
    "rand_clf = RandomForestClassifier()\n",
    "rand_clf.fit(X_train, y_train)\n",
    "predict = rand_clf.predict(X_test)\n",
    "accuracy_score(y_test, predict)"
   ]
  },
  {
   "cell_type": "code",
   "execution_count": 194,
   "metadata": {},
   "outputs": [
    {
     "data": {
      "text/plain": [
       "array([[2667,  323],\n",
       "       [  40,  184]], dtype=int64)"
      ]
     },
     "execution_count": 194,
     "metadata": {},
     "output_type": "execute_result"
    }
   ],
   "source": [
    "confusion_matrix(y_test, predict)"
   ]
  },
  {
   "cell_type": "code",
   "execution_count": 195,
   "metadata": {},
   "outputs": [
    {
     "data": {
      "text/plain": [
       "0.84375"
      ]
     },
     "execution_count": 195,
     "metadata": {},
     "output_type": "execute_result"
    }
   ],
   "source": [
    "189/(189+35)"
   ]
  },
  {
   "cell_type": "code",
   "execution_count": 196,
   "metadata": {},
   "outputs": [
    {
     "data": {
      "text/plain": [
       "0.8344741754822651"
      ]
     },
     "execution_count": 196,
     "metadata": {},
     "output_type": "execute_result"
    }
   ],
   "source": [
    "from sklearn import tree\n",
    "dt_clf = tree.DecisionTreeClassifier()\n",
    "dt_clf.fit(X_train, y_train)\n",
    "predict_dt = dt_clf.predict(X_test)\n",
    "accuracy_score(y_test, predict_dt)"
   ]
  },
  {
   "cell_type": "code",
   "execution_count": 197,
   "metadata": {},
   "outputs": [
    {
     "data": {
      "text/plain": [
       "array([[2505,  485],\n",
       "       [  47,  177]], dtype=int64)"
      ]
     },
     "execution_count": 197,
     "metadata": {},
     "output_type": "execute_result"
    }
   ],
   "source": [
    "confusion_matrix(y_test, predict_dt)"
   ]
  },
  {
   "cell_type": "code",
   "execution_count": 198,
   "metadata": {},
   "outputs": [
    {
     "data": {
      "text/plain": [
       "0.8705357142857143"
      ]
     },
     "execution_count": 198,
     "metadata": {},
     "output_type": "execute_result"
    }
   ],
   "source": [
    "195/224"
   ]
  },
  {
   "cell_type": "code",
   "execution_count": 199,
   "metadata": {},
   "outputs": [
    {
     "data": {
      "text/plain": [
       "0.9091474797759801"
      ]
     },
     "execution_count": 199,
     "metadata": {},
     "output_type": "execute_result"
    }
   ],
   "source": [
    "from sklearn.ensemble import GradientBoostingClassifier\n",
    "grad_clf = GradientBoostingClassifier()\n",
    "grad_clf.fit(X_train, y_train)\n",
    "predict_grad = grad_clf.predict(X_test)\n",
    "accuracy_score(y_test, predict_grad)"
   ]
  },
  {
   "cell_type": "code",
   "execution_count": 200,
   "metadata": {},
   "outputs": [
    {
     "data": {
      "text/plain": [
       "array([[2786,  204],\n",
       "       [  88,  136]], dtype=int64)"
      ]
     },
     "execution_count": 200,
     "metadata": {},
     "output_type": "execute_result"
    }
   ],
   "source": [
    "confusion_matrix(y_test, predict_grad)"
   ]
  },
  {
   "cell_type": "code",
   "execution_count": 201,
   "metadata": {},
   "outputs": [
    {
     "data": {
      "text/plain": [
       "0.6428571428571429"
      ]
     },
     "execution_count": 201,
     "metadata": {},
     "output_type": "execute_result"
    }
   ],
   "source": [
    "144/224"
   ]
  },
  {
   "cell_type": "code",
   "execution_count": 202,
   "metadata": {},
   "outputs": [],
   "source": [
    "decisions = (log_reg.predict_proba(X_test) >= 0.5).astype(int)\n",
    "p = []\n",
    "for j in range(len(y_test)):\n",
    "    p.append(1 - decisions[j][0])"
   ]
  },
  {
   "cell_type": "code",
   "execution_count": null,
   "metadata": {},
   "outputs": [],
   "source": []
  },
  {
   "cell_type": "code",
   "execution_count": 203,
   "metadata": {},
   "outputs": [
    {
     "name": "stdout",
     "output_type": "stream",
     "text": [
      "Logistic Regression Score:  0.8547449832775919\n",
      "Naive Bayes Score:  0.7257943143812708\n",
      "Random Forest Score:  0.8567009077878642\n",
      "Decision Tree Score:  0.8139856067845198\n",
      "Grad Boosting Score:  0.7694577161968467\n"
     ]
    }
   ],
   "source": [
    "from sklearn.metrics import roc_curve\n",
    "from sklearn.metrics import roc_auc_score\n",
    "\n",
    "print('Logistic Regression Score: ', roc_auc_score(y_test, p))\n",
    "print('Naive Bayes Score: ', roc_auc_score(y_test, predict_nav))\n",
    "print('Random Forest Score: ', roc_auc_score(y_test, predict))\n",
    "print('Decision Tree Score: ', roc_auc_score(y_test, predict_dt))\n",
    "print('Grad Boosting Score: ', roc_auc_score(y_test, predict_grad))\n",
    "\n"
   ]
  },
  {
   "cell_type": "code",
   "execution_count": 204,
   "metadata": {},
   "outputs": [],
   "source": [
    "from sklearn.metrics import roc_curve\n",
    "\n",
    "log_fpr, log_tpr, threshold = roc_curve(y_test,p)\n",
    "nav_fpr, nav_tpr, threshold = roc_curve(y_test, predict_nav)\n",
    "rand_fpr, rand_tpr, thresold = roc_curve(y_test, predict)\n",
    "dt_fpr, dt_tpr, threshold = roc_curve(y_test, predict_dt)\n",
    "grad_fpr, grad_tpr, threshold = roc_curve(y_test, predict_grad)\n",
    "\n",
    "#nav_fpr, nav_tpr, nav_threshold = roc_curve(y_train, naives_y_scores)"
   ]
  },
  {
   "cell_type": "code",
   "execution_count": 205,
   "metadata": {},
   "outputs": [
    {
     "data": {
      "image/png": "[encoded data removed]",
      "text/plain": [
       "<Figure size 576x432 with 1 Axes>"
      ]
     },
     "metadata": {
      "needs_background": "light"
     },
     "output_type": "display_data"
    }
   ],
   "source": [
    "def graph_roc_curve_multiple(rand_fpr, rand_tpr, nav_fpr, nav_tpr,grad_fpr, grad_tpr, log_fpr, log_tpr, dt_fpr, dt_tpr):\n",
    "    plt.figure(figsize=(8,6))\n",
    "    plt.title('ROC Curve \\n Classifiers', fontsize=18)\n",
    "    plt.plot(rand_fpr, rand_tpr, label='random forest')\n",
    "    plt.plot(nav_fpr, nav_tpr, label='Naive Bayes')\n",
    "    plt.plot(grad_fpr, grad_tpr, label='Gradient Boosting')\n",
    "    plt.plot(log_fpr, log_tpr, label='Logistic Regression')\n",
    "    plt.plot(dt_fpr, dt_tpr, label='decision tree')\n",
    "    plt.plot([0, 1], [0, 1], 'k--')\n",
    "    plt.axis([0, 1, 0, 1])\n",
    "    plt.xlabel('False Positive Rate', fontsize=16)\n",
    "    plt.ylabel('True Positive Rate', fontsize=16)\n",
    "    plt.annotate('Minimum ROC Score of 50% \\n (This is the minimum score to get)', xy=(0.5, 0.5), xytext=(0.6, 0.3),\n",
    "                arrowprops=dict(facecolor='#6E726D', shrink=0.05),\n",
    "                )\n",
    "    plt.legend()\n",
    "    \n",
    "graph_roc_curve_multiple(rand_fpr, rand_tpr, nav_fpr, nav_tpr,grad_fpr, grad_tpr, log_fpr, log_tpr, dt_fpr, dt_tpr)\n",
    "plt.show()"
   ]
  },
  {
   "cell_type": "code",
   "execution_count": 206,
   "metadata": {},
   "outputs": [],
   "source": [
    "\n",
    "#simple bow\n",
    "#bow with 100 words\n",
    "#bigram+tfidf\n",
    "#rocauc"
   ]
  },
  {
   "cell_type": "code",
   "execution_count": 207,
   "metadata": {},
   "outputs": [],
   "source": [
    "#tfidf with top 100 words"
   ]
  },
  {
   "cell_type": "code",
   "execution_count": 208,
   "metadata": {},
   "outputs": [],
   "source": [
    "words = []\n",
    "for k in range(len(corpus)):\n",
    "    tweet_k = corpus[k].split(\" \")\n",
    "    for m in range(len(tweet_k)):\n",
    "        words.append(tweet_k[m])\n",
    "from collections import Counter\n",
    "counter_obj = Counter(words)\n",
    "top100 = counter_obj.most_common(1000)\n",
    "top100words = []\n",
    "for i in range(len(top100)):\n",
    "    top100words.append(top100[i][0])"
   ]
  },
  {
   "cell_type": "code",
   "execution_count": 209,
   "metadata": {},
   "outputs": [
    {
     "name": "stderr",
     "output_type": "stream",
     "text": [
      "c:\\python37\\lib\\site-packages\\ipykernel_launcher.py:4: SettingWithCopyWarning: \n",
      "A value is trying to be set on a copy of a slice from a DataFrame.\n",
      "Try using .loc[row_indexer,col_indexer] = value instead\n",
      "\n",
      "See the caveats in the documentation: https://pandas.pydata.org/pandas-docs/stable/user_guide/indexing.html#returning-a-view-versus-a-copy\n",
      "  after removing the cwd from sys.path.\n"
     ]
    }
   ],
   "source": [
    "tdftop = df2\n",
    "lst3 = [value for value in list(tdftop.columns) if value in top100words] \n",
    "tdf100 = tdftop[lst3]\n",
    "tdf100['labelxyz'] = list(ds.label)\n",
    "tdf_hate = tdf100[tdf100.labelxyz == 1]\n",
    "tdf_nonhate = tdf100[tdf100.labelxyz == 0]\n",
    "X_train_hate = tdf_hate.sample(frac=0.9, random_state=0)\n",
    "X_test_hate = tdf_hate.drop(X_train_hate.index)\n",
    "X_train_nonhate =  tdf_nonhate.sample(frac=0.406, random_state=0)\n",
    "X_test_nonhate = tdf_nonhate.drop(X_train_nonhate.index)\n",
    "X_train_df = pd.concat([X_train_hate, X_train_nonhate], axis = 0)\n",
    "X_train = X_train_df.drop(['labelxyz'], axis = 1)\n",
    "y_train = list(X_train_df.labelxyz)\n",
    "X_test_df = pd.concat([X_test_hate, X_test_nonhate], axis = 0)\n",
    "X_test = X_test_df.drop(['labelxyz'], axis = 1)\n",
    "y_test = list(X_test_df.labelxyz)"
   ]
  },
  {
   "cell_type": "code",
   "execution_count": 210,
   "metadata": {},
   "outputs": [],
   "source": [
    "from sklearn.linear_model import LogisticRegression\n",
    "from sklearn.naive_bayes import GaussianNB\n",
    "from sklearn.metrics import confusion_matrix\n",
    "log_reg =  LogisticRegression()\n",
    "\n",
    "log_reg.fit(X_train, y_train)\n",
    "tp = []\n",
    "tn = []\n",
    "overall_acc = []\n",
    "for i in range(100):\n",
    "    threshold = (i+1)/100\n",
    "    decisions = (log_reg.predict_proba(X_test) >= threshold).astype(int)\n",
    "    p = []\n",
    "    for j in range(len(y_test)):\n",
    "        p.append(1 - decisions[j][0])\n",
    "    conf = confusion_matrix(y_test,p)\n",
    "    tp.append(conf[0][0]/(conf[0][0] + conf[0][1]))\n",
    "    tn.append(conf[1][1]/(conf[1][1] + conf[1][0]))\n",
    "    overall_acc.append((conf[0][0] + conf[1][1])/len(y_test))"
   ]
  },
  {
   "cell_type": "code",
   "execution_count": 211,
   "metadata": {},
   "outputs": [
    {
     "data": {
      "text/plain": [
       "<matplotlib.lines.Line2D at 0x20a846521d0>"
      ]
     },
     "execution_count": 211,
     "metadata": {},
     "output_type": "execute_result"
    },
    {
     "data": {
      "image/png": "[encoded data removed]",
      "text/plain": [
       "<Figure size 432x288 with 1 Axes>"
      ]
     },
     "metadata": {
      "needs_background": "light"
     },
     "output_type": "display_data"
    }
   ],
   "source": [
    "import matplotlib.pyplot as plt\n",
    "import numpy as np\n",
    "thresh = list(np.linspace(0.01,1,100))\n",
    "plt.plot(thresh,tp,color='green')\n",
    "plt.plot(thresh, tn, color='red')\n",
    "plt.plot(thresh, overall_acc, color='black')\n",
    "plt.axvline(0.6)\n",
    "plt.axvline(0.5, linestyle='dashed')"
   ]
  },
  {
   "cell_type": "code",
   "execution_count": 212,
   "metadata": {},
   "outputs": [],
   "source": [
    "plt.show()"
   ]
  },
  {
   "cell_type": "code",
   "execution_count": 213,
   "metadata": {},
   "outputs": [
    {
     "name": "stdout",
     "output_type": "stream",
     "text": [
      "naive bayes\n",
      "0.6888612321095209\n",
      "[[2011  979]\n",
      " [  21  203]]\n",
      "random forest\n",
      "0.8204729309271935\n",
      "[[2449  541]\n",
      " [  36  188]]\n",
      "decision tree\n",
      "0.7324206596141879\n",
      "[[2011  979]\n",
      " [  21  203]]\n",
      "gradient boosting\n",
      "0.9072806471686372\n",
      "[[2780  210]\n",
      " [  88  136]]\n"
     ]
    }
   ],
   "source": [
    "#other models\n",
    "from sklearn.metrics import accuracy_score\n",
    "nav_clf.fit(X_train, y_train)\n",
    "predict_nav = nav_clf.predict(X_test)\n",
    "print('naive bayes')\n",
    "print(accuracy_score(y_test, predict_nav))\n",
    "from sklearn.metrics import confusion_matrix\n",
    "print(confusion_matrix(y_test, predict_nav))\n",
    "\n",
    "rand_clf = RandomForestClassifier()\n",
    "rand_clf.fit(X_train, y_train)\n",
    "predict = rand_clf.predict(X_test)\n",
    "print('random forest')\n",
    "print(accuracy_score(y_test, predict))\n",
    "print(confusion_matrix(y_test, predict))\n",
    "\n",
    "dt_clf = tree.DecisionTreeClassifier()\n",
    "dt_clf.fit(X_train, y_train)\n",
    "predict_dt = dt_clf.predict(X_test)\n",
    "print('decision tree')\n",
    "print(accuracy_score(y_test, predict_dt))\n",
    "print(confusion_matrix(y_test, predict_nav))\n",
    "\n",
    "from sklearn.ensemble import GradientBoostingClassifier\n",
    "grad_clf = GradientBoostingClassifier()\n",
    "grad_clf.fit(X_train, y_train)\n",
    "print('gradient boosting')\n",
    "predict_grad = grad_clf.predict(X_test)\n",
    "print(accuracy_score(y_test, predict_grad))\n",
    "print(confusion_matrix(y_test, predict_grad))"
   ]
  },
  {
   "cell_type": "code",
   "execution_count": 214,
   "metadata": {},
   "outputs": [
    {
     "data": {
      "text/plain": [
       "0.8789670192906036"
      ]
     },
     "execution_count": 214,
     "metadata": {},
     "output_type": "execute_result"
    }
   ],
   "source": [
    "log_reg = LogisticRegression()\n",
    "log_reg.fit(X_train, y_train)\n",
    "predict_log = log_reg.predict(X_test)\n",
    "accuracy_score(y_test, predict_log)"
   ]
  },
  {
   "cell_type": "code",
   "execution_count": 215,
   "metadata": {},
   "outputs": [
    {
     "name": "stdout",
     "output_type": "stream",
     "text": [
      "[[2648  342]\n",
      " [  47  177]]\n"
     ]
    }
   ],
   "source": [
    "print(confusion_matrix(y_test, predict_log))"
   ]
  },
  {
   "cell_type": "code",
   "execution_count": 216,
   "metadata": {},
   "outputs": [
    {
     "name": "stdout",
     "output_type": "stream",
     "text": [
      "Logistic Regression Score:  0.5\n",
      "Naive Bayes Score:  0.7894126254180602\n",
      "Random Forest Score:  0.8291746297181081\n",
      "Decision Tree Score:  0.7653308647873865\n",
      "Grad Boosting Score:  0.7684543717152413\n"
     ]
    }
   ],
   "source": [
    "from sklearn.metrics import roc_curve\n",
    "from sklearn.metrics import roc_auc_score\n",
    "\n",
    "print('Logistic Regression Score: ', roc_auc_score(y_test, p))\n",
    "print('Naive Bayes Score: ', roc_auc_score(y_test, predict_nav))\n",
    "print('Random Forest Score: ', roc_auc_score(y_test, predict))\n",
    "print('Decision Tree Score: ', roc_auc_score(y_test, predict_dt))\n",
    "print('Grad Boosting Score: ', roc_auc_score(y_test, predict_grad))"
   ]
  },
  {
   "cell_type": "code",
   "execution_count": 217,
   "metadata": {},
   "outputs": [],
   "source": [
    "from sklearn.metrics import roc_curve\n",
    "\n",
    "log_fpr, log_tpr, threshold = roc_curve(y_test,p)\n",
    "nav_fpr, nav_tpr, threshold = roc_curve(y_test, predict_nav)\n",
    "rand_fpr, rand_tpr, thresold = roc_curve(y_test, predict)\n",
    "dt_fpr, dt_tpr, threshold = roc_curve(y_test, predict_dt)\n",
    "grad_fpr, grad_tpr, threshold = roc_curve(y_test, predict_grad)\n",
    "\n",
    "#nav_fpr, nav_tpr, nav_threshold = roc_curve(y_train, naives_y_scores)"
   ]
  },
  {
   "cell_type": "code",
   "execution_count": 218,
   "metadata": {},
   "outputs": [
    {
     "data": {
      "image/png": "[encoded data removed]",
      "text/plain": [
       "<Figure size 576x432 with 1 Axes>"
      ]
     },
     "metadata": {
      "needs_background": "light"
     },
     "output_type": "display_data"
    }
   ],
   "source": [
    "def graph_roc_curve_multiple(rand_fpr, rand_tpr, nav_fpr, nav_tpr,grad_fpr, grad_tpr, log_fpr, log_tpr, dt_fpr, dt_tpr):\n",
    "    plt.figure(figsize=(8,6))\n",
    "    plt.title('ROC Curve \\n Classifiers', fontsize=18)\n",
    "    plt.plot(rand_fpr, rand_tpr, label='random forest')\n",
    "    plt.plot(nav_fpr, nav_tpr, label='Naive Bayes')\n",
    "    plt.plot(grad_fpr, grad_tpr, label='Gradient Boosting')\n",
    "    plt.plot(log_fpr, log_tpr, label='Logistic Regression')\n",
    "    plt.plot(dt_fpr, dt_tpr, label='decision tree')\n",
    "    plt.plot([0, 1], [0, 1], 'k--')\n",
    "    plt.axis([0, 1, 0, 1])\n",
    "    plt.xlabel('False Positive Rate', fontsize=16)\n",
    "    plt.ylabel('True Positive Rate', fontsize=16)\n",
    "    plt.annotate('Minimum ROC Score of 50% \\n (This is the minimum score to get)', xy=(0.5, 0.5), xytext=(0.6, 0.3),\n",
    "                arrowprops=dict(facecolor='#6E726D', shrink=0.05),\n",
    "                )\n",
    "    plt.legend()\n",
    "    \n",
    "graph_roc_curve_multiple(rand_fpr, rand_tpr, nav_fpr, nav_tpr,grad_fpr, grad_tpr, log_fpr, log_tpr, dt_fpr, dt_tpr)\n",
    "plt.show()"
   ]
  },
  {
   "cell_type": "code",
   "execution_count": 219,
   "metadata": {},
   "outputs": [],
   "source": [
    "#BAG Of WORDS"
   ]
  },
  {
   "cell_type": "code",
   "execution_count": 220,
   "metadata": {},
   "outputs": [],
   "source": [
    "from sklearn.feature_extraction.text import CountVectorizer\n",
    "cv = CountVectorizer()\n",
    "X = cv.fit_transform(corpus)\n",
    "bow = pd.DataFrame(X.toarray(), columns = cv.get_feature_names())"
   ]
  },
  {
   "cell_type": "code",
   "execution_count": 221,
   "metadata": {},
   "outputs": [],
   "source": [
    "bow['labelxyz'] = list(ds.label)"
   ]
  },
  {
   "cell_type": "code",
   "execution_count": 222,
   "metadata": {},
   "outputs": [],
   "source": [
    "bow_hate = bow[bow.labelxyz == 1]\n",
    "bow_nonhate = bow[bow.labelxyz == 0]\n",
    "X_train_hate = bow_hate.sample(frac=0.9, random_state=0)\n",
    "X_test_hate = bow_hate.drop(X_train_hate.index)\n",
    "X_train_nonhate =  bow_nonhate.sample(frac=0.406, random_state=0)\n",
    "X_test_nonhate = bow_nonhate.drop(X_train_nonhate.index)\n",
    "X_train_df = pd.concat([X_train_hate, X_train_nonhate], axis = 0)\n",
    "X_train = X_train_df.drop(['labelxyz'], axis = 1)\n",
    "y_train = list(X_train_df.labelxyz)\n",
    "X_test_df = pd.concat([X_test_hate, X_test_nonhate], axis = 0)\n",
    "X_test = X_test_df.drop(['labelxyz'], axis = 1)\n",
    "y_test = list(X_test_df.labelxyz)"
   ]
  },
  {
   "cell_type": "code",
   "execution_count": 223,
   "metadata": {},
   "outputs": [
    {
     "data": {
      "text/plain": [
       "LogisticRegression()"
      ]
     },
     "execution_count": 223,
     "metadata": {},
     "output_type": "execute_result"
    }
   ],
   "source": [
    "log_reg = LogisticRegression()\n",
    "log_reg.fit(X_train, y_train)"
   ]
  },
  {
   "cell_type": "code",
   "execution_count": 224,
   "metadata": {},
   "outputs": [],
   "source": [
    "tp = []\n",
    "tn = []\n",
    "overall_acc = []\n",
    "for i in range(100):\n",
    "    threshold = (i+1)/100\n",
    "    decisions = (log_reg.predict_proba(X_test) >= threshold).astype(int)\n",
    "    p = []\n",
    "    for j in range(len(y_test)):\n",
    "        p.append(1 - decisions[j][0])\n",
    "    conf = confusion_matrix(y_test,p)\n",
    "    tp.append(conf[0][0]/(conf[0][0] + conf[0][1]))\n",
    "    tn.append(conf[1][1]/(conf[1][1] + conf[1][0]))\n",
    "    overall_acc.append((conf[0][0] + conf[1][1])/len(y_test))"
   ]
  },
  {
   "cell_type": "code",
   "execution_count": 225,
   "metadata": {},
   "outputs": [
    {
     "data": {
      "text/plain": [
       "<matplotlib.lines.Line2D at 0x20a7695c390>"
      ]
     },
     "execution_count": 225,
     "metadata": {},
     "output_type": "execute_result"
    },
    {
     "data": {
      "image/png": "[encoded data removed]",
      "text/plain": [
       "<Figure size 432x288 with 1 Axes>"
      ]
     },
     "metadata": {
      "needs_background": "light"
     },
     "output_type": "display_data"
    }
   ],
   "source": [
    "import numpy as np\n",
    "thresh = list(np.linspace(0.01,1,100))\n",
    "plt.plot(thresh,tp,color='green')\n",
    "plt.plot(thresh, tn, color='red')\n",
    "plt.plot(thresh, overall_acc, color='black')\n",
    "#plt.axvline(0.6)\n",
    "plt.axvline(0.5, linestyle='dashed')"
   ]
  },
  {
   "cell_type": "code",
   "execution_count": 226,
   "metadata": {},
   "outputs": [
    {
     "name": "stdout",
     "output_type": "stream",
     "text": [
      "naive bayes\n",
      "0.560360920970753\n",
      "[[1598 1392]\n",
      " [  21  203]]\n",
      "random forest\n",
      "0.8637212196639701\n",
      "[[2589  401]\n",
      " [  37  187]]\n",
      "decision tree\n",
      "0.8235843186060983\n",
      "[[1598 1392]\n",
      " [  21  203]]\n",
      "gradient boosting\n",
      "0.9023024268823896\n",
      "[[2757  233]\n",
      " [  81  143]]\n"
     ]
    }
   ],
   "source": [
    "from sklearn.metrics import accuracy_score\n",
    "nav_clf.fit(X_train, y_train)\n",
    "predict_nav = nav_clf.predict(X_test)\n",
    "print('naive bayes')\n",
    "print(accuracy_score(y_test, predict_nav))\n",
    "from sklearn.metrics import confusion_matrix\n",
    "print(confusion_matrix(y_test, predict_nav))\n",
    "\n",
    "rand_clf = RandomForestClassifier()\n",
    "rand_clf.fit(X_train, y_train)\n",
    "predict = rand_clf.predict(X_test)\n",
    "print('random forest')\n",
    "print(accuracy_score(y_test, predict))\n",
    "print(confusion_matrix(y_test, predict))\n",
    "\n",
    "dt_clf = tree.DecisionTreeClassifier()\n",
    "dt_clf.fit(X_train, y_train)\n",
    "predict_dt = dt_clf.predict(X_test)\n",
    "print('decision tree')\n",
    "print(accuracy_score(y_test, predict_dt))\n",
    "print(confusion_matrix(y_test, predict_nav))\n",
    "\n",
    "from sklearn.ensemble import GradientBoostingClassifier\n",
    "grad_clf = GradientBoostingClassifier()\n",
    "grad_clf.fit(X_train, y_train)\n",
    "print('gradient boosting')\n",
    "predict_grad = grad_clf.predict(X_test)\n",
    "print(accuracy_score(y_test, predict_grad))\n",
    "print(confusion_matrix(y_test, predict_grad))"
   ]
  },
  {
   "cell_type": "code",
   "execution_count": 227,
   "metadata": {},
   "outputs": [
    {
     "data": {
      "text/plain": [
       "0.6383928571428571"
      ]
     },
     "execution_count": 227,
     "metadata": {},
     "output_type": "execute_result"
    }
   ],
   "source": [
    "143/224"
   ]
  },
  {
   "cell_type": "code",
   "execution_count": 228,
   "metadata": {},
   "outputs": [
    {
     "data": {
      "text/plain": [
       "0.8867454884878656"
      ]
     },
     "execution_count": 228,
     "metadata": {},
     "output_type": "execute_result"
    }
   ],
   "source": [
    "log_reg = LogisticRegression()\n",
    "log_reg.fit(X_train, y_train)\n",
    "predict_log = log_reg.predict(X_test)\n",
    "accuracy_score(y_test, predict_log)"
   ]
  },
  {
   "cell_type": "code",
   "execution_count": 229,
   "metadata": {},
   "outputs": [
    {
     "name": "stdout",
     "output_type": "stream",
     "text": [
      "[[2661  329]\n",
      " [  35  189]]\n"
     ]
    }
   ],
   "source": [
    "print(confusion_matrix(y_test, predict_log))"
   ]
  },
  {
   "cell_type": "code",
   "execution_count": 230,
   "metadata": {},
   "outputs": [
    {
     "data": {
      "text/plain": [
       "5"
      ]
     },
     "execution_count": 230,
     "metadata": {},
     "output_type": "execute_result"
    }
   ],
   "source": [
    "y_train[-1]+5"
   ]
  },
  {
   "cell_type": "code",
   "execution_count": 231,
   "metadata": {},
   "outputs": [
    {
     "name": "stdout",
     "output_type": "stream",
     "text": [
      "Logistic Regression Score:  0.8668582775919733\n",
      "Naive Bayes Score:  0.7203490802675585\n",
      "Random Forest Score:  0.8503538580984235\n",
      "Decision Tree Score:  0.8081327639751553\n",
      "Grad Boosting Score:  0.7802332178690874\n"
     ]
    }
   ],
   "source": [
    "decisions = (log_reg.predict_proba(X_test) >= 0.5).astype(int)\n",
    "p = []\n",
    "for j in range(len(y_test)):\n",
    "    p.append(1 - decisions[j][0])\n",
    "from sklearn.metrics import roc_curve\n",
    "from sklearn.metrics import roc_auc_score\n",
    "\n",
    "print('Logistic Regression Score: ', roc_auc_score(y_test, p))\n",
    "print('Naive Bayes Score: ', roc_auc_score(y_test, predict_nav))\n",
    "print('Random Forest Score: ', roc_auc_score(y_test, predict))\n",
    "print('Decision Tree Score: ', roc_auc_score(y_test, predict_dt))\n",
    "print('Grad Boosting Score: ', roc_auc_score(y_test, predict_grad))\n"
   ]
  },
  {
   "cell_type": "code",
   "execution_count": 232,
   "metadata": {},
   "outputs": [
    {
     "data": {
      "image/png": "[encoded data removed]",
      "text/plain": [
       "<Figure size 576x432 with 1 Axes>"
      ]
     },
     "metadata": {
      "needs_background": "light"
     },
     "output_type": "display_data"
    }
   ],
   "source": [
    "from sklearn.metrics import roc_curve\n",
    "\n",
    "log_fpr, log_tpr, threshold = roc_curve(y_test,p)\n",
    "nav_fpr, nav_tpr, threshold = roc_curve(y_test, predict_nav)\n",
    "rand_fpr, rand_tpr, thresold = roc_curve(y_test, predict)\n",
    "dt_fpr, dt_tpr, threshold = roc_curve(y_test, predict_dt)\n",
    "grad_fpr, grad_tpr, threshold = roc_curve(y_test, predict_grad)\n",
    "\n",
    "#nav_fpr, nav_tpr, nav_threshold = roc_curve(y_train, naives_y_scores)\n",
    "\n",
    "def graph_roc_curve_multiple(rand_fpr, rand_tpr, nav_fpr, nav_tpr,grad_fpr, grad_tpr, log_fpr, log_tpr, dt_fpr, dt_tpr):\n",
    "    plt.figure(figsize=(8,6))\n",
    "    plt.title('ROC Curve \\n Classifiers', fontsize=18)\n",
    "    plt.plot(rand_fpr, rand_tpr, label='random forest')\n",
    "    plt.plot(nav_fpr, nav_tpr, label='Naive Bayes')\n",
    "    plt.plot(grad_fpr, grad_tpr, label='Gradient Boosting')\n",
    "    plt.plot(log_fpr, log_tpr, label='Logistic Regression')\n",
    "    plt.plot(dt_fpr, dt_tpr, label='decision tree')\n",
    "    plt.plot([0, 1], [0, 1], 'k--')\n",
    "    plt.axis([0, 1, 0, 1])\n",
    "    plt.xlabel('False Positive Rate', fontsize=16)\n",
    "    plt.ylabel('True Positive Rate', fontsize=16)\n",
    "    plt.annotate('Minimum ROC Score of 50% \\n (This is the minimum score to get)', xy=(0.5, 0.5), xytext=(0.6, 0.3),\n",
    "                arrowprops=dict(facecolor='#6E726D', shrink=0.05),\n",
    "                )\n",
    "    plt.legend()\n",
    "    \n",
    "graph_roc_curve_multiple(rand_fpr, rand_tpr, nav_fpr, nav_tpr,grad_fpr, grad_tpr, log_fpr, log_tpr, dt_fpr, dt_tpr)\n",
    "plt.show()"
   ]
  },
  {
   "cell_type": "code",
   "execution_count": 233,
   "metadata": {},
   "outputs": [
    {
     "name": "stdout",
     "output_type": "stream",
     "text": [
      "Requirement already satisfied: graphviz in c:\\python37\\lib\\site-packages (0.16)\n",
      "Note: you may need to restart the kernel to use updated packages.\n"
     ]
    }
   ],
   "source": [
    "pip install graphviz"
   ]
  },
  {
   "cell_type": "code",
   "execution_count": 234,
   "metadata": {},
   "outputs": [],
   "source": [
    "import graphviz"
   ]
  },
  {
   "cell_type": "code",
   "execution_count": 235,
   "metadata": {},
   "outputs": [],
   "source": [
    "from sklearn.tree import DecisionTreeClassifier, export_graphviz\n",
    "from sklearn import tree\n",
    "from sklearn.datasets import load_wine\n",
    "from IPython.display import SVG\n",
    "from graphviz import Source\n",
    "from IPython.display import display"
   ]
  },
  {
   "cell_type": "code",
   "execution_count": 236,
   "metadata": {},
   "outputs": [
    {
     "name": "stdout",
     "output_type": "stream",
     "text": [
      "Requirement already satisfied: pydotplus in c:\\python37\\lib\\site-packages (2.0.2)\n",
      "Requirement already satisfied: pyparsing>=2.0.1 in c:\\python37\\lib\\site-packages (from pydotplus) (2.3.1)\n",
      "Note: you may need to restart the kernel to use updated packages.\n"
     ]
    }
   ],
   "source": [
    "#pip install pydotplus"
   ]
  },
  {
   "cell_type": "code",
   "execution_count": 239,
   "metadata": {},
   "outputs": [],
   "source": [
    "from sklearn.externals.six import StringIO  \n",
    "#to use above downgrade sklearn with the following code:\n",
    "# pip install --upgrade scikit-learn==0.20.3\n",
    "\n",
    "from IPython.display import Image  \n",
    "from sklearn.tree import export_graphviz\n",
    "import pydotplus"
   ]
  },
  {
   "cell_type": "code",
   "execution_count": 241,
   "metadata": {},
   "outputs": [
    {
     "ename": "InvocationException",
     "evalue": "GraphViz's executables not found",
     "output_type": "error",
     "traceback": [
      "\u001b[1;31m---------------------------------------------------------------------------\u001b[0m",
      "\u001b[1;31mInvocationException\u001b[0m                       Traceback (most recent call last)",
      "\u001b[1;32m<ipython-input-241-8eb13d191ca0>\u001b[0m in \u001b[0;36m<module>\u001b[1;34m\u001b[0m\n\u001b[0;32m      4\u001b[0m                 special_characters=True)\n\u001b[0;32m      5\u001b[0m \u001b[0mgraph\u001b[0m \u001b[1;33m=\u001b[0m \u001b[0mpydotplus\u001b[0m\u001b[1;33m.\u001b[0m\u001b[0mgraph_from_dot_data\u001b[0m\u001b[1;33m(\u001b[0m\u001b[0mdot_data\u001b[0m\u001b[1;33m.\u001b[0m\u001b[0mgetvalue\u001b[0m\u001b[1;33m(\u001b[0m\u001b[1;33m)\u001b[0m\u001b[1;33m)\u001b[0m\u001b[1;33m\u001b[0m\u001b[1;33m\u001b[0m\u001b[0m\n\u001b[1;32m----> 6\u001b[1;33m \u001b[0mImage\u001b[0m\u001b[1;33m(\u001b[0m\u001b[0mgraph\u001b[0m\u001b[1;33m.\u001b[0m\u001b[0mcreate_png\u001b[0m\u001b[1;33m(\u001b[0m\u001b[1;33m)\u001b[0m\u001b[1;33m)\u001b[0m\u001b[1;33m\u001b[0m\u001b[1;33m\u001b[0m\u001b[0m\n\u001b[0m",
      "\u001b[1;32mc:\\python37\\lib\\site-packages\\pydotplus\\graphviz.py\u001b[0m in \u001b[0;36m<lambda>\u001b[1;34m(f, prog)\u001b[0m\n\u001b[0;32m   1795\u001b[0m             self.__setattr__(\n\u001b[0;32m   1796\u001b[0m                 \u001b[1;34m'create_'\u001b[0m \u001b[1;33m+\u001b[0m \u001b[0mfrmt\u001b[0m\u001b[1;33m,\u001b[0m\u001b[1;33m\u001b[0m\u001b[1;33m\u001b[0m\u001b[0m\n\u001b[1;32m-> 1797\u001b[1;33m                 \u001b[1;32mlambda\u001b[0m \u001b[0mf\u001b[0m\u001b[1;33m=\u001b[0m\u001b[0mfrmt\u001b[0m\u001b[1;33m,\u001b[0m \u001b[0mprog\u001b[0m\u001b[1;33m=\u001b[0m\u001b[0mself\u001b[0m\u001b[1;33m.\u001b[0m\u001b[0mprog\u001b[0m\u001b[1;33m:\u001b[0m \u001b[0mself\u001b[0m\u001b[1;33m.\u001b[0m\u001b[0mcreate\u001b[0m\u001b[1;33m(\u001b[0m\u001b[0mformat\u001b[0m\u001b[1;33m=\u001b[0m\u001b[0mf\u001b[0m\u001b[1;33m,\u001b[0m \u001b[0mprog\u001b[0m\u001b[1;33m=\u001b[0m\u001b[0mprog\u001b[0m\u001b[1;33m)\u001b[0m\u001b[1;33m\u001b[0m\u001b[1;33m\u001b[0m\u001b[0m\n\u001b[0m\u001b[0;32m   1798\u001b[0m             )\n\u001b[0;32m   1799\u001b[0m             \u001b[0mf\u001b[0m \u001b[1;33m=\u001b[0m \u001b[0mself\u001b[0m\u001b[1;33m.\u001b[0m\u001b[0m__dict__\u001b[0m\u001b[1;33m[\u001b[0m\u001b[1;34m'create_'\u001b[0m \u001b[1;33m+\u001b[0m \u001b[0mfrmt\u001b[0m\u001b[1;33m]\u001b[0m\u001b[1;33m\u001b[0m\u001b[1;33m\u001b[0m\u001b[0m\n",
      "\u001b[1;32mc:\\python37\\lib\\site-packages\\pydotplus\\graphviz.py\u001b[0m in \u001b[0;36mcreate\u001b[1;34m(self, prog, format)\u001b[0m\n\u001b[0;32m   1958\u001b[0m             \u001b[1;32mif\u001b[0m \u001b[0mself\u001b[0m\u001b[1;33m.\u001b[0m\u001b[0mprogs\u001b[0m \u001b[1;32mis\u001b[0m \u001b[1;32mNone\u001b[0m\u001b[1;33m:\u001b[0m\u001b[1;33m\u001b[0m\u001b[1;33m\u001b[0m\u001b[0m\n\u001b[0;32m   1959\u001b[0m                 raise InvocationException(\n\u001b[1;32m-> 1960\u001b[1;33m                     'GraphViz\\'s executables not found')\n\u001b[0m\u001b[0;32m   1961\u001b[0m \u001b[1;33m\u001b[0m\u001b[0m\n\u001b[0;32m   1962\u001b[0m         \u001b[1;32mif\u001b[0m \u001b[0mprog\u001b[0m \u001b[1;32mnot\u001b[0m \u001b[1;32min\u001b[0m \u001b[0mself\u001b[0m\u001b[1;33m.\u001b[0m\u001b[0mprogs\u001b[0m\u001b[1;33m:\u001b[0m\u001b[1;33m\u001b[0m\u001b[1;33m\u001b[0m\u001b[0m\n",
      "\u001b[1;31mInvocationException\u001b[0m: GraphViz's executables not found"
     ]
    }
   ],
   "source": [
    "dot_data = StringIO()\n",
    "export_graphviz(dt_clf, out_file=dot_data,  \n",
    "                filled=True, rounded=True,\n",
    "                special_characters=True)\n",
    "graph = pydotplus.graph_from_dot_data(dot_data.getvalue())  \n",
    "Image(graph.create_png())"
   ]
  },
  {
   "cell_type": "code",
   "execution_count": null,
   "metadata": {},
   "outputs": [],
   "source": [
    "graph = Source(tree.export_graphviz(dt_clf, out_file=None\n",
    "   , feature_names=list(X_train.columns), class_names=['0', '1'] \n",
    "   , filled = True))"
   ]
  },
  {
   "cell_type": "code",
   "execution_count": null,
   "metadata": {},
   "outputs": [],
   "source": [
    "display(SVG(graph.pipe(format='svg')))"
   ]
  },
  {
   "cell_type": "code",
   "execution_count": null,
   "metadata": {},
   "outputs": [],
   "source": [
    "pip install git+https://github.com/nekoumei/dtreeplt.git -U"
   ]
  },
  {
   "cell_type": "code",
   "execution_count": null,
   "metadata": {},
   "outputs": [],
   "source": [
    "import dtreeplt\n",
    "from dtreeplt import dtreeplt\n",
    "dtree = dtreeplt(\n",
    "    model=model,\n",
    "    feature_names=list(X_train.columns),\n",
    "    target_names=list(y_train)\n",
    ")\n",
    "fig = dtree.view()"
   ]
  },
  {
   "cell_type": "code",
   "execution_count": null,
   "metadata": {},
   "outputs": [],
   "source": [
    "dot_data = tree.export_graphviz(dt_clf,\n",
    "                                feature_names=list(X_train.columns),\n",
    "                                out_file=None,\n",
    "                                filled=True,\n",
    "                                rounded=True)\n",
    "graph = pydotplus.graph_from_dot_data(dot_data)"
   ]
  },
  {
   "cell_type": "code",
   "execution_count": null,
   "metadata": {},
   "outputs": [],
   "source": [
    "import collections\n",
    "colors = ('turquoise', 'orange')\n",
    "edges = collections.defaultdict(list)\n",
    "\n",
    "for edge in graph.get_edge_list():\n",
    "    edges[edge.get_source()].append(int(edge.get_destination()))\n",
    "\n",
    "for edge in edges:\n",
    "    edges[edge].sort()    \n",
    "    for i in range(2):\n",
    "        dest = graph.get_node(str(edges[edge][i]))[0]\n",
    "        dest.set_fillcolor(colors[i])\n",
    "\n",
    "#graph.write_png('tree.png')"
   ]
  },
  {
   "cell_type": "code",
   "execution_count": null,
   "metadata": {},
   "outputs": [],
   "source": [
    "graph.write_pdf(\"iris.pdf\")"
   ]
  },
  {
   "cell_type": "code",
   "execution_count": null,
   "metadata": {},
   "outputs": [],
   "source": [
    "from sklearn.ensemble import ExtraTreesClassifier\n",
    "model = ExtraTreesClassifier()\n",
    "model.fit(X_train, y_train)"
   ]
  },
  {
   "cell_type": "code",
   "execution_count": null,
   "metadata": {},
   "outputs": [],
   "source": [
    "print(model.feature_importances_)"
   ]
  },
  {
   "cell_type": "code",
   "execution_count": null,
   "metadata": {},
   "outputs": [],
   "source": [
    "importances = rand_clf.feature_importances_"
   ]
  },
  {
   "cell_type": "code",
   "execution_count": null,
   "metadata": {},
   "outputs": [],
   "source": [
    "# Sort feature importances in descending order\n",
    "indices = np.argsort(importances)[::-1]\n",
    "\n",
    "# Rearrange feature names so they match the sorted feature importances\n",
    "names = [X_train.columns[i] for i in indices]\n",
    "\n",
    "# Create plot\n",
    "plt.figure()\n",
    "\n",
    "# Create plot title\n",
    "plt.title(\"Feature Importance\")\n",
    "\n",
    "# Add bars\n",
    "plt.bar(range(X_train.shape[1]), importances[indices])\n",
    "\n",
    "# Add feature names as x-axis labels\n",
    "plt.xticks(range(X_train.shape[1]), names, rotation=90)\n",
    "\n",
    "# Show plot\n",
    "plt.show()"
   ]
  },
  {
   "cell_type": "code",
   "execution_count": null,
   "metadata": {},
   "outputs": [],
   "source": [
    "indices"
   ]
  },
  {
   "cell_type": "code",
   "execution_count": null,
   "metadata": {},
   "outputs": [],
   "source": [
    "importances"
   ]
  },
  {
   "cell_type": "code",
   "execution_count": null,
   "metadata": {},
   "outputs": [],
   "source": [
    "names"
   ]
  },
  {
   "cell_type": "code",
   "execution_count": null,
   "metadata": {},
   "outputs": [],
   "source": [
    "#bow with top n words"
   ]
  },
  {
   "cell_type": "code",
   "execution_count": null,
   "metadata": {},
   "outputs": [],
   "source": [
    "words = []\n",
    "for k in range(len(corpus)):\n",
    "    tweet_k = corpus[k].split(\" \")\n",
    "    for m in range(len(tweet_k)):\n",
    "        words.append(tweet_k[m])\n"
   ]
  },
  {
   "cell_type": "code",
   "execution_count": null,
   "metadata": {},
   "outputs": [],
   "source": [
    "from collections import Counter"
   ]
  },
  {
   "cell_type": "code",
   "execution_count": null,
   "metadata": {},
   "outputs": [],
   "source": [
    "counter_obj = Counter(words)\n",
    "top100 = counter_obj.most_common(1000)\n",
    "top100words = []\n",
    "for i in range(len(top100)):\n",
    "    top100words.append(top100[i][0])"
   ]
  },
  {
   "cell_type": "code",
   "execution_count": null,
   "metadata": {},
   "outputs": [],
   "source": [
    "lst3 = [value for value in list(bow.columns) if value in top100words] "
   ]
  },
  {
   "cell_type": "code",
   "execution_count": null,
   "metadata": {},
   "outputs": [],
   "source": [
    "bow100 = bow[lst3]"
   ]
  },
  {
   "cell_type": "code",
   "execution_count": null,
   "metadata": {},
   "outputs": [],
   "source": [
    "bow100['labelxyz'] = list(ds.label)\n",
    "bow_hate = bow100[bow100.labelxyz == 1]\n",
    "bow_nonhate = bow100[bow100.labelxyz == 0]\n",
    "X_train_hate = bow_hate.sample(frac=0.9, random_state=0)\n",
    "X_test_hate = bow_hate.drop(X_train_hate.index)\n",
    "X_train_nonhate =  bow_nonhate.sample(frac=0.406, random_state=0)\n",
    "X_test_nonhate = bow_nonhate.drop(X_train_nonhate.index)\n",
    "X_train_df = pd.concat([X_train_hate, X_train_nonhate], axis = 0)\n",
    "X_train = X_train_df.drop(['labelxyz'], axis = 1)\n",
    "y_train = list(X_train_df.labelxyz)\n",
    "X_test_df = pd.concat([X_test_hate, X_test_nonhate], axis = 0)\n",
    "X_test = X_test_df.drop(['labelxyz'], axis = 1)\n",
    "y_test = list(X_test_df.labelxyz)"
   ]
  },
  {
   "cell_type": "code",
   "execution_count": null,
   "metadata": {},
   "outputs": [],
   "source": [
    "log_reg = LogisticRegression()\n",
    "log_reg.fit(X_train, y_train)"
   ]
  },
  {
   "cell_type": "code",
   "execution_count": null,
   "metadata": {},
   "outputs": [],
   "source": [
    "tp = []\n",
    "tn = []\n",
    "overall_acc = []\n",
    "for i in range(100):\n",
    "    threshold = (i+1)/100\n",
    "    decisions = (log_reg.predict_proba(X_test) >= threshold).astype(int)\n",
    "    p = []\n",
    "    for j in range(len(y_test)):\n",
    "        p.append(1 - decisions[j][0])\n",
    "    conf = confusion_matrix(y_test,p)\n",
    "    tp.append(conf[0][0]/(conf[0][0] + conf[0][1]))\n",
    "    tn.append(conf[1][1]/(conf[1][1] + conf[1][0]))\n",
    "    overall_acc.append((conf[0][0] + conf[1][1])/len(y_test))"
   ]
  },
  {
   "cell_type": "code",
   "execution_count": null,
   "metadata": {},
   "outputs": [],
   "source": [
    "import numpy as np\n",
    "thresh = list(np.linspace(0.01,1,100))\n",
    "plt.plot(thresh,tp,color='green')\n",
    "plt.plot(thresh, tn, color='red')\n",
    "plt.plot(thresh, overall_acc, color='black')\n",
    "plt.axvline(0.6)\n",
    "plt.axvline(0.5, linestyle='dashed')"
   ]
  },
  {
   "cell_type": "code",
   "execution_count": null,
   "metadata": {},
   "outputs": [],
   "source": [
    "from sklearn.metrics import accuracy_score\n",
    "nav_clf.fit(X_train, y_train)\n",
    "predict_nav = nav_clf.predict(X_test)\n",
    "print('naive bayes')\n",
    "print(accuracy_score(y_test, predict_nav))\n",
    "from sklearn.metrics import confusion_matrix\n",
    "print(confusion_matrix(y_test, predict_nav))\n",
    "\n",
    "rand_clf = RandomForestClassifier()\n",
    "rand_clf.fit(X_train, y_train)\n",
    "predict = rand_clf.predict(X_test)\n",
    "print('random forest')\n",
    "print(accuracy_score(y_test, predict))\n",
    "print(confusion_matrix(y_test, predict))\n",
    "\n",
    "dt_clf = tree.DecisionTreeClassifier()\n",
    "dt_clf.fit(X_train, y_train)\n",
    "predict_dt = dt_clf.predict(X_test)\n",
    "print('decision tree')\n",
    "print(accuracy_score(y_test, predict_dt))\n",
    "print(confusion_matrix(y_test, predict_nav))\n",
    "\n",
    "from sklearn.ensemble import GradientBoostingClassifier\n",
    "grad_clf = GradientBoostingClassifier()\n",
    "grad_clf.fit(X_train, y_train)\n",
    "print('gradient boosting')\n",
    "predict_grad = grad_clf.predict(X_test)\n",
    "print(accuracy_score(y_test, predict_grad))\n",
    "print(confusion_matrix(y_test, predict_grad))"
   ]
  },
  {
   "cell_type": "code",
   "execution_count": null,
   "metadata": {},
   "outputs": [],
   "source": [
    "log_reg = LogisticRegression()\n",
    "log_reg.fit(X_train, y_train)\n",
    "predict_log = log_reg.predict(X_test)\n",
    "accuracy_score(y_test, predict_log)"
   ]
  },
  {
   "cell_type": "code",
   "execution_count": null,
   "metadata": {},
   "outputs": [],
   "source": [
    "print(confusion_matrix(y_test, predict_log))"
   ]
  },
  {
   "cell_type": "code",
   "execution_count": null,
   "metadata": {},
   "outputs": [],
   "source": [
    "decisions = (log_reg.predict_proba(X_test) >= 0.5).astype(int)\n",
    "p = []\n",
    "for j in range(len(y_test)):\n",
    "    p.append(1 - decisions[j][0])\n",
    "from sklearn.metrics import roc_curve\n",
    "from sklearn.metrics import roc_auc_score\n",
    "\n",
    "print('Logistic Regression Score: ', roc_auc_score(y_test, p))\n",
    "print('Naive Bayes Score: ', roc_auc_score(y_test, predict_nav))\n",
    "print('Random Forest Score: ', roc_auc_score(y_test, predict))\n",
    "print('Decision Tree Score: ', roc_auc_score(y_test, predict_dt))\n",
    "print('Grad Boosting Score: ', roc_auc_score(y_test, predict_grad))\n"
   ]
  },
  {
   "cell_type": "code",
   "execution_count": null,
   "metadata": {},
   "outputs": [],
   "source": [
    "from sklearn.metrics import roc_curve\n",
    "\n",
    "log_fpr, log_tpr, threshold = roc_curve(y_test,p)\n",
    "nav_fpr, nav_tpr, threshold = roc_curve(y_test, predict_nav)\n",
    "rand_fpr, rand_tpr, thresold = roc_curve(y_test, predict)\n",
    "dt_fpr, dt_tpr, threshold = roc_curve(y_test, predict_dt)\n",
    "grad_fpr, grad_tpr, threshold = roc_curve(y_test, predict_grad)\n",
    "\n",
    "#nav_fpr, nav_tpr, nav_threshold = roc_curve(y_train, naives_y_scores)\n",
    "\n",
    "def graph_roc_curve_multiple(rand_fpr, rand_tpr, nav_fpr, nav_tpr,grad_fpr, grad_tpr, log_fpr, log_tpr, dt_fpr, dt_tpr):\n",
    "    plt.figure(figsize=(8,6))\n",
    "    plt.title('ROC Curve \\n Classifiers', fontsize=18)\n",
    "    plt.plot(rand_fpr, rand_tpr, label='random forest')\n",
    "    plt.plot(nav_fpr, nav_tpr, label='Naive Bayes')\n",
    "    plt.plot(grad_fpr, grad_tpr, label='Gradient Boosting')\n",
    "    plt.plot(log_fpr, log_tpr, label='Logistic Regression')\n",
    "    plt.plot(dt_fpr, dt_tpr, label='decision tree')\n",
    "    plt.plot([0, 1], [0, 1], 'k--')\n",
    "    plt.axis([0, 1, 0, 1])\n",
    "    plt.xlabel('False Positive Rate', fontsize=16)\n",
    "    plt.ylabel('True Positive Rate', fontsize=16)\n",
    "    plt.annotate('Minimum ROC Score of 50% \\n (This is the minimum score to get)', xy=(0.5, 0.5), xytext=(0.6, 0.3),\n",
    "                arrowprops=dict(facecolor='#6E726D', shrink=0.05),\n",
    "                )\n",
    "    plt.legend()\n",
    "    \n",
    "graph_roc_curve_multiple(rand_fpr, rand_tpr, nav_fpr, nav_tpr,grad_fpr, grad_tpr, log_fpr, log_tpr, dt_fpr, dt_tpr)\n",
    "plt.show()"
   ]
  },
  {
   "cell_type": "code",
   "execution_count": null,
   "metadata": {},
   "outputs": [],
   "source": [
    "#bigrams"
   ]
  },
  {
   "cell_type": "code",
   "execution_count": null,
   "metadata": {},
   "outputs": [],
   "source": [
    "import re"
   ]
  },
  {
   "cell_type": "code",
   "execution_count": null,
   "metadata": {},
   "outputs": [],
   "source": [
    "from nltk.util import ngrams"
   ]
  },
  {
   "cell_type": "code",
   "execution_count": null,
   "metadata": {},
   "outputs": [],
   "source": [
    "unigramList = []\n",
    "for i in range(ds.shape[0]):\n",
    "    s = ds.iloc[i][0]\n",
    "    #s = str(s)\n",
    "    s = s.lower()\n",
    "    s = re.sub(r'[^a-zA-Z0-9\\s]', ' ', s)\n",
    "    tokens = [token for token in s.split(\" \") if token != \"\"]\n",
    "    output = list(ngrams(tokens, 1))\n",
    "    unigramList.append(output)"
   ]
  },
  {
   "cell_type": "code",
   "execution_count": null,
   "metadata": {},
   "outputs": [],
   "source": [
    "actualUnigramList = []\n",
    "for i in range(len(unigramList)):\n",
    "    #temp = []\n",
    "    for j in range(len(unigramList[i])):\n",
    "        actualUnigramList.append(\" \".join(unigramList[i][j]))\n",
    "    #actualBigramList.append(temp)"
   ]
  },
  {
   "cell_type": "code",
   "execution_count": null,
   "metadata": {},
   "outputs": [],
   "source": [
    "uniqueUnigramList = [] \n",
    "[uniqueUnigramList.append(x) for x in actualUnigramList if x not in uniqueUnigramList] \n",
    "uniqueUnigramList"
   ]
  },
  {
   "cell_type": "code",
   "execution_count": null,
   "metadata": {},
   "outputs": [],
   "source": [
    "bigramList = []\n",
    "for i in range(ds.shape[0]):\n",
    "    s = ds.iloc[i][0]\n",
    "    s = s.lower()\n",
    "    s = re.sub(r'[^a-zA-Z0-9\\s]', ' ', s)\n",
    "    tokens = [token for token in s.split(\" \") if token != \"\"]\n",
    "    output = list(ngrams(tokens, 2))\n",
    "    bigramList.append(output)"
   ]
  },
  {
   "cell_type": "code",
   "execution_count": null,
   "metadata": {},
   "outputs": [],
   "source": [
    "#bigramList[0] - first tweet bigrams\n",
    "#len(bigramList[0])\n",
    "actualBigramList = []\n",
    "for i in range(len(bigramList)):\n",
    "    #temp = []\n",
    "    for j in range(len(bigramList[i])):\n",
    "        actualBigramList.append(\" \".join(bigramList[i][j]))\n",
    "    #actualBigramList.append(temp)\n",
    "        \n",
    "    "
   ]
  },
  {
   "cell_type": "code",
   "execution_count": null,
   "metadata": {},
   "outputs": [],
   "source": [
    "actualBigramList"
   ]
  },
  {
   "cell_type": "code",
   "execution_count": null,
   "metadata": {},
   "outputs": [],
   "source": [
    "uniqueBigramList = [] \n",
    "[uniqueBigramList.append(x) for x in actualBigramList if x not in uniqueBigramList] \n",
    "uniqueBigramList"
   ]
  },
  {
   "cell_type": "code",
   "execution_count": null,
   "metadata": {},
   "outputs": [],
   "source": [
    "gramList12 = uniqueUnigramList + uniqueBigramList"
   ]
  },
  {
   "cell_type": "code",
   "execution_count": null,
   "metadata": {},
   "outputs": [],
   "source": [
    "trigramList = []\n",
    "for i in range(ds.shape[0]):\n",
    "    s = ds.iloc[i][1]\n",
    "    s = s.lower()\n",
    "    s = re.sub(r'[^a-zA-Z0-9\\s]', ' ', s)\n",
    "    tokens = [token for token in s.split(\" \") if token != \"\"]\n",
    "    output = list(ngrams(tokens, 3))\n",
    "    trigramList.append(output)"
   ]
  },
  {
   "cell_type": "code",
   "execution_count": null,
   "metadata": {},
   "outputs": [],
   "source": [
    "actualTrigramList = []\n",
    "for i in range(len(trigramList)):\n",
    "    #temp = []\n",
    "    for j in range(len(trigramList[i])):\n",
    "        actualTrigramList.append(\" \".join(trigramList[i][j]))\n",
    "    #actualBigramList.append(temp)"
   ]
  },
  {
   "cell_type": "code",
   "execution_count": null,
   "metadata": {},
   "outputs": [],
   "source": [
    "uniqueTrigramList = [] \n",
    "[uniqueTrigramList.append(x) for x in actualTrigramList if x not in uniqueTrigramList] \n",
    "uniqueTrigramList"
   ]
  },
  {
   "cell_type": "code",
   "execution_count": null,
   "metadata": {},
   "outputs": [],
   "source": []
  },
  {
   "cell_type": "code",
   "execution_count": null,
   "metadata": {},
   "outputs": [],
   "source": [
    "#replace the 2 in the end with 3 for trigrams\n",
    "tfidf2 = TfidfVectorizer(vocabulary = uniqueBigramList, ngram_range=(1,2))"
   ]
  },
  {
   "cell_type": "code",
   "execution_count": null,
   "metadata": {},
   "outputs": [],
   "source": [
    "tfs2 = tfidf2.fit_transform(corpus)"
   ]
  },
  {
   "cell_type": "code",
   "execution_count": null,
   "metadata": {},
   "outputs": [],
   "source": []
  },
  {
   "cell_type": "code",
   "execution_count": null,
   "metadata": {},
   "outputs": [],
   "source": [
    "feature_names = tfidf2.get_feature_names()\n",
    "dense = tfs2.todense()\n",
    "denselist = dense.tolist()\n",
    "df_bi = pd.DataFrame(denselist, columns=feature_names)\n",
    "df_bi"
   ]
  },
  {
   "cell_type": "code",
   "execution_count": null,
   "metadata": {},
   "outputs": [],
   "source": [
    "from sklearn.model_selection import train_test_split\n",
    "X_train2, X_test2, y_train2, y_test2 = train_test_split(df_bi, list(ds.label), test_size=0.2)"
   ]
  },
  {
   "cell_type": "code",
   "execution_count": null,
   "metadata": {},
   "outputs": [],
   "source": []
  },
  {
   "cell_type": "code",
   "execution_count": null,
   "metadata": {},
   "outputs": [],
   "source": []
  },
  {
   "cell_type": "code",
   "execution_count": null,
   "metadata": {},
   "outputs": [],
   "source": []
  },
  {
   "cell_type": "code",
   "execution_count": null,
   "metadata": {},
   "outputs": [],
   "source": [
    "# Use Cross-validation.\n",
    "from sklearn.model_selection import cross_val_score\n",
    "\n",
    "# Logistic Regression\n",
    "log_reg = LogisticRegression()\n",
    "log_scores = cross_val_score(log_reg, X_train2, y_train2, cv=3)\n",
    "log_reg_mean = log_scores.mean()\n",
    "\n",
    "\n",
    "# Naives Bayes\n",
    "nav_clf = GaussianNB()\n",
    "nav_scores = cross_val_score(nav_clf, X_train2, y_train2, cv=3)\n",
    "nav_mean = nav_scores.mean()\n",
    "\n",
    "\n",
    "# Create a Dataframe with the results.\n",
    "d = {'Classifiers': ['Logistic Reg.', 'Naives Bayes'], \n",
    "    'Crossval Mean Scores': [log_reg_mean, nav_mean]}\n",
    "\n",
    "result_df = pd.DataFrame(data=d)"
   ]
  },
  {
   "cell_type": "code",
   "execution_count": null,
   "metadata": {},
   "outputs": [],
   "source": [
    "result_df"
   ]
  },
  {
   "cell_type": "code",
   "execution_count": null,
   "metadata": {},
   "outputs": [],
   "source": [
    "from sklearn.metrics import accuracy_score\n",
    "nav_clf.fit(X_train2, y_train2)\n",
    "predict_nav = nav_clf.predict(X_test2)\n",
    "accuracy_score(y_test2, predict_nav)"
   ]
  },
  {
   "cell_type": "code",
   "execution_count": null,
   "metadata": {},
   "outputs": [],
   "source": [
    "log_reg.fit(X_train2, y_train2)\n",
    "predict_log = log_reg.predict(X_test2)\n",
    "accuracy_score(y_test2, predict_log)"
   ]
  },
  {
   "cell_type": "code",
   "execution_count": null,
   "metadata": {},
   "outputs": [],
   "source": [
    "#simple bag of words"
   ]
  },
  {
   "cell_type": "code",
   "execution_count": null,
   "metadata": {},
   "outputs": [],
   "source": [
    "from sklearn.feature_extraction.text import CountVectorizer"
   ]
  },
  {
   "cell_type": "code",
   "execution_count": null,
   "metadata": {},
   "outputs": [],
   "source": [
    "cv = CountVectorizer()\n",
    "X = cv.fit_transform(corpus)"
   ]
  },
  {
   "cell_type": "code",
   "execution_count": null,
   "metadata": {},
   "outputs": [],
   "source": [
    "X"
   ]
  },
  {
   "cell_type": "code",
   "execution_count": null,
   "metadata": {},
   "outputs": [],
   "source": [
    "cv.get_feature_names()"
   ]
  },
  {
   "cell_type": "code",
   "execution_count": null,
   "metadata": {},
   "outputs": [],
   "source": [
    "bow = pd.DataFrame(X.toarray(), columns = cv.get_feature_names())"
   ]
  },
  {
   "cell_type": "code",
   "execution_count": null,
   "metadata": {},
   "outputs": [],
   "source": [
    "from sklearn.model_selection import train_test_split\n",
    "X_train, X_test, y_train, y_test = train_test_split(bow, list(ds.label), test_size=0.2)"
   ]
  },
  {
   "cell_type": "code",
   "execution_count": null,
   "metadata": {},
   "outputs": [],
   "source": [
    "# Use Cross-validation.\n",
    "from sklearn.model_selection import cross_val_score\n",
    "\n",
    "# Logistic Regression\n",
    "log_reg = LogisticRegression()\n",
    "log_scores = cross_val_score(log_reg, X_train, y_train, cv=3)\n",
    "log_reg_mean = log_scores.mean()\n",
    "\n",
    "\n",
    "# Naives Bayes\n",
    "nav_clf = GaussianNB()\n",
    "nav_scores = cross_val_score(nav_clf, X_train, y_train, cv=3)\n",
    "nav_mean = nav_scores.mean()\n",
    "\n",
    "\n",
    "# Create a Dataframe with the results.\n",
    "d = {'Classifiers': ['Logistic Reg.', 'Naives Bayes'], \n",
    "    'Crossval Mean Scores': [log_reg_mean, nav_mean]}\n",
    "\n",
    "result_df = pd.DataFrame(data=d)"
   ]
  },
  {
   "cell_type": "code",
   "execution_count": null,
   "metadata": {},
   "outputs": [],
   "source": [
    "result_df"
   ]
  },
  {
   "cell_type": "code",
   "execution_count": null,
   "metadata": {},
   "outputs": [],
   "source": [
    "log_reg.fit(X_train, y_train)\n",
    "predict_log = log_reg.predict(X_test)\n",
    "accuracy_score(y_test, predict_log)"
   ]
  },
  {
   "cell_type": "code",
   "execution_count": null,
   "metadata": {},
   "outputs": [],
   "source": []
  }
 ],
 "metadata": {
  "kernelspec": {
   "display_name": "Python 3",
   "language": "python",
   "name": "python3"
  },
  "language_info": {
   "codemirror_mode": {
    "name": "ipython",
    "version": 3
   },
   "file_extension": ".py",
   "mimetype": "text/x-python",
   "name": "python",
   "nbconvert_exporter": "python",
   "pygments_lexer": "ipython3",
   "version": "3.7.2"
  }
 },
 "nbformat": 4,
 "nbformat_minor": 4
}
